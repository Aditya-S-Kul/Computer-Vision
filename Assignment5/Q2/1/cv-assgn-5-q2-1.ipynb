{
 "cells": [
  {
   "cell_type": "code",
   "execution_count": 1,
   "id": "a6f644a2",
   "metadata": {
    "_cell_guid": "b1076dfc-b9ad-4769-8c92-a6c4dae69d19",
    "_uuid": "8f2839f25d086af736a60e9eeb907d3b93b6e0e5",
    "execution": {
     "iopub.execute_input": "2025-04-20T11:04:51.498349Z",
     "iopub.status.busy": "2025-04-20T11:04:51.498080Z",
     "iopub.status.idle": "2025-04-20T11:05:00.060592Z",
     "shell.execute_reply": "2025-04-20T11:05:00.059968Z"
    },
    "papermill": {
     "duration": 8.567793,
     "end_time": "2025-04-20T11:05:00.062012",
     "exception": false,
     "start_time": "2025-04-20T11:04:51.494219",
     "status": "completed"
    },
    "tags": []
   },
   "outputs": [],
   "source": [
    "import torch\n",
    "import torch.nn as nn\n",
    "import torch.nn.functional as F\n",
    "import torch.optim as optim\n",
    "from torch.utils.data import DataLoader\n",
    "import torchvision\n",
    "import torchvision.transforms as transforms\n",
    "import matplotlib.pyplot as plt\n",
    "import numpy as np\n",
    "from tqdm import tqdm\n",
    "import os\n",
    "import math\n",
    "\n",
    "# For reproducibility\n",
    "torch.manual_seed(42)\n",
    "np.random.seed(42)\n",
    "\n",
    "class DifferentialAttention(nn.Module):\n",
    "    \"\"\"\n",
    "    Differential Attention as described in the Differential Transformer paper\n",
    "    Following the pseudocode:\n",
    "    \n",
    "    def DiffAttn(X, W_q, W_k, W_v, λ):\n",
    "        Q1, Q2 = split(X @ W_q)\n",
    "        K1, K2 = split(X @ W_k)\n",
    "        V = X @ W_v\n",
    "        # Qi, Ki: [b, n, d]; V: [b, n, 2d]\n",
    "        s = 1 / sqrt(d)\n",
    "        A1 = Q1 @ K1.transpose(−1, −2) ∗ s\n",
    "        A2 = Q2 @ K2.transpose(−1, −2) ∗ s\n",
    "        return (softmax(A1) − λ softmax(A2)) @ V\n",
    "    \"\"\"\n",
    "    def __init__(self, d_model, d_head, lambda_val=0.5):\n",
    "        super(DifferentialAttention, self).__init__()\n",
    "        self.d_head = d_head\n",
    "        self.scale = 1.0 / math.sqrt(d_head)\n",
    "        self.lambda_val = lambda_val\n",
    "        \n",
    "        # Single projections that will be split into positive/negative parts\n",
    "        self.q_proj = nn.Linear(d_model, d_head * 2)\n",
    "        self.k_proj = nn.Linear(d_model, d_head * 2)\n",
    "        self.v_proj = nn.Linear(d_model, d_head)\n",
    "    \n",
    "    def forward(self, x, mask=None):\n",
    "        # Project and split query and key\n",
    "        q = self.q_proj(x)  # [batch, seq_len, d_head*2]\n",
    "        k = self.k_proj(x)  # [batch, seq_len, d_head*2]\n",
    "        v = self.v_proj(x)  # [batch, seq_len, d_head]\n",
    "        \n",
    "        # Split into positive and negative parts\n",
    "        q1, q2 = torch.chunk(q, 2, dim=-1)  # [batch, seq_len, d_head]\n",
    "        k1, k2 = torch.chunk(k, 2, dim=-1)  # [batch, seq_len, d_head]\n",
    "        \n",
    "        # Calculate attention scores\n",
    "        attn_scores1 = torch.matmul(q1, k1.transpose(-2, -1)) * self.scale\n",
    "        attn_scores2 = torch.matmul(q2, k2.transpose(-2, -1)) * self.scale\n",
    "        \n",
    "        # Apply mask if provided\n",
    "        if mask is not None:\n",
    "            attn_scores1 = attn_scores1.masked_fill(mask == 0, -1e9)\n",
    "            attn_scores2 = attn_scores2.masked_fill(mask == 0, -1e9)\n",
    "        \n",
    "        # Apply softmax to get attention weights\n",
    "        attn_weights1 = F.softmax(attn_scores1, dim=-1)\n",
    "        attn_weights2 = F.softmax(attn_scores2, dim=-1)\n",
    "        \n",
    "        # Calculate differential attention (positive - λ*negative)\n",
    "        diff_attn = attn_weights1 - self.lambda_val * attn_weights2\n",
    "        \n",
    "        # Apply attention to values\n",
    "        output = torch.matmul(diff_attn, v)\n",
    "        \n",
    "        return output\n",
    "\n",
    "class MultiHeadDifferentialAttention(nn.Module):\n",
    "    \"\"\"\n",
    "    Multi-Head Differential Attention as described in the paper\n",
    "    \n",
    "    Following the pseudocode:\n",
    "    def MultiHead(X, W_q, W_k, W_v, W_o, λ):\n",
    "        O = GroupNorm([DiffAttn(X, W_qi, W_ki, W_vi, λ) for i in range(h)])\n",
    "        O = O ∗ (1 − λinit)\n",
    "        return Concat(O) @ W_o\n",
    "    \"\"\"\n",
    "    def __init__(self, d_model, num_heads, lambda_init=0.5):\n",
    "        super(MultiHeadDifferentialAttention, self).__init__()\n",
    "        self.num_heads = num_heads\n",
    "        self.d_model = d_model\n",
    "        self.lambda_init = lambda_init\n",
    "        \n",
    "        assert d_model % num_heads == 0, \"d_model must be divisible by num_heads\"\n",
    "        \n",
    "        self.d_head = d_model // num_heads\n",
    "        \n",
    "        # Create multiple differential attention heads\n",
    "        self.heads = nn.ModuleList([\n",
    "            DifferentialAttention(d_model, self.d_head, lambda_init)\n",
    "            for _ in range(num_heads)\n",
    "        ])\n",
    "        \n",
    "        # Use LayerNorm instead of GroupNorm to avoid dimension issues\n",
    "        # LayerNorm is also typically used in transformers\n",
    "        self.layer_norm = nn.LayerNorm(d_model)\n",
    "        \n",
    "        # Final projection\n",
    "        self.output_proj = nn.Linear(d_model, d_model)\n",
    "        \n",
    "    def forward(self, x, mask=None):\n",
    "        batch_size = x.shape[0]\n",
    "        \n",
    "        # Apply differential attention for each head\n",
    "        head_outputs = [head(x, mask) for head in self.heads]\n",
    "        \n",
    "        # Concatenate outputs from all heads\n",
    "        multi_head_output = torch.cat(head_outputs, dim=-1)\n",
    "        \n",
    "        # Apply layer normalization\n",
    "        multi_head_output = self.layer_norm(multi_head_output)\n",
    "        \n",
    "        # Scale output by (1 - λinit) as mentioned in the paper\n",
    "        multi_head_output = multi_head_output * (1 - self.lambda_init)\n",
    "        \n",
    "        # Final projection\n",
    "        output = self.output_proj(multi_head_output)\n",
    "        \n",
    "        return output\n",
    "\n",
    "class TransformerEncoderLayer(nn.Module):\n",
    "    \"\"\"Transformer Encoder Layer with Differential Attention\"\"\"\n",
    "    def __init__(self, d_model, num_heads, dim_ff, dropout=0.1, lambda_init=0.5):\n",
    "        super(TransformerEncoderLayer, self).__init__()\n",
    "        self.norm1 = nn.LayerNorm(d_model)\n",
    "        self.norm2 = nn.LayerNorm(d_model)\n",
    "        \n",
    "        # Use differential attention\n",
    "        self.attention = MultiHeadDifferentialAttention(d_model, num_heads, lambda_init)\n",
    "        \n",
    "        self.ffn = nn.Sequential(\n",
    "            nn.Linear(d_model, dim_ff),\n",
    "            nn.GELU(),\n",
    "            nn.Dropout(dropout),\n",
    "            nn.Linear(dim_ff, d_model),\n",
    "            nn.Dropout(dropout)\n",
    "        )\n",
    "        self.dropout = nn.Dropout(dropout)\n",
    "        \n",
    "    def forward(self, x, mask=None):\n",
    "        # Pre-LayerNorm architecture\n",
    "        attn_output = self.attention(self.norm1(x), mask)\n",
    "        # Residual connection\n",
    "        x = x + self.dropout(attn_output)\n",
    "        \n",
    "        # Feed forward with residual connection\n",
    "        ff_output = self.ffn(self.norm2(x))\n",
    "        x = x + self.dropout(ff_output)\n",
    "        \n",
    "        return x\n",
    "\n",
    "class DifferentialVisionTransformer(nn.Module):\n",
    "    \"\"\"\n",
    "    Vision Transformer with Differential Attention\n",
    "    \"\"\"\n",
    "    def __init__(self, \n",
    "                 image_size=32,        # CIFAR-10 image size\n",
    "                 patch_size=4,         # patch size (2 or 4)\n",
    "                 in_channels=3,        # RGB images\n",
    "                 num_classes=10,       # CIFAR-10 has 10 classes\n",
    "                 d_model=192,          # embedding dimension\n",
    "                 num_heads=8,          # number of heads in attention\n",
    "                 num_layers=8,         # number of transformer encoder layers\n",
    "                 dim_ff=768,           # feed-forward network dimension\n",
    "                 dropout=0.1,\n",
    "                 lambda_init=0.5):     # lambda parameter for differential attention\n",
    "        super(DifferentialVisionTransformer, self).__init__()\n",
    "        \n",
    "        # Image and patch parameters\n",
    "        self.image_size = image_size\n",
    "        self.patch_size = patch_size\n",
    "        self.in_channels = in_channels\n",
    "        \n",
    "        # Calculate the number of patches\n",
    "        assert image_size % patch_size == 0, \"Image size must be divisible by patch size\"\n",
    "        num_patches = (image_size // patch_size) ** 2\n",
    "        patch_dim = in_channels * patch_size * patch_size\n",
    "        \n",
    "        # Linear projection of flattened patches\n",
    "        self.patch_embedding = nn.Linear(patch_dim, d_model)\n",
    "        \n",
    "        # Class token\n",
    "        self.cls_token = nn.Parameter(torch.zeros(1, 1, d_model))\n",
    "        \n",
    "        # Positional embedding\n",
    "        self.pos_embedding = nn.Parameter(torch.zeros(1, num_patches + 1, d_model))\n",
    "        \n",
    "        # Dropout after position embedding\n",
    "        self.dropout = nn.Dropout(dropout)\n",
    "        \n",
    "        # Transformer encoder with differential attention\n",
    "        self.encoder_layers = nn.ModuleList([\n",
    "            TransformerEncoderLayer(d_model, num_heads, dim_ff, dropout, lambda_init)\n",
    "            for _ in range(num_layers)\n",
    "        ])\n",
    "        \n",
    "        # Layer normalization\n",
    "        self.norm = nn.LayerNorm(d_model)\n",
    "        \n",
    "        # MLP Head for classification\n",
    "        self.mlp_head = nn.Linear(d_model, num_classes)\n",
    "        \n",
    "        # Initialize weights\n",
    "        self.init_weights()\n",
    "        \n",
    "    def init_weights(self):\n",
    "        # Initialize patch embedding\n",
    "        nn.init.xavier_uniform_(self.patch_embedding.weight)\n",
    "        nn.init.zeros_(self.patch_embedding.bias)\n",
    "        \n",
    "        # Initialize cls token\n",
    "        nn.init.normal_(self.cls_token, std=0.02)\n",
    "        \n",
    "        # Initialize position embedding\n",
    "        nn.init.normal_(self.pos_embedding, std=0.02)\n",
    "        \n",
    "    def forward(self, x):\n",
    "        # x shape: [batch_size, channels, height, width]\n",
    "        batch_size = x.shape[0]\n",
    "        \n",
    "        # Extract patches: [B, C, H, W] -> [B, num_patches, C*P*P]\n",
    "        # Where P is the patch size\n",
    "        x = x.unfold(2, self.patch_size, self.patch_size).unfold(3, self.patch_size, self.patch_size)\n",
    "        x = x.contiguous().view(batch_size, self.in_channels, -1, self.patch_size * self.patch_size)\n",
    "        x = x.permute(0, 2, 1, 3).contiguous().view(batch_size, -1, self.in_channels * self.patch_size * self.patch_size)\n",
    "        \n",
    "        # Linear embedding of patches\n",
    "        x = self.patch_embedding(x)  # [B, num_patches, d_model]\n",
    "        \n",
    "        # Add class token\n",
    "        cls_tokens = self.cls_token.expand(batch_size, -1, -1)  # [B, 1, d_model]\n",
    "        x = torch.cat((cls_tokens, x), dim=1)  # [B, 1+num_patches, d_model]\n",
    "        \n",
    "        # Add positional embedding\n",
    "        x = x + self.pos_embedding\n",
    "        x = self.dropout(x)\n",
    "        \n",
    "        # Apply transformer encoder layers with differential attention\n",
    "        for layer in self.encoder_layers:\n",
    "            x = layer(x)\n",
    "        \n",
    "        # Apply layer normalization\n",
    "        x = self.norm(x)\n",
    "        \n",
    "        # Take the cls token representation\n",
    "        x = x[:, 0]  # [B, d_model]\n",
    "        \n",
    "        # Classification head\n",
    "        x = self.mlp_head(x)  # [B, num_classes]\n",
    "        \n",
    "        return x\n",
    "\n",
    "def get_data_loaders(batch_size=128):\n",
    "    \"\"\"Create CIFAR-10 dataloaders\"\"\"\n",
    "    transform_train = transforms.Compose([\n",
    "        transforms.RandomCrop(32, padding=4),\n",
    "        transforms.RandomHorizontalFlip(),\n",
    "        transforms.ToTensor(),\n",
    "        transforms.Normalize((0.4914, 0.4822, 0.4465), (0.2470, 0.2435, 0.2616)),\n",
    "    ])\n",
    "    \n",
    "    transform_test = transforms.Compose([\n",
    "        transforms.ToTensor(),\n",
    "        transforms.Normalize((0.4914, 0.4822, 0.4465), (0.2470, 0.2435, 0.2616)),\n",
    "    ])\n",
    "\n",
    "    trainset = torchvision.datasets.CIFAR10(\n",
    "        root='./data', train=True, download=True, transform=transform_train)\n",
    "    trainloader = DataLoader(\n",
    "        trainset, batch_size=batch_size, shuffle=True, num_workers=2)\n",
    "\n",
    "    testset = torchvision.datasets.CIFAR10(\n",
    "        root='./data', train=False, download=True, transform=transform_test)\n",
    "    testloader = DataLoader(\n",
    "        testset, batch_size=batch_size, shuffle=False, num_workers=2)\n",
    "    \n",
    "    # Create a validation set\n",
    "    val_size = 5000\n",
    "    train_size = len(trainset) - val_size\n",
    "    \n",
    "    train_subset, val_subset = torch.utils.data.random_split(\n",
    "        trainset, [train_size, val_size], \n",
    "        generator=torch.Generator().manual_seed(42))\n",
    "    \n",
    "    valloader = DataLoader(\n",
    "        val_subset, batch_size=batch_size, shuffle=False, num_workers=2)\n",
    "    \n",
    "    train_subset_loader = DataLoader(\n",
    "        train_subset, batch_size=batch_size, shuffle=True, num_workers=2)\n",
    "    \n",
    "    return train_subset_loader, valloader, testloader\n",
    "\n",
    "def train_model(model, train_loader, val_loader, epochs=30, lr=3e-4, weight_decay=1e-4, model_name='diff_vit'):\n",
    "    \"\"\"Train the Differential Vision Transformer model\"\"\"\n",
    "    device = torch.device(\"cuda\" if torch.cuda.is_available() else \"cpu\")\n",
    "    print(f\"Using device: {device}\")\n",
    "    \n",
    "    model = model.to(device)\n",
    "    criterion = nn.CrossEntropyLoss()\n",
    "    optimizer = optim.AdamW(model.parameters(), lr=lr, weight_decay=weight_decay)\n",
    "    scheduler = optim.lr_scheduler.CosineAnnealingLR(optimizer, T_max=epochs)\n",
    "    \n",
    "    # For tracking metrics\n",
    "    train_losses = []\n",
    "    train_accs = []\n",
    "    val_losses = []\n",
    "    val_accs = []\n",
    "    \n",
    "    # For saving the best model\n",
    "    best_val_acc = 0\n",
    "    best_model_path = f'best_{model_name}_model.pth'\n",
    "    \n",
    "    for epoch in range(epochs):\n",
    "        # Training\n",
    "        model.train()\n",
    "        train_loss = 0\n",
    "        correct = 0\n",
    "        total = 0\n",
    "        \n",
    "        pbar = tqdm(train_loader, desc=f'Epoch {epoch+1}/{epochs} [Train]')\n",
    "        for batch_idx, (inputs, targets) in enumerate(pbar):\n",
    "            inputs, targets = inputs.to(device), targets.to(device)\n",
    "            \n",
    "            optimizer.zero_grad()\n",
    "            outputs = model(inputs)\n",
    "            loss = criterion(outputs, targets)\n",
    "            loss.backward()\n",
    "            optimizer.step()\n",
    "            \n",
    "            train_loss += loss.item()\n",
    "            _, predicted = outputs.max(1)\n",
    "            total += targets.size(0)\n",
    "            correct += predicted.eq(targets).sum().item()\n",
    "            \n",
    "            pbar.set_postfix({\n",
    "                'loss': train_loss/(batch_idx+1), \n",
    "                'acc': 100.*correct/total\n",
    "            })\n",
    "        \n",
    "        train_loss = train_loss / len(train_loader)\n",
    "        train_acc = 100. * correct / total\n",
    "        \n",
    "        train_losses.append(train_loss)\n",
    "        train_accs.append(train_acc)\n",
    "        \n",
    "        # Validation\n",
    "        model.eval()\n",
    "        val_loss = 0\n",
    "        correct = 0\n",
    "        total = 0\n",
    "        \n",
    "        with torch.no_grad():\n",
    "            pbar = tqdm(val_loader, desc=f'Epoch {epoch+1}/{epochs} [Val]')\n",
    "            for batch_idx, (inputs, targets) in enumerate(pbar):\n",
    "                inputs, targets = inputs.to(device), targets.to(device)\n",
    "                \n",
    "                outputs = model(inputs)\n",
    "                loss = criterion(outputs, targets)\n",
    "                \n",
    "                val_loss += loss.item()\n",
    "                _, predicted = outputs.max(1)\n",
    "                total += targets.size(0)\n",
    "                correct += predicted.eq(targets).sum().item()\n",
    "                \n",
    "                pbar.set_postfix({\n",
    "                    'loss': val_loss/(batch_idx+1), \n",
    "                    'acc': 100.*correct/total\n",
    "                })\n",
    "        \n",
    "        val_loss = val_loss / len(val_loader)\n",
    "        val_acc = 100. * correct / total\n",
    "        \n",
    "        val_losses.append(val_loss)\n",
    "        val_accs.append(val_acc)\n",
    "        \n",
    "        # Print stats\n",
    "        print(f'Epoch {epoch+1}/{epochs}:')\n",
    "        print(f'Train Loss: {train_loss:.4f} | Train Acc: {train_acc:.2f}%')\n",
    "        print(f'Val Loss: {val_loss:.4f} | Val Acc: {val_acc:.2f}%')\n",
    "        \n",
    "        # Save the best model\n",
    "        if val_acc > best_val_acc:\n",
    "            print(f'Validation accuracy improved from {best_val_acc:.2f}% to {val_acc:.2f}%, saving model...')\n",
    "            best_val_acc = val_acc\n",
    "            torch.save(model.state_dict(), best_model_path)\n",
    "        \n",
    "        # Update learning rate\n",
    "        scheduler.step()\n",
    "    \n",
    "    print(f'Best validation accuracy: {best_val_acc:.2f}%')\n",
    "    return train_losses, train_accs, val_losses, val_accs\n",
    "\n",
    "def evaluate_model(model, test_loader):\n",
    "    \"\"\"Evaluate the trained model on the test set\"\"\"\n",
    "    device = torch.device(\"cuda\" if torch.cuda.is_available() else \"cpu\")\n",
    "    model = model.to(device)\n",
    "    model.eval()\n",
    "    \n",
    "    correct = 0\n",
    "    total = 0\n",
    "    \n",
    "    with torch.no_grad():\n",
    "        for inputs, targets in tqdm(test_loader, desc='Evaluating on test set'):\n",
    "            inputs, targets = inputs.to(device), targets.to(device)\n",
    "            \n",
    "            outputs = model(inputs)\n",
    "            _, predicted = outputs.max(1)\n",
    "            \n",
    "            total += targets.size(0)\n",
    "            correct += predicted.eq(targets).sum().item()\n",
    "    \n",
    "    test_acc = 100. * correct / total\n",
    "    print(f'Test accuracy: {test_acc:.2f}%')\n",
    "    return test_acc\n",
    "\n",
    "def plot_metrics(train_losses, val_losses, train_accs, val_accs, title_suffix=\"\", filename_prefix=\"diff_vit\"):\n",
    "    \"\"\"Plot training and validation metrics\"\"\"\n",
    "    plt.figure(figsize=(12, 5))\n",
    "    \n",
    "    # Plot losses\n",
    "    plt.subplot(1, 2, 1)\n",
    "    plt.plot(train_losses, label='Train Loss')\n",
    "    plt.plot(val_losses, label='Validation Loss')\n",
    "    plt.xlabel('Epoch')\n",
    "    plt.ylabel('Loss')\n",
    "    plt.title(f'Training and Validation Loss{title_suffix}')\n",
    "    plt.legend()\n",
    "    plt.grid(True)\n",
    "    \n",
    "    # Plot accuracies\n",
    "    plt.subplot(1, 2, 2)\n",
    "    plt.plot(train_accs, label='Train Accuracy')\n",
    "    plt.plot(val_accs, label='Validation Accuracy')\n",
    "    plt.xlabel('Epoch')\n",
    "    plt.ylabel('Accuracy (%)')\n",
    "    plt.title(f'Training and Validation Accuracy{title_suffix}')\n",
    "    plt.legend()\n",
    "    plt.grid(True)\n",
    "    \n",
    "    plt.tight_layout()\n",
    "    plt.savefig(f'{filename_prefix}_metrics.png')\n",
    "    plt.show()\n"
   ]
  },
  {
   "cell_type": "code",
   "execution_count": 2,
   "id": "6ae890b5",
   "metadata": {
    "execution": {
     "iopub.execute_input": "2025-04-20T11:05:00.066974Z",
     "iopub.status.busy": "2025-04-20T11:05:00.066685Z",
     "iopub.status.idle": "2025-04-20T11:45:25.376006Z",
     "shell.execute_reply": "2025-04-20T11:45:25.374815Z"
    },
    "papermill": {
     "duration": 2425.313107,
     "end_time": "2025-04-20T11:45:25.377163",
     "exception": false,
     "start_time": "2025-04-20T11:05:00.064056",
     "status": "completed"
    },
    "tags": []
   },
   "outputs": [
    {
     "name": "stdout",
     "output_type": "stream",
     "text": [
      "Downloading https://www.cs.toronto.edu/~kriz/cifar-10-python.tar.gz to ./data/cifar-10-python.tar.gz\n"
     ]
    },
    {
     "name": "stderr",
     "output_type": "stream",
     "text": [
      "100%|██████████| 170M/170M [00:03<00:00, 49.5MB/s]\n"
     ]
    },
    {
     "name": "stdout",
     "output_type": "stream",
     "text": [
      "Extracting ./data/cifar-10-python.tar.gz to ./data\n",
      "Files already downloaded and verified\n",
      "Differential ViT created with 4.18M parameters\n",
      "\n",
      "=== Training Differential ViT ===\n",
      "Using device: cuda\n"
     ]
    },
    {
     "name": "stderr",
     "output_type": "stream",
     "text": [
      "Epoch 1/50 [Train]: 100%|██████████| 352/352 [00:47<00:00,  7.46it/s, loss=1.78, acc=33.7]\n",
      "Epoch 1/50 [Val]: 100%|██████████| 40/40 [00:01<00:00, 22.80it/s, loss=1.54, acc=43.8]\n"
     ]
    },
    {
     "name": "stdout",
     "output_type": "stream",
     "text": [
      "Epoch 1/50:\n",
      "Train Loss: 1.7794 | Train Acc: 33.70%\n",
      "Val Loss: 1.5359 | Val Acc: 43.78%\n",
      "Validation accuracy improved from 0.00% to 43.78%, saving model...\n"
     ]
    },
    {
     "name": "stderr",
     "output_type": "stream",
     "text": [
      "Epoch 2/50 [Train]: 100%|██████████| 352/352 [00:46<00:00,  7.56it/s, loss=1.48, acc=45.9]\n",
      "Epoch 2/50 [Val]: 100%|██████████| 40/40 [00:01<00:00, 22.28it/s, loss=1.42, acc=48.3]\n"
     ]
    },
    {
     "name": "stdout",
     "output_type": "stream",
     "text": [
      "Epoch 2/50:\n",
      "Train Loss: 1.4768 | Train Acc: 45.93%\n",
      "Val Loss: 1.4173 | Val Acc: 48.28%\n",
      "Validation accuracy improved from 43.78% to 48.28%, saving model...\n"
     ]
    },
    {
     "name": "stderr",
     "output_type": "stream",
     "text": [
      "Epoch 3/50 [Train]: 100%|██████████| 352/352 [00:46<00:00,  7.53it/s, loss=1.32, acc=51.8]\n",
      "Epoch 3/50 [Val]: 100%|██████████| 40/40 [00:01<00:00, 22.35it/s, loss=1.24, acc=54.7]\n"
     ]
    },
    {
     "name": "stdout",
     "output_type": "stream",
     "text": [
      "Epoch 3/50:\n",
      "Train Loss: 1.3249 | Train Acc: 51.75%\n",
      "Val Loss: 1.2396 | Val Acc: 54.66%\n",
      "Validation accuracy improved from 48.28% to 54.66%, saving model...\n"
     ]
    },
    {
     "name": "stderr",
     "output_type": "stream",
     "text": [
      "Epoch 4/50 [Train]: 100%|██████████| 352/352 [00:46<00:00,  7.61it/s, loss=1.23, acc=55.3]\n",
      "Epoch 4/50 [Val]: 100%|██████████| 40/40 [00:01<00:00, 22.45it/s, loss=1.15, acc=58.3]\n"
     ]
    },
    {
     "name": "stdout",
     "output_type": "stream",
     "text": [
      "Epoch 4/50:\n",
      "Train Loss: 1.2328 | Train Acc: 55.27%\n",
      "Val Loss: 1.1534 | Val Acc: 58.26%\n",
      "Validation accuracy improved from 54.66% to 58.26%, saving model...\n"
     ]
    },
    {
     "name": "stderr",
     "output_type": "stream",
     "text": [
      "Epoch 5/50 [Train]: 100%|██████████| 352/352 [00:46<00:00,  7.60it/s, loss=1.16, acc=57.9]\n",
      "Epoch 5/50 [Val]: 100%|██████████| 40/40 [00:01<00:00, 22.81it/s, loss=1.12, acc=59.2]\n"
     ]
    },
    {
     "name": "stdout",
     "output_type": "stream",
     "text": [
      "Epoch 5/50:\n",
      "Train Loss: 1.1565 | Train Acc: 57.90%\n",
      "Val Loss: 1.1241 | Val Acc: 59.18%\n",
      "Validation accuracy improved from 58.26% to 59.18%, saving model...\n"
     ]
    },
    {
     "name": "stderr",
     "output_type": "stream",
     "text": [
      "Epoch 6/50 [Train]: 100%|██████████| 352/352 [00:46<00:00,  7.61it/s, loss=1.1, acc=60.1]\n",
      "Epoch 6/50 [Val]: 100%|██████████| 40/40 [00:01<00:00, 23.22it/s, loss=1.08, acc=60.6]\n"
     ]
    },
    {
     "name": "stdout",
     "output_type": "stream",
     "text": [
      "Epoch 6/50:\n",
      "Train Loss: 1.1020 | Train Acc: 60.14%\n",
      "Val Loss: 1.0829 | Val Acc: 60.58%\n",
      "Validation accuracy improved from 59.18% to 60.58%, saving model...\n"
     ]
    },
    {
     "name": "stderr",
     "output_type": "stream",
     "text": [
      "Epoch 7/50 [Train]: 100%|██████████| 352/352 [00:46<00:00,  7.55it/s, loss=1.05, acc=62]\n",
      "Epoch 7/50 [Val]: 100%|██████████| 40/40 [00:01<00:00, 23.02it/s, loss=1.01, acc=63.7]\n"
     ]
    },
    {
     "name": "stdout",
     "output_type": "stream",
     "text": [
      "Epoch 7/50:\n",
      "Train Loss: 1.0538 | Train Acc: 62.02%\n",
      "Val Loss: 1.0109 | Val Acc: 63.72%\n",
      "Validation accuracy improved from 60.58% to 63.72%, saving model...\n"
     ]
    },
    {
     "name": "stderr",
     "output_type": "stream",
     "text": [
      "Epoch 8/50 [Train]: 100%|██████████| 352/352 [00:46<00:00,  7.60it/s, loss=1.01, acc=63.8]\n",
      "Epoch 8/50 [Val]: 100%|██████████| 40/40 [00:01<00:00, 22.45it/s, loss=0.971, acc=64.5]\n"
     ]
    },
    {
     "name": "stdout",
     "output_type": "stream",
     "text": [
      "Epoch 8/50:\n",
      "Train Loss: 1.0113 | Train Acc: 63.82%\n",
      "Val Loss: 0.9707 | Val Acc: 64.50%\n",
      "Validation accuracy improved from 63.72% to 64.50%, saving model...\n"
     ]
    },
    {
     "name": "stderr",
     "output_type": "stream",
     "text": [
      "Epoch 9/50 [Train]: 100%|██████████| 352/352 [00:46<00:00,  7.56it/s, loss=0.963, acc=65.5]\n",
      "Epoch 9/50 [Val]: 100%|██████████| 40/40 [00:01<00:00, 23.10it/s, loss=0.96, acc=65.5]\n"
     ]
    },
    {
     "name": "stdout",
     "output_type": "stream",
     "text": [
      "Epoch 9/50:\n",
      "Train Loss: 0.9631 | Train Acc: 65.54%\n",
      "Val Loss: 0.9598 | Val Acc: 65.54%\n",
      "Validation accuracy improved from 64.50% to 65.54%, saving model...\n"
     ]
    },
    {
     "name": "stderr",
     "output_type": "stream",
     "text": [
      "Epoch 10/50 [Train]: 100%|██████████| 352/352 [00:46<00:00,  7.58it/s, loss=0.925, acc=66.9]\n",
      "Epoch 10/50 [Val]: 100%|██████████| 40/40 [00:01<00:00, 22.80it/s, loss=0.929, acc=67.1]\n"
     ]
    },
    {
     "name": "stdout",
     "output_type": "stream",
     "text": [
      "Epoch 10/50:\n",
      "Train Loss: 0.9249 | Train Acc: 66.86%\n",
      "Val Loss: 0.9287 | Val Acc: 67.14%\n",
      "Validation accuracy improved from 65.54% to 67.14%, saving model...\n"
     ]
    },
    {
     "name": "stderr",
     "output_type": "stream",
     "text": [
      "Epoch 11/50 [Train]: 100%|██████████| 352/352 [00:46<00:00,  7.53it/s, loss=0.889, acc=68.3]\n",
      "Epoch 11/50 [Val]: 100%|██████████| 40/40 [00:01<00:00, 22.73it/s, loss=0.874, acc=68.7]\n"
     ]
    },
    {
     "name": "stdout",
     "output_type": "stream",
     "text": [
      "Epoch 11/50:\n",
      "Train Loss: 0.8890 | Train Acc: 68.25%\n",
      "Val Loss: 0.8743 | Val Acc: 68.74%\n",
      "Validation accuracy improved from 67.14% to 68.74%, saving model...\n"
     ]
    },
    {
     "name": "stderr",
     "output_type": "stream",
     "text": [
      "Epoch 12/50 [Train]: 100%|██████████| 352/352 [00:46<00:00,  7.56it/s, loss=0.865, acc=69.2]\n",
      "Epoch 12/50 [Val]: 100%|██████████| 40/40 [00:01<00:00, 22.55it/s, loss=0.846, acc=69.5]\n"
     ]
    },
    {
     "name": "stdout",
     "output_type": "stream",
     "text": [
      "Epoch 12/50:\n",
      "Train Loss: 0.8653 | Train Acc: 69.16%\n",
      "Val Loss: 0.8457 | Val Acc: 69.54%\n",
      "Validation accuracy improved from 68.74% to 69.54%, saving model...\n"
     ]
    },
    {
     "name": "stderr",
     "output_type": "stream",
     "text": [
      "Epoch 13/50 [Train]: 100%|██████████| 352/352 [00:46<00:00,  7.55it/s, loss=0.834, acc=70]\n",
      "Epoch 13/50 [Val]: 100%|██████████| 40/40 [00:01<00:00, 23.00it/s, loss=0.827, acc=70.4]\n"
     ]
    },
    {
     "name": "stdout",
     "output_type": "stream",
     "text": [
      "Epoch 13/50:\n",
      "Train Loss: 0.8339 | Train Acc: 69.97%\n",
      "Val Loss: 0.8267 | Val Acc: 70.38%\n",
      "Validation accuracy improved from 69.54% to 70.38%, saving model...\n"
     ]
    },
    {
     "name": "stderr",
     "output_type": "stream",
     "text": [
      "Epoch 14/50 [Train]: 100%|██████████| 352/352 [00:46<00:00,  7.55it/s, loss=0.802, acc=71.2]\n",
      "Epoch 14/50 [Val]: 100%|██████████| 40/40 [00:01<00:00, 22.63it/s, loss=0.856, acc=70.6]\n"
     ]
    },
    {
     "name": "stdout",
     "output_type": "stream",
     "text": [
      "Epoch 14/50:\n",
      "Train Loss: 0.8021 | Train Acc: 71.22%\n",
      "Val Loss: 0.8560 | Val Acc: 70.62%\n",
      "Validation accuracy improved from 70.38% to 70.62%, saving model...\n"
     ]
    },
    {
     "name": "stderr",
     "output_type": "stream",
     "text": [
      "Epoch 15/50 [Train]: 100%|██████████| 352/352 [00:46<00:00,  7.57it/s, loss=0.776, acc=72.4]\n",
      "Epoch 15/50 [Val]: 100%|██████████| 40/40 [00:01<00:00, 23.00it/s, loss=0.809, acc=71.7]\n"
     ]
    },
    {
     "name": "stdout",
     "output_type": "stream",
     "text": [
      "Epoch 15/50:\n",
      "Train Loss: 0.7763 | Train Acc: 72.36%\n",
      "Val Loss: 0.8094 | Val Acc: 71.72%\n",
      "Validation accuracy improved from 70.62% to 71.72%, saving model...\n"
     ]
    },
    {
     "name": "stderr",
     "output_type": "stream",
     "text": [
      "Epoch 16/50 [Train]: 100%|██████████| 352/352 [00:46<00:00,  7.60it/s, loss=0.743, acc=73.5]\n",
      "Epoch 16/50 [Val]: 100%|██████████| 40/40 [00:01<00:00, 21.91it/s, loss=0.769, acc=73.1]\n"
     ]
    },
    {
     "name": "stdout",
     "output_type": "stream",
     "text": [
      "Epoch 16/50:\n",
      "Train Loss: 0.7426 | Train Acc: 73.47%\n",
      "Val Loss: 0.7694 | Val Acc: 73.14%\n",
      "Validation accuracy improved from 71.72% to 73.14%, saving model...\n"
     ]
    },
    {
     "name": "stderr",
     "output_type": "stream",
     "text": [
      "Epoch 17/50 [Train]: 100%|██████████| 352/352 [00:46<00:00,  7.56it/s, loss=0.717, acc=74.6]\n",
      "Epoch 17/50 [Val]: 100%|██████████| 40/40 [00:01<00:00, 23.60it/s, loss=0.774, acc=72.6]\n"
     ]
    },
    {
     "name": "stdout",
     "output_type": "stream",
     "text": [
      "Epoch 17/50:\n",
      "Train Loss: 0.7171 | Train Acc: 74.57%\n",
      "Val Loss: 0.7741 | Val Acc: 72.64%\n"
     ]
    },
    {
     "name": "stderr",
     "output_type": "stream",
     "text": [
      "Epoch 18/50 [Train]: 100%|██████████| 352/352 [00:46<00:00,  7.54it/s, loss=0.693, acc=75.4]\n",
      "Epoch 18/50 [Val]: 100%|██████████| 40/40 [00:01<00:00, 22.11it/s, loss=0.752, acc=74.1]\n"
     ]
    },
    {
     "name": "stdout",
     "output_type": "stream",
     "text": [
      "Epoch 18/50:\n",
      "Train Loss: 0.6931 | Train Acc: 75.35%\n",
      "Val Loss: 0.7518 | Val Acc: 74.12%\n",
      "Validation accuracy improved from 73.14% to 74.12%, saving model...\n"
     ]
    },
    {
     "name": "stderr",
     "output_type": "stream",
     "text": [
      "Epoch 19/50 [Train]: 100%|██████████| 352/352 [00:46<00:00,  7.59it/s, loss=0.669, acc=76.1]\n",
      "Epoch 19/50 [Val]: 100%|██████████| 40/40 [00:01<00:00, 22.20it/s, loss=0.725, acc=74.3]\n"
     ]
    },
    {
     "name": "stdout",
     "output_type": "stream",
     "text": [
      "Epoch 19/50:\n",
      "Train Loss: 0.6693 | Train Acc: 76.12%\n",
      "Val Loss: 0.7253 | Val Acc: 74.32%\n",
      "Validation accuracy improved from 74.12% to 74.32%, saving model...\n"
     ]
    },
    {
     "name": "stderr",
     "output_type": "stream",
     "text": [
      "Epoch 20/50 [Train]: 100%|██████████| 352/352 [00:46<00:00,  7.59it/s, loss=0.651, acc=76.9]\n",
      "Epoch 20/50 [Val]: 100%|██████████| 40/40 [00:01<00:00, 22.60it/s, loss=0.733, acc=75]\n"
     ]
    },
    {
     "name": "stdout",
     "output_type": "stream",
     "text": [
      "Epoch 20/50:\n",
      "Train Loss: 0.6511 | Train Acc: 76.89%\n",
      "Val Loss: 0.7334 | Val Acc: 74.96%\n",
      "Validation accuracy improved from 74.32% to 74.96%, saving model...\n"
     ]
    },
    {
     "name": "stderr",
     "output_type": "stream",
     "text": [
      "Epoch 21/50 [Train]: 100%|██████████| 352/352 [00:46<00:00,  7.53it/s, loss=0.623, acc=77.8]\n",
      "Epoch 21/50 [Val]: 100%|██████████| 40/40 [00:01<00:00, 22.44it/s, loss=0.756, acc=73.6]\n"
     ]
    },
    {
     "name": "stdout",
     "output_type": "stream",
     "text": [
      "Epoch 21/50:\n",
      "Train Loss: 0.6230 | Train Acc: 77.81%\n",
      "Val Loss: 0.7556 | Val Acc: 73.62%\n"
     ]
    },
    {
     "name": "stderr",
     "output_type": "stream",
     "text": [
      "Epoch 22/50 [Train]: 100%|██████████| 352/352 [00:46<00:00,  7.56it/s, loss=0.6, acc=78.5]\n",
      "Epoch 22/50 [Val]: 100%|██████████| 40/40 [00:01<00:00, 23.16it/s, loss=0.72, acc=74.8]\n"
     ]
    },
    {
     "name": "stdout",
     "output_type": "stream",
     "text": [
      "Epoch 22/50:\n",
      "Train Loss: 0.6000 | Train Acc: 78.52%\n",
      "Val Loss: 0.7201 | Val Acc: 74.76%\n"
     ]
    },
    {
     "name": "stderr",
     "output_type": "stream",
     "text": [
      "Epoch 23/50 [Train]: 100%|██████████| 352/352 [00:46<00:00,  7.60it/s, loss=0.582, acc=79.3]\n",
      "Epoch 23/50 [Val]: 100%|██████████| 40/40 [00:01<00:00, 23.27it/s, loss=0.732, acc=75.4]\n"
     ]
    },
    {
     "name": "stdout",
     "output_type": "stream",
     "text": [
      "Epoch 23/50:\n",
      "Train Loss: 0.5816 | Train Acc: 79.28%\n",
      "Val Loss: 0.7322 | Val Acc: 75.40%\n",
      "Validation accuracy improved from 74.96% to 75.40%, saving model...\n"
     ]
    },
    {
     "name": "stderr",
     "output_type": "stream",
     "text": [
      "Epoch 24/50 [Train]: 100%|██████████| 352/352 [00:46<00:00,  7.59it/s, loss=0.559, acc=80]\n",
      "Epoch 24/50 [Val]: 100%|██████████| 40/40 [00:01<00:00, 22.31it/s, loss=0.687, acc=76.5]\n"
     ]
    },
    {
     "name": "stdout",
     "output_type": "stream",
     "text": [
      "Epoch 24/50:\n",
      "Train Loss: 0.5588 | Train Acc: 79.99%\n",
      "Val Loss: 0.6867 | Val Acc: 76.46%\n",
      "Validation accuracy improved from 75.40% to 76.46%, saving model...\n"
     ]
    },
    {
     "name": "stderr",
     "output_type": "stream",
     "text": [
      "Epoch 25/50 [Train]: 100%|██████████| 352/352 [00:46<00:00,  7.55it/s, loss=0.54, acc=80.8]\n",
      "Epoch 25/50 [Val]: 100%|██████████| 40/40 [00:01<00:00, 23.02it/s, loss=0.723, acc=75.3]\n"
     ]
    },
    {
     "name": "stdout",
     "output_type": "stream",
     "text": [
      "Epoch 25/50:\n",
      "Train Loss: 0.5400 | Train Acc: 80.81%\n",
      "Val Loss: 0.7231 | Val Acc: 75.30%\n"
     ]
    },
    {
     "name": "stderr",
     "output_type": "stream",
     "text": [
      "Epoch 26/50 [Train]: 100%|██████████| 352/352 [00:46<00:00,  7.57it/s, loss=0.519, acc=81.4]\n",
      "Epoch 26/50 [Val]: 100%|██████████| 40/40 [00:01<00:00, 22.26it/s, loss=0.702, acc=75.9]\n"
     ]
    },
    {
     "name": "stdout",
     "output_type": "stream",
     "text": [
      "Epoch 26/50:\n",
      "Train Loss: 0.5192 | Train Acc: 81.43%\n",
      "Val Loss: 0.7020 | Val Acc: 75.92%\n"
     ]
    },
    {
     "name": "stderr",
     "output_type": "stream",
     "text": [
      "Epoch 27/50 [Train]: 100%|██████████| 352/352 [00:46<00:00,  7.62it/s, loss=0.496, acc=82.2]\n",
      "Epoch 27/50 [Val]: 100%|██████████| 40/40 [00:01<00:00, 23.57it/s, loss=0.661, acc=77.9]\n"
     ]
    },
    {
     "name": "stdout",
     "output_type": "stream",
     "text": [
      "Epoch 27/50:\n",
      "Train Loss: 0.4957 | Train Acc: 82.24%\n",
      "Val Loss: 0.6607 | Val Acc: 77.90%\n",
      "Validation accuracy improved from 76.46% to 77.90%, saving model...\n"
     ]
    },
    {
     "name": "stderr",
     "output_type": "stream",
     "text": [
      "Epoch 28/50 [Train]: 100%|██████████| 352/352 [00:46<00:00,  7.54it/s, loss=0.475, acc=83.1]\n",
      "Epoch 28/50 [Val]: 100%|██████████| 40/40 [00:01<00:00, 22.94it/s, loss=0.693, acc=76.8]\n"
     ]
    },
    {
     "name": "stdout",
     "output_type": "stream",
     "text": [
      "Epoch 28/50:\n",
      "Train Loss: 0.4752 | Train Acc: 83.07%\n",
      "Val Loss: 0.6935 | Val Acc: 76.84%\n"
     ]
    },
    {
     "name": "stderr",
     "output_type": "stream",
     "text": [
      "Epoch 29/50 [Train]: 100%|██████████| 352/352 [00:46<00:00,  7.60it/s, loss=0.459, acc=83.7]\n",
      "Epoch 29/50 [Val]: 100%|██████████| 40/40 [00:01<00:00, 22.36it/s, loss=0.692, acc=77]\n"
     ]
    },
    {
     "name": "stdout",
     "output_type": "stream",
     "text": [
      "Epoch 29/50:\n",
      "Train Loss: 0.4592 | Train Acc: 83.70%\n",
      "Val Loss: 0.6924 | Val Acc: 77.00%\n"
     ]
    },
    {
     "name": "stderr",
     "output_type": "stream",
     "text": [
      "Epoch 30/50 [Train]: 100%|██████████| 352/352 [00:46<00:00,  7.56it/s, loss=0.445, acc=84.1]\n",
      "Epoch 30/50 [Val]: 100%|██████████| 40/40 [00:01<00:00, 22.31it/s, loss=0.679, acc=77.6]\n"
     ]
    },
    {
     "name": "stdout",
     "output_type": "stream",
     "text": [
      "Epoch 30/50:\n",
      "Train Loss: 0.4447 | Train Acc: 84.05%\n",
      "Val Loss: 0.6788 | Val Acc: 77.60%\n"
     ]
    },
    {
     "name": "stderr",
     "output_type": "stream",
     "text": [
      "Epoch 31/50 [Train]: 100%|██████████| 352/352 [00:46<00:00,  7.61it/s, loss=0.426, acc=84.7]\n",
      "Epoch 31/50 [Val]: 100%|██████████| 40/40 [00:01<00:00, 22.92it/s, loss=0.705, acc=77.6]\n"
     ]
    },
    {
     "name": "stdout",
     "output_type": "stream",
     "text": [
      "Epoch 31/50:\n",
      "Train Loss: 0.4262 | Train Acc: 84.71%\n",
      "Val Loss: 0.7050 | Val Acc: 77.62%\n"
     ]
    },
    {
     "name": "stderr",
     "output_type": "stream",
     "text": [
      "Epoch 32/50 [Train]: 100%|██████████| 352/352 [00:46<00:00,  7.56it/s, loss=0.408, acc=85.3]\n",
      "Epoch 32/50 [Val]: 100%|██████████| 40/40 [00:01<00:00, 22.47it/s, loss=0.705, acc=77.5]\n"
     ]
    },
    {
     "name": "stdout",
     "output_type": "stream",
     "text": [
      "Epoch 32/50:\n",
      "Train Loss: 0.4085 | Train Acc: 85.34%\n",
      "Val Loss: 0.7050 | Val Acc: 77.46%\n"
     ]
    },
    {
     "name": "stderr",
     "output_type": "stream",
     "text": [
      "Epoch 33/50 [Train]: 100%|██████████| 352/352 [00:46<00:00,  7.59it/s, loss=0.395, acc=85.8]\n",
      "Epoch 33/50 [Val]: 100%|██████████| 40/40 [00:01<00:00, 24.06it/s, loss=0.713, acc=77.8]\n"
     ]
    },
    {
     "name": "stdout",
     "output_type": "stream",
     "text": [
      "Epoch 33/50:\n",
      "Train Loss: 0.3950 | Train Acc: 85.84%\n",
      "Val Loss: 0.7133 | Val Acc: 77.84%\n"
     ]
    },
    {
     "name": "stderr",
     "output_type": "stream",
     "text": [
      "Epoch 34/50 [Train]: 100%|██████████| 352/352 [00:46<00:00,  7.57it/s, loss=0.378, acc=86.5]\n",
      "Epoch 34/50 [Val]: 100%|██████████| 40/40 [00:01<00:00, 23.05it/s, loss=0.704, acc=77.7]\n"
     ]
    },
    {
     "name": "stdout",
     "output_type": "stream",
     "text": [
      "Epoch 34/50:\n",
      "Train Loss: 0.3775 | Train Acc: 86.49%\n",
      "Val Loss: 0.7039 | Val Acc: 77.66%\n"
     ]
    },
    {
     "name": "stderr",
     "output_type": "stream",
     "text": [
      "Epoch 35/50 [Train]: 100%|██████████| 352/352 [00:46<00:00,  7.58it/s, loss=0.36, acc=87.1]\n",
      "Epoch 35/50 [Val]: 100%|██████████| 40/40 [00:01<00:00, 23.59it/s, loss=0.712, acc=77.2]\n"
     ]
    },
    {
     "name": "stdout",
     "output_type": "stream",
     "text": [
      "Epoch 35/50:\n",
      "Train Loss: 0.3603 | Train Acc: 87.14%\n",
      "Val Loss: 0.7124 | Val Acc: 77.18%\n"
     ]
    },
    {
     "name": "stderr",
     "output_type": "stream",
     "text": [
      "Epoch 36/50 [Train]: 100%|██████████| 352/352 [00:46<00:00,  7.59it/s, loss=0.345, acc=87.4]\n",
      "Epoch 36/50 [Val]: 100%|██████████| 40/40 [00:01<00:00, 23.24it/s, loss=0.757, acc=77.8]\n"
     ]
    },
    {
     "name": "stdout",
     "output_type": "stream",
     "text": [
      "Epoch 36/50:\n",
      "Train Loss: 0.3452 | Train Acc: 87.44%\n",
      "Val Loss: 0.7566 | Val Acc: 77.84%\n"
     ]
    },
    {
     "name": "stderr",
     "output_type": "stream",
     "text": [
      "Epoch 37/50 [Train]: 100%|██████████| 352/352 [00:46<00:00,  7.57it/s, loss=0.338, acc=87.9]\n",
      "Epoch 37/50 [Val]: 100%|██████████| 40/40 [00:01<00:00, 22.35it/s, loss=0.71, acc=78.3]\n"
     ]
    },
    {
     "name": "stdout",
     "output_type": "stream",
     "text": [
      "Epoch 37/50:\n",
      "Train Loss: 0.3383 | Train Acc: 87.89%\n",
      "Val Loss: 0.7105 | Val Acc: 78.26%\n",
      "Validation accuracy improved from 77.90% to 78.26%, saving model...\n"
     ]
    },
    {
     "name": "stderr",
     "output_type": "stream",
     "text": [
      "Epoch 38/50 [Train]: 100%|██████████| 352/352 [00:46<00:00,  7.59it/s, loss=0.321, acc=88.5]\n",
      "Epoch 38/50 [Val]: 100%|██████████| 40/40 [00:01<00:00, 22.24it/s, loss=0.702, acc=78.8]\n"
     ]
    },
    {
     "name": "stdout",
     "output_type": "stream",
     "text": [
      "Epoch 38/50:\n",
      "Train Loss: 0.3214 | Train Acc: 88.46%\n",
      "Val Loss: 0.7018 | Val Acc: 78.76%\n",
      "Validation accuracy improved from 78.26% to 78.76%, saving model...\n"
     ]
    },
    {
     "name": "stderr",
     "output_type": "stream",
     "text": [
      "Epoch 39/50 [Train]: 100%|██████████| 352/352 [00:46<00:00,  7.55it/s, loss=0.315, acc=88.7]\n",
      "Epoch 39/50 [Val]: 100%|██████████| 40/40 [00:01<00:00, 21.86it/s, loss=0.749, acc=78]\n"
     ]
    },
    {
     "name": "stdout",
     "output_type": "stream",
     "text": [
      "Epoch 39/50:\n",
      "Train Loss: 0.3146 | Train Acc: 88.69%\n",
      "Val Loss: 0.7485 | Val Acc: 77.96%\n"
     ]
    },
    {
     "name": "stderr",
     "output_type": "stream",
     "text": [
      "Epoch 40/50 [Train]: 100%|██████████| 352/352 [00:46<00:00,  7.61it/s, loss=0.302, acc=89.3]\n",
      "Epoch 40/50 [Val]: 100%|██████████| 40/40 [00:01<00:00, 22.90it/s, loss=0.709, acc=79.3]\n"
     ]
    },
    {
     "name": "stdout",
     "output_type": "stream",
     "text": [
      "Epoch 40/50:\n",
      "Train Loss: 0.3019 | Train Acc: 89.32%\n",
      "Val Loss: 0.7092 | Val Acc: 79.30%\n",
      "Validation accuracy improved from 78.76% to 79.30%, saving model...\n"
     ]
    },
    {
     "name": "stderr",
     "output_type": "stream",
     "text": [
      "Epoch 41/50 [Train]: 100%|██████████| 352/352 [00:46<00:00,  7.54it/s, loss=0.288, acc=89.8]\n",
      "Epoch 41/50 [Val]: 100%|██████████| 40/40 [00:01<00:00, 22.54it/s, loss=0.733, acc=78.6]\n"
     ]
    },
    {
     "name": "stdout",
     "output_type": "stream",
     "text": [
      "Epoch 41/50:\n",
      "Train Loss: 0.2877 | Train Acc: 89.84%\n",
      "Val Loss: 0.7335 | Val Acc: 78.56%\n"
     ]
    },
    {
     "name": "stderr",
     "output_type": "stream",
     "text": [
      "Epoch 42/50 [Train]: 100%|██████████| 352/352 [00:46<00:00,  7.59it/s, loss=0.285, acc=89.9]\n",
      "Epoch 42/50 [Val]: 100%|██████████| 40/40 [00:01<00:00, 23.87it/s, loss=0.74, acc=78.1]\n"
     ]
    },
    {
     "name": "stdout",
     "output_type": "stream",
     "text": [
      "Epoch 42/50:\n",
      "Train Loss: 0.2854 | Train Acc: 89.86%\n",
      "Val Loss: 0.7402 | Val Acc: 78.08%\n"
     ]
    },
    {
     "name": "stderr",
     "output_type": "stream",
     "text": [
      "Epoch 43/50 [Train]: 100%|██████████| 352/352 [00:46<00:00,  7.59it/s, loss=0.277, acc=90.1]\n",
      "Epoch 43/50 [Val]: 100%|██████████| 40/40 [00:01<00:00, 23.64it/s, loss=0.742, acc=78.4]\n"
     ]
    },
    {
     "name": "stdout",
     "output_type": "stream",
     "text": [
      "Epoch 43/50:\n",
      "Train Loss: 0.2771 | Train Acc: 90.12%\n",
      "Val Loss: 0.7422 | Val Acc: 78.36%\n"
     ]
    },
    {
     "name": "stderr",
     "output_type": "stream",
     "text": [
      "Epoch 44/50 [Train]: 100%|██████████| 352/352 [00:46<00:00,  7.62it/s, loss=0.269, acc=90.5]\n",
      "Epoch 44/50 [Val]: 100%|██████████| 40/40 [00:01<00:00, 23.15it/s, loss=0.745, acc=78.1]\n"
     ]
    },
    {
     "name": "stdout",
     "output_type": "stream",
     "text": [
      "Epoch 44/50:\n",
      "Train Loss: 0.2688 | Train Acc: 90.47%\n",
      "Val Loss: 0.7447 | Val Acc: 78.10%\n"
     ]
    },
    {
     "name": "stderr",
     "output_type": "stream",
     "text": [
      "Epoch 45/50 [Train]: 100%|██████████| 352/352 [00:46<00:00,  7.60it/s, loss=0.267, acc=90.5]\n",
      "Epoch 45/50 [Val]: 100%|██████████| 40/40 [00:01<00:00, 23.04it/s, loss=0.742, acc=78.8]\n"
     ]
    },
    {
     "name": "stdout",
     "output_type": "stream",
     "text": [
      "Epoch 45/50:\n",
      "Train Loss: 0.2666 | Train Acc: 90.54%\n",
      "Val Loss: 0.7420 | Val Acc: 78.82%\n"
     ]
    },
    {
     "name": "stderr",
     "output_type": "stream",
     "text": [
      "Epoch 46/50 [Train]: 100%|██████████| 352/352 [00:46<00:00,  7.61it/s, loss=0.264, acc=90.6]\n",
      "Epoch 46/50 [Val]: 100%|██████████| 40/40 [00:01<00:00, 23.12it/s, loss=0.734, acc=78.6]\n"
     ]
    },
    {
     "name": "stdout",
     "output_type": "stream",
     "text": [
      "Epoch 46/50:\n",
      "Train Loss: 0.2643 | Train Acc: 90.57%\n",
      "Val Loss: 0.7336 | Val Acc: 78.64%\n"
     ]
    },
    {
     "name": "stderr",
     "output_type": "stream",
     "text": [
      "Epoch 47/50 [Train]: 100%|██████████| 352/352 [00:46<00:00,  7.59it/s, loss=0.262, acc=90.6]\n",
      "Epoch 47/50 [Val]: 100%|██████████| 40/40 [00:01<00:00, 23.01it/s, loss=0.75, acc=78.7]\n"
     ]
    },
    {
     "name": "stdout",
     "output_type": "stream",
     "text": [
      "Epoch 47/50:\n",
      "Train Loss: 0.2625 | Train Acc: 90.58%\n",
      "Val Loss: 0.7495 | Val Acc: 78.68%\n"
     ]
    },
    {
     "name": "stderr",
     "output_type": "stream",
     "text": [
      "Epoch 48/50 [Train]: 100%|██████████| 352/352 [00:46<00:00,  7.58it/s, loss=0.259, acc=90.8]\n",
      "Epoch 48/50 [Val]: 100%|██████████| 40/40 [00:01<00:00, 21.29it/s, loss=0.783, acc=77.9]\n"
     ]
    },
    {
     "name": "stdout",
     "output_type": "stream",
     "text": [
      "Epoch 48/50:\n",
      "Train Loss: 0.2588 | Train Acc: 90.83%\n",
      "Val Loss: 0.7832 | Val Acc: 77.94%\n"
     ]
    },
    {
     "name": "stderr",
     "output_type": "stream",
     "text": [
      "Epoch 49/50 [Train]: 100%|██████████| 352/352 [00:46<00:00,  7.54it/s, loss=0.257, acc=90.9]\n",
      "Epoch 49/50 [Val]: 100%|██████████| 40/40 [00:01<00:00, 23.28it/s, loss=0.778, acc=77.7]\n"
     ]
    },
    {
     "name": "stdout",
     "output_type": "stream",
     "text": [
      "Epoch 49/50:\n",
      "Train Loss: 0.2573 | Train Acc: 90.88%\n",
      "Val Loss: 0.7783 | Val Acc: 77.68%\n"
     ]
    },
    {
     "name": "stderr",
     "output_type": "stream",
     "text": [
      "Epoch 50/50 [Train]: 100%|██████████| 352/352 [00:46<00:00,  7.56it/s, loss=0.255, acc=90.9]\n",
      "Epoch 50/50 [Val]: 100%|██████████| 40/40 [00:01<00:00, 21.56it/s, loss=0.77, acc=78.3]\n"
     ]
    },
    {
     "name": "stdout",
     "output_type": "stream",
     "text": [
      "Epoch 50/50:\n",
      "Train Loss: 0.2547 | Train Acc: 90.89%\n",
      "Val Loss: 0.7703 | Val Acc: 78.28%\n",
      "Best validation accuracy: 79.30%\n"
     ]
    },
    {
     "data": {
      "image/png": "[encoded data removed]",
      "text/plain": [
       "<Figure size 1200x500 with 2 Axes>"
      ]
     },
     "metadata": {},
     "output_type": "display_data"
    },
    {
     "name": "stderr",
     "output_type": "stream",
     "text": [
      "/tmp/ipykernel_19/190808894.py:58: FutureWarning: You are using `torch.load` with `weights_only=False` (the current default value), which uses the default pickle module implicitly. It is possible to construct malicious pickle data which will execute arbitrary code during unpickling (See https://github.com/pytorch/pytorch/blob/main/SECURITY.md#untrusted-models for more details). In a future release, the default value for `weights_only` will be flipped to `True`. This limits the functions that could be executed during unpickling. Arbitrary objects will no longer be allowed to be loaded via this mode unless they are explicitly allowlisted by the user via `torch.serialization.add_safe_globals`. We recommend you start setting `weights_only=True` for any use case where you don't have full control of the loaded file. Please open an issue on GitHub for any issues related to this experimental feature.\n",
      "  best_model.load_state_dict(torch.load(f'best_{model_name}_model.pth'))\n"
     ]
    },
    {
     "name": "stdout",
     "output_type": "stream",
     "text": [
      "\n",
      "=== Loading Best Model for Evaluation ===\n"
     ]
    },
    {
     "name": "stderr",
     "output_type": "stream",
     "text": [
      "Evaluating on test set: 100%|██████████| 79/79 [00:03<00:00, 25.42it/s]"
     ]
    },
    {
     "name": "stdout",
     "output_type": "stream",
     "text": [
      "Test accuracy: 79.64%\n",
      "\n",
      "=== Final Results ===\n",
      "Differential ViT : Test Accuracy = 79.64%\n"
     ]
    },
    {
     "name": "stderr",
     "output_type": "stream",
     "text": [
      "\n"
     ]
    }
   ],
   "source": [
    "\n",
    "# Hyperparameters\n",
    "batch_size = 128\n",
    "epochs = 50\n",
    "lr = 3e-4\n",
    "weight_decay = 1e-4\n",
    "patch_size = 4 \n",
    "lambda_init = 0.5  # Initial lambda value for differential attention\n",
    "\n",
    "# Get data loaders\n",
    "train_loader, val_loader, test_loader = get_data_loaders(batch_size)\n",
    "\n",
    "# Create differential ViT model\n",
    "diff_vit = DifferentialVisionTransformer(\n",
    "    image_size=32, \n",
    "    patch_size=patch_size, \n",
    "    in_channels=3, \n",
    "    num_classes=10,\n",
    "    d_model=192, \n",
    "    num_heads=8, \n",
    "    num_layers=8, \n",
    "    dim_ff=768,\n",
    "    dropout=0.1,\n",
    "    lambda_init=lambda_init\n",
    ")\n",
    "\n",
    "print(f\"Differential ViT created with {sum(p.numel() for p in diff_vit.parameters())/1e6:.2f}M parameters\")\n",
    "\n",
    "# Train the model\n",
    "print(\"\\n=== Training Differential ViT ===\")\n",
    "model_name = f\"diff_vit_p{patch_size}\"\n",
    "train_losses, train_accs, val_losses, val_accs = train_model(\n",
    "    diff_vit, train_loader, val_loader, \n",
    "    epochs=epochs, lr=lr, weight_decay=weight_decay,\n",
    "    model_name=model_name\n",
    ")\n",
    "\n",
    "# Plot training metrics\n",
    "plot_metrics(\n",
    "    train_losses, val_losses, train_accs, val_accs,\n",
    "    title_suffix=f\" - Differential ViT \",\n",
    "    filename_prefix=model_name\n",
    ")\n",
    "\n",
    "# Load the best model and evaluate\n",
    "print(\"\\n=== Loading Best Model for Evaluation ===\")\n",
    "best_model = DifferentialVisionTransformer(\n",
    "    image_size=32, \n",
    "    patch_size=patch_size, \n",
    "    in_channels=3, \n",
    "    num_classes=10,\n",
    "    d_model=192, \n",
    "    num_heads=8, \n",
    "    num_layers=8, \n",
    "    dim_ff=768,\n",
    "    dropout=0.1,\n",
    "    lambda_init=lambda_init\n",
    ")\n",
    "best_model.load_state_dict(torch.load(f'best_{model_name}_model.pth'))\n",
    "\n",
    "# Evaluate on test set\n",
    "test_acc = evaluate_model(best_model, test_loader)\n",
    "\n",
    "# Print final result\n",
    "print(\"\\n=== Final Results ===\")\n",
    "print(f\"Differential ViT : Test Accuracy = {test_acc:.2f}%\")\n",
    "\n",
    "# # Also try with different patch size if needed\n",
    "# if patch_size == 4:\n",
    "#     print(\"\\nAlso trying with patch size 2...\")\n",
    "#     patch_size = 2\n",
    "#     model_name = f\"diff_vit_p{patch_size}\"\n",
    "    \n",
    "#     diff_vit_p2 = DifferentialVisionTransformer(\n",
    "#         image_size=32, \n",
    "#         patch_size=patch_size, \n",
    "#         in_channels=3, \n",
    "#         num_classes=10,\n",
    "#         d_model=192, \n",
    "#         num_heads=8, \n",
    "#         num_layers=8, \n",
    "#         dim_ff=768,\n",
    "#         dropout=0.1,\n",
    "#         lambda_init=lambda_init\n",
    "#     )\n",
    "    \n",
    "#     print(f\"Differential ViT created with {sum(p.numel() for p in diff_vit_p2.parameters())/1e6:.2f}M parameters\")\n",
    "    \n",
    "#     # Train with patch size 2\n",
    "#     train_losses, train_accs, val_losses, val_accs = train_model(\n",
    "#         diff_vit_p2, train_loader, val_loader, \n",
    "#         epochs=epochs, lr=lr, weight_decay=weight_decay,\n",
    "#         model_name=model_name\n",
    "#     )\n",
    "    \n",
    "#     # Plot metrics\n",
    "#     plot_metrics(\n",
    "#         train_losses, val_losses, train_accs, val_accs,\n",
    "#         title_suffix=f\" - Differential ViT (patch_size={patch_size})\",\n",
    "#         filename_prefix=model_name\n",
    "#     )\n",
    "    \n",
    "#     # Load best model with patch size 2 and evaluate\n",
    "#     best_model_p2 = DifferentialVisionTransformer(\n",
    "#         image_size=32, \n",
    "#         patch_size=patch_size, \n",
    "#         in_channels=3, \n",
    "#         num_classes=10,\n",
    "#         d_model=192, \n",
    "#         num_heads=8, \n",
    "#         num_layers=8, \n",
    "#         dim_ff=768,\n",
    "#         dropout=0.1,\n",
    "#         lambda_init=lambda_init\n",
    "#     )\n",
    "#     best_model_p2.load_state_dict(torch.load(f'best_{model_name}_model.pth'))\n",
    "    \n",
    "#     test_acc_p2 = evaluate_model(best_model_p2, test_loader)\n",
    "#     print(f\"Differential ViT with patch size {patch_size}: Test Accuracy = {test_acc_p2:.2f}%\")\n",
    "\n"
   ]
  },
  {
   "cell_type": "markdown",
   "id": "2467a81b",
   "metadata": {},
   "source": [
    "### Comparison with standard ViT:\n",
    "\n",
    "Standard ViT outperformed Differential ViT on CIFAR-10 (81.22% vs 79.64%). This 1.6% gap suggests that while promising, DiffViT's attention mechanism may need refinement for this task. The underperformance could be due to suboptimal lambda parameter tuning, insufficient training data for the more complex mechanism, or differential attention being better suited for tasks requiring explicit feature contrast. Despite lower accuracy, DiffViT's approach to modeling both positive and negative attention relationships remains an innovative contribution to vision transformers."
   ]
  }
 ],
 "metadata": {
  "kaggle": {
   "accelerator": "gpu",
   "dataSources": [],
   "dockerImageVersionId": 31011,
   "isGpuEnabled": true,
   "isInternetEnabled": true,
   "language": "python",
   "sourceType": "notebook"
  },
  "kernelspec": {
   "display_name": "Python 3",
   "language": "python",
   "name": "python3"
  },
  "language_info": {
   "codemirror_mode": {
    "name": "ipython",
    "version": 3
   },
   "file_extension": ".py",
   "mimetype": "text/x-python",
   "name": "python",
   "nbconvert_exporter": "python",
   "pygments_lexer": "ipython3",
   "version": "3.11.11"
  },
  "papermill": {
   "default_parameters": {},
   "duration": 2442.119842,
   "end_time": "2025-04-20T11:45:29.394212",
   "environment_variables": {},
   "exception": null,
   "input_path": "__notebook__.ipynb",
   "output_path": "__notebook__.ipynb",
   "parameters": {},
   "start_time": "2025-04-20T11:04:47.274370",
   "version": "2.6.0"
  }
 },
 "nbformat": 4,
 "nbformat_minor": 5
}
