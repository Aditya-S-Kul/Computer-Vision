{
 "cells": [
  {
   "cell_type": "code",
   "execution_count": 1,
   "id": "93d4d7d0",
   "metadata": {
    "_cell_guid": "b1076dfc-b9ad-4769-8c92-a6c4dae69d19",
    "_uuid": "8f2839f25d086af736a60e9eeb907d3b93b6e0e5",
    "execution": {
     "iopub.execute_input": "2025-04-20T11:42:18.668019Z",
     "iopub.status.busy": "2025-04-20T11:42:18.667771Z",
     "iopub.status.idle": "2025-04-20T11:42:27.382375Z",
     "shell.execute_reply": "2025-04-20T11:42:27.381593Z"
    },
    "papermill": {
     "duration": 8.720282,
     "end_time": "2025-04-20T11:42:27.384335",
     "exception": false,
     "start_time": "2025-04-20T11:42:18.664053",
     "status": "completed"
    },
    "tags": []
   },
   "outputs": [],
   "source": [
    "import torch\n",
    "import torch.nn as nn\n",
    "import torch.nn.functional as F\n",
    "import torch.optim as optim\n",
    "from torch.utils.data import DataLoader\n",
    "import torchvision\n",
    "import torchvision.transforms as transforms\n",
    "import matplotlib.pyplot as plt\n",
    "import numpy as np\n",
    "from tqdm import tqdm\n",
    "import os\n",
    "import math\n",
    "\n",
    "# For reproducibility\n",
    "torch.manual_seed(42)\n",
    "np.random.seed(42)\n",
    "\n",
    "class DifferentialAttention(nn.Module):\n",
    "    \"\"\"\n",
    "    Differential Attention as described in the Differential Transformer paper\n",
    "    Following the pseudocode:\n",
    "    \n",
    "    def DiffAttn(X, W_q, W_k, W_v, λ):\n",
    "        Q1, Q2 = split(X @ W_q)\n",
    "        K1, K2 = split(X @ W_k)\n",
    "        V = X @ W_v\n",
    "        # Qi, Ki: [b, n, d]; V: [b, n, 2d]\n",
    "        s = 1 / sqrt(d)\n",
    "        A1 = Q1 @ K1.transpose(−1, −2) ∗ s\n",
    "        A2 = Q2 @ K2.transpose(−1, −2) ∗ s\n",
    "        return (softmax(A1) − λ softmax(A2)) @ V\n",
    "    \"\"\"\n",
    "    def __init__(self, d_model, d_head, lambda_val=0.5):\n",
    "        super(DifferentialAttention, self).__init__()\n",
    "        self.d_head = d_head\n",
    "        self.scale = 1.0 / math.sqrt(d_head)\n",
    "        self.lambda_val = lambda_val\n",
    "        \n",
    "        # Single projections that will be split into positive/negative parts\n",
    "        self.q_proj = nn.Linear(d_model, d_head * 2)\n",
    "        self.k_proj = nn.Linear(d_model, d_head * 2)\n",
    "        self.v_proj = nn.Linear(d_model, d_head)\n",
    "    \n",
    "    def forward(self, x, mask=None):\n",
    "        # Project and split query and key\n",
    "        q = self.q_proj(x)  # [batch, seq_len, d_head*2]\n",
    "        k = self.k_proj(x)  # [batch, seq_len, d_head*2]\n",
    "        v = self.v_proj(x)  # [batch, seq_len, d_head]\n",
    "        \n",
    "        # Split into positive and negative parts\n",
    "        q1, q2 = torch.chunk(q, 2, dim=-1)  # [batch, seq_len, d_head]\n",
    "        k1, k2 = torch.chunk(k, 2, dim=-1)  # [batch, seq_len, d_head]\n",
    "        \n",
    "        # Calculate attention scores\n",
    "        attn_scores1 = torch.matmul(q1, k1.transpose(-2, -1)) * self.scale\n",
    "        attn_scores2 = torch.matmul(q2, k2.transpose(-2, -1)) * self.scale\n",
    "        \n",
    "        # Apply mask if provided\n",
    "        if mask is not None:\n",
    "            attn_scores1 = attn_scores1.masked_fill(mask == 0, -1e9)\n",
    "            attn_scores2 = attn_scores2.masked_fill(mask == 0, -1e9)\n",
    "        \n",
    "        # Apply softmax to get attention weights\n",
    "        attn_weights1 = F.softmax(attn_scores1, dim=-1)\n",
    "        attn_weights2 = F.softmax(attn_scores2, dim=-1)\n",
    "        \n",
    "        # Calculate differential attention (positive - λ*negative)\n",
    "        diff_attn = attn_weights1 - self.lambda_val * attn_weights2\n",
    "        \n",
    "        # Apply attention to values\n",
    "        output = torch.matmul(diff_attn, v)\n",
    "        \n",
    "        return output\n",
    "\n",
    "class MultiHeadDifferentialAttention(nn.Module):\n",
    "    \"\"\"\n",
    "    Multi-Head Differential Attention as described in the paper\n",
    "    \n",
    "    Following the pseudocode:\n",
    "    def MultiHead(X, W_q, W_k, W_v, W_o, λ):\n",
    "        O = GroupNorm([DiffAttn(X, W_qi, W_ki, W_vi, λ) for i in range(h)])\n",
    "        O = O ∗ (1 − λinit)\n",
    "        return Concat(O) @ W_o\n",
    "    \"\"\"\n",
    "    def __init__(self, d_model, num_heads, lambda_init=0.5):\n",
    "        super(MultiHeadDifferentialAttention, self).__init__()\n",
    "        self.num_heads = num_heads\n",
    "        self.d_model = d_model\n",
    "        self.lambda_init = lambda_init\n",
    "        \n",
    "        assert d_model % num_heads == 0, \"d_model must be divisible by num_heads\"\n",
    "        \n",
    "        self.d_head = d_model // num_heads\n",
    "        \n",
    "        # Create multiple differential attention heads\n",
    "        self.heads = nn.ModuleList([\n",
    "            DifferentialAttention(d_model, self.d_head, lambda_init)\n",
    "            for _ in range(num_heads)\n",
    "        ])\n",
    "        \n",
    "        # Use LayerNorm instead of GroupNorm to avoid dimension issues\n",
    "        # LayerNorm is also typically used in transformers\n",
    "        self.layer_norm = nn.LayerNorm(d_model)\n",
    "        \n",
    "        # Final projection\n",
    "        self.output_proj = nn.Linear(d_model, d_model)\n",
    "        \n",
    "    def forward(self, x, mask=None):\n",
    "        batch_size = x.shape[0]\n",
    "        \n",
    "        # Apply differential attention for each head\n",
    "        head_outputs = [head(x, mask) for head in self.heads]\n",
    "        \n",
    "        # Concatenate outputs from all heads\n",
    "        multi_head_output = torch.cat(head_outputs, dim=-1)\n",
    "        \n",
    "        # Apply layer normalization\n",
    "        multi_head_output = self.layer_norm(multi_head_output)\n",
    "        \n",
    "        # Scale output by (1 - λinit) as mentioned in the paper\n",
    "        multi_head_output = multi_head_output * (1 - self.lambda_init)\n",
    "        \n",
    "        # Final projection\n",
    "        output = self.output_proj(multi_head_output)\n",
    "        \n",
    "        return output\n",
    "\n",
    "class TransformerEncoderLayer(nn.Module):\n",
    "    \"\"\"Transformer Encoder Layer with Differential Attention\"\"\"\n",
    "    def __init__(self, d_model, num_heads, dim_ff, dropout=0.1, lambda_init=0.5):\n",
    "        super(TransformerEncoderLayer, self).__init__()\n",
    "        self.norm1 = nn.LayerNorm(d_model)\n",
    "        self.norm2 = nn.LayerNorm(d_model)\n",
    "        \n",
    "        # Use differential attention\n",
    "        self.attention = MultiHeadDifferentialAttention(d_model, num_heads, lambda_init)\n",
    "        \n",
    "        self.ffn = nn.Sequential(\n",
    "            nn.Linear(d_model, dim_ff),\n",
    "            nn.GELU(),\n",
    "            nn.Dropout(dropout),\n",
    "            nn.Linear(dim_ff, d_model),\n",
    "            nn.Dropout(dropout)\n",
    "        )\n",
    "        self.dropout = nn.Dropout(dropout)\n",
    "        \n",
    "    def forward(self, x, mask=None):\n",
    "        # Pre-LayerNorm architecture\n",
    "        attn_output = self.attention(self.norm1(x), mask)\n",
    "        # Residual connection\n",
    "        x = x + self.dropout(attn_output)\n",
    "        \n",
    "        # Feed forward with residual connection\n",
    "        ff_output = self.ffn(self.norm2(x))\n",
    "        x = x + self.dropout(ff_output)\n",
    "        \n",
    "        return x\n",
    "\n",
    "class DifferentialVisionTransformer(nn.Module):\n",
    "    \"\"\"\n",
    "    Vision Transformer with Differential Attention\n",
    "    \"\"\"\n",
    "    def __init__(self, \n",
    "                 image_size=32,        # CIFAR-10 image size\n",
    "                 patch_size=4,         # patch size (2 or 4)\n",
    "                 in_channels=3,        # RGB images\n",
    "                 num_classes=10,       # CIFAR-10 has 10 classes\n",
    "                 d_model=192,          # embedding dimension\n",
    "                 num_heads=8,          # number of heads in attention\n",
    "                 num_layers=8,         # number of transformer encoder layers\n",
    "                 dim_ff=768,           # feed-forward network dimension\n",
    "                 dropout=0.1,\n",
    "                 lambda_init=0.5):     # lambda parameter for differential attention\n",
    "        super(DifferentialVisionTransformer, self).__init__()\n",
    "        \n",
    "        # Image and patch parameters\n",
    "        self.image_size = image_size\n",
    "        self.patch_size = patch_size\n",
    "        self.in_channels = in_channels\n",
    "        \n",
    "        # Calculate the number of patches\n",
    "        assert image_size % patch_size == 0, \"Image size must be divisible by patch size\"\n",
    "        num_patches = (image_size // patch_size) ** 2\n",
    "        patch_dim = in_channels * patch_size * patch_size\n",
    "        \n",
    "        # Linear projection of flattened patches\n",
    "        self.patch_embedding = nn.Linear(patch_dim, d_model)\n",
    "        \n",
    "        # Class token\n",
    "        self.cls_token = nn.Parameter(torch.zeros(1, 1, d_model))\n",
    "        \n",
    "        # Positional embedding\n",
    "        self.pos_embedding = nn.Parameter(torch.zeros(1, num_patches + 1, d_model))\n",
    "        \n",
    "        # Dropout after position embedding\n",
    "        self.dropout = nn.Dropout(dropout)\n",
    "        \n",
    "        # Transformer encoder with differential attention\n",
    "        self.encoder_layers = nn.ModuleList([\n",
    "            TransformerEncoderLayer(d_model, num_heads, dim_ff, dropout, lambda_init)\n",
    "            for _ in range(num_layers)\n",
    "        ])\n",
    "        \n",
    "        # Layer normalization\n",
    "        self.norm = nn.LayerNorm(d_model)\n",
    "        \n",
    "        # MLP Head for classification\n",
    "        self.mlp_head = nn.Linear(d_model, num_classes)\n",
    "        \n",
    "        # Initialize weights\n",
    "        self.init_weights()\n",
    "        \n",
    "    def init_weights(self):\n",
    "        # Initialize patch embedding\n",
    "        nn.init.xavier_uniform_(self.patch_embedding.weight)\n",
    "        nn.init.zeros_(self.patch_embedding.bias)\n",
    "        \n",
    "        # Initialize cls token\n",
    "        nn.init.normal_(self.cls_token, std=0.02)\n",
    "        \n",
    "        # Initialize position embedding\n",
    "        nn.init.normal_(self.pos_embedding, std=0.02)\n",
    "        \n",
    "    def forward(self, x):\n",
    "        # x shape: [batch_size, channels, height, width]\n",
    "        batch_size = x.shape[0]\n",
    "        \n",
    "        # Extract patches: [B, C, H, W] -> [B, num_patches, C*P*P]\n",
    "        # Where P is the patch size\n",
    "        x = x.unfold(2, self.patch_size, self.patch_size).unfold(3, self.patch_size, self.patch_size)\n",
    "        x = x.contiguous().view(batch_size, self.in_channels, -1, self.patch_size * self.patch_size)\n",
    "        x = x.permute(0, 2, 1, 3).contiguous().view(batch_size, -1, self.in_channels * self.patch_size * self.patch_size)\n",
    "        \n",
    "        # Linear embedding of patches\n",
    "        x = self.patch_embedding(x)  # [B, num_patches, d_model]\n",
    "        \n",
    "        # Add class token\n",
    "        cls_tokens = self.cls_token.expand(batch_size, -1, -1)  # [B, 1, d_model]\n",
    "        x = torch.cat((cls_tokens, x), dim=1)  # [B, 1+num_patches, d_model]\n",
    "        \n",
    "        # Add positional embedding\n",
    "        x = x + self.pos_embedding\n",
    "        x = self.dropout(x)\n",
    "        \n",
    "        # Apply transformer encoder layers with differential attention\n",
    "        for layer in self.encoder_layers:\n",
    "            x = layer(x)\n",
    "        \n",
    "        # Apply layer normalization\n",
    "        x = self.norm(x)\n",
    "        \n",
    "        # Take the cls token representation\n",
    "        x = x[:, 0]  # [B, d_model]\n",
    "        \n",
    "        # Classification head\n",
    "        x = self.mlp_head(x)  # [B, num_classes]\n",
    "        \n",
    "        return x\n",
    "\n",
    "\n",
    "from torchvision.transforms import AutoAugment, RandAugment, TrivialAugmentWide, RandomErasing\n",
    "\n",
    "def get_augmentation_strategy(strategy_name, mean=(0.4914, 0.4822, 0.4465), std=(0.2470, 0.2435, 0.2616)):\n",
    "    \"\"\"\n",
    "    Returns a transform composition based on the chosen augmentation strategy\n",
    "    \"\"\"\n",
    "    base_transforms = [\n",
    "        transforms.ToTensor(),\n",
    "        transforms.Normalize(mean, std)\n",
    "    ]\n",
    "    \n",
    "    if strategy_name == \"autoaugment\":\n",
    "        return transforms.Compose([\n",
    "            transforms.RandomCrop(32, padding=4),\n",
    "            transforms.RandomHorizontalFlip(),\n",
    "            AutoAugment(policy=torchvision.transforms.autoaugment.AutoAugmentPolicy.CIFAR10),\n",
    "            *base_transforms\n",
    "        ])\n",
    "    \n",
    "    elif strategy_name == \"randaugment\":\n",
    "        return transforms.Compose([\n",
    "            transforms.RandomCrop(32, padding=4),\n",
    "            transforms.RandomHorizontalFlip(),\n",
    "            RandAugment(num_ops=2, magnitude=9),\n",
    "            *base_transforms\n",
    "        ])\n",
    "    \n",
    "    elif strategy_name == \"strongest\":\n",
    "        return transforms.Compose([\n",
    "            transforms.RandomCrop(32, padding=4),\n",
    "            transforms.RandomHorizontalFlip(),\n",
    "            transforms.RandomRotation(15),\n",
    "            transforms.ColorJitter(brightness=0.2, contrast=0.2, saturation=0.2, hue=0.1),\n",
    "            RandAugment(num_ops=2, magnitude=9),\n",
    "            *base_transforms,\n",
    "            RandomErasing(p=0.3, scale=(0.02, 0.33), ratio=(0.3, 3.3))\n",
    "        ])\n",
    "    \n",
    "    else:  # Default or \"basic\"\n",
    "        return transforms.Compose([\n",
    "            transforms.RandomCrop(32, padding=4),\n",
    "            transforms.RandomHorizontalFlip(),\n",
    "            *base_transforms\n",
    "        ])\n",
    "\n",
    "\n",
    "def get_data_loaders(batch_size=128, augmentation_strategy=None):\n",
    "    \"\"\"Create CIFAR-10 dataloaders with option for different augmentation strategies\"\"\"\n",
    "    if augmentation_strategy:\n",
    "        transform_train = get_augmentation_strategy(augmentation_strategy)\n",
    "    else:\n",
    "        transform_train = transforms.Compose([\n",
    "            transforms.RandomCrop(32, padding=4),\n",
    "            transforms.RandomHorizontalFlip(),\n",
    "            transforms.ToTensor(),\n",
    "            transforms.Normalize((0.4914, 0.4822, 0.4465), (0.2470, 0.2435, 0.2616)),\n",
    "        ])\n",
    "    \n",
    "    transform_test = transforms.Compose([\n",
    "        transforms.ToTensor(),\n",
    "        transforms.Normalize((0.4914, 0.4822, 0.4465), (0.2470, 0.2435, 0.2616)),\n",
    "    ])\n",
    "\n",
    "    trainset = torchvision.datasets.CIFAR10(\n",
    "        root='./data', train=True, download=True, transform=transform_train)\n",
    "    trainloader = DataLoader(\n",
    "        trainset, batch_size=batch_size, shuffle=True, num_workers=2)\n",
    "\n",
    "    testset = torchvision.datasets.CIFAR10(\n",
    "        root='./data', train=False, download=True, transform=transform_test)\n",
    "    testloader = DataLoader(\n",
    "        testset, batch_size=batch_size, shuffle=False, num_workers=2)\n",
    "    \n",
    "    # Create a validation set\n",
    "    val_size = 5000\n",
    "    train_size = len(trainset) - val_size\n",
    "    \n",
    "    train_subset, val_subset = torch.utils.data.random_split(\n",
    "        trainset, [train_size, val_size], \n",
    "        generator=torch.Generator().manual_seed(42))\n",
    "    \n",
    "    valloader = DataLoader(\n",
    "        val_subset, batch_size=batch_size, shuffle=False, num_workers=2)\n",
    "    \n",
    "    train_subset_loader = DataLoader(\n",
    "        train_subset, batch_size=batch_size, shuffle=True, num_workers=2)\n",
    "    \n",
    "    return train_subset_loader, valloader, testloader\n",
    "\n",
    "def train_model(model, train_loader, val_loader, epochs=30, lr=3e-4, weight_decay=1e-4, model_name='diff_vit'):\n",
    "    \"\"\"Train the Differential Vision Transformer model\"\"\"\n",
    "    device = torch.device(\"cuda\" if torch.cuda.is_available() else \"cpu\")\n",
    "    print(f\"Using device: {device}\")\n",
    "    \n",
    "    model = model.to(device)\n",
    "    criterion = nn.CrossEntropyLoss()\n",
    "    optimizer = optim.AdamW(model.parameters(), lr=lr, weight_decay=weight_decay)\n",
    "    scheduler = optim.lr_scheduler.CosineAnnealingLR(optimizer, T_max=epochs)\n",
    "    \n",
    "    # For tracking metrics\n",
    "    train_losses = []\n",
    "    train_accs = []\n",
    "    val_losses = []\n",
    "    val_accs = []\n",
    "    \n",
    "    # For saving the best model\n",
    "    best_val_acc = 0\n",
    "    best_model_path = f'best_{model_name}_model.pth'\n",
    "    \n",
    "    for epoch in range(epochs):\n",
    "        # Training\n",
    "        model.train()\n",
    "        train_loss = 0\n",
    "        correct = 0\n",
    "        total = 0\n",
    "        \n",
    "        pbar = tqdm(train_loader, desc=f'Epoch {epoch+1}/{epochs} [Train]')\n",
    "        for batch_idx, (inputs, targets) in enumerate(pbar):\n",
    "            inputs, targets = inputs.to(device), targets.to(device)\n",
    "            \n",
    "            optimizer.zero_grad()\n",
    "            outputs = model(inputs)\n",
    "            loss = criterion(outputs, targets)\n",
    "            loss.backward()\n",
    "            optimizer.step()\n",
    "            \n",
    "            train_loss += loss.item()\n",
    "            _, predicted = outputs.max(1)\n",
    "            total += targets.size(0)\n",
    "            correct += predicted.eq(targets).sum().item()\n",
    "            \n",
    "            pbar.set_postfix({\n",
    "                'loss': train_loss/(batch_idx+1), \n",
    "                'acc': 100.*correct/total\n",
    "            })\n",
    "        \n",
    "        train_loss = train_loss / len(train_loader)\n",
    "        train_acc = 100. * correct / total\n",
    "        \n",
    "        train_losses.append(train_loss)\n",
    "        train_accs.append(train_acc)\n",
    "        \n",
    "        # Validation\n",
    "        model.eval()\n",
    "        val_loss = 0\n",
    "        correct = 0\n",
    "        total = 0\n",
    "        \n",
    "        with torch.no_grad():\n",
    "            pbar = tqdm(val_loader, desc=f'Epoch {epoch+1}/{epochs} [Val]')\n",
    "            for batch_idx, (inputs, targets) in enumerate(pbar):\n",
    "                inputs, targets = inputs.to(device), targets.to(device)\n",
    "                \n",
    "                outputs = model(inputs)\n",
    "                loss = criterion(outputs, targets)\n",
    "                \n",
    "                val_loss += loss.item()\n",
    "                _, predicted = outputs.max(1)\n",
    "                total += targets.size(0)\n",
    "                correct += predicted.eq(targets).sum().item()\n",
    "                \n",
    "                pbar.set_postfix({\n",
    "                    'loss': val_loss/(batch_idx+1), \n",
    "                    'acc': 100.*correct/total\n",
    "                })\n",
    "        \n",
    "        val_loss = val_loss / len(val_loader)\n",
    "        val_acc = 100. * correct / total\n",
    "        \n",
    "        val_losses.append(val_loss)\n",
    "        val_accs.append(val_acc)\n",
    "        \n",
    "        # Print stats\n",
    "        print(f'Epoch {epoch+1}/{epochs}:')\n",
    "        print(f'Train Loss: {train_loss:.4f} | Train Acc: {train_acc:.2f}%')\n",
    "        print(f'Val Loss: {val_loss:.4f} | Val Acc: {val_acc:.2f}%')\n",
    "        \n",
    "        # Save the best model\n",
    "        if val_acc > best_val_acc:\n",
    "            print(f'Validation accuracy improved from {best_val_acc:.2f}% to {val_acc:.2f}%, saving model...')\n",
    "            best_val_acc = val_acc\n",
    "            torch.save(model.state_dict(), best_model_path)\n",
    "        \n",
    "        # Update learning rate\n",
    "        scheduler.step()\n",
    "    \n",
    "    print(f'Best validation accuracy: {best_val_acc:.2f}%')\n",
    "    return train_losses, train_accs, val_losses, val_accs\n",
    "\n",
    "def evaluate_model(model, test_loader):\n",
    "    \"\"\"Evaluate the trained model on the test set\"\"\"\n",
    "    device = torch.device(\"cuda\" if torch.cuda.is_available() else \"cpu\")\n",
    "    model = model.to(device)\n",
    "    model.eval()\n",
    "    \n",
    "    correct = 0\n",
    "    total = 0\n",
    "    \n",
    "    with torch.no_grad():\n",
    "        for inputs, targets in tqdm(test_loader, desc='Evaluating on test set'):\n",
    "            inputs, targets = inputs.to(device), targets.to(device)\n",
    "            \n",
    "            outputs = model(inputs)\n",
    "            _, predicted = outputs.max(1)\n",
    "            \n",
    "            total += targets.size(0)\n",
    "            correct += predicted.eq(targets).sum().item()\n",
    "    \n",
    "    test_acc = 100. * correct / total\n",
    "    print(f'Test accuracy: {test_acc:.2f}%')\n",
    "    return test_acc\n",
    "\n",
    "def plot_metrics(train_losses, val_losses, train_accs, val_accs, title_suffix=\"\", filename_prefix=\"diff_vit\"):\n",
    "    \"\"\"Plot training and validation metrics\"\"\"\n",
    "    plt.figure(figsize=(12, 5))\n",
    "    \n",
    "    # Plot losses\n",
    "    plt.subplot(1, 2, 1)\n",
    "    plt.plot(train_losses, label='Train Loss')\n",
    "    plt.plot(val_losses, label='Validation Loss')\n",
    "    plt.xlabel('Epoch')\n",
    "    plt.ylabel('Loss')\n",
    "    plt.title(f'Training and Validation Loss{title_suffix}')\n",
    "    plt.legend()\n",
    "    plt.grid(True)\n",
    "    \n",
    "    # Plot accuracies\n",
    "    plt.subplot(1, 2, 2)\n",
    "    plt.plot(train_accs, label='Train Accuracy')\n",
    "    plt.plot(val_accs, label='Validation Accuracy')\n",
    "    plt.xlabel('Epoch')\n",
    "    plt.ylabel('Accuracy (%)')\n",
    "    plt.title(f'Training and Validation Accuracy{title_suffix}')\n",
    "    plt.legend()\n",
    "    plt.grid(True)\n",
    "    \n",
    "    plt.tight_layout()\n",
    "    plt.savefig(f'{filename_prefix}_metrics.png')\n",
    "    plt.show()\n",
    "\n",
    "\n",
    "def evaluate_augmentation_strategies():\n",
    "    \"\"\"Evaluate different augmentation strategies and report results\"\"\"\n",
    "    augmentation_strategies = [\"autoaugment\", \"randaugment\", \"strongest\"]\n",
    "    \n",
    "    results = {}\n",
    "    \n",
    "    for strategy in augmentation_strategies:\n",
    "        print(f\"\\n\\n{'='*50}\")\n",
    "        print(f\"Testing augmentation strategy: {strategy}\")\n",
    "        print(f\"{'='*50}\\n\")\n",
    "        \n",
    "        # Get data loaders with the current strategy\n",
    "        train_loader, val_loader, test_loader = get_data_loaders(batch_size=128, augmentation_strategy=strategy)\n",
    "        \n",
    "        # Create model\n",
    "        model = DifferentialVisionTransformer(\n",
    "            image_size=32, patch_size=4, in_channels=3, num_classes=10,\n",
    "            d_model=192, num_heads=8, num_layers=8, dim_ff=768, dropout=0.1,\n",
    "            lambda_init=0.5\n",
    "        )\n",
    "        \n",
    "        # Train model\n",
    "        train_losses, train_accs, val_losses, val_accs = train_model(\n",
    "            model, train_loader, val_loader, epochs=50, lr=3e-4, weight_decay=1e-4,\n",
    "            model_name=f'diff_vit_{strategy}'\n",
    "        )\n",
    "        \n",
    "        # Load best model and evaluate\n",
    "        best_model = DifferentialVisionTransformer(\n",
    "            image_size=32, patch_size=4, in_channels=3, num_classes=10,\n",
    "            d_model=192, num_heads=8, num_layers=8, dim_ff=768, dropout=0.1,\n",
    "            lambda_init=0.5\n",
    "        )\n",
    "        best_model.load_state_dict(torch.load(f'best_diff_vit_{strategy}_model.pth'))\n",
    "        \n",
    "        test_acc = evaluate_model(best_model, test_loader)\n",
    "        results[strategy] = test_acc\n",
    "        \n",
    "        # Plot metrics\n",
    "        plot_metrics(\n",
    "            train_losses, val_losses, train_accs, val_accs,\n",
    "            title_suffix=f\" - {strategy}\", \n",
    "            filename_prefix=f\"diff_vit_{strategy}\"\n",
    "        )\n",
    "    \n",
    "    # Print and plot results summary\n",
    "    print(\"\\n\\nAugmentation Strategy Results Summary:\")\n",
    "    print(\"-\" * 50)\n",
    "    for strategy, acc in sorted(results.items(), key=lambda x: x[1], reverse=True):\n",
    "        print(f\"{strategy.ljust(15)}: {acc:.2f}%\")\n",
    "    \n",
    "    # Plot bar chart of results\n",
    "    plt.figure(figsize=(12, 6))\n",
    "    strategies = list(results.keys())\n",
    "    accuracies = [results[s] for s in strategies]\n",
    "    plt.bar(strategies, accuracies)\n",
    "    plt.xlabel('Augmentation Strategy')\n",
    "    plt.ylabel('Test Accuracy (%)')\n",
    "    plt.title('Effect of Different Augmentation Strategies on Test Accuracy')\n",
    "    plt.xticks(rotation=45)\n",
    "    plt.tight_layout()\n",
    "    plt.savefig('diff_vit_augmentation_comparison.png')\n",
    "    plt.show()"
   ]
  },
  {
   "cell_type": "code",
   "execution_count": 2,
   "id": "598dd37e",
   "metadata": {
    "execution": {
     "iopub.execute_input": "2025-04-20T11:42:27.389115Z",
     "iopub.status.busy": "2025-04-20T11:42:27.388806Z",
     "iopub.status.idle": "2025-04-20T13:50:50.004890Z",
     "shell.execute_reply": "2025-04-20T13:50:50.004099Z"
    },
    "papermill": {
     "duration": 7702.619956,
     "end_time": "2025-04-20T13:50:50.006445",
     "exception": false,
     "start_time": "2025-04-20T11:42:27.386489",
     "status": "completed"
    },
    "tags": []
   },
   "outputs": [
    {
     "name": "stdout",
     "output_type": "stream",
     "text": [
      "\n",
      "\n",
      "==================================================\n",
      "Testing augmentation strategy: autoaugment\n",
      "==================================================\n",
      "\n",
      "Downloading https://www.cs.toronto.edu/~kriz/cifar-10-python.tar.gz to ./data/cifar-10-python.tar.gz\n"
     ]
    },
    {
     "name": "stderr",
     "output_type": "stream",
     "text": [
      "100%|██████████| 170M/170M [00:04<00:00, 34.4MB/s]\n"
     ]
    },
    {
     "name": "stdout",
     "output_type": "stream",
     "text": [
      "Extracting ./data/cifar-10-python.tar.gz to ./data\n",
      "Files already downloaded and verified\n",
      "Using device: cuda\n"
     ]
    },
    {
     "name": "stderr",
     "output_type": "stream",
     "text": [
      "Epoch 1/50 [Train]: 100%|██████████| 352/352 [00:47<00:00,  7.42it/s, loss=1.97, acc=26.2]\n",
      "Epoch 1/50 [Val]: 100%|██████████| 40/40 [00:02<00:00, 16.99it/s, loss=1.77, acc=35.8]\n"
     ]
    },
    {
     "name": "stdout",
     "output_type": "stream",
     "text": [
      "Epoch 1/50:\n",
      "Train Loss: 1.9744 | Train Acc: 26.25%\n",
      "Val Loss: 1.7663 | Val Acc: 35.82%\n",
      "Validation accuracy improved from 0.00% to 35.82%, saving model...\n"
     ]
    },
    {
     "name": "stderr",
     "output_type": "stream",
     "text": [
      "Epoch 2/50 [Train]: 100%|██████████| 352/352 [00:46<00:00,  7.50it/s, loss=1.73, acc=36.5]\n",
      "Epoch 2/50 [Val]: 100%|██████████| 40/40 [00:02<00:00, 17.16it/s, loss=1.6, acc=41.4]\n"
     ]
    },
    {
     "name": "stdout",
     "output_type": "stream",
     "text": [
      "Epoch 2/50:\n",
      "Train Loss: 1.7329 | Train Acc: 36.52%\n",
      "Val Loss: 1.5984 | Val Acc: 41.38%\n",
      "Validation accuracy improved from 35.82% to 41.38%, saving model...\n"
     ]
    },
    {
     "name": "stderr",
     "output_type": "stream",
     "text": [
      "Epoch 3/50 [Train]: 100%|██████████| 352/352 [00:46<00:00,  7.49it/s, loss=1.61, acc=41.4]\n",
      "Epoch 3/50 [Val]: 100%|██████████| 40/40 [00:02<00:00, 16.71it/s, loss=1.56, acc=43.5]\n"
     ]
    },
    {
     "name": "stdout",
     "output_type": "stream",
     "text": [
      "Epoch 3/50:\n",
      "Train Loss: 1.6120 | Train Acc: 41.36%\n",
      "Val Loss: 1.5596 | Val Acc: 43.48%\n",
      "Validation accuracy improved from 41.38% to 43.48%, saving model...\n"
     ]
    },
    {
     "name": "stderr",
     "output_type": "stream",
     "text": [
      "Epoch 4/50 [Train]: 100%|██████████| 352/352 [00:47<00:00,  7.47it/s, loss=1.53, acc=44.6]\n",
      "Epoch 4/50 [Val]: 100%|██████████| 40/40 [00:02<00:00, 17.44it/s, loss=1.45, acc=47.8]\n"
     ]
    },
    {
     "name": "stdout",
     "output_type": "stream",
     "text": [
      "Epoch 4/50:\n",
      "Train Loss: 1.5291 | Train Acc: 44.62%\n",
      "Val Loss: 1.4495 | Val Acc: 47.76%\n",
      "Validation accuracy improved from 43.48% to 47.76%, saving model...\n"
     ]
    },
    {
     "name": "stderr",
     "output_type": "stream",
     "text": [
      "Epoch 5/50 [Train]: 100%|██████████| 352/352 [00:46<00:00,  7.54it/s, loss=1.47, acc=46.9]\n",
      "Epoch 5/50 [Val]: 100%|██████████| 40/40 [00:02<00:00, 17.40it/s, loss=1.42, acc=48.2]\n"
     ]
    },
    {
     "name": "stdout",
     "output_type": "stream",
     "text": [
      "Epoch 5/50:\n",
      "Train Loss: 1.4704 | Train Acc: 46.90%\n",
      "Val Loss: 1.4162 | Val Acc: 48.24%\n",
      "Validation accuracy improved from 47.76% to 48.24%, saving model...\n"
     ]
    },
    {
     "name": "stderr",
     "output_type": "stream",
     "text": [
      "Epoch 6/50 [Train]: 100%|██████████| 352/352 [00:46<00:00,  7.51it/s, loss=1.42, acc=48.7]\n",
      "Epoch 6/50 [Val]: 100%|██████████| 40/40 [00:02<00:00, 16.92it/s, loss=1.36, acc=50.1]\n"
     ]
    },
    {
     "name": "stdout",
     "output_type": "stream",
     "text": [
      "Epoch 6/50:\n",
      "Train Loss: 1.4163 | Train Acc: 48.69%\n",
      "Val Loss: 1.3632 | Val Acc: 50.10%\n",
      "Validation accuracy improved from 48.24% to 50.10%, saving model...\n"
     ]
    },
    {
     "name": "stderr",
     "output_type": "stream",
     "text": [
      "Epoch 7/50 [Train]: 100%|██████████| 352/352 [00:46<00:00,  7.50it/s, loss=1.38, acc=50]\n",
      "Epoch 7/50 [Val]: 100%|██████████| 40/40 [00:02<00:00, 16.12it/s, loss=1.31, acc=52]\n"
     ]
    },
    {
     "name": "stdout",
     "output_type": "stream",
     "text": [
      "Epoch 7/50:\n",
      "Train Loss: 1.3798 | Train Acc: 50.03%\n",
      "Val Loss: 1.3066 | Val Acc: 51.98%\n",
      "Validation accuracy improved from 50.10% to 51.98%, saving model...\n"
     ]
    },
    {
     "name": "stderr",
     "output_type": "stream",
     "text": [
      "Epoch 8/50 [Train]: 100%|██████████| 352/352 [00:46<00:00,  7.53it/s, loss=1.34, acc=51.9]\n",
      "Epoch 8/50 [Val]: 100%|██████████| 40/40 [00:02<00:00, 16.76it/s, loss=1.27, acc=54.3]\n"
     ]
    },
    {
     "name": "stdout",
     "output_type": "stream",
     "text": [
      "Epoch 8/50:\n",
      "Train Loss: 1.3359 | Train Acc: 51.94%\n",
      "Val Loss: 1.2748 | Val Acc: 54.26%\n",
      "Validation accuracy improved from 51.98% to 54.26%, saving model...\n"
     ]
    },
    {
     "name": "stderr",
     "output_type": "stream",
     "text": [
      "Epoch 9/50 [Train]: 100%|██████████| 352/352 [00:46<00:00,  7.52it/s, loss=1.31, acc=53.3]\n",
      "Epoch 9/50 [Val]: 100%|██████████| 40/40 [00:02<00:00, 16.28it/s, loss=1.27, acc=53.6]\n"
     ]
    },
    {
     "name": "stdout",
     "output_type": "stream",
     "text": [
      "Epoch 9/50:\n",
      "Train Loss: 1.3056 | Train Acc: 53.28%\n",
      "Val Loss: 1.2734 | Val Acc: 53.56%\n"
     ]
    },
    {
     "name": "stderr",
     "output_type": "stream",
     "text": [
      "Epoch 10/50 [Train]: 100%|██████████| 352/352 [00:46<00:00,  7.53it/s, loss=1.28, acc=54.1]\n",
      "Epoch 10/50 [Val]: 100%|██████████| 40/40 [00:02<00:00, 16.67it/s, loss=1.23, acc=56.3]\n"
     ]
    },
    {
     "name": "stdout",
     "output_type": "stream",
     "text": [
      "Epoch 10/50:\n",
      "Train Loss: 1.2807 | Train Acc: 54.07%\n",
      "Val Loss: 1.2318 | Val Acc: 56.26%\n",
      "Validation accuracy improved from 54.26% to 56.26%, saving model...\n"
     ]
    },
    {
     "name": "stderr",
     "output_type": "stream",
     "text": [
      "Epoch 11/50 [Train]: 100%|██████████| 352/352 [00:47<00:00,  7.47it/s, loss=1.25, acc=55.1]\n",
      "Epoch 11/50 [Val]: 100%|██████████| 40/40 [00:02<00:00, 17.06it/s, loss=1.24, acc=55.3]\n"
     ]
    },
    {
     "name": "stdout",
     "output_type": "stream",
     "text": [
      "Epoch 11/50:\n",
      "Train Loss: 1.2508 | Train Acc: 55.14%\n",
      "Val Loss: 1.2364 | Val Acc: 55.32%\n"
     ]
    },
    {
     "name": "stderr",
     "output_type": "stream",
     "text": [
      "Epoch 12/50 [Train]: 100%|██████████| 352/352 [00:46<00:00,  7.52it/s, loss=1.22, acc=56]\n",
      "Epoch 12/50 [Val]: 100%|██████████| 40/40 [00:02<00:00, 16.90it/s, loss=1.17, acc=57.7]\n"
     ]
    },
    {
     "name": "stdout",
     "output_type": "stream",
     "text": [
      "Epoch 12/50:\n",
      "Train Loss: 1.2225 | Train Acc: 56.01%\n",
      "Val Loss: 1.1717 | Val Acc: 57.74%\n",
      "Validation accuracy improved from 56.26% to 57.74%, saving model...\n"
     ]
    },
    {
     "name": "stderr",
     "output_type": "stream",
     "text": [
      "Epoch 13/50 [Train]: 100%|██████████| 352/352 [00:46<00:00,  7.49it/s, loss=1.19, acc=57.2]\n",
      "Epoch 13/50 [Val]: 100%|██████████| 40/40 [00:02<00:00, 17.00it/s, loss=1.15, acc=58.8]\n"
     ]
    },
    {
     "name": "stdout",
     "output_type": "stream",
     "text": [
      "Epoch 13/50:\n",
      "Train Loss: 1.1940 | Train Acc: 57.18%\n",
      "Val Loss: 1.1545 | Val Acc: 58.76%\n",
      "Validation accuracy improved from 57.74% to 58.76%, saving model...\n"
     ]
    },
    {
     "name": "stderr",
     "output_type": "stream",
     "text": [
      "Epoch 14/50 [Train]: 100%|██████████| 352/352 [00:46<00:00,  7.53it/s, loss=1.17, acc=58.2]\n",
      "Epoch 14/50 [Val]: 100%|██████████| 40/40 [00:02<00:00, 16.70it/s, loss=1.14, acc=59.1]\n"
     ]
    },
    {
     "name": "stdout",
     "output_type": "stream",
     "text": [
      "Epoch 14/50:\n",
      "Train Loss: 1.1709 | Train Acc: 58.20%\n",
      "Val Loss: 1.1403 | Val Acc: 59.10%\n",
      "Validation accuracy improved from 58.76% to 59.10%, saving model...\n"
     ]
    },
    {
     "name": "stderr",
     "output_type": "stream",
     "text": [
      "Epoch 15/50 [Train]: 100%|██████████| 352/352 [00:47<00:00,  7.48it/s, loss=1.15, acc=58.5]\n",
      "Epoch 15/50 [Val]: 100%|██████████| 40/40 [00:02<00:00, 16.94it/s, loss=1.1, acc=60.1]\n"
     ]
    },
    {
     "name": "stdout",
     "output_type": "stream",
     "text": [
      "Epoch 15/50:\n",
      "Train Loss: 1.1545 | Train Acc: 58.47%\n",
      "Val Loss: 1.1041 | Val Acc: 60.06%\n",
      "Validation accuracy improved from 59.10% to 60.06%, saving model...\n"
     ]
    },
    {
     "name": "stderr",
     "output_type": "stream",
     "text": [
      "Epoch 16/50 [Train]: 100%|██████████| 352/352 [00:46<00:00,  7.53it/s, loss=1.12, acc=60.2]\n",
      "Epoch 16/50 [Val]: 100%|██████████| 40/40 [00:02<00:00, 16.89it/s, loss=1.11, acc=60.8]\n"
     ]
    },
    {
     "name": "stdout",
     "output_type": "stream",
     "text": [
      "Epoch 16/50:\n",
      "Train Loss: 1.1166 | Train Acc: 60.19%\n",
      "Val Loss: 1.1092 | Val Acc: 60.78%\n",
      "Validation accuracy improved from 60.06% to 60.78%, saving model...\n"
     ]
    },
    {
     "name": "stderr",
     "output_type": "stream",
     "text": [
      "Epoch 17/50 [Train]: 100%|██████████| 352/352 [00:46<00:00,  7.50it/s, loss=1.1, acc=60.9]\n",
      "Epoch 17/50 [Val]: 100%|██████████| 40/40 [00:02<00:00, 17.35it/s, loss=1.07, acc=61.6]\n"
     ]
    },
    {
     "name": "stdout",
     "output_type": "stream",
     "text": [
      "Epoch 17/50:\n",
      "Train Loss: 1.0979 | Train Acc: 60.87%\n",
      "Val Loss: 1.0740 | Val Acc: 61.56%\n",
      "Validation accuracy improved from 60.78% to 61.56%, saving model...\n"
     ]
    },
    {
     "name": "stderr",
     "output_type": "stream",
     "text": [
      "Epoch 18/50 [Train]: 100%|██████████| 352/352 [00:47<00:00,  7.49it/s, loss=1.08, acc=61.5]\n",
      "Epoch 18/50 [Val]: 100%|██████████| 40/40 [00:02<00:00, 16.16it/s, loss=1.05, acc=62.8]\n"
     ]
    },
    {
     "name": "stdout",
     "output_type": "stream",
     "text": [
      "Epoch 18/50:\n",
      "Train Loss: 1.0766 | Train Acc: 61.46%\n",
      "Val Loss: 1.0492 | Val Acc: 62.80%\n",
      "Validation accuracy improved from 61.56% to 62.80%, saving model...\n"
     ]
    },
    {
     "name": "stderr",
     "output_type": "stream",
     "text": [
      "Epoch 19/50 [Train]: 100%|██████████| 352/352 [00:46<00:00,  7.54it/s, loss=1.06, acc=62.2]\n",
      "Epoch 19/50 [Val]: 100%|██████████| 40/40 [00:02<00:00, 16.26it/s, loss=1.04, acc=62.9]\n"
     ]
    },
    {
     "name": "stdout",
     "output_type": "stream",
     "text": [
      "Epoch 19/50:\n",
      "Train Loss: 1.0579 | Train Acc: 62.22%\n",
      "Val Loss: 1.0351 | Val Acc: 62.94%\n",
      "Validation accuracy improved from 62.80% to 62.94%, saving model...\n"
     ]
    },
    {
     "name": "stderr",
     "output_type": "stream",
     "text": [
      "Epoch 20/50 [Train]: 100%|██████████| 352/352 [00:46<00:00,  7.52it/s, loss=1.04, acc=62.8]\n",
      "Epoch 20/50 [Val]: 100%|██████████| 40/40 [00:02<00:00, 17.33it/s, loss=1.04, acc=62.1]\n"
     ]
    },
    {
     "name": "stdout",
     "output_type": "stream",
     "text": [
      "Epoch 20/50:\n",
      "Train Loss: 1.0403 | Train Acc: 62.80%\n",
      "Val Loss: 1.0441 | Val Acc: 62.10%\n"
     ]
    },
    {
     "name": "stderr",
     "output_type": "stream",
     "text": [
      "Epoch 21/50 [Train]: 100%|██████████| 352/352 [00:46<00:00,  7.49it/s, loss=1.03, acc=63.6]\n",
      "Epoch 21/50 [Val]: 100%|██████████| 40/40 [00:02<00:00, 16.81it/s, loss=1.01, acc=64.1]\n"
     ]
    },
    {
     "name": "stdout",
     "output_type": "stream",
     "text": [
      "Epoch 21/50:\n",
      "Train Loss: 1.0269 | Train Acc: 63.60%\n",
      "Val Loss: 1.0095 | Val Acc: 64.08%\n",
      "Validation accuracy improved from 62.94% to 64.08%, saving model...\n"
     ]
    },
    {
     "name": "stderr",
     "output_type": "stream",
     "text": [
      "Epoch 22/50 [Train]: 100%|██████████| 352/352 [00:47<00:00,  7.48it/s, loss=1.01, acc=64.1]\n",
      "Epoch 22/50 [Val]: 100%|██████████| 40/40 [00:02<00:00, 17.13it/s, loss=0.976, acc=65.6]\n"
     ]
    },
    {
     "name": "stdout",
     "output_type": "stream",
     "text": [
      "Epoch 22/50:\n",
      "Train Loss: 1.0123 | Train Acc: 64.12%\n",
      "Val Loss: 0.9759 | Val Acc: 65.56%\n",
      "Validation accuracy improved from 64.08% to 65.56%, saving model...\n"
     ]
    },
    {
     "name": "stderr",
     "output_type": "stream",
     "text": [
      "Epoch 23/50 [Train]: 100%|██████████| 352/352 [00:46<00:00,  7.54it/s, loss=0.983, acc=65.1]\n",
      "Epoch 23/50 [Val]: 100%|██████████| 40/40 [00:02<00:00, 17.00it/s, loss=1.01, acc=64.7]\n"
     ]
    },
    {
     "name": "stdout",
     "output_type": "stream",
     "text": [
      "Epoch 23/50:\n",
      "Train Loss: 0.9833 | Train Acc: 65.07%\n",
      "Val Loss: 1.0091 | Val Acc: 64.70%\n"
     ]
    },
    {
     "name": "stderr",
     "output_type": "stream",
     "text": [
      "Epoch 24/50 [Train]: 100%|██████████| 352/352 [00:46<00:00,  7.55it/s, loss=0.97, acc=65.4]\n",
      "Epoch 24/50 [Val]: 100%|██████████| 40/40 [00:02<00:00, 16.44it/s, loss=0.973, acc=65.7]\n"
     ]
    },
    {
     "name": "stdout",
     "output_type": "stream",
     "text": [
      "Epoch 24/50:\n",
      "Train Loss: 0.9701 | Train Acc: 65.36%\n",
      "Val Loss: 0.9729 | Val Acc: 65.74%\n",
      "Validation accuracy improved from 65.56% to 65.74%, saving model...\n"
     ]
    },
    {
     "name": "stderr",
     "output_type": "stream",
     "text": [
      "Epoch 25/50 [Train]: 100%|██████████| 352/352 [00:46<00:00,  7.51it/s, loss=0.957, acc=66.1]\n",
      "Epoch 25/50 [Val]: 100%|██████████| 40/40 [00:02<00:00, 17.11it/s, loss=0.972, acc=65.8]\n"
     ]
    },
    {
     "name": "stdout",
     "output_type": "stream",
     "text": [
      "Epoch 25/50:\n",
      "Train Loss: 0.9570 | Train Acc: 66.14%\n",
      "Val Loss: 0.9724 | Val Acc: 65.78%\n",
      "Validation accuracy improved from 65.74% to 65.78%, saving model...\n"
     ]
    },
    {
     "name": "stderr",
     "output_type": "stream",
     "text": [
      "Epoch 26/50 [Train]: 100%|██████████| 352/352 [00:46<00:00,  7.55it/s, loss=0.931, acc=66.9]\n",
      "Epoch 26/50 [Val]: 100%|██████████| 40/40 [00:02<00:00, 17.30it/s, loss=0.928, acc=66.8]\n"
     ]
    },
    {
     "name": "stdout",
     "output_type": "stream",
     "text": [
      "Epoch 26/50:\n",
      "Train Loss: 0.9312 | Train Acc: 66.90%\n",
      "Val Loss: 0.9281 | Val Acc: 66.82%\n",
      "Validation accuracy improved from 65.78% to 66.82%, saving model...\n"
     ]
    },
    {
     "name": "stderr",
     "output_type": "stream",
     "text": [
      "Epoch 27/50 [Train]: 100%|██████████| 352/352 [00:46<00:00,  7.54it/s, loss=0.923, acc=67.1]\n",
      "Epoch 27/50 [Val]: 100%|██████████| 40/40 [00:02<00:00, 15.73it/s, loss=0.9, acc=68.3]\n"
     ]
    },
    {
     "name": "stdout",
     "output_type": "stream",
     "text": [
      "Epoch 27/50:\n",
      "Train Loss: 0.9229 | Train Acc: 67.14%\n",
      "Val Loss: 0.8996 | Val Acc: 68.28%\n",
      "Validation accuracy improved from 66.82% to 68.28%, saving model...\n"
     ]
    },
    {
     "name": "stderr",
     "output_type": "stream",
     "text": [
      "Epoch 28/50 [Train]: 100%|██████████| 352/352 [00:46<00:00,  7.50it/s, loss=0.912, acc=67.6]\n",
      "Epoch 28/50 [Val]: 100%|██████████| 40/40 [00:02<00:00, 17.39it/s, loss=0.91, acc=67.7]\n"
     ]
    },
    {
     "name": "stdout",
     "output_type": "stream",
     "text": [
      "Epoch 28/50:\n",
      "Train Loss: 0.9120 | Train Acc: 67.64%\n",
      "Val Loss: 0.9100 | Val Acc: 67.66%\n"
     ]
    },
    {
     "name": "stderr",
     "output_type": "stream",
     "text": [
      "Epoch 29/50 [Train]: 100%|██████████| 352/352 [00:46<00:00,  7.53it/s, loss=0.892, acc=68.2]\n",
      "Epoch 29/50 [Val]: 100%|██████████| 40/40 [00:02<00:00, 16.95it/s, loss=0.891, acc=68.4]\n"
     ]
    },
    {
     "name": "stdout",
     "output_type": "stream",
     "text": [
      "Epoch 29/50:\n",
      "Train Loss: 0.8920 | Train Acc: 68.20%\n",
      "Val Loss: 0.8914 | Val Acc: 68.40%\n",
      "Validation accuracy improved from 68.28% to 68.40%, saving model...\n"
     ]
    },
    {
     "name": "stderr",
     "output_type": "stream",
     "text": [
      "Epoch 30/50 [Train]: 100%|██████████| 352/352 [00:46<00:00,  7.49it/s, loss=0.88, acc=68.6]\n",
      "Epoch 30/50 [Val]: 100%|██████████| 40/40 [00:02<00:00, 17.39it/s, loss=0.895, acc=68.3]\n"
     ]
    },
    {
     "name": "stdout",
     "output_type": "stream",
     "text": [
      "Epoch 30/50:\n",
      "Train Loss: 0.8800 | Train Acc: 68.62%\n",
      "Val Loss: 0.8949 | Val Acc: 68.32%\n"
     ]
    },
    {
     "name": "stderr",
     "output_type": "stream",
     "text": [
      "Epoch 31/50 [Train]: 100%|██████████| 352/352 [00:46<00:00,  7.54it/s, loss=0.87, acc=69.3]\n",
      "Epoch 31/50 [Val]: 100%|██████████| 40/40 [00:02<00:00, 15.26it/s, loss=0.911, acc=68.1]\n"
     ]
    },
    {
     "name": "stdout",
     "output_type": "stream",
     "text": [
      "Epoch 31/50:\n",
      "Train Loss: 0.8695 | Train Acc: 69.32%\n",
      "Val Loss: 0.9110 | Val Acc: 68.08%\n"
     ]
    },
    {
     "name": "stderr",
     "output_type": "stream",
     "text": [
      "Epoch 32/50 [Train]: 100%|██████████| 352/352 [00:46<00:00,  7.52it/s, loss=0.86, acc=69.3]\n",
      "Epoch 32/50 [Val]: 100%|██████████| 40/40 [00:02<00:00, 17.00it/s, loss=0.912, acc=69.5]\n"
     ]
    },
    {
     "name": "stdout",
     "output_type": "stream",
     "text": [
      "Epoch 32/50:\n",
      "Train Loss: 0.8601 | Train Acc: 69.34%\n",
      "Val Loss: 0.9120 | Val Acc: 69.48%\n",
      "Validation accuracy improved from 68.40% to 69.48%, saving model...\n"
     ]
    },
    {
     "name": "stderr",
     "output_type": "stream",
     "text": [
      "Epoch 33/50 [Train]: 100%|██████████| 352/352 [00:46<00:00,  7.49it/s, loss=0.845, acc=70]\n",
      "Epoch 33/50 [Val]: 100%|██████████| 40/40 [00:02<00:00, 17.55it/s, loss=0.88, acc=69.3]\n"
     ]
    },
    {
     "name": "stdout",
     "output_type": "stream",
     "text": [
      "Epoch 33/50:\n",
      "Train Loss: 0.8453 | Train Acc: 70.01%\n",
      "Val Loss: 0.8800 | Val Acc: 69.28%\n"
     ]
    },
    {
     "name": "stderr",
     "output_type": "stream",
     "text": [
      "Epoch 34/50 [Train]: 100%|██████████| 352/352 [00:46<00:00,  7.54it/s, loss=0.837, acc=70.3]\n",
      "Epoch 34/50 [Val]: 100%|██████████| 40/40 [00:02<00:00, 16.08it/s, loss=0.871, acc=69.6]\n"
     ]
    },
    {
     "name": "stdout",
     "output_type": "stream",
     "text": [
      "Epoch 34/50:\n",
      "Train Loss: 0.8373 | Train Acc: 70.28%\n",
      "Val Loss: 0.8714 | Val Acc: 69.56%\n",
      "Validation accuracy improved from 69.48% to 69.56%, saving model...\n"
     ]
    },
    {
     "name": "stderr",
     "output_type": "stream",
     "text": [
      "Epoch 35/50 [Train]: 100%|██████████| 352/352 [00:46<00:00,  7.51it/s, loss=0.825, acc=70.8]\n",
      "Epoch 35/50 [Val]: 100%|██████████| 40/40 [00:02<00:00, 16.79it/s, loss=0.843, acc=70.3]\n"
     ]
    },
    {
     "name": "stdout",
     "output_type": "stream",
     "text": [
      "Epoch 35/50:\n",
      "Train Loss: 0.8254 | Train Acc: 70.82%\n",
      "Val Loss: 0.8428 | Val Acc: 70.30%\n",
      "Validation accuracy improved from 69.56% to 70.30%, saving model...\n"
     ]
    },
    {
     "name": "stderr",
     "output_type": "stream",
     "text": [
      "Epoch 36/50 [Train]: 100%|██████████| 352/352 [00:46<00:00,  7.50it/s, loss=0.8, acc=71.6]\n",
      "Epoch 36/50 [Val]: 100%|██████████| 40/40 [00:02<00:00, 14.93it/s, loss=0.851, acc=70.8]\n"
     ]
    },
    {
     "name": "stdout",
     "output_type": "stream",
     "text": [
      "Epoch 36/50:\n",
      "Train Loss: 0.8003 | Train Acc: 71.58%\n",
      "Val Loss: 0.8505 | Val Acc: 70.82%\n",
      "Validation accuracy improved from 70.30% to 70.82%, saving model...\n"
     ]
    },
    {
     "name": "stderr",
     "output_type": "stream",
     "text": [
      "Epoch 37/50 [Train]: 100%|██████████| 352/352 [00:46<00:00,  7.50it/s, loss=0.808, acc=71.3]\n",
      "Epoch 37/50 [Val]: 100%|██████████| 40/40 [00:02<00:00, 16.96it/s, loss=0.833, acc=70.7]\n"
     ]
    },
    {
     "name": "stdout",
     "output_type": "stream",
     "text": [
      "Epoch 37/50:\n",
      "Train Loss: 0.8081 | Train Acc: 71.34%\n",
      "Val Loss: 0.8331 | Val Acc: 70.66%\n"
     ]
    },
    {
     "name": "stderr",
     "output_type": "stream",
     "text": [
      "Epoch 38/50 [Train]: 100%|██████████| 352/352 [00:46<00:00,  7.57it/s, loss=0.795, acc=71.6]\n",
      "Epoch 38/50 [Val]: 100%|██████████| 40/40 [00:02<00:00, 16.23it/s, loss=0.822, acc=71]\n"
     ]
    },
    {
     "name": "stdout",
     "output_type": "stream",
     "text": [
      "Epoch 38/50:\n",
      "Train Loss: 0.7950 | Train Acc: 71.61%\n",
      "Val Loss: 0.8217 | Val Acc: 71.04%\n",
      "Validation accuracy improved from 70.82% to 71.04%, saving model...\n"
     ]
    },
    {
     "name": "stderr",
     "output_type": "stream",
     "text": [
      "Epoch 39/50 [Train]: 100%|██████████| 352/352 [00:46<00:00,  7.49it/s, loss=0.787, acc=71.9]\n",
      "Epoch 39/50 [Val]: 100%|██████████| 40/40 [00:02<00:00, 17.25it/s, loss=0.84, acc=71.2]\n"
     ]
    },
    {
     "name": "stdout",
     "output_type": "stream",
     "text": [
      "Epoch 39/50:\n",
      "Train Loss: 0.7872 | Train Acc: 71.90%\n",
      "Val Loss: 0.8402 | Val Acc: 71.24%\n",
      "Validation accuracy improved from 71.04% to 71.24%, saving model...\n"
     ]
    },
    {
     "name": "stderr",
     "output_type": "stream",
     "text": [
      "Epoch 40/50 [Train]: 100%|██████████| 352/352 [00:46<00:00,  7.51it/s, loss=0.779, acc=72.5]\n",
      "Epoch 40/50 [Val]: 100%|██████████| 40/40 [00:02<00:00, 17.00it/s, loss=0.831, acc=71.1]\n"
     ]
    },
    {
     "name": "stdout",
     "output_type": "stream",
     "text": [
      "Epoch 40/50:\n",
      "Train Loss: 0.7793 | Train Acc: 72.54%\n",
      "Val Loss: 0.8307 | Val Acc: 71.14%\n"
     ]
    },
    {
     "name": "stderr",
     "output_type": "stream",
     "text": [
      "Epoch 41/50 [Train]: 100%|██████████| 352/352 [00:46<00:00,  7.56it/s, loss=0.772, acc=72.6]\n",
      "Epoch 41/50 [Val]: 100%|██████████| 40/40 [00:02<00:00, 17.82it/s, loss=0.812, acc=71.3]\n"
     ]
    },
    {
     "name": "stdout",
     "output_type": "stream",
     "text": [
      "Epoch 41/50:\n",
      "Train Loss: 0.7721 | Train Acc: 72.64%\n",
      "Val Loss: 0.8119 | Val Acc: 71.34%\n",
      "Validation accuracy improved from 71.24% to 71.34%, saving model...\n"
     ]
    },
    {
     "name": "stderr",
     "output_type": "stream",
     "text": [
      "Epoch 42/50 [Train]: 100%|██████████| 352/352 [00:47<00:00,  7.48it/s, loss=0.764, acc=73]\n",
      "Epoch 42/50 [Val]: 100%|██████████| 40/40 [00:02<00:00, 16.97it/s, loss=0.817, acc=71.7]\n"
     ]
    },
    {
     "name": "stdout",
     "output_type": "stream",
     "text": [
      "Epoch 42/50:\n",
      "Train Loss: 0.7637 | Train Acc: 72.97%\n",
      "Val Loss: 0.8172 | Val Acc: 71.70%\n",
      "Validation accuracy improved from 71.34% to 71.70%, saving model...\n"
     ]
    },
    {
     "name": "stderr",
     "output_type": "stream",
     "text": [
      "Epoch 43/50 [Train]: 100%|██████████| 352/352 [00:46<00:00,  7.54it/s, loss=0.756, acc=73.2]\n",
      "Epoch 43/50 [Val]: 100%|██████████| 40/40 [00:02<00:00, 17.15it/s, loss=0.818, acc=71.9]\n"
     ]
    },
    {
     "name": "stdout",
     "output_type": "stream",
     "text": [
      "Epoch 43/50:\n",
      "Train Loss: 0.7560 | Train Acc: 73.17%\n",
      "Val Loss: 0.8179 | Val Acc: 71.94%\n",
      "Validation accuracy improved from 71.70% to 71.94%, saving model...\n"
     ]
    },
    {
     "name": "stderr",
     "output_type": "stream",
     "text": [
      "Epoch 44/50 [Train]: 100%|██████████| 352/352 [00:46<00:00,  7.50it/s, loss=0.758, acc=73.2]\n",
      "Epoch 44/50 [Val]: 100%|██████████| 40/40 [00:02<00:00, 16.94it/s, loss=0.797, acc=71.5]\n"
     ]
    },
    {
     "name": "stdout",
     "output_type": "stream",
     "text": [
      "Epoch 44/50:\n",
      "Train Loss: 0.7577 | Train Acc: 73.17%\n",
      "Val Loss: 0.7970 | Val Acc: 71.52%\n"
     ]
    },
    {
     "name": "stderr",
     "output_type": "stream",
     "text": [
      "Epoch 45/50 [Train]: 100%|██████████| 352/352 [00:46<00:00,  7.55it/s, loss=0.755, acc=73.1]\n",
      "Epoch 45/50 [Val]: 100%|██████████| 40/40 [00:02<00:00, 15.86it/s, loss=0.789, acc=72.1]\n"
     ]
    },
    {
     "name": "stdout",
     "output_type": "stream",
     "text": [
      "Epoch 45/50:\n",
      "Train Loss: 0.7549 | Train Acc: 73.13%\n",
      "Val Loss: 0.7893 | Val Acc: 72.10%\n",
      "Validation accuracy improved from 71.94% to 72.10%, saving model...\n"
     ]
    },
    {
     "name": "stderr",
     "output_type": "stream",
     "text": [
      "Epoch 46/50 [Train]: 100%|██████████| 352/352 [00:46<00:00,  7.49it/s, loss=0.756, acc=73.3]\n",
      "Epoch 46/50 [Val]: 100%|██████████| 40/40 [00:02<00:00, 17.00it/s, loss=0.811, acc=71.1]\n"
     ]
    },
    {
     "name": "stdout",
     "output_type": "stream",
     "text": [
      "Epoch 46/50:\n",
      "Train Loss: 0.7556 | Train Acc: 73.33%\n",
      "Val Loss: 0.8106 | Val Acc: 71.06%\n"
     ]
    },
    {
     "name": "stderr",
     "output_type": "stream",
     "text": [
      "Epoch 47/50 [Train]: 100%|██████████| 352/352 [00:46<00:00,  7.54it/s, loss=0.746, acc=73.6]\n",
      "Epoch 47/50 [Val]: 100%|██████████| 40/40 [00:02<00:00, 17.47it/s, loss=0.813, acc=71.5]\n"
     ]
    },
    {
     "name": "stdout",
     "output_type": "stream",
     "text": [
      "Epoch 47/50:\n",
      "Train Loss: 0.7456 | Train Acc: 73.57%\n",
      "Val Loss: 0.8128 | Val Acc: 71.54%\n"
     ]
    },
    {
     "name": "stderr",
     "output_type": "stream",
     "text": [
      "Epoch 48/50 [Train]: 100%|██████████| 352/352 [00:46<00:00,  7.53it/s, loss=0.745, acc=73.8]\n",
      "Epoch 48/50 [Val]: 100%|██████████| 40/40 [00:02<00:00, 17.05it/s, loss=0.78, acc=72.5]\n"
     ]
    },
    {
     "name": "stdout",
     "output_type": "stream",
     "text": [
      "Epoch 48/50:\n",
      "Train Loss: 0.7454 | Train Acc: 73.83%\n",
      "Val Loss: 0.7796 | Val Acc: 72.50%\n",
      "Validation accuracy improved from 72.10% to 72.50%, saving model...\n"
     ]
    },
    {
     "name": "stderr",
     "output_type": "stream",
     "text": [
      "Epoch 49/50 [Train]: 100%|██████████| 352/352 [00:46<00:00,  7.51it/s, loss=0.751, acc=73.4]\n",
      "Epoch 49/50 [Val]: 100%|██████████| 40/40 [00:02<00:00, 16.63it/s, loss=0.79, acc=73]\n"
     ]
    },
    {
     "name": "stdout",
     "output_type": "stream",
     "text": [
      "Epoch 49/50:\n",
      "Train Loss: 0.7507 | Train Acc: 73.45%\n",
      "Val Loss: 0.7895 | Val Acc: 72.98%\n",
      "Validation accuracy improved from 72.50% to 72.98%, saving model...\n"
     ]
    },
    {
     "name": "stderr",
     "output_type": "stream",
     "text": [
      "Epoch 50/50 [Train]: 100%|██████████| 352/352 [00:47<00:00,  7.45it/s, loss=0.749, acc=73.5]\n",
      "Epoch 50/50 [Val]: 100%|██████████| 40/40 [00:02<00:00, 16.85it/s, loss=0.802, acc=72.6]\n",
      "/tmp/ipykernel_19/3219560618.py:535: FutureWarning: You are using `torch.load` with `weights_only=False` (the current default value), which uses the default pickle module implicitly. It is possible to construct malicious pickle data which will execute arbitrary code during unpickling (See https://github.com/pytorch/pytorch/blob/main/SECURITY.md#untrusted-models for more details). In a future release, the default value for `weights_only` will be flipped to `True`. This limits the functions that could be executed during unpickling. Arbitrary objects will no longer be allowed to be loaded via this mode unless they are explicitly allowlisted by the user via `torch.serialization.add_safe_globals`. We recommend you start setting `weights_only=True` for any use case where you don't have full control of the loaded file. Please open an issue on GitHub for any issues related to this experimental feature.\n",
      "  best_model.load_state_dict(torch.load(f'best_diff_vit_{strategy}_model.pth'))\n"
     ]
    },
    {
     "name": "stdout",
     "output_type": "stream",
     "text": [
      "Epoch 50/50:\n",
      "Train Loss: 0.7486 | Train Acc: 73.55%\n",
      "Val Loss: 0.8025 | Val Acc: 72.58%\n",
      "Best validation accuracy: 72.98%\n"
     ]
    },
    {
     "name": "stderr",
     "output_type": "stream",
     "text": [
      "Evaluating on test set: 100%|██████████| 79/79 [00:03<00:00, 25.87it/s]\n"
     ]
    },
    {
     "name": "stdout",
     "output_type": "stream",
     "text": [
      "Test accuracy: 79.69%\n"
     ]
    },
    {
     "data": {
      "image/png": "[encoded data removed]",
      "text/plain": [
       "<Figure size 1200x500 with 2 Axes>"
      ]
     },
     "metadata": {},
     "output_type": "display_data"
    },
    {
     "name": "stdout",
     "output_type": "stream",
     "text": [
      "\n",
      "\n",
      "==================================================\n",
      "Testing augmentation strategy: randaugment\n",
      "==================================================\n",
      "\n",
      "Files already downloaded and verified\n",
      "Files already downloaded and verified\n",
      "Using device: cuda\n"
     ]
    },
    {
     "name": "stderr",
     "output_type": "stream",
     "text": [
      "Epoch 1/50 [Train]: 100%|██████████| 352/352 [00:47<00:00,  7.49it/s, loss=1.91, acc=28.5]\n",
      "Epoch 1/50 [Val]: 100%|██████████| 40/40 [00:02<00:00, 16.71it/s, loss=1.75, acc=34.5]\n"
     ]
    },
    {
     "name": "stdout",
     "output_type": "stream",
     "text": [
      "Epoch 1/50:\n",
      "Train Loss: 1.9059 | Train Acc: 28.54%\n",
      "Val Loss: 1.7459 | Val Acc: 34.46%\n",
      "Validation accuracy improved from 0.00% to 34.46%, saving model...\n"
     ]
    },
    {
     "name": "stderr",
     "output_type": "stream",
     "text": [
      "Epoch 2/50 [Train]: 100%|██████████| 352/352 [00:47<00:00,  7.48it/s, loss=1.65, acc=39.9]\n",
      "Epoch 2/50 [Val]: 100%|██████████| 40/40 [00:02<00:00, 16.43it/s, loss=1.57, acc=41.6]\n"
     ]
    },
    {
     "name": "stdout",
     "output_type": "stream",
     "text": [
      "Epoch 2/50:\n",
      "Train Loss: 1.6478 | Train Acc: 39.86%\n",
      "Val Loss: 1.5723 | Val Acc: 41.56%\n",
      "Validation accuracy improved from 34.46% to 41.56%, saving model...\n"
     ]
    },
    {
     "name": "stderr",
     "output_type": "stream",
     "text": [
      "Epoch 3/50 [Train]: 100%|██████████| 352/352 [00:46<00:00,  7.51it/s, loss=1.53, acc=44.1]\n",
      "Epoch 3/50 [Val]: 100%|██████████| 40/40 [00:02<00:00, 16.71it/s, loss=1.43, acc=48.6]\n"
     ]
    },
    {
     "name": "stdout",
     "output_type": "stream",
     "text": [
      "Epoch 3/50:\n",
      "Train Loss: 1.5309 | Train Acc: 44.10%\n",
      "Val Loss: 1.4289 | Val Acc: 48.56%\n",
      "Validation accuracy improved from 41.56% to 48.56%, saving model...\n"
     ]
    },
    {
     "name": "stderr",
     "output_type": "stream",
     "text": [
      "Epoch 4/50 [Train]: 100%|██████████| 352/352 [00:46<00:00,  7.54it/s, loss=1.44, acc=47.8]\n",
      "Epoch 4/50 [Val]: 100%|██████████| 40/40 [00:02<00:00, 16.89it/s, loss=1.38, acc=49.9]\n"
     ]
    },
    {
     "name": "stdout",
     "output_type": "stream",
     "text": [
      "Epoch 4/50:\n",
      "Train Loss: 1.4371 | Train Acc: 47.81%\n",
      "Val Loss: 1.3784 | Val Acc: 49.90%\n",
      "Validation accuracy improved from 48.56% to 49.90%, saving model...\n"
     ]
    },
    {
     "name": "stderr",
     "output_type": "stream",
     "text": [
      "Epoch 5/50 [Train]: 100%|██████████| 352/352 [00:46<00:00,  7.52it/s, loss=1.37, acc=50.5]\n",
      "Epoch 5/50 [Val]: 100%|██████████| 40/40 [00:02<00:00, 16.81it/s, loss=1.29, acc=52.6]\n"
     ]
    },
    {
     "name": "stdout",
     "output_type": "stream",
     "text": [
      "Epoch 5/50:\n",
      "Train Loss: 1.3736 | Train Acc: 50.48%\n",
      "Val Loss: 1.2940 | Val Acc: 52.64%\n",
      "Validation accuracy improved from 49.90% to 52.64%, saving model...\n"
     ]
    },
    {
     "name": "stderr",
     "output_type": "stream",
     "text": [
      "Epoch 6/50 [Train]: 100%|██████████| 352/352 [00:47<00:00,  7.47it/s, loss=1.31, acc=52.8]\n",
      "Epoch 6/50 [Val]: 100%|██████████| 40/40 [00:02<00:00, 16.49it/s, loss=1.28, acc=54.1]\n"
     ]
    },
    {
     "name": "stdout",
     "output_type": "stream",
     "text": [
      "Epoch 6/50:\n",
      "Train Loss: 1.3118 | Train Acc: 52.78%\n",
      "Val Loss: 1.2757 | Val Acc: 54.08%\n",
      "Validation accuracy improved from 52.64% to 54.08%, saving model...\n"
     ]
    },
    {
     "name": "stderr",
     "output_type": "stream",
     "text": [
      "Epoch 7/50 [Train]: 100%|██████████| 352/352 [00:46<00:00,  7.50it/s, loss=1.27, acc=54.4]\n",
      "Epoch 7/50 [Val]: 100%|██████████| 40/40 [00:02<00:00, 16.10it/s, loss=1.25, acc=55]\n"
     ]
    },
    {
     "name": "stdout",
     "output_type": "stream",
     "text": [
      "Epoch 7/50:\n",
      "Train Loss: 1.2658 | Train Acc: 54.44%\n",
      "Val Loss: 1.2480 | Val Acc: 55.02%\n",
      "Validation accuracy improved from 54.08% to 55.02%, saving model...\n"
     ]
    },
    {
     "name": "stderr",
     "output_type": "stream",
     "text": [
      "Epoch 8/50 [Train]: 100%|██████████| 352/352 [00:46<00:00,  7.54it/s, loss=1.23, acc=55.8]\n",
      "Epoch 8/50 [Val]: 100%|██████████| 40/40 [00:02<00:00, 16.26it/s, loss=1.18, acc=56.6]\n"
     ]
    },
    {
     "name": "stdout",
     "output_type": "stream",
     "text": [
      "Epoch 8/50:\n",
      "Train Loss: 1.2284 | Train Acc: 55.81%\n",
      "Val Loss: 1.1831 | Val Acc: 56.56%\n",
      "Validation accuracy improved from 55.02% to 56.56%, saving model...\n"
     ]
    },
    {
     "name": "stderr",
     "output_type": "stream",
     "text": [
      "Epoch 9/50 [Train]: 100%|██████████| 352/352 [00:47<00:00,  7.47it/s, loss=1.19, acc=57.4]\n",
      "Epoch 9/50 [Val]: 100%|██████████| 40/40 [00:02<00:00, 16.01it/s, loss=1.15, acc=58.8]\n"
     ]
    },
    {
     "name": "stdout",
     "output_type": "stream",
     "text": [
      "Epoch 9/50:\n",
      "Train Loss: 1.1907 | Train Acc: 57.38%\n",
      "Val Loss: 1.1518 | Val Acc: 58.82%\n",
      "Validation accuracy improved from 56.56% to 58.82%, saving model...\n"
     ]
    },
    {
     "name": "stderr",
     "output_type": "stream",
     "text": [
      "Epoch 10/50 [Train]: 100%|██████████| 352/352 [00:46<00:00,  7.57it/s, loss=1.16, acc=58.5]\n",
      "Epoch 10/50 [Val]: 100%|██████████| 40/40 [00:02<00:00, 16.85it/s, loss=1.09, acc=60.4]\n"
     ]
    },
    {
     "name": "stdout",
     "output_type": "stream",
     "text": [
      "Epoch 10/50:\n",
      "Train Loss: 1.1617 | Train Acc: 58.50%\n",
      "Val Loss: 1.0933 | Val Acc: 60.36%\n",
      "Validation accuracy improved from 58.82% to 60.36%, saving model...\n"
     ]
    },
    {
     "name": "stderr",
     "output_type": "stream",
     "text": [
      "Epoch 11/50 [Train]: 100%|██████████| 352/352 [00:47<00:00,  7.47it/s, loss=1.13, acc=59.6]\n",
      "Epoch 11/50 [Val]: 100%|██████████| 40/40 [00:02<00:00, 16.60it/s, loss=1.09, acc=60.7]\n"
     ]
    },
    {
     "name": "stdout",
     "output_type": "stream",
     "text": [
      "Epoch 11/50:\n",
      "Train Loss: 1.1265 | Train Acc: 59.58%\n",
      "Val Loss: 1.0947 | Val Acc: 60.66%\n",
      "Validation accuracy improved from 60.36% to 60.66%, saving model...\n"
     ]
    },
    {
     "name": "stderr",
     "output_type": "stream",
     "text": [
      "Epoch 12/50 [Train]: 100%|██████████| 352/352 [00:46<00:00,  7.54it/s, loss=1.09, acc=61.1]\n",
      "Epoch 12/50 [Val]: 100%|██████████| 40/40 [00:02<00:00, 15.64it/s, loss=1.08, acc=60.8]\n"
     ]
    },
    {
     "name": "stdout",
     "output_type": "stream",
     "text": [
      "Epoch 12/50:\n",
      "Train Loss: 1.0896 | Train Acc: 61.13%\n",
      "Val Loss: 1.0811 | Val Acc: 60.82%\n",
      "Validation accuracy improved from 60.66% to 60.82%, saving model...\n"
     ]
    },
    {
     "name": "stderr",
     "output_type": "stream",
     "text": [
      "Epoch 13/50 [Train]: 100%|██████████| 352/352 [00:47<00:00,  7.41it/s, loss=1.06, acc=62.1]\n",
      "Epoch 13/50 [Val]: 100%|██████████| 40/40 [00:02<00:00, 16.90it/s, loss=1.04, acc=62.1]\n"
     ]
    },
    {
     "name": "stdout",
     "output_type": "stream",
     "text": [
      "Epoch 13/50:\n",
      "Train Loss: 1.0597 | Train Acc: 62.06%\n",
      "Val Loss: 1.0394 | Val Acc: 62.14%\n",
      "Validation accuracy improved from 60.82% to 62.14%, saving model...\n"
     ]
    },
    {
     "name": "stderr",
     "output_type": "stream",
     "text": [
      "Epoch 14/50 [Train]: 100%|██████████| 352/352 [00:46<00:00,  7.54it/s, loss=1.04, acc=63]\n",
      "Epoch 14/50 [Val]: 100%|██████████| 40/40 [00:02<00:00, 14.90it/s, loss=1.03, acc=62.6]\n"
     ]
    },
    {
     "name": "stdout",
     "output_type": "stream",
     "text": [
      "Epoch 14/50:\n",
      "Train Loss: 1.0384 | Train Acc: 63.01%\n",
      "Val Loss: 1.0320 | Val Acc: 62.58%\n",
      "Validation accuracy improved from 62.14% to 62.58%, saving model...\n"
     ]
    },
    {
     "name": "stderr",
     "output_type": "stream",
     "text": [
      "Epoch 15/50 [Train]: 100%|██████████| 352/352 [00:47<00:00,  7.49it/s, loss=1.01, acc=64.1]\n",
      "Epoch 15/50 [Val]: 100%|██████████| 40/40 [00:02<00:00, 16.59it/s, loss=1.01, acc=64.2]\n"
     ]
    },
    {
     "name": "stdout",
     "output_type": "stream",
     "text": [
      "Epoch 15/50:\n",
      "Train Loss: 1.0094 | Train Acc: 64.14%\n",
      "Val Loss: 1.0147 | Val Acc: 64.20%\n",
      "Validation accuracy improved from 62.58% to 64.20%, saving model...\n"
     ]
    },
    {
     "name": "stderr",
     "output_type": "stream",
     "text": [
      "Epoch 16/50 [Train]: 100%|██████████| 352/352 [00:46<00:00,  7.52it/s, loss=0.987, acc=64.8]\n",
      "Epoch 16/50 [Val]: 100%|██████████| 40/40 [00:02<00:00, 14.32it/s, loss=0.968, acc=65.6]\n"
     ]
    },
    {
     "name": "stdout",
     "output_type": "stream",
     "text": [
      "Epoch 16/50:\n",
      "Train Loss: 0.9873 | Train Acc: 64.76%\n",
      "Val Loss: 0.9677 | Val Acc: 65.64%\n",
      "Validation accuracy improved from 64.20% to 65.64%, saving model...\n"
     ]
    },
    {
     "name": "stderr",
     "output_type": "stream",
     "text": [
      "Epoch 17/50 [Train]: 100%|██████████| 352/352 [00:47<00:00,  7.45it/s, loss=0.969, acc=65.4]\n",
      "Epoch 17/50 [Val]: 100%|██████████| 40/40 [00:02<00:00, 16.61it/s, loss=0.948, acc=66.4]\n"
     ]
    },
    {
     "name": "stdout",
     "output_type": "stream",
     "text": [
      "Epoch 17/50:\n",
      "Train Loss: 0.9686 | Train Acc: 65.45%\n",
      "Val Loss: 0.9479 | Val Acc: 66.42%\n",
      "Validation accuracy improved from 65.64% to 66.42%, saving model...\n"
     ]
    },
    {
     "name": "stderr",
     "output_type": "stream",
     "text": [
      "Epoch 18/50 [Train]: 100%|██████████| 352/352 [00:46<00:00,  7.51it/s, loss=0.937, acc=66.6]\n",
      "Epoch 18/50 [Val]: 100%|██████████| 40/40 [00:02<00:00, 15.72it/s, loss=0.933, acc=67.2]\n"
     ]
    },
    {
     "name": "stdout",
     "output_type": "stream",
     "text": [
      "Epoch 18/50:\n",
      "Train Loss: 0.9373 | Train Acc: 66.63%\n",
      "Val Loss: 0.9335 | Val Acc: 67.18%\n",
      "Validation accuracy improved from 66.42% to 67.18%, saving model...\n"
     ]
    },
    {
     "name": "stderr",
     "output_type": "stream",
     "text": [
      "Epoch 19/50 [Train]: 100%|██████████| 352/352 [00:46<00:00,  7.49it/s, loss=0.921, acc=67.2]\n",
      "Epoch 19/50 [Val]: 100%|██████████| 40/40 [00:02<00:00, 17.08it/s, loss=0.926, acc=67.3]\n"
     ]
    },
    {
     "name": "stdout",
     "output_type": "stream",
     "text": [
      "Epoch 19/50:\n",
      "Train Loss: 0.9212 | Train Acc: 67.22%\n",
      "Val Loss: 0.9258 | Val Acc: 67.34%\n",
      "Validation accuracy improved from 67.18% to 67.34%, saving model...\n"
     ]
    },
    {
     "name": "stderr",
     "output_type": "stream",
     "text": [
      "Epoch 20/50 [Train]: 100%|██████████| 352/352 [00:47<00:00,  7.46it/s, loss=0.897, acc=68.2]\n",
      "Epoch 20/50 [Val]: 100%|██████████| 40/40 [00:02<00:00, 16.06it/s, loss=0.941, acc=66.7]\n"
     ]
    },
    {
     "name": "stdout",
     "output_type": "stream",
     "text": [
      "Epoch 20/50:\n",
      "Train Loss: 0.8971 | Train Acc: 68.16%\n",
      "Val Loss: 0.9407 | Val Acc: 66.74%\n"
     ]
    },
    {
     "name": "stderr",
     "output_type": "stream",
     "text": [
      "Epoch 21/50 [Train]: 100%|██████████| 352/352 [00:46<00:00,  7.50it/s, loss=0.883, acc=68.4]\n",
      "Epoch 21/50 [Val]: 100%|██████████| 40/40 [00:02<00:00, 17.01it/s, loss=0.93, acc=67.5]\n"
     ]
    },
    {
     "name": "stdout",
     "output_type": "stream",
     "text": [
      "Epoch 21/50:\n",
      "Train Loss: 0.8831 | Train Acc: 68.41%\n",
      "Val Loss: 0.9304 | Val Acc: 67.48%\n",
      "Validation accuracy improved from 67.34% to 67.48%, saving model...\n"
     ]
    },
    {
     "name": "stderr",
     "output_type": "stream",
     "text": [
      "Epoch 22/50 [Train]: 100%|██████████| 352/352 [00:46<00:00,  7.50it/s, loss=0.868, acc=69.1]\n",
      "Epoch 22/50 [Val]: 100%|██████████| 40/40 [00:02<00:00, 15.51it/s, loss=0.895, acc=68.7]\n"
     ]
    },
    {
     "name": "stdout",
     "output_type": "stream",
     "text": [
      "Epoch 22/50:\n",
      "Train Loss: 0.8678 | Train Acc: 69.13%\n",
      "Val Loss: 0.8952 | Val Acc: 68.66%\n",
      "Validation accuracy improved from 67.48% to 68.66%, saving model...\n"
     ]
    },
    {
     "name": "stderr",
     "output_type": "stream",
     "text": [
      "Epoch 23/50 [Train]: 100%|██████████| 352/352 [00:47<00:00,  7.44it/s, loss=0.85, acc=70]\n",
      "Epoch 23/50 [Val]: 100%|██████████| 40/40 [00:02<00:00, 16.24it/s, loss=0.876, acc=68.5]\n"
     ]
    },
    {
     "name": "stdout",
     "output_type": "stream",
     "text": [
      "Epoch 23/50:\n",
      "Train Loss: 0.8496 | Train Acc: 69.95%\n",
      "Val Loss: 0.8760 | Val Acc: 68.50%\n"
     ]
    },
    {
     "name": "stderr",
     "output_type": "stream",
     "text": [
      "Epoch 24/50 [Train]: 100%|██████████| 352/352 [00:47<00:00,  7.49it/s, loss=0.827, acc=70.7]\n",
      "Epoch 24/50 [Val]: 100%|██████████| 40/40 [00:02<00:00, 15.89it/s, loss=0.842, acc=70.2]\n"
     ]
    },
    {
     "name": "stdout",
     "output_type": "stream",
     "text": [
      "Epoch 24/50:\n",
      "Train Loss: 0.8271 | Train Acc: 70.69%\n",
      "Val Loss: 0.8422 | Val Acc: 70.16%\n",
      "Validation accuracy improved from 68.66% to 70.16%, saving model...\n"
     ]
    },
    {
     "name": "stderr",
     "output_type": "stream",
     "text": [
      "Epoch 25/50 [Train]: 100%|██████████| 352/352 [00:47<00:00,  7.47it/s, loss=0.815, acc=71.2]\n",
      "Epoch 25/50 [Val]: 100%|██████████| 40/40 [00:02<00:00, 15.28it/s, loss=0.833, acc=71.5]\n"
     ]
    },
    {
     "name": "stdout",
     "output_type": "stream",
     "text": [
      "Epoch 25/50:\n",
      "Train Loss: 0.8147 | Train Acc: 71.23%\n",
      "Val Loss: 0.8334 | Val Acc: 71.46%\n",
      "Validation accuracy improved from 70.16% to 71.46%, saving model...\n"
     ]
    },
    {
     "name": "stderr",
     "output_type": "stream",
     "text": [
      "Epoch 26/50 [Train]: 100%|██████████| 352/352 [00:46<00:00,  7.54it/s, loss=0.796, acc=72]\n",
      "Epoch 26/50 [Val]: 100%|██████████| 40/40 [00:02<00:00, 17.26it/s, loss=0.835, acc=70.8]\n"
     ]
    },
    {
     "name": "stdout",
     "output_type": "stream",
     "text": [
      "Epoch 26/50:\n",
      "Train Loss: 0.7964 | Train Acc: 72.03%\n",
      "Val Loss: 0.8352 | Val Acc: 70.78%\n"
     ]
    },
    {
     "name": "stderr",
     "output_type": "stream",
     "text": [
      "Epoch 27/50 [Train]: 100%|██████████| 352/352 [00:47<00:00,  7.41it/s, loss=0.778, acc=72.3]\n",
      "Epoch 27/50 [Val]: 100%|██████████| 40/40 [00:02<00:00, 17.06it/s, loss=0.826, acc=71.9]\n"
     ]
    },
    {
     "name": "stdout",
     "output_type": "stream",
     "text": [
      "Epoch 27/50:\n",
      "Train Loss: 0.7784 | Train Acc: 72.29%\n",
      "Val Loss: 0.8265 | Val Acc: 71.86%\n",
      "Validation accuracy improved from 71.46% to 71.86%, saving model...\n"
     ]
    },
    {
     "name": "stderr",
     "output_type": "stream",
     "text": [
      "Epoch 28/50 [Train]: 100%|██████████| 352/352 [00:46<00:00,  7.54it/s, loss=0.764, acc=72.8]\n",
      "Epoch 28/50 [Val]: 100%|██████████| 40/40 [00:02<00:00, 16.15it/s, loss=0.826, acc=71]\n"
     ]
    },
    {
     "name": "stdout",
     "output_type": "stream",
     "text": [
      "Epoch 28/50:\n",
      "Train Loss: 0.7637 | Train Acc: 72.76%\n",
      "Val Loss: 0.8264 | Val Acc: 71.00%\n"
     ]
    },
    {
     "name": "stderr",
     "output_type": "stream",
     "text": [
      "Epoch 29/50 [Train]: 100%|██████████| 352/352 [00:47<00:00,  7.42it/s, loss=0.748, acc=73.3]\n",
      "Epoch 29/50 [Val]: 100%|██████████| 40/40 [00:02<00:00, 16.70it/s, loss=0.824, acc=72]\n"
     ]
    },
    {
     "name": "stdout",
     "output_type": "stream",
     "text": [
      "Epoch 29/50:\n",
      "Train Loss: 0.7484 | Train Acc: 73.32%\n",
      "Val Loss: 0.8244 | Val Acc: 72.04%\n",
      "Validation accuracy improved from 71.86% to 72.04%, saving model...\n"
     ]
    },
    {
     "name": "stderr",
     "output_type": "stream",
     "text": [
      "Epoch 30/50 [Train]: 100%|██████████| 352/352 [00:46<00:00,  7.54it/s, loss=0.733, acc=73.9]\n",
      "Epoch 30/50 [Val]: 100%|██████████| 40/40 [00:02<00:00, 16.44it/s, loss=0.795, acc=72.3]\n"
     ]
    },
    {
     "name": "stdout",
     "output_type": "stream",
     "text": [
      "Epoch 30/50:\n",
      "Train Loss: 0.7327 | Train Acc: 73.95%\n",
      "Val Loss: 0.7950 | Val Acc: 72.34%\n",
      "Validation accuracy improved from 72.04% to 72.34%, saving model...\n"
     ]
    },
    {
     "name": "stderr",
     "output_type": "stream",
     "text": [
      "Epoch 31/50 [Train]: 100%|██████████| 352/352 [00:47<00:00,  7.44it/s, loss=0.724, acc=74.3]\n",
      "Epoch 31/50 [Val]: 100%|██████████| 40/40 [00:02<00:00, 16.41it/s, loss=0.762, acc=73.8]\n"
     ]
    },
    {
     "name": "stdout",
     "output_type": "stream",
     "text": [
      "Epoch 31/50:\n",
      "Train Loss: 0.7239 | Train Acc: 74.30%\n",
      "Val Loss: 0.7622 | Val Acc: 73.78%\n",
      "Validation accuracy improved from 72.34% to 73.78%, saving model...\n"
     ]
    },
    {
     "name": "stderr",
     "output_type": "stream",
     "text": [
      "Epoch 32/50 [Train]: 100%|██████████| 352/352 [00:46<00:00,  7.49it/s, loss=0.702, acc=75.1]\n",
      "Epoch 32/50 [Val]: 100%|██████████| 40/40 [00:02<00:00, 16.40it/s, loss=0.775, acc=72.1]\n"
     ]
    },
    {
     "name": "stdout",
     "output_type": "stream",
     "text": [
      "Epoch 32/50:\n",
      "Train Loss: 0.7018 | Train Acc: 75.10%\n",
      "Val Loss: 0.7753 | Val Acc: 72.12%\n"
     ]
    },
    {
     "name": "stderr",
     "output_type": "stream",
     "text": [
      "Epoch 33/50 [Train]: 100%|██████████| 352/352 [00:47<00:00,  7.44it/s, loss=0.692, acc=75.6]\n",
      "Epoch 33/50 [Val]: 100%|██████████| 40/40 [00:02<00:00, 16.29it/s, loss=0.788, acc=72.1]\n"
     ]
    },
    {
     "name": "stdout",
     "output_type": "stream",
     "text": [
      "Epoch 33/50:\n",
      "Train Loss: 0.6917 | Train Acc: 75.56%\n",
      "Val Loss: 0.7881 | Val Acc: 72.08%\n"
     ]
    },
    {
     "name": "stderr",
     "output_type": "stream",
     "text": [
      "Epoch 34/50 [Train]: 100%|██████████| 352/352 [00:46<00:00,  7.52it/s, loss=0.683, acc=75.8]\n",
      "Epoch 34/50 [Val]: 100%|██████████| 40/40 [00:02<00:00, 16.05it/s, loss=0.756, acc=74]\n"
     ]
    },
    {
     "name": "stdout",
     "output_type": "stream",
     "text": [
      "Epoch 34/50:\n",
      "Train Loss: 0.6828 | Train Acc: 75.83%\n",
      "Val Loss: 0.7559 | Val Acc: 74.04%\n",
      "Validation accuracy improved from 73.78% to 74.04%, saving model...\n"
     ]
    },
    {
     "name": "stderr",
     "output_type": "stream",
     "text": [
      "Epoch 35/50 [Train]: 100%|██████████| 352/352 [00:47<00:00,  7.38it/s, loss=0.677, acc=76]\n",
      "Epoch 35/50 [Val]: 100%|██████████| 40/40 [00:02<00:00, 16.50it/s, loss=0.765, acc=73.3]\n"
     ]
    },
    {
     "name": "stdout",
     "output_type": "stream",
     "text": [
      "Epoch 35/50:\n",
      "Train Loss: 0.6775 | Train Acc: 75.95%\n",
      "Val Loss: 0.7652 | Val Acc: 73.32%\n"
     ]
    },
    {
     "name": "stderr",
     "output_type": "stream",
     "text": [
      "Epoch 36/50 [Train]: 100%|██████████| 352/352 [00:46<00:00,  7.50it/s, loss=0.667, acc=76.5]\n",
      "Epoch 36/50 [Val]: 100%|██████████| 40/40 [00:02<00:00, 16.34it/s, loss=0.727, acc=74.6]\n"
     ]
    },
    {
     "name": "stdout",
     "output_type": "stream",
     "text": [
      "Epoch 36/50:\n",
      "Train Loss: 0.6670 | Train Acc: 76.47%\n",
      "Val Loss: 0.7266 | Val Acc: 74.64%\n",
      "Validation accuracy improved from 74.04% to 74.64%, saving model...\n"
     ]
    },
    {
     "name": "stderr",
     "output_type": "stream",
     "text": [
      "Epoch 37/50 [Train]: 100%|██████████| 352/352 [00:47<00:00,  7.45it/s, loss=0.656, acc=76.7]\n",
      "Epoch 37/50 [Val]: 100%|██████████| 40/40 [00:02<00:00, 16.68it/s, loss=0.737, acc=74.8]\n"
     ]
    },
    {
     "name": "stdout",
     "output_type": "stream",
     "text": [
      "Epoch 37/50:\n",
      "Train Loss: 0.6562 | Train Acc: 76.65%\n",
      "Val Loss: 0.7372 | Val Acc: 74.80%\n",
      "Validation accuracy improved from 74.64% to 74.80%, saving model...\n"
     ]
    },
    {
     "name": "stderr",
     "output_type": "stream",
     "text": [
      "Epoch 38/50 [Train]: 100%|██████████| 352/352 [00:47<00:00,  7.45it/s, loss=0.645, acc=77.1]\n",
      "Epoch 38/50 [Val]: 100%|██████████| 40/40 [00:02<00:00, 17.23it/s, loss=0.753, acc=74.6]\n"
     ]
    },
    {
     "name": "stdout",
     "output_type": "stream",
     "text": [
      "Epoch 38/50:\n",
      "Train Loss: 0.6447 | Train Acc: 77.14%\n",
      "Val Loss: 0.7527 | Val Acc: 74.60%\n"
     ]
    },
    {
     "name": "stderr",
     "output_type": "stream",
     "text": [
      "Epoch 39/50 [Train]: 100%|██████████| 352/352 [00:47<00:00,  7.46it/s, loss=0.632, acc=77.6]\n",
      "Epoch 39/50 [Val]: 100%|██████████| 40/40 [00:02<00:00, 16.54it/s, loss=0.719, acc=75]\n"
     ]
    },
    {
     "name": "stdout",
     "output_type": "stream",
     "text": [
      "Epoch 39/50:\n",
      "Train Loss: 0.6325 | Train Acc: 77.62%\n",
      "Val Loss: 0.7194 | Val Acc: 75.02%\n",
      "Validation accuracy improved from 74.80% to 75.02%, saving model...\n"
     ]
    },
    {
     "name": "stderr",
     "output_type": "stream",
     "text": [
      "Epoch 40/50 [Train]: 100%|██████████| 352/352 [00:46<00:00,  7.53it/s, loss=0.63, acc=77.7]\n",
      "Epoch 40/50 [Val]: 100%|██████████| 40/40 [00:02<00:00, 17.08it/s, loss=0.717, acc=75.7]\n"
     ]
    },
    {
     "name": "stdout",
     "output_type": "stream",
     "text": [
      "Epoch 40/50:\n",
      "Train Loss: 0.6300 | Train Acc: 77.73%\n",
      "Val Loss: 0.7166 | Val Acc: 75.72%\n",
      "Validation accuracy improved from 75.02% to 75.72%, saving model...\n"
     ]
    },
    {
     "name": "stderr",
     "output_type": "stream",
     "text": [
      "Epoch 41/50 [Train]: 100%|██████████| 352/352 [00:46<00:00,  7.51it/s, loss=0.624, acc=78]\n",
      "Epoch 41/50 [Val]: 100%|██████████| 40/40 [00:03<00:00, 11.97it/s, loss=0.726, acc=75.4]\n"
     ]
    },
    {
     "name": "stdout",
     "output_type": "stream",
     "text": [
      "Epoch 41/50:\n",
      "Train Loss: 0.6237 | Train Acc: 77.96%\n",
      "Val Loss: 0.7256 | Val Acc: 75.36%\n"
     ]
    },
    {
     "name": "stderr",
     "output_type": "stream",
     "text": [
      "Epoch 42/50 [Train]: 100%|██████████| 352/352 [00:47<00:00,  7.44it/s, loss=0.61, acc=78.2]\n",
      "Epoch 42/50 [Val]: 100%|██████████| 40/40 [00:02<00:00, 16.76it/s, loss=0.712, acc=75.6]\n"
     ]
    },
    {
     "name": "stdout",
     "output_type": "stream",
     "text": [
      "Epoch 42/50:\n",
      "Train Loss: 0.6104 | Train Acc: 78.22%\n",
      "Val Loss: 0.7117 | Val Acc: 75.62%\n"
     ]
    },
    {
     "name": "stderr",
     "output_type": "stream",
     "text": [
      "Epoch 43/50 [Train]: 100%|██████████| 352/352 [00:46<00:00,  7.49it/s, loss=0.609, acc=78.3]\n",
      "Epoch 43/50 [Val]: 100%|██████████| 40/40 [00:02<00:00, 16.52it/s, loss=0.723, acc=75.3]\n"
     ]
    },
    {
     "name": "stdout",
     "output_type": "stream",
     "text": [
      "Epoch 43/50:\n",
      "Train Loss: 0.6088 | Train Acc: 78.33%\n",
      "Val Loss: 0.7231 | Val Acc: 75.26%\n"
     ]
    },
    {
     "name": "stderr",
     "output_type": "stream",
     "text": [
      "Epoch 44/50 [Train]: 100%|██████████| 352/352 [00:47<00:00,  7.44it/s, loss=0.606, acc=78.4]\n",
      "Epoch 44/50 [Val]: 100%|██████████| 40/40 [00:02<00:00, 16.66it/s, loss=0.699, acc=76.2]\n"
     ]
    },
    {
     "name": "stdout",
     "output_type": "stream",
     "text": [
      "Epoch 44/50:\n",
      "Train Loss: 0.6058 | Train Acc: 78.44%\n",
      "Val Loss: 0.6994 | Val Acc: 76.22%\n",
      "Validation accuracy improved from 75.72% to 76.22%, saving model...\n"
     ]
    },
    {
     "name": "stderr",
     "output_type": "stream",
     "text": [
      "Epoch 45/50 [Train]: 100%|██████████| 352/352 [00:46<00:00,  7.51it/s, loss=0.605, acc=78.6]\n",
      "Epoch 45/50 [Val]: 100%|██████████| 40/40 [00:02<00:00, 15.50it/s, loss=0.727, acc=75]\n"
     ]
    },
    {
     "name": "stdout",
     "output_type": "stream",
     "text": [
      "Epoch 45/50:\n",
      "Train Loss: 0.6051 | Train Acc: 78.62%\n",
      "Val Loss: 0.7266 | Val Acc: 74.98%\n"
     ]
    },
    {
     "name": "stderr",
     "output_type": "stream",
     "text": [
      "Epoch 46/50 [Train]: 100%|██████████| 352/352 [00:47<00:00,  7.40it/s, loss=0.594, acc=79]\n",
      "Epoch 46/50 [Val]: 100%|██████████| 40/40 [00:02<00:00, 16.67it/s, loss=0.707, acc=75.4]\n"
     ]
    },
    {
     "name": "stdout",
     "output_type": "stream",
     "text": [
      "Epoch 46/50:\n",
      "Train Loss: 0.5941 | Train Acc: 78.98%\n",
      "Val Loss: 0.7074 | Val Acc: 75.36%\n"
     ]
    },
    {
     "name": "stderr",
     "output_type": "stream",
     "text": [
      "Epoch 47/50 [Train]: 100%|██████████| 352/352 [00:47<00:00,  7.45it/s, loss=0.596, acc=78.9]\n",
      "Epoch 47/50 [Val]: 100%|██████████| 40/40 [00:02<00:00, 16.85it/s, loss=0.73, acc=75.1]\n"
     ]
    },
    {
     "name": "stdout",
     "output_type": "stream",
     "text": [
      "Epoch 47/50:\n",
      "Train Loss: 0.5958 | Train Acc: 78.91%\n",
      "Val Loss: 0.7297 | Val Acc: 75.12%\n"
     ]
    },
    {
     "name": "stderr",
     "output_type": "stream",
     "text": [
      "Epoch 48/50 [Train]: 100%|██████████| 352/352 [00:47<00:00,  7.39it/s, loss=0.597, acc=78.9]\n",
      "Epoch 48/50 [Val]: 100%|██████████| 40/40 [00:02<00:00, 15.18it/s, loss=0.72, acc=75.5]\n"
     ]
    },
    {
     "name": "stdout",
     "output_type": "stream",
     "text": [
      "Epoch 48/50:\n",
      "Train Loss: 0.5973 | Train Acc: 78.88%\n",
      "Val Loss: 0.7197 | Val Acc: 75.48%\n"
     ]
    },
    {
     "name": "stderr",
     "output_type": "stream",
     "text": [
      "Epoch 49/50 [Train]: 100%|██████████| 352/352 [00:47<00:00,  7.48it/s, loss=0.595, acc=78.9]\n",
      "Epoch 49/50 [Val]: 100%|██████████| 40/40 [00:02<00:00, 16.60it/s, loss=0.71, acc=76.2]\n"
     ]
    },
    {
     "name": "stdout",
     "output_type": "stream",
     "text": [
      "Epoch 49/50:\n",
      "Train Loss: 0.5950 | Train Acc: 78.91%\n",
      "Val Loss: 0.7102 | Val Acc: 76.20%\n"
     ]
    },
    {
     "name": "stderr",
     "output_type": "stream",
     "text": [
      "Epoch 50/50 [Train]: 100%|██████████| 352/352 [00:47<00:00,  7.46it/s, loss=0.595, acc=78.8]\n",
      "Epoch 50/50 [Val]: 100%|██████████| 40/40 [00:02<00:00, 16.64it/s, loss=0.737, acc=75.1]\n"
     ]
    },
    {
     "name": "stdout",
     "output_type": "stream",
     "text": [
      "Epoch 50/50:\n",
      "Train Loss: 0.5952 | Train Acc: 78.83%\n",
      "Val Loss: 0.7368 | Val Acc: 75.12%\n",
      "Best validation accuracy: 76.22%\n"
     ]
    },
    {
     "name": "stderr",
     "output_type": "stream",
     "text": [
      "Evaluating on test set: 100%|██████████| 79/79 [00:03<00:00, 25.90it/s]\n"
     ]
    },
    {
     "name": "stdout",
     "output_type": "stream",
     "text": [
      "Test accuracy: 80.75%\n"
     ]
    },
    {
     "data": {
      "image/png": "[encoded data removed]",
      "text/plain": [
       "<Figure size 1200x500 with 2 Axes>"
      ]
     },
     "metadata": {},
     "output_type": "display_data"
    },
    {
     "name": "stdout",
     "output_type": "stream",
     "text": [
      "\n",
      "\n",
      "==================================================\n",
      "Testing augmentation strategy: strongest\n",
      "==================================================\n",
      "\n",
      "Files already downloaded and verified\n",
      "Files already downloaded and verified\n",
      "Using device: cuda\n"
     ]
    },
    {
     "name": "stderr",
     "output_type": "stream",
     "text": [
      "Epoch 1/50 [Train]: 100%|██████████| 352/352 [00:50<00:00,  6.96it/s, loss=2.01, acc=24.2]\n",
      "Epoch 1/50 [Val]: 100%|██████████| 40/40 [00:04<00:00,  9.45it/s, loss=1.95, acc=28]\n"
     ]
    },
    {
     "name": "stdout",
     "output_type": "stream",
     "text": [
      "Epoch 1/50:\n",
      "Train Loss: 2.0118 | Train Acc: 24.21%\n",
      "Val Loss: 1.9475 | Val Acc: 28.00%\n",
      "Validation accuracy improved from 0.00% to 28.00%, saving model...\n"
     ]
    },
    {
     "name": "stderr",
     "output_type": "stream",
     "text": [
      "Epoch 2/50 [Train]: 100%|██████████| 352/352 [00:51<00:00,  6.87it/s, loss=1.83, acc=32.4]\n",
      "Epoch 2/50 [Val]: 100%|██████████| 40/40 [00:03<00:00, 10.42it/s, loss=1.74, acc=36.7]\n"
     ]
    },
    {
     "name": "stdout",
     "output_type": "stream",
     "text": [
      "Epoch 2/50:\n",
      "Train Loss: 1.8255 | Train Acc: 32.39%\n",
      "Val Loss: 1.7380 | Val Acc: 36.70%\n",
      "Validation accuracy improved from 28.00% to 36.70%, saving model...\n"
     ]
    },
    {
     "name": "stderr",
     "output_type": "stream",
     "text": [
      "Epoch 3/50 [Train]: 100%|██████████| 352/352 [00:51<00:00,  6.89it/s, loss=1.72, acc=37.2]\n",
      "Epoch 3/50 [Val]: 100%|██████████| 40/40 [00:03<00:00, 10.17it/s, loss=1.68, acc=38.4]\n"
     ]
    },
    {
     "name": "stdout",
     "output_type": "stream",
     "text": [
      "Epoch 3/50:\n",
      "Train Loss: 1.7179 | Train Acc: 37.22%\n",
      "Val Loss: 1.6834 | Val Acc: 38.42%\n",
      "Validation accuracy improved from 36.70% to 38.42%, saving model...\n"
     ]
    },
    {
     "name": "stderr",
     "output_type": "stream",
     "text": [
      "Epoch 4/50 [Train]: 100%|██████████| 352/352 [00:51<00:00,  6.87it/s, loss=1.64, acc=40.2]\n",
      "Epoch 4/50 [Val]: 100%|██████████| 40/40 [00:03<00:00, 10.33it/s, loss=1.6, acc=42.3]\n"
     ]
    },
    {
     "name": "stdout",
     "output_type": "stream",
     "text": [
      "Epoch 4/50:\n",
      "Train Loss: 1.6399 | Train Acc: 40.24%\n",
      "Val Loss: 1.6001 | Val Acc: 42.34%\n",
      "Validation accuracy improved from 38.42% to 42.34%, saving model...\n"
     ]
    },
    {
     "name": "stderr",
     "output_type": "stream",
     "text": [
      "Epoch 5/50 [Train]: 100%|██████████| 352/352 [00:50<00:00,  7.03it/s, loss=1.59, acc=42.1]\n",
      "Epoch 5/50 [Val]: 100%|██████████| 40/40 [00:04<00:00,  9.08it/s, loss=1.53, acc=44.5]\n"
     ]
    },
    {
     "name": "stdout",
     "output_type": "stream",
     "text": [
      "Epoch 5/50:\n",
      "Train Loss: 1.5915 | Train Acc: 42.11%\n",
      "Val Loss: 1.5314 | Val Acc: 44.54%\n",
      "Validation accuracy improved from 42.34% to 44.54%, saving model...\n"
     ]
    },
    {
     "name": "stderr",
     "output_type": "stream",
     "text": [
      "Epoch 6/50 [Train]: 100%|██████████| 352/352 [00:51<00:00,  6.84it/s, loss=1.54, acc=44.4]\n",
      "Epoch 6/50 [Val]: 100%|██████████| 40/40 [00:03<00:00, 10.23it/s, loss=1.48, acc=46]\n"
     ]
    },
    {
     "name": "stdout",
     "output_type": "stream",
     "text": [
      "Epoch 6/50:\n",
      "Train Loss: 1.5406 | Train Acc: 44.42%\n",
      "Val Loss: 1.4775 | Val Acc: 45.96%\n",
      "Validation accuracy improved from 44.54% to 45.96%, saving model...\n"
     ]
    },
    {
     "name": "stderr",
     "output_type": "stream",
     "text": [
      "Epoch 7/50 [Train]: 100%|██████████| 352/352 [00:51<00:00,  6.86it/s, loss=1.48, acc=46.6]\n",
      "Epoch 7/50 [Val]: 100%|██████████| 40/40 [00:04<00:00,  8.85it/s, loss=1.45, acc=48.7]\n"
     ]
    },
    {
     "name": "stdout",
     "output_type": "stream",
     "text": [
      "Epoch 7/50:\n",
      "Train Loss: 1.4843 | Train Acc: 46.60%\n",
      "Val Loss: 1.4488 | Val Acc: 48.68%\n",
      "Validation accuracy improved from 45.96% to 48.68%, saving model...\n"
     ]
    },
    {
     "name": "stderr",
     "output_type": "stream",
     "text": [
      "Epoch 8/50 [Train]: 100%|██████████| 352/352 [00:50<00:00,  6.94it/s, loss=1.46, acc=47.3]\n",
      "Epoch 8/50 [Val]: 100%|██████████| 40/40 [00:03<00:00, 10.28it/s, loss=1.42, acc=47.9]\n"
     ]
    },
    {
     "name": "stdout",
     "output_type": "stream",
     "text": [
      "Epoch 8/50:\n",
      "Train Loss: 1.4591 | Train Acc: 47.25%\n",
      "Val Loss: 1.4185 | Val Acc: 47.86%\n"
     ]
    },
    {
     "name": "stderr",
     "output_type": "stream",
     "text": [
      "Epoch 9/50 [Train]: 100%|██████████| 352/352 [00:51<00:00,  6.77it/s, loss=1.42, acc=48.7]\n",
      "Epoch 9/50 [Val]: 100%|██████████| 40/40 [00:03<00:00, 10.32it/s, loss=1.38, acc=50.1]\n"
     ]
    },
    {
     "name": "stdout",
     "output_type": "stream",
     "text": [
      "Epoch 9/50:\n",
      "Train Loss: 1.4237 | Train Acc: 48.72%\n",
      "Val Loss: 1.3803 | Val Acc: 50.14%\n",
      "Validation accuracy improved from 48.68% to 50.14%, saving model...\n"
     ]
    },
    {
     "name": "stderr",
     "output_type": "stream",
     "text": [
      "Epoch 10/50 [Train]: 100%|██████████| 352/352 [00:50<00:00,  6.95it/s, loss=1.39, acc=49.8]\n",
      "Epoch 10/50 [Val]: 100%|██████████| 40/40 [00:03<00:00, 10.33it/s, loss=1.34, acc=51.6]\n"
     ]
    },
    {
     "name": "stdout",
     "output_type": "stream",
     "text": [
      "Epoch 10/50:\n",
      "Train Loss: 1.3949 | Train Acc: 49.83%\n",
      "Val Loss: 1.3374 | Val Acc: 51.62%\n",
      "Validation accuracy improved from 50.14% to 51.62%, saving model...\n"
     ]
    },
    {
     "name": "stderr",
     "output_type": "stream",
     "text": [
      "Epoch 11/50 [Train]: 100%|██████████| 352/352 [00:51<00:00,  6.84it/s, loss=1.36, acc=50.8]\n",
      "Epoch 11/50 [Val]: 100%|██████████| 40/40 [00:03<00:00, 10.64it/s, loss=1.31, acc=52.3]\n"
     ]
    },
    {
     "name": "stdout",
     "output_type": "stream",
     "text": [
      "Epoch 11/50:\n",
      "Train Loss: 1.3640 | Train Acc: 50.82%\n",
      "Val Loss: 1.3140 | Val Acc: 52.32%\n",
      "Validation accuracy improved from 51.62% to 52.32%, saving model...\n"
     ]
    },
    {
     "name": "stderr",
     "output_type": "stream",
     "text": [
      "Epoch 12/50 [Train]: 100%|██████████| 352/352 [00:50<00:00,  7.02it/s, loss=1.33, acc=52.2]\n",
      "Epoch 12/50 [Val]: 100%|██████████| 40/40 [00:04<00:00,  9.77it/s, loss=1.31, acc=53]\n"
     ]
    },
    {
     "name": "stdout",
     "output_type": "stream",
     "text": [
      "Epoch 12/50:\n",
      "Train Loss: 1.3335 | Train Acc: 52.21%\n",
      "Val Loss: 1.3069 | Val Acc: 53.02%\n",
      "Validation accuracy improved from 52.32% to 53.02%, saving model...\n"
     ]
    },
    {
     "name": "stderr",
     "output_type": "stream",
     "text": [
      "Epoch 13/50 [Train]: 100%|██████████| 352/352 [00:50<00:00,  6.91it/s, loss=1.32, acc=52.6]\n",
      "Epoch 13/50 [Val]: 100%|██████████| 40/40 [00:03<00:00, 10.61it/s, loss=1.26, acc=55]\n"
     ]
    },
    {
     "name": "stdout",
     "output_type": "stream",
     "text": [
      "Epoch 13/50:\n",
      "Train Loss: 1.3199 | Train Acc: 52.65%\n",
      "Val Loss: 1.2592 | Val Acc: 55.02%\n",
      "Validation accuracy improved from 53.02% to 55.02%, saving model...\n"
     ]
    },
    {
     "name": "stderr",
     "output_type": "stream",
     "text": [
      "Epoch 14/50 [Train]: 100%|██████████| 352/352 [00:50<00:00,  6.96it/s, loss=1.28, acc=54.1]\n",
      "Epoch 14/50 [Val]: 100%|██████████| 40/40 [00:03<00:00, 10.56it/s, loss=1.23, acc=55.7]\n"
     ]
    },
    {
     "name": "stdout",
     "output_type": "stream",
     "text": [
      "Epoch 14/50:\n",
      "Train Loss: 1.2834 | Train Acc: 54.08%\n",
      "Val Loss: 1.2320 | Val Acc: 55.68%\n",
      "Validation accuracy improved from 55.02% to 55.68%, saving model...\n"
     ]
    },
    {
     "name": "stderr",
     "output_type": "stream",
     "text": [
      "Epoch 15/50 [Train]: 100%|██████████| 352/352 [00:51<00:00,  6.87it/s, loss=1.27, acc=54.7]\n",
      "Epoch 15/50 [Val]: 100%|██████████| 40/40 [00:03<00:00, 10.65it/s, loss=1.22, acc=56.8]\n"
     ]
    },
    {
     "name": "stdout",
     "output_type": "stream",
     "text": [
      "Epoch 15/50:\n",
      "Train Loss: 1.2669 | Train Acc: 54.75%\n",
      "Val Loss: 1.2197 | Val Acc: 56.78%\n",
      "Validation accuracy improved from 55.68% to 56.78%, saving model...\n"
     ]
    },
    {
     "name": "stderr",
     "output_type": "stream",
     "text": [
      "Epoch 16/50 [Train]: 100%|██████████| 352/352 [00:51<00:00,  6.80it/s, loss=1.25, acc=55.4]\n",
      "Epoch 16/50 [Val]: 100%|██████████| 40/40 [00:04<00:00,  9.97it/s, loss=1.22, acc=56.5]\n"
     ]
    },
    {
     "name": "stdout",
     "output_type": "stream",
     "text": [
      "Epoch 16/50:\n",
      "Train Loss: 1.2508 | Train Acc: 55.40%\n",
      "Val Loss: 1.2187 | Val Acc: 56.48%\n"
     ]
    },
    {
     "name": "stderr",
     "output_type": "stream",
     "text": [
      "Epoch 17/50 [Train]: 100%|██████████| 352/352 [00:52<00:00,  6.72it/s, loss=1.22, acc=56.3]\n",
      "Epoch 17/50 [Val]: 100%|██████████| 40/40 [00:03<00:00, 10.54it/s, loss=1.2, acc=57.2]\n"
     ]
    },
    {
     "name": "stdout",
     "output_type": "stream",
     "text": [
      "Epoch 17/50:\n",
      "Train Loss: 1.2232 | Train Acc: 56.33%\n",
      "Val Loss: 1.1958 | Val Acc: 57.16%\n",
      "Validation accuracy improved from 56.78% to 57.16%, saving model...\n"
     ]
    },
    {
     "name": "stderr",
     "output_type": "stream",
     "text": [
      "Epoch 18/50 [Train]: 100%|██████████| 352/352 [00:50<00:00,  6.94it/s, loss=1.2, acc=57]\n",
      "Epoch 18/50 [Val]: 100%|██████████| 40/40 [00:03<00:00, 10.45it/s, loss=1.19, acc=57.1]\n"
     ]
    },
    {
     "name": "stdout",
     "output_type": "stream",
     "text": [
      "Epoch 18/50:\n",
      "Train Loss: 1.2028 | Train Acc: 57.00%\n",
      "Val Loss: 1.1921 | Val Acc: 57.10%\n"
     ]
    },
    {
     "name": "stderr",
     "output_type": "stream",
     "text": [
      "Epoch 19/50 [Train]: 100%|██████████| 352/352 [00:51<00:00,  6.85it/s, loss=1.18, acc=57.8]\n",
      "Epoch 19/50 [Val]: 100%|██████████| 40/40 [00:04<00:00,  9.67it/s, loss=1.15, acc=59.1]\n"
     ]
    },
    {
     "name": "stdout",
     "output_type": "stream",
     "text": [
      "Epoch 19/50:\n",
      "Train Loss: 1.1833 | Train Acc: 57.80%\n",
      "Val Loss: 1.1468 | Val Acc: 59.10%\n",
      "Validation accuracy improved from 57.16% to 59.10%, saving model...\n"
     ]
    },
    {
     "name": "stderr",
     "output_type": "stream",
     "text": [
      "Epoch 20/50 [Train]: 100%|██████████| 352/352 [00:50<00:00,  6.99it/s, loss=1.17, acc=58.3]\n",
      "Epoch 20/50 [Val]: 100%|██████████| 40/40 [00:03<00:00, 10.67it/s, loss=1.14, acc=59.4]\n"
     ]
    },
    {
     "name": "stdout",
     "output_type": "stream",
     "text": [
      "Epoch 20/50:\n",
      "Train Loss: 1.1681 | Train Acc: 58.29%\n",
      "Val Loss: 1.1417 | Val Acc: 59.44%\n",
      "Validation accuracy improved from 59.10% to 59.44%, saving model...\n"
     ]
    },
    {
     "name": "stderr",
     "output_type": "stream",
     "text": [
      "Epoch 21/50 [Train]: 100%|██████████| 352/352 [00:51<00:00,  6.87it/s, loss=1.15, acc=59.1]\n",
      "Epoch 21/50 [Val]: 100%|██████████| 40/40 [00:03<00:00, 10.64it/s, loss=1.16, acc=60.1]\n"
     ]
    },
    {
     "name": "stdout",
     "output_type": "stream",
     "text": [
      "Epoch 21/50:\n",
      "Train Loss: 1.1490 | Train Acc: 59.15%\n",
      "Val Loss: 1.1596 | Val Acc: 60.14%\n",
      "Validation accuracy improved from 59.44% to 60.14%, saving model...\n"
     ]
    },
    {
     "name": "stderr",
     "output_type": "stream",
     "text": [
      "Epoch 22/50 [Train]: 100%|██████████| 352/352 [00:50<00:00,  6.94it/s, loss=1.13, acc=59.5]\n",
      "Epoch 22/50 [Val]: 100%|██████████| 40/40 [00:03<00:00, 10.29it/s, loss=1.14, acc=59.7]\n"
     ]
    },
    {
     "name": "stdout",
     "output_type": "stream",
     "text": [
      "Epoch 22/50:\n",
      "Train Loss: 1.1332 | Train Acc: 59.54%\n",
      "Val Loss: 1.1386 | Val Acc: 59.70%\n"
     ]
    },
    {
     "name": "stderr",
     "output_type": "stream",
     "text": [
      "Epoch 23/50 [Train]: 100%|██████████| 352/352 [00:50<00:00,  6.94it/s, loss=1.12, acc=60.4]\n",
      "Epoch 23/50 [Val]: 100%|██████████| 40/40 [00:03<00:00, 10.73it/s, loss=1.11, acc=60.1]\n"
     ]
    },
    {
     "name": "stdout",
     "output_type": "stream",
     "text": [
      "Epoch 23/50:\n",
      "Train Loss: 1.1161 | Train Acc: 60.36%\n",
      "Val Loss: 1.1050 | Val Acc: 60.12%\n"
     ]
    },
    {
     "name": "stderr",
     "output_type": "stream",
     "text": [
      "Epoch 24/50 [Train]: 100%|██████████| 352/352 [00:51<00:00,  6.88it/s, loss=1.11, acc=60.6]\n",
      "Epoch 24/50 [Val]: 100%|██████████| 40/40 [00:03<00:00, 10.52it/s, loss=1.11, acc=60.8]\n"
     ]
    },
    {
     "name": "stdout",
     "output_type": "stream",
     "text": [
      "Epoch 24/50:\n",
      "Train Loss: 1.1059 | Train Acc: 60.58%\n",
      "Val Loss: 1.1130 | Val Acc: 60.80%\n",
      "Validation accuracy improved from 60.14% to 60.80%, saving model...\n"
     ]
    },
    {
     "name": "stderr",
     "output_type": "stream",
     "text": [
      "Epoch 25/50 [Train]: 100%|██████████| 352/352 [00:50<00:00,  6.94it/s, loss=1.09, acc=61.3]\n",
      "Epoch 25/50 [Val]: 100%|██████████| 40/40 [00:03<00:00, 10.57it/s, loss=1.09, acc=62]\n"
     ]
    },
    {
     "name": "stdout",
     "output_type": "stream",
     "text": [
      "Epoch 25/50:\n",
      "Train Loss: 1.0872 | Train Acc: 61.27%\n",
      "Val Loss: 1.0906 | Val Acc: 61.96%\n",
      "Validation accuracy improved from 60.80% to 61.96%, saving model...\n"
     ]
    },
    {
     "name": "stderr",
     "output_type": "stream",
     "text": [
      "Epoch 26/50 [Train]: 100%|██████████| 352/352 [00:50<00:00,  7.03it/s, loss=1.07, acc=61.9]\n",
      "Epoch 26/50 [Val]: 100%|██████████| 40/40 [00:04<00:00,  9.73it/s, loss=1.06, acc=62.8]\n"
     ]
    },
    {
     "name": "stdout",
     "output_type": "stream",
     "text": [
      "Epoch 26/50:\n",
      "Train Loss: 1.0721 | Train Acc: 61.92%\n",
      "Val Loss: 1.0573 | Val Acc: 62.78%\n",
      "Validation accuracy improved from 61.96% to 62.78%, saving model...\n"
     ]
    },
    {
     "name": "stderr",
     "output_type": "stream",
     "text": [
      "Epoch 27/50 [Train]: 100%|██████████| 352/352 [00:50<00:00,  6.91it/s, loss=1.06, acc=62.8]\n",
      "Epoch 27/50 [Val]: 100%|██████████| 40/40 [00:03<00:00, 10.51it/s, loss=1.05, acc=62.7]\n"
     ]
    },
    {
     "name": "stdout",
     "output_type": "stream",
     "text": [
      "Epoch 27/50:\n",
      "Train Loss: 1.0551 | Train Acc: 62.80%\n",
      "Val Loss: 1.0537 | Val Acc: 62.68%\n"
     ]
    },
    {
     "name": "stderr",
     "output_type": "stream",
     "text": [
      "Epoch 28/50 [Train]: 100%|██████████| 352/352 [00:49<00:00,  7.07it/s, loss=1.04, acc=63]\n",
      "Epoch 28/50 [Val]: 100%|██████████| 40/40 [00:03<00:00, 10.78it/s, loss=1.03, acc=62.9]\n"
     ]
    },
    {
     "name": "stdout",
     "output_type": "stream",
     "text": [
      "Epoch 28/50:\n",
      "Train Loss: 1.0405 | Train Acc: 63.03%\n",
      "Val Loss: 1.0323 | Val Acc: 62.88%\n",
      "Validation accuracy improved from 62.78% to 62.88%, saving model...\n"
     ]
    },
    {
     "name": "stderr",
     "output_type": "stream",
     "text": [
      "Epoch 29/50 [Train]: 100%|██████████| 352/352 [00:50<00:00,  6.96it/s, loss=1.03, acc=63.3]\n",
      "Epoch 29/50 [Val]: 100%|██████████| 40/40 [00:03<00:00, 10.47it/s, loss=1.04, acc=62.9]\n"
     ]
    },
    {
     "name": "stdout",
     "output_type": "stream",
     "text": [
      "Epoch 29/50:\n",
      "Train Loss: 1.0325 | Train Acc: 63.30%\n",
      "Val Loss: 1.0419 | Val Acc: 62.86%\n"
     ]
    },
    {
     "name": "stderr",
     "output_type": "stream",
     "text": [
      "Epoch 30/50 [Train]: 100%|██████████| 352/352 [00:50<00:00,  7.00it/s, loss=1.02, acc=63.7]\n",
      "Epoch 30/50 [Val]: 100%|██████████| 40/40 [00:03<00:00, 10.64it/s, loss=1.01, acc=64.5]\n"
     ]
    },
    {
     "name": "stdout",
     "output_type": "stream",
     "text": [
      "Epoch 30/50:\n",
      "Train Loss: 1.0202 | Train Acc: 63.73%\n",
      "Val Loss: 1.0136 | Val Acc: 64.52%\n",
      "Validation accuracy improved from 62.88% to 64.52%, saving model...\n"
     ]
    },
    {
     "name": "stderr",
     "output_type": "stream",
     "text": [
      "Epoch 31/50 [Train]: 100%|██████████| 352/352 [00:50<00:00,  6.92it/s, loss=1.01, acc=64.3]\n",
      "Epoch 31/50 [Val]: 100%|██████████| 40/40 [00:04<00:00,  9.99it/s, loss=1.03, acc=64.2]\n"
     ]
    },
    {
     "name": "stdout",
     "output_type": "stream",
     "text": [
      "Epoch 31/50:\n",
      "Train Loss: 1.0089 | Train Acc: 64.33%\n",
      "Val Loss: 1.0270 | Val Acc: 64.24%\n"
     ]
    },
    {
     "name": "stderr",
     "output_type": "stream",
     "text": [
      "Epoch 32/50 [Train]: 100%|██████████| 352/352 [00:49<00:00,  7.10it/s, loss=0.994, acc=64.7]\n",
      "Epoch 32/50 [Val]: 100%|██████████| 40/40 [00:03<00:00, 10.42it/s, loss=1.02, acc=64.8]\n"
     ]
    },
    {
     "name": "stdout",
     "output_type": "stream",
     "text": [
      "Epoch 32/50:\n",
      "Train Loss: 0.9938 | Train Acc: 64.65%\n",
      "Val Loss: 1.0224 | Val Acc: 64.82%\n",
      "Validation accuracy improved from 64.52% to 64.82%, saving model...\n"
     ]
    },
    {
     "name": "stderr",
     "output_type": "stream",
     "text": [
      "Epoch 33/50 [Train]: 100%|██████████| 352/352 [00:49<00:00,  7.07it/s, loss=0.99, acc=64.9]\n",
      "Epoch 33/50 [Val]: 100%|██████████| 40/40 [00:04<00:00,  8.58it/s, loss=0.975, acc=65]\n"
     ]
    },
    {
     "name": "stdout",
     "output_type": "stream",
     "text": [
      "Epoch 33/50:\n",
      "Train Loss: 0.9904 | Train Acc: 64.90%\n",
      "Val Loss: 0.9749 | Val Acc: 65.04%\n",
      "Validation accuracy improved from 64.82% to 65.04%, saving model...\n"
     ]
    },
    {
     "name": "stderr",
     "output_type": "stream",
     "text": [
      "Epoch 34/50 [Train]: 100%|██████████| 352/352 [00:50<00:00,  6.93it/s, loss=0.97, acc=65.6]\n",
      "Epoch 34/50 [Val]: 100%|██████████| 40/40 [00:03<00:00, 10.55it/s, loss=0.983, acc=65.2]\n"
     ]
    },
    {
     "name": "stdout",
     "output_type": "stream",
     "text": [
      "Epoch 34/50:\n",
      "Train Loss: 0.9697 | Train Acc: 65.63%\n",
      "Val Loss: 0.9834 | Val Acc: 65.22%\n",
      "Validation accuracy improved from 65.04% to 65.22%, saving model...\n"
     ]
    },
    {
     "name": "stderr",
     "output_type": "stream",
     "text": [
      "Epoch 35/50 [Train]: 100%|██████████| 352/352 [00:50<00:00,  6.91it/s, loss=0.963, acc=66]\n",
      "Epoch 35/50 [Val]: 100%|██████████| 40/40 [00:04<00:00,  8.28it/s, loss=0.958, acc=66.2]\n"
     ]
    },
    {
     "name": "stdout",
     "output_type": "stream",
     "text": [
      "Epoch 35/50:\n",
      "Train Loss: 0.9630 | Train Acc: 65.99%\n",
      "Val Loss: 0.9584 | Val Acc: 66.18%\n",
      "Validation accuracy improved from 65.22% to 66.18%, saving model...\n"
     ]
    },
    {
     "name": "stderr",
     "output_type": "stream",
     "text": [
      "Epoch 36/50 [Train]: 100%|██████████| 352/352 [00:50<00:00,  6.93it/s, loss=0.959, acc=66]\n",
      "Epoch 36/50 [Val]: 100%|██████████| 40/40 [00:04<00:00,  9.65it/s, loss=0.977, acc=66.2]\n"
     ]
    },
    {
     "name": "stdout",
     "output_type": "stream",
     "text": [
      "Epoch 36/50:\n",
      "Train Loss: 0.9585 | Train Acc: 66.01%\n",
      "Val Loss: 0.9767 | Val Acc: 66.24%\n",
      "Validation accuracy improved from 66.18% to 66.24%, saving model...\n"
     ]
    },
    {
     "name": "stderr",
     "output_type": "stream",
     "text": [
      "Epoch 37/50 [Train]: 100%|██████████| 352/352 [00:50<00:00,  6.95it/s, loss=0.944, acc=66.8]\n",
      "Epoch 37/50 [Val]: 100%|██████████| 40/40 [00:04<00:00,  8.68it/s, loss=0.992, acc=65.1]\n"
     ]
    },
    {
     "name": "stdout",
     "output_type": "stream",
     "text": [
      "Epoch 37/50:\n",
      "Train Loss: 0.9439 | Train Acc: 66.76%\n",
      "Val Loss: 0.9924 | Val Acc: 65.14%\n"
     ]
    },
    {
     "name": "stderr",
     "output_type": "stream",
     "text": [
      "Epoch 38/50 [Train]: 100%|██████████| 352/352 [00:50<00:00,  7.00it/s, loss=0.935, acc=66.8]\n",
      "Epoch 38/50 [Val]: 100%|██████████| 40/40 [00:03<00:00, 10.67it/s, loss=0.95, acc=66]\n"
     ]
    },
    {
     "name": "stdout",
     "output_type": "stream",
     "text": [
      "Epoch 38/50:\n",
      "Train Loss: 0.9350 | Train Acc: 66.82%\n",
      "Val Loss: 0.9499 | Val Acc: 66.02%\n"
     ]
    },
    {
     "name": "stderr",
     "output_type": "stream",
     "text": [
      "Epoch 39/50 [Train]: 100%|██████████| 352/352 [00:50<00:00,  7.01it/s, loss=0.931, acc=67]\n",
      "Epoch 39/50 [Val]: 100%|██████████| 40/40 [00:03<00:00, 10.78it/s, loss=0.951, acc=66.7]\n"
     ]
    },
    {
     "name": "stdout",
     "output_type": "stream",
     "text": [
      "Epoch 39/50:\n",
      "Train Loss: 0.9312 | Train Acc: 66.95%\n",
      "Val Loss: 0.9510 | Val Acc: 66.70%\n",
      "Validation accuracy improved from 66.24% to 66.70%, saving model...\n"
     ]
    },
    {
     "name": "stderr",
     "output_type": "stream",
     "text": [
      "Epoch 40/50 [Train]: 100%|██████████| 352/352 [00:50<00:00,  7.03it/s, loss=0.921, acc=67.5]\n",
      "Epoch 40/50 [Val]: 100%|██████████| 40/40 [00:03<00:00, 10.73it/s, loss=0.961, acc=67]\n"
     ]
    },
    {
     "name": "stdout",
     "output_type": "stream",
     "text": [
      "Epoch 40/50:\n",
      "Train Loss: 0.9206 | Train Acc: 67.54%\n",
      "Val Loss: 0.9606 | Val Acc: 67.00%\n",
      "Validation accuracy improved from 66.70% to 67.00%, saving model...\n"
     ]
    },
    {
     "name": "stderr",
     "output_type": "stream",
     "text": [
      "Epoch 41/50 [Train]: 100%|██████████| 352/352 [00:50<00:00,  6.97it/s, loss=0.914, acc=67.4]\n",
      "Epoch 41/50 [Val]: 100%|██████████| 40/40 [00:03<00:00, 10.90it/s, loss=0.951, acc=67]\n"
     ]
    },
    {
     "name": "stdout",
     "output_type": "stream",
     "text": [
      "Epoch 41/50:\n",
      "Train Loss: 0.9136 | Train Acc: 67.39%\n",
      "Val Loss: 0.9510 | Val Acc: 66.98%\n"
     ]
    },
    {
     "name": "stderr",
     "output_type": "stream",
     "text": [
      "Epoch 42/50 [Train]: 100%|██████████| 352/352 [00:48<00:00,  7.21it/s, loss=0.909, acc=67.7]\n",
      "Epoch 42/50 [Val]: 100%|██████████| 40/40 [00:03<00:00, 10.74it/s, loss=0.938, acc=67.7]\n"
     ]
    },
    {
     "name": "stdout",
     "output_type": "stream",
     "text": [
      "Epoch 42/50:\n",
      "Train Loss: 0.9088 | Train Acc: 67.73%\n",
      "Val Loss: 0.9380 | Val Acc: 67.74%\n",
      "Validation accuracy improved from 67.00% to 67.74%, saving model...\n"
     ]
    },
    {
     "name": "stderr",
     "output_type": "stream",
     "text": [
      "Epoch 43/50 [Train]: 100%|██████████| 352/352 [00:50<00:00,  7.03it/s, loss=0.905, acc=68.1]\n",
      "Epoch 43/50 [Val]: 100%|██████████| 40/40 [00:03<00:00, 10.66it/s, loss=0.928, acc=67.4]\n"
     ]
    },
    {
     "name": "stdout",
     "output_type": "stream",
     "text": [
      "Epoch 43/50:\n",
      "Train Loss: 0.9054 | Train Acc: 68.06%\n",
      "Val Loss: 0.9275 | Val Acc: 67.38%\n"
     ]
    },
    {
     "name": "stderr",
     "output_type": "stream",
     "text": [
      "Epoch 44/50 [Train]: 100%|██████████| 352/352 [00:51<00:00,  6.87it/s, loss=0.903, acc=67.9]\n",
      "Epoch 44/50 [Val]: 100%|██████████| 40/40 [00:03<00:00, 10.84it/s, loss=0.927, acc=67.1]\n"
     ]
    },
    {
     "name": "stdout",
     "output_type": "stream",
     "text": [
      "Epoch 44/50:\n",
      "Train Loss: 0.9032 | Train Acc: 67.95%\n",
      "Val Loss: 0.9273 | Val Acc: 67.14%\n"
     ]
    },
    {
     "name": "stderr",
     "output_type": "stream",
     "text": [
      "Epoch 45/50 [Train]: 100%|██████████| 352/352 [00:50<00:00,  6.93it/s, loss=0.906, acc=67.8]\n",
      "Epoch 45/50 [Val]: 100%|██████████| 40/40 [00:03<00:00, 10.35it/s, loss=0.907, acc=67.6]\n"
     ]
    },
    {
     "name": "stdout",
     "output_type": "stream",
     "text": [
      "Epoch 45/50:\n",
      "Train Loss: 0.9059 | Train Acc: 67.76%\n",
      "Val Loss: 0.9070 | Val Acc: 67.58%\n"
     ]
    },
    {
     "name": "stderr",
     "output_type": "stream",
     "text": [
      "Epoch 46/50 [Train]: 100%|██████████| 352/352 [00:50<00:00,  6.96it/s, loss=0.889, acc=68.4]\n",
      "Epoch 46/50 [Val]: 100%|██████████| 40/40 [00:04<00:00,  9.89it/s, loss=0.933, acc=67.3]\n"
     ]
    },
    {
     "name": "stdout",
     "output_type": "stream",
     "text": [
      "Epoch 46/50:\n",
      "Train Loss: 0.8885 | Train Acc: 68.38%\n",
      "Val Loss: 0.9329 | Val Acc: 67.30%\n"
     ]
    },
    {
     "name": "stderr",
     "output_type": "stream",
     "text": [
      "Epoch 47/50 [Train]: 100%|██████████| 352/352 [00:49<00:00,  7.05it/s, loss=0.894, acc=68.3]\n",
      "Epoch 47/50 [Val]: 100%|██████████| 40/40 [00:03<00:00, 10.09it/s, loss=0.94, acc=67.5]\n"
     ]
    },
    {
     "name": "stdout",
     "output_type": "stream",
     "text": [
      "Epoch 47/50:\n",
      "Train Loss: 0.8943 | Train Acc: 68.27%\n",
      "Val Loss: 0.9397 | Val Acc: 67.54%\n"
     ]
    },
    {
     "name": "stderr",
     "output_type": "stream",
     "text": [
      "Epoch 48/50 [Train]: 100%|██████████| 352/352 [00:50<00:00,  6.92it/s, loss=0.895, acc=68.3]\n",
      "Epoch 48/50 [Val]: 100%|██████████| 40/40 [00:03<00:00, 10.36it/s, loss=0.921, acc=68]\n"
     ]
    },
    {
     "name": "stdout",
     "output_type": "stream",
     "text": [
      "Epoch 48/50:\n",
      "Train Loss: 0.8955 | Train Acc: 68.33%\n",
      "Val Loss: 0.9211 | Val Acc: 68.00%\n",
      "Validation accuracy improved from 67.74% to 68.00%, saving model...\n"
     ]
    },
    {
     "name": "stderr",
     "output_type": "stream",
     "text": [
      "Epoch 49/50 [Train]: 100%|██████████| 352/352 [00:50<00:00,  6.94it/s, loss=0.89, acc=68.5]\n",
      "Epoch 49/50 [Val]: 100%|██████████| 40/40 [00:03<00:00, 10.68it/s, loss=0.933, acc=67.9]\n"
     ]
    },
    {
     "name": "stdout",
     "output_type": "stream",
     "text": [
      "Epoch 49/50:\n",
      "Train Loss: 0.8898 | Train Acc: 68.51%\n",
      "Val Loss: 0.9330 | Val Acc: 67.86%\n"
     ]
    },
    {
     "name": "stderr",
     "output_type": "stream",
     "text": [
      "Epoch 50/50 [Train]: 100%|██████████| 352/352 [00:50<00:00,  6.93it/s, loss=0.893, acc=68.3]\n",
      "Epoch 50/50 [Val]: 100%|██████████| 40/40 [00:03<00:00, 10.85it/s, loss=0.938, acc=67]\n"
     ]
    },
    {
     "name": "stdout",
     "output_type": "stream",
     "text": [
      "Epoch 50/50:\n",
      "Train Loss: 0.8926 | Train Acc: 68.31%\n",
      "Val Loss: 0.9377 | Val Acc: 67.04%\n",
      "Best validation accuracy: 68.00%\n"
     ]
    },
    {
     "name": "stderr",
     "output_type": "stream",
     "text": [
      "Evaluating on test set: 100%|██████████| 79/79 [00:03<00:00, 25.88it/s]\n"
     ]
    },
    {
     "name": "stdout",
     "output_type": "stream",
     "text": [
      "Test accuracy: 76.69%\n"
     ]
    },
    {
     "data": {
      "image/png": "[encoded data removed]",
      "text/plain": [
       "<Figure size 1200x500 with 2 Axes>"
      ]
     },
     "metadata": {},
     "output_type": "display_data"
    },
    {
     "name": "stdout",
     "output_type": "stream",
     "text": [
      "\n",
      "\n",
      "Augmentation Strategy Results Summary:\n",
      "--------------------------------------------------\n",
      "randaugment    : 80.75%\n",
      "autoaugment    : 79.69%\n",
      "strongest      : 76.69%\n"
     ]
    },
    {
     "data": {
      "image/png": "[encoded data removed]",
      "text/plain": [
       "<Figure size 1200x600 with 1 Axes>"
      ]
     },
     "metadata": {},
     "output_type": "display_data"
    }
   ],
   "source": [
    "evaluate_augmentation_strategies()"
   ]
  },
  {
   "cell_type": "markdown",
   "id": "8b0e8faf",
   "metadata": {},
   "source": [
    "### Augmentation Strategy Comparison \n",
    "\n",
    "\n",
    "1. **RandAugment** achieved the highest accuracy (80.75%), confirming its effectiveness for ViT architectures by providing diverse yet appropriate transformations.\n",
    "\n",
    "2. **AutoAugment** performed reasonably well (79.69%), maintaining the pattern seen in standard ViT but with slightly lower overall performance.\n",
    "\n",
    "3. **Strongest** augmentation again underperformed (76.69%), with a similar drop observed in standard ViT, indicating that excessive transformations harm model performance regardless of the attention mechanism.\n",
    "\n",
    "The consistent ranking of augmentation strategies between standard and Differential ViT suggests that both architectures benefit similarly from augmentation, though Diff ViT shows slightly lower absolute performance across all strategies. The 4.06% gap between best and worst strategies emphasizes the importance of appropriate augmentation selection for Differential ViT models."
   ]
  }
 ],
 "metadata": {
  "kaggle": {
   "accelerator": "gpu",
   "dataSources": [],
   "dockerImageVersionId": 31011,
   "isGpuEnabled": true,
   "isInternetEnabled": true,
   "language": "python",
   "sourceType": "notebook"
  },
  "kernelspec": {
   "display_name": "Python 3",
   "language": "python",
   "name": "python3"
  },
  "language_info": {
   "codemirror_mode": {
    "name": "ipython",
    "version": 3
   },
   "file_extension": ".py",
   "mimetype": "text/x-python",
   "name": "python",
   "nbconvert_exporter": "python",
   "pygments_lexer": "ipython3",
   "version": "3.11.11"
  },
  "papermill": {
   "default_parameters": {},
   "duration": 7723.022478,
   "end_time": "2025-04-20T13:50:57.605559",
   "environment_variables": {},
   "exception": null,
   "input_path": "__notebook__.ipynb",
   "output_path": "__notebook__.ipynb",
   "parameters": {},
   "start_time": "2025-04-20T11:42:14.583081",
   "version": "2.6.0"
  }
 },
 "nbformat": 4,
 "nbformat_minor": 5
}
