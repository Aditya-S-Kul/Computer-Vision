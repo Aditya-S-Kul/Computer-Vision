{
 "cells": [
  {
   "cell_type": "code",
   "execution_count": 1,
   "id": "12a4c88f",
   "metadata": {
    "_cell_guid": "b1076dfc-b9ad-4769-8c92-a6c4dae69d19",
    "_uuid": "8f2839f25d086af736a60e9eeb907d3b93b6e0e5",
    "execution": {
     "iopub.execute_input": "2025-04-20T12:09:16.466699Z",
     "iopub.status.busy": "2025-04-20T12:09:16.466408Z",
     "iopub.status.idle": "2025-04-20T12:09:25.046256Z",
     "shell.execute_reply": "2025-04-20T12:09:25.045717Z"
    },
    "papermill": {
     "duration": 8.585215,
     "end_time": "2025-04-20T12:09:25.047750",
     "exception": false,
     "start_time": "2025-04-20T12:09:16.462535",
     "status": "completed"
    },
    "tags": []
   },
   "outputs": [],
   "source": [
    "import torch\n",
    "import torch.nn as nn\n",
    "import torch.nn.functional as F\n",
    "import torch.optim as optim\n",
    "from torch.utils.data import DataLoader\n",
    "import torchvision\n",
    "import torchvision.transforms as transforms\n",
    "import matplotlib.pyplot as plt\n",
    "import numpy as np\n",
    "from tqdm import tqdm\n",
    "import os\n",
    "import math\n",
    "\n",
    "# For reproducibility\n",
    "torch.manual_seed(42)\n",
    "np.random.seed(42)\n",
    "\n",
    "# Base class for positional embeddings\n",
    "class PositionalEmbedding(nn.Module):\n",
    "    def __init__(self, d_model, max_len):\n",
    "        super().__init__()\n",
    "        self.d_model = d_model\n",
    "        self.max_len = max_len\n",
    "        \n",
    "    def forward(self, x):\n",
    "        \"\"\"Add positional embeddings to the input tensor\"\"\"\n",
    "        return x\n",
    "\n",
    "# No positional embedding\n",
    "class NoPositionalEmbedding(PositionalEmbedding):\n",
    "    def __init__(self, d_model, max_len):\n",
    "        super().__init__(d_model, max_len)\n",
    "    \n",
    "    def forward(self, x):\n",
    "        # Return input as is (no positional information)\n",
    "        return x\n",
    "\n",
    "# 1D Learned positional embedding (default)\n",
    "class Learned1DPositionalEmbedding(PositionalEmbedding):\n",
    "    def __init__(self, d_model, max_len):\n",
    "        super().__init__(d_model, max_len)\n",
    "        self.pos_embedding = nn.Parameter(torch.zeros(1, max_len, d_model))\n",
    "        self.init_weights()\n",
    "    \n",
    "    def init_weights(self):\n",
    "        nn.init.normal_(self.pos_embedding, std=0.02)\n",
    "    \n",
    "    def forward(self, x):\n",
    "        # Add learned 1D positional embedding to the input\n",
    "        return x + self.pos_embedding[:, :x.size(1), :]\n",
    "\n",
    "# 2D Learned positional embedding \n",
    "class Learned2DPositionalEmbedding(PositionalEmbedding):\n",
    "    def __init__(self, d_model, max_len, grid_size):\n",
    "        super().__init__(d_model, max_len)\n",
    "        assert d_model % 2 == 0, \"d_model must be even for 2D embeddings\"\n",
    "        self.grid_size = grid_size  # (H, W)\n",
    "        # Create separate embeddings for X and Y dimensions\n",
    "        self.pos_embedding_x = nn.Parameter(torch.zeros(1, grid_size[1], d_model // 2))\n",
    "        self.pos_embedding_y = nn.Parameter(torch.zeros(1, grid_size[0], d_model // 2))\n",
    "        self.cls_token_pos = nn.Parameter(torch.zeros(1, 1, d_model))\n",
    "        self.init_weights()\n",
    "    \n",
    "    def init_weights(self):\n",
    "        nn.init.normal_(self.pos_embedding_x, std=0.02)\n",
    "        nn.init.normal_(self.pos_embedding_y, std=0.02)\n",
    "        nn.init.normal_(self.cls_token_pos, std=0.02)\n",
    "    \n",
    "    def forward(self, x):\n",
    "        # Special handling for cls token\n",
    "        cls_token, patches = x[:, :1, :], x[:, 1:, :]\n",
    "        \n",
    "        # Reshape to [batch_size, H, W, dim]\n",
    "        batch_size = patches.size(0)\n",
    "        patches = patches.view(batch_size, self.grid_size[0], self.grid_size[1], -1)\n",
    "        \n",
    "        # Create 2D positional embeddings by concatenating X and Y embeddings\n",
    "        pos_x = self.pos_embedding_x.expand(batch_size, -1, -1)  # [B, W, D/2]\n",
    "        pos_y = self.pos_embedding_y.expand(batch_size, -1, -1)  # [B, H, D/2]\n",
    "        \n",
    "        # For each position (i,j), concatenate the embeddings\n",
    "        pos_emb = torch.zeros(batch_size, self.grid_size[0], self.grid_size[1], self.d_model, device=x.device)\n",
    "        \n",
    "        for i in range(self.grid_size[0]):  # height\n",
    "            for j in range(self.grid_size[1]):  # width\n",
    "                pos_emb[:, i, j, :] = torch.cat([pos_y[:, i, :], pos_x[:, j, :]], dim=1)\n",
    "        \n",
    "        # Add positional embeddings to patches\n",
    "        patches = patches + pos_emb\n",
    "        \n",
    "        # Reshape back to [batch_size, H*W, dim]\n",
    "        patches = patches.view(batch_size, -1, self.d_model)\n",
    "        \n",
    "        # Add cls token back with its special position embedding\n",
    "        cls_token = cls_token + self.cls_token_pos\n",
    "        return torch.cat([cls_token, patches], dim=1)\n",
    "\n",
    "# Sinusoidal positional embedding from \"Attention Is All You Need\"\n",
    "class SinusoidalPositionalEmbedding(PositionalEmbedding):\n",
    "    def __init__(self, d_model, max_len):\n",
    "        super().__init__(d_model, max_len)\n",
    "        \n",
    "        # Create constant sinusoidal positional embeddings\n",
    "        pe = torch.zeros(max_len, d_model)\n",
    "        position = torch.arange(0, max_len, dtype=torch.float).unsqueeze(1)\n",
    "        div_term = torch.exp(torch.arange(0, d_model, 2).float() * (-math.log(10000.0) / d_model))\n",
    "        \n",
    "        pe[:, 0::2] = torch.sin(position * div_term)\n",
    "        pe[:, 1::2] = torch.cos(position * div_term)\n",
    "        \n",
    "        self.register_buffer('pe', pe.unsqueeze(0))  # [1, max_len, d_model]\n",
    "    \n",
    "    def forward(self, x):\n",
    "        # Add sinusoidal positional embeddings to the input\n",
    "        return x + self.pe[:, :x.size(1), :]\n",
    "\n",
    "\n",
    "\n",
    "class DifferentialAttention(nn.Module):\n",
    "    \"\"\"\n",
    "    Differential Attention as described in the Differential Transformer paper\n",
    "    Following the pseudocode:\n",
    "    \n",
    "    def DiffAttn(X, W_q, W_k, W_v, λ):\n",
    "        Q1, Q2 = split(X @ W_q)\n",
    "        K1, K2 = split(X @ W_k)\n",
    "        V = X @ W_v\n",
    "        # Qi, Ki: [b, n, d]; V: [b, n, 2d]\n",
    "        s = 1 / sqrt(d)\n",
    "        A1 = Q1 @ K1.transpose(−1, −2) ∗ s\n",
    "        A2 = Q2 @ K2.transpose(−1, −2) ∗ s\n",
    "        return (softmax(A1) − λ softmax(A2)) @ V\n",
    "    \"\"\"\n",
    "    def __init__(self, d_model, d_head, lambda_val=0.5):\n",
    "        super(DifferentialAttention, self).__init__()\n",
    "        self.d_head = d_head\n",
    "        self.scale = 1.0 / math.sqrt(d_head)\n",
    "        self.lambda_val = lambda_val\n",
    "        \n",
    "        # Single projections that will be split into positive/negative parts\n",
    "        self.q_proj = nn.Linear(d_model, d_head * 2)\n",
    "        self.k_proj = nn.Linear(d_model, d_head * 2)\n",
    "        self.v_proj = nn.Linear(d_model, d_head)\n",
    "    \n",
    "    def forward(self, x, mask=None):\n",
    "        # Project and split query and key\n",
    "        q = self.q_proj(x)  # [batch, seq_len, d_head*2]\n",
    "        k = self.k_proj(x)  # [batch, seq_len, d_head*2]\n",
    "        v = self.v_proj(x)  # [batch, seq_len, d_head]\n",
    "        \n",
    "        # Split into positive and negative parts\n",
    "        q1, q2 = torch.chunk(q, 2, dim=-1)  # [batch, seq_len, d_head]\n",
    "        k1, k2 = torch.chunk(k, 2, dim=-1)  # [batch, seq_len, d_head]\n",
    "        \n",
    "        # Calculate attention scores\n",
    "        attn_scores1 = torch.matmul(q1, k1.transpose(-2, -1)) * self.scale\n",
    "        attn_scores2 = torch.matmul(q2, k2.transpose(-2, -1)) * self.scale\n",
    "        \n",
    "        # Apply mask if provided\n",
    "        if mask is not None:\n",
    "            attn_scores1 = attn_scores1.masked_fill(mask == 0, -1e9)\n",
    "            attn_scores2 = attn_scores2.masked_fill(mask == 0, -1e9)\n",
    "        \n",
    "        # Apply softmax to get attention weights\n",
    "        attn_weights1 = F.softmax(attn_scores1, dim=-1)\n",
    "        attn_weights2 = F.softmax(attn_scores2, dim=-1)\n",
    "        \n",
    "        # Calculate differential attention (positive - λ*negative)\n",
    "        diff_attn = attn_weights1 - self.lambda_val * attn_weights2\n",
    "        \n",
    "        # Apply attention to values\n",
    "        output = torch.matmul(diff_attn, v)\n",
    "        \n",
    "        return output\n",
    "\n",
    "class MultiHeadDifferentialAttention(nn.Module):\n",
    "    \"\"\"\n",
    "    Multi-Head Differential Attention as described in the paper\n",
    "    \n",
    "    Following the pseudocode:\n",
    "    def MultiHead(X, W_q, W_k, W_v, W_o, λ):\n",
    "        O = GroupNorm([DiffAttn(X, W_qi, W_ki, W_vi, λ) for i in range(h)])\n",
    "        O = O ∗ (1 − λinit)\n",
    "        return Concat(O) @ W_o\n",
    "    \"\"\"\n",
    "    def __init__(self, d_model, num_heads, lambda_init=0.5):\n",
    "        super(MultiHeadDifferentialAttention, self).__init__()\n",
    "        self.num_heads = num_heads\n",
    "        self.d_model = d_model\n",
    "        self.lambda_init = lambda_init\n",
    "        \n",
    "        assert d_model % num_heads == 0, \"d_model must be divisible by num_heads\"\n",
    "        \n",
    "        self.d_head = d_model // num_heads\n",
    "        \n",
    "        # Create multiple differential attention heads\n",
    "        self.heads = nn.ModuleList([\n",
    "            DifferentialAttention(d_model, self.d_head, lambda_init)\n",
    "            for _ in range(num_heads)\n",
    "        ])\n",
    "        \n",
    "        # Use LayerNorm instead of GroupNorm to avoid dimension issues\n",
    "        # LayerNorm is also typically used in transformers\n",
    "        self.layer_norm = nn.LayerNorm(d_model)\n",
    "        \n",
    "        # Final projection\n",
    "        self.output_proj = nn.Linear(d_model, d_model)\n",
    "        \n",
    "    def forward(self, x, mask=None):\n",
    "        batch_size = x.shape[0]\n",
    "        \n",
    "        # Apply differential attention for each head\n",
    "        head_outputs = [head(x, mask) for head in self.heads]\n",
    "        \n",
    "        # Concatenate outputs from all heads\n",
    "        multi_head_output = torch.cat(head_outputs, dim=-1)\n",
    "        \n",
    "        # Apply layer normalization\n",
    "        multi_head_output = self.layer_norm(multi_head_output)\n",
    "        \n",
    "        # Scale output by (1 - λinit) as mentioned in the paper\n",
    "        multi_head_output = multi_head_output * (1 - self.lambda_init)\n",
    "        \n",
    "        # Final projection\n",
    "        output = self.output_proj(multi_head_output)\n",
    "        \n",
    "        return output\n",
    "\n",
    "class TransformerEncoderLayer(nn.Module):\n",
    "    \"\"\"Transformer Encoder Layer with Differential Attention\"\"\"\n",
    "    def __init__(self, d_model, num_heads, dim_ff, dropout=0.1, lambda_init=0.5):\n",
    "        super(TransformerEncoderLayer, self).__init__()\n",
    "        self.norm1 = nn.LayerNorm(d_model)\n",
    "        self.norm2 = nn.LayerNorm(d_model)\n",
    "        \n",
    "        # Use differential attention\n",
    "        self.attention = MultiHeadDifferentialAttention(d_model, num_heads, lambda_init)\n",
    "        \n",
    "        self.ffn = nn.Sequential(\n",
    "            nn.Linear(d_model, dim_ff),\n",
    "            nn.GELU(),\n",
    "            nn.Dropout(dropout),\n",
    "            nn.Linear(dim_ff, d_model),\n",
    "            nn.Dropout(dropout)\n",
    "        )\n",
    "        self.dropout = nn.Dropout(dropout)\n",
    "        \n",
    "    def forward(self, x, mask=None):\n",
    "        # Pre-LayerNorm architecture\n",
    "        attn_output = self.attention(self.norm1(x), mask)\n",
    "        # Residual connection\n",
    "        x = x + self.dropout(attn_output)\n",
    "        \n",
    "        # Feed forward with residual connection\n",
    "        ff_output = self.ffn(self.norm2(x))\n",
    "        x = x + self.dropout(ff_output)\n",
    "        \n",
    "        return x\n",
    "\n",
    "class DifferentialVisionTransformer(nn.Module):\n",
    "    \"\"\"\n",
    "    Vision Transformer with Differential Attention\n",
    "    \"\"\"\n",
    "    def __init__(self, \n",
    "                 image_size=32,        # CIFAR-10 image size\n",
    "                 patch_size=4,         # patch size (2 or 4)\n",
    "                 in_channels=3,        # RGB images\n",
    "                 num_classes=10,       # CIFAR-10 has 10 classes\n",
    "                 d_model=192,          # embedding dimension\n",
    "                 num_heads=8,          # number of heads in attention\n",
    "                 num_layers=8,         # number of transformer encoder layers\n",
    "                 dim_ff=768,           # feed-forward network dimension\n",
    "                 dropout=0.1,\n",
    "                 lambda_init=0.5,      # lambda parameter for differential attention\n",
    "                 pos_embedding_type='1d_learned'):  # type of positional embedding\n",
    "        super(DifferentialVisionTransformer, self).__init__()\n",
    "        \n",
    "        # Image and patch parameters\n",
    "        self.image_size = image_size\n",
    "        self.patch_size = patch_size\n",
    "        self.in_channels = in_channels\n",
    "        \n",
    "        # Calculate the number of patches\n",
    "        assert image_size % patch_size == 0, \"Image size must be divisible by patch size\"\n",
    "        num_patches = (image_size // patch_size) ** 2\n",
    "        patch_dim = in_channels * patch_size * patch_size\n",
    "        \n",
    "        # Linear projection of flattened patches\n",
    "        self.patch_embedding = nn.Linear(patch_dim, d_model)\n",
    "        \n",
    "        # Class token\n",
    "        self.cls_token = nn.Parameter(torch.zeros(1, 1, d_model))\n",
    "        \n",
    "        # Positional embedding based on type\n",
    "        grid_size = (image_size // patch_size, image_size // patch_size)\n",
    "        if pos_embedding_type == 'none':\n",
    "            self.pos_embedding_layer = NoPositionalEmbedding(d_model, num_patches + 1)\n",
    "        elif pos_embedding_type == '1d_learned':\n",
    "            self.pos_embedding_layer = Learned1DPositionalEmbedding(d_model, num_patches + 1)\n",
    "        elif pos_embedding_type == '2d_learned':\n",
    "            self.pos_embedding_layer = Learned2DPositionalEmbedding(d_model, num_patches + 1, grid_size)\n",
    "        elif pos_embedding_type == 'sinusoidal':\n",
    "            self.pos_embedding_layer = SinusoidalPositionalEmbedding(d_model, num_patches + 1)\n",
    "        else:\n",
    "            raise ValueError(f\"Unknown positional embedding type: {pos_embedding_type}\")\n",
    "        \n",
    "        # Dropout after position embedding\n",
    "        self.dropout = nn.Dropout(dropout)\n",
    "        \n",
    "        # Transformer encoder with differential attention\n",
    "        self.encoder_layers = nn.ModuleList([\n",
    "            TransformerEncoderLayer(d_model, num_heads, dim_ff, dropout, lambda_init)\n",
    "            for _ in range(num_layers)\n",
    "        ])\n",
    "        \n",
    "        # Layer normalization\n",
    "        self.norm = nn.LayerNorm(d_model)\n",
    "        \n",
    "        # MLP Head for classification\n",
    "        self.mlp_head = nn.Linear(d_model, num_classes)\n",
    "        \n",
    "        # Initialize weights\n",
    "        self.init_weights()\n",
    "        \n",
    "    def init_weights(self):\n",
    "        # Initialize patch embedding\n",
    "        nn.init.xavier_uniform_(self.patch_embedding.weight)\n",
    "        nn.init.zeros_(self.patch_embedding.bias)\n",
    "        \n",
    "        # Initialize cls token\n",
    "        nn.init.normal_(self.cls_token, std=0.02)\n",
    "        \n",
    "    def forward(self, x):\n",
    "        # x shape: [batch_size, channels, height, width]\n",
    "        batch_size = x.shape[0]\n",
    "        \n",
    "        # Extract patches: [B, C, H, W] -> [B, num_patches, C*P*P]\n",
    "        # Where P is the patch size\n",
    "        x = x.unfold(2, self.patch_size, self.patch_size).unfold(3, self.patch_size, self.patch_size)\n",
    "        x = x.contiguous().view(batch_size, self.in_channels, -1, self.patch_size * self.patch_size)\n",
    "        x = x.permute(0, 2, 1, 3).contiguous().view(batch_size, -1, self.in_channels * self.patch_size * self.patch_size)\n",
    "        \n",
    "        # Linear embedding of patches\n",
    "        x = self.patch_embedding(x)  # [B, num_patches, d_model]\n",
    "        \n",
    "        # Add class token\n",
    "        cls_tokens = self.cls_token.expand(batch_size, -1, -1)  # [B, 1, d_model]\n",
    "        x = torch.cat((cls_tokens, x), dim=1)  # [B, 1+num_patches, d_model]\n",
    "        \n",
    "        # Add positional embedding\n",
    "        x = self.pos_embedding_layer(x)\n",
    "        x = self.dropout(x)\n",
    "        \n",
    "        # Apply transformer encoder layers with differential attention\n",
    "        for layer in self.encoder_layers:\n",
    "            x = layer(x)\n",
    "        \n",
    "        # Apply layer normalization\n",
    "        x = self.norm(x)\n",
    "        \n",
    "        # Take the cls token representation\n",
    "        x = x[:, 0]  # [B, d_model]\n",
    "        \n",
    "        # Classification head\n",
    "        x = self.mlp_head(x)  # [B, num_classes]\n",
    "        \n",
    "        return x\n",
    "\n",
    "def get_data_loaders(batch_size=128):\n",
    "    \"\"\"Create CIFAR-10 dataloaders\"\"\"\n",
    "    transform_train = transforms.Compose([\n",
    "        transforms.RandomCrop(32, padding=4),\n",
    "        transforms.RandomHorizontalFlip(),\n",
    "        transforms.ToTensor(),\n",
    "        transforms.Normalize((0.4914, 0.4822, 0.4465), (0.2470, 0.2435, 0.2616)),\n",
    "    ])\n",
    "    \n",
    "    transform_test = transforms.Compose([\n",
    "        transforms.ToTensor(),\n",
    "        transforms.Normalize((0.4914, 0.4822, 0.4465), (0.2470, 0.2435, 0.2616)),\n",
    "    ])\n",
    "\n",
    "    trainset = torchvision.datasets.CIFAR10(\n",
    "        root='./data', train=True, download=True, transform=transform_train)\n",
    "    trainloader = DataLoader(\n",
    "        trainset, batch_size=batch_size, shuffle=True, num_workers=2)\n",
    "\n",
    "    testset = torchvision.datasets.CIFAR10(\n",
    "        root='./data', train=False, download=True, transform=transform_test)\n",
    "    testloader = DataLoader(\n",
    "        testset, batch_size=batch_size, shuffle=False, num_workers=2)\n",
    "    \n",
    "    # Create a validation set\n",
    "    val_size = 5000\n",
    "    train_size = len(trainset) - val_size\n",
    "    \n",
    "    train_subset, val_subset = torch.utils.data.random_split(\n",
    "        trainset, [train_size, val_size], \n",
    "        generator=torch.Generator().manual_seed(42))\n",
    "    \n",
    "    valloader = DataLoader(\n",
    "        val_subset, batch_size=batch_size, shuffle=False, num_workers=2)\n",
    "    \n",
    "    train_subset_loader = DataLoader(\n",
    "        train_subset, batch_size=batch_size, shuffle=True, num_workers=2)\n",
    "    \n",
    "    return train_subset_loader, valloader, testloader\n",
    "\n",
    "def train_model(model, train_loader, val_loader, epochs=30, lr=3e-4, weight_decay=1e-4, model_name='diff_vit'):\n",
    "    \"\"\"Train the Differential Vision Transformer model\"\"\"\n",
    "    device = torch.device(\"cuda\" if torch.cuda.is_available() else \"cpu\")\n",
    "    print(f\"Using device: {device}\")\n",
    "    \n",
    "    model = model.to(device)\n",
    "    criterion = nn.CrossEntropyLoss()\n",
    "    optimizer = optim.AdamW(model.parameters(), lr=lr, weight_decay=weight_decay)\n",
    "    scheduler = optim.lr_scheduler.CosineAnnealingLR(optimizer, T_max=epochs)\n",
    "    \n",
    "    # For tracking metrics\n",
    "    train_losses = []\n",
    "    train_accs = []\n",
    "    val_losses = []\n",
    "    val_accs = []\n",
    "    \n",
    "    # For saving the best model\n",
    "    best_val_acc = 0\n",
    "    best_model_path = f'best_{model_name}_model.pth'\n",
    "    \n",
    "    for epoch in range(epochs):\n",
    "        # Training\n",
    "        model.train()\n",
    "        train_loss = 0\n",
    "        correct = 0\n",
    "        total = 0\n",
    "        \n",
    "        pbar = tqdm(train_loader, desc=f'Epoch {epoch+1}/{epochs} [Train]')\n",
    "        for batch_idx, (inputs, targets) in enumerate(pbar):\n",
    "            inputs, targets = inputs.to(device), targets.to(device)\n",
    "            \n",
    "            optimizer.zero_grad()\n",
    "            outputs = model(inputs)\n",
    "            loss = criterion(outputs, targets)\n",
    "            loss.backward()\n",
    "            optimizer.step()\n",
    "            \n",
    "            train_loss += loss.item()\n",
    "            _, predicted = outputs.max(1)\n",
    "            total += targets.size(0)\n",
    "            correct += predicted.eq(targets).sum().item()\n",
    "            \n",
    "            pbar.set_postfix({\n",
    "                'loss': train_loss/(batch_idx+1), \n",
    "                'acc': 100.*correct/total\n",
    "            })\n",
    "        \n",
    "        train_loss = train_loss / len(train_loader)\n",
    "        train_acc = 100. * correct / total\n",
    "        \n",
    "        train_losses.append(train_loss)\n",
    "        train_accs.append(train_acc)\n",
    "        \n",
    "        # Validation\n",
    "        model.eval()\n",
    "        val_loss = 0\n",
    "        correct = 0\n",
    "        total = 0\n",
    "        \n",
    "        with torch.no_grad():\n",
    "            pbar = tqdm(val_loader, desc=f'Epoch {epoch+1}/{epochs} [Val]')\n",
    "            for batch_idx, (inputs, targets) in enumerate(pbar):\n",
    "                inputs, targets = inputs.to(device), targets.to(device)\n",
    "                \n",
    "                outputs = model(inputs)\n",
    "                loss = criterion(outputs, targets)\n",
    "                \n",
    "                val_loss += loss.item()\n",
    "                _, predicted = outputs.max(1)\n",
    "                total += targets.size(0)\n",
    "                correct += predicted.eq(targets).sum().item()\n",
    "                \n",
    "                pbar.set_postfix({\n",
    "                    'loss': val_loss/(batch_idx+1), \n",
    "                    'acc': 100.*correct/total\n",
    "                })\n",
    "        \n",
    "        val_loss = val_loss / len(val_loader)\n",
    "        val_acc = 100. * correct / total\n",
    "        \n",
    "        val_losses.append(val_loss)\n",
    "        val_accs.append(val_acc)\n",
    "        \n",
    "        # Print stats\n",
    "        print(f'Epoch {epoch+1}/{epochs}:')\n",
    "        print(f'Train Loss: {train_loss:.4f} | Train Acc: {train_acc:.2f}%')\n",
    "        print(f'Val Loss: {val_loss:.4f} | Val Acc: {val_acc:.2f}%')\n",
    "        \n",
    "        # Save the best model\n",
    "        if val_acc > best_val_acc:\n",
    "            print(f'Validation accuracy improved from {best_val_acc:.2f}% to {val_acc:.2f}%, saving model...')\n",
    "            best_val_acc = val_acc\n",
    "            torch.save(model.state_dict(), best_model_path)\n",
    "        \n",
    "        # Update learning rate\n",
    "        scheduler.step()\n",
    "    \n",
    "    print(f'Best validation accuracy: {best_val_acc:.2f}%')\n",
    "    return train_losses, train_accs, val_losses, val_accs\n",
    "\n",
    "def evaluate_model(model, test_loader):\n",
    "    \"\"\"Evaluate the trained model on the test set\"\"\"\n",
    "    device = torch.device(\"cuda\" if torch.cuda.is_available() else \"cpu\")\n",
    "    model = model.to(device)\n",
    "    model.eval()\n",
    "    \n",
    "    correct = 0\n",
    "    total = 0\n",
    "    \n",
    "    with torch.no_grad():\n",
    "        for inputs, targets in tqdm(test_loader, desc='Evaluating on test set'):\n",
    "            inputs, targets = inputs.to(device), targets.to(device)\n",
    "            \n",
    "            outputs = model(inputs)\n",
    "            _, predicted = outputs.max(1)\n",
    "            \n",
    "            total += targets.size(0)\n",
    "            correct += predicted.eq(targets).sum().item()\n",
    "    \n",
    "    test_acc = 100. * correct / total\n",
    "    print(f'Test accuracy: {test_acc:.2f}%')\n",
    "    return test_acc\n",
    "\n",
    "def plot_metrics(train_losses, val_losses, train_accs, val_accs, title_suffix=\"\", filename_prefix=\"diff_vit\"):\n",
    "    \"\"\"Plot training and validation metrics\"\"\"\n",
    "    plt.figure(figsize=(12, 5))\n",
    "    \n",
    "    # Plot losses\n",
    "    plt.subplot(1, 2, 1)\n",
    "    plt.plot(train_losses, label='Train Loss')\n",
    "    plt.plot(val_losses, label='Validation Loss')\n",
    "    plt.xlabel('Epoch')\n",
    "    plt.ylabel('Loss')\n",
    "    plt.title(f'Training and Validation Loss{title_suffix}')\n",
    "    plt.legend()\n",
    "    plt.grid(True)\n",
    "    \n",
    "    # Plot accuracies\n",
    "    plt.subplot(1, 2, 2)\n",
    "    plt.plot(train_accs, label='Train Accuracy')\n",
    "    plt.plot(val_accs, label='Validation Accuracy')\n",
    "    plt.xlabel('Epoch')\n",
    "    plt.ylabel('Accuracy (%)')\n",
    "    plt.title(f'Training and Validation Accuracy{title_suffix}')\n",
    "    plt.legend()\n",
    "    plt.grid(True)\n",
    "    \n",
    "    plt.tight_layout()\n",
    "    plt.savefig(f'{filename_prefix}_metrics.png')\n",
    "    plt.show()\n",
    "\n",
    "\n",
    "\n",
    "def compare_positional_embeddings():\n",
    "    \"\"\"Compare different positional embedding types for Differential ViT\"\"\"\n",
    "    pos_embedding_types = ['none', '1d_learned', '2d_learned', 'sinusoidal']\n",
    "    results = {}\n",
    "    \n",
    "    # Store training stats for later comparison\n",
    "    all_training_stats = {}\n",
    "    \n",
    "    # Hyperparameters\n",
    "    batch_size = 128\n",
    "    epochs = 50\n",
    "    lr = 3e-4\n",
    "    weight_decay = 1e-4\n",
    "    lambda_init = 0.5\n",
    "    \n",
    "    # Get data loaders\n",
    "    train_loader, val_loader, test_loader = get_data_loaders(batch_size)\n",
    "    \n",
    "    for pos_type in pos_embedding_types:\n",
    "        print(f\"\\n\\n{'='*50}\")\n",
    "        print(f\"Testing positional embedding type: {pos_type}\")\n",
    "        print(f\"{'='*50}\\n\")\n",
    "        \n",
    "        # Create model with the current positional embedding type\n",
    "        model = DifferentialVisionTransformer(\n",
    "            image_size=32, \n",
    "            patch_size=4, \n",
    "            in_channels=3, \n",
    "            num_classes=10,\n",
    "            d_model=192, \n",
    "            num_heads=8, \n",
    "            num_layers=8, \n",
    "            dim_ff=768, \n",
    "            dropout=0.1,\n",
    "            lambda_init=lambda_init,\n",
    "            pos_embedding_type=pos_type\n",
    "        )\n",
    "        \n",
    "        model_name = f'diff_vit_{pos_type}'\n",
    "        \n",
    "        # Train model\n",
    "        train_losses, train_accs, val_losses, val_accs = train_model(\n",
    "            model, train_loader, val_loader, \n",
    "            epochs=epochs, \n",
    "            lr=lr, \n",
    "            weight_decay=weight_decay, \n",
    "            model_name=model_name\n",
    "        )\n",
    "        \n",
    "        # Store training stats for this model\n",
    "        all_training_stats[pos_type] = {\n",
    "            'train_losses': train_losses,\n",
    "            'val_losses': val_losses,\n",
    "            'train_accs': train_accs,\n",
    "            'val_accs': val_accs\n",
    "        }\n",
    "        \n",
    "        # Load best model and evaluate\n",
    "        best_model = DifferentialVisionTransformer(\n",
    "            image_size=32, \n",
    "            patch_size=4, \n",
    "            in_channels=3, \n",
    "            num_classes=10,\n",
    "            d_model=192, \n",
    "            num_heads=8, \n",
    "            num_layers=8, \n",
    "            dim_ff=768, \n",
    "            dropout=0.1,\n",
    "            lambda_init=lambda_init,\n",
    "            pos_embedding_type=pos_type\n",
    "        )\n",
    "        best_model.load_state_dict(torch.load(f'best_{model_name}_model.pth'))\n",
    "        \n",
    "        test_acc = evaluate_model(best_model, test_loader)\n",
    "        results[pos_type] = test_acc\n",
    "        \n",
    "        # Plot metrics\n",
    "        plot_metrics(\n",
    "            train_losses, val_losses, train_accs, val_accs,\n",
    "            title_suffix=f\" - {pos_type} Positional Embedding\", \n",
    "            filename_prefix=f\"diff_vit_{pos_type}\"\n",
    "        )\n",
    "    \n",
    "    # Print and plot results summary\n",
    "    print(\"\\n\\nPositional Embedding Results Summary:\")\n",
    "    print(\"-\" * 50)\n",
    "    for pos_type, acc in sorted(results.items(), key=lambda x: x[1], reverse=True):\n",
    "        print(f\"{pos_type.ljust(15)}: {acc:.2f}%\")\n",
    "    \n",
    "    # Plot bar chart of results\n",
    "    plt.figure(figsize=(12, 6))\n",
    "    plt.bar(results.keys(), results.values())\n",
    "    plt.xlabel('Positional Embedding Type')\n",
    "    plt.ylabel('Test Accuracy (%)')\n",
    "    plt.title('Effect of Different Positional Embeddings on Test Accuracy')\n",
    "    plt.ylim(bottom=max(0, min(results.values()) - 5))  # Better visualization\n",
    "    plt.savefig('diff_vit_positional_embedding_comparison.png')\n",
    "    plt.show()\n",
    "    \n",
    "    # Plot all loss curves together\n",
    "    plt.figure(figsize=(12, 6))\n",
    "    for pos_type in pos_embedding_types:\n",
    "        plt.plot(all_training_stats[pos_type]['val_losses'], label=pos_type)\n",
    "    \n",
    "    plt.xlabel('Epoch')\n",
    "    plt.ylabel('Validation Loss')\n",
    "    plt.title('Validation Loss Across Different Positional Embeddings')\n",
    "    plt.legend()\n",
    "    plt.grid(True)\n",
    "    plt.savefig('diff_vit_all_pos_embedding_loss_comparison.png')\n",
    "    plt.show()\n",
    "    \n",
    "    return results"
   ]
  },
  {
   "cell_type": "code",
   "execution_count": 2,
   "id": "2dde1a25",
   "metadata": {
    "execution": {
     "iopub.execute_input": "2025-04-20T12:09:25.052527Z",
     "iopub.status.busy": "2025-04-20T12:09:25.052014Z",
     "iopub.status.idle": "2025-04-20T14:56:24.485749Z",
     "shell.execute_reply": "2025-04-20T14:56:24.485057Z"
    },
    "papermill": {
     "duration": 10019.437038,
     "end_time": "2025-04-20T14:56:24.486824",
     "exception": false,
     "start_time": "2025-04-20T12:09:25.049786",
     "status": "completed"
    },
    "tags": []
   },
   "outputs": [
    {
     "name": "stdout",
     "output_type": "stream",
     "text": [
      "Downloading https://www.cs.toronto.edu/~kriz/cifar-10-python.tar.gz to ./data/cifar-10-python.tar.gz\n"
     ]
    },
    {
     "name": "stderr",
     "output_type": "stream",
     "text": [
      "100%|██████████| 170M/170M [00:03<00:00, 43.9MB/s]\n"
     ]
    },
    {
     "name": "stdout",
     "output_type": "stream",
     "text": [
      "Extracting ./data/cifar-10-python.tar.gz to ./data\n",
      "Files already downloaded and verified\n",
      "\n",
      "\n",
      "==================================================\n",
      "Testing positional embedding type: none\n",
      "==================================================\n",
      "\n",
      "Using device: cuda\n"
     ]
    },
    {
     "name": "stderr",
     "output_type": "stream",
     "text": [
      "Epoch 1/50 [Train]: 100%|██████████| 352/352 [00:46<00:00,  7.55it/s, loss=1.77, acc=34]\n",
      "Epoch 1/50 [Val]: 100%|██████████| 40/40 [00:01<00:00, 23.05it/s, loss=1.56, acc=42.1]\n"
     ]
    },
    {
     "name": "stdout",
     "output_type": "stream",
     "text": [
      "Epoch 1/50:\n",
      "Train Loss: 1.7679 | Train Acc: 34.00%\n",
      "Val Loss: 1.5584 | Val Acc: 42.10%\n",
      "Validation accuracy improved from 0.00% to 42.10%, saving model...\n"
     ]
    },
    {
     "name": "stderr",
     "output_type": "stream",
     "text": [
      "Epoch 2/50 [Train]: 100%|██████████| 352/352 [00:46<00:00,  7.60it/s, loss=1.49, acc=45.6]\n",
      "Epoch 2/50 [Val]: 100%|██████████| 40/40 [00:01<00:00, 22.87it/s, loss=1.37, acc=49.4]\n"
     ]
    },
    {
     "name": "stdout",
     "output_type": "stream",
     "text": [
      "Epoch 2/50:\n",
      "Train Loss: 1.4858 | Train Acc: 45.63%\n",
      "Val Loss: 1.3694 | Val Acc: 49.40%\n",
      "Validation accuracy improved from 42.10% to 49.40%, saving model...\n"
     ]
    },
    {
     "name": "stderr",
     "output_type": "stream",
     "text": [
      "Epoch 3/50 [Train]: 100%|██████████| 352/352 [00:46<00:00,  7.58it/s, loss=1.37, acc=49.9]\n",
      "Epoch 3/50 [Val]: 100%|██████████| 40/40 [00:01<00:00, 23.01it/s, loss=1.31, acc=52.3]\n"
     ]
    },
    {
     "name": "stdout",
     "output_type": "stream",
     "text": [
      "Epoch 3/50:\n",
      "Train Loss: 1.3700 | Train Acc: 49.95%\n",
      "Val Loss: 1.3058 | Val Acc: 52.30%\n",
      "Validation accuracy improved from 49.40% to 52.30%, saving model...\n"
     ]
    },
    {
     "name": "stderr",
     "output_type": "stream",
     "text": [
      "Epoch 4/50 [Train]: 100%|██████████| 352/352 [00:46<00:00,  7.53it/s, loss=1.29, acc=52.9]\n",
      "Epoch 4/50 [Val]: 100%|██████████| 40/40 [00:01<00:00, 22.18it/s, loss=1.23, acc=55.4]\n"
     ]
    },
    {
     "name": "stdout",
     "output_type": "stream",
     "text": [
      "Epoch 4/50:\n",
      "Train Loss: 1.2912 | Train Acc: 52.93%\n",
      "Val Loss: 1.2336 | Val Acc: 55.38%\n",
      "Validation accuracy improved from 52.30% to 55.38%, saving model...\n"
     ]
    },
    {
     "name": "stderr",
     "output_type": "stream",
     "text": [
      "Epoch 5/50 [Train]: 100%|██████████| 352/352 [00:46<00:00,  7.55it/s, loss=1.23, acc=55.6]\n",
      "Epoch 5/50 [Val]: 100%|██████████| 40/40 [00:01<00:00, 22.17it/s, loss=1.18, acc=57.3]\n"
     ]
    },
    {
     "name": "stdout",
     "output_type": "stream",
     "text": [
      "Epoch 5/50:\n",
      "Train Loss: 1.2312 | Train Acc: 55.63%\n",
      "Val Loss: 1.1797 | Val Acc: 57.34%\n",
      "Validation accuracy improved from 55.38% to 57.34%, saving model...\n"
     ]
    },
    {
     "name": "stderr",
     "output_type": "stream",
     "text": [
      "Epoch 6/50 [Train]: 100%|██████████| 352/352 [00:46<00:00,  7.49it/s, loss=1.19, acc=57]\n",
      "Epoch 6/50 [Val]: 100%|██████████| 40/40 [00:01<00:00, 22.35it/s, loss=1.16, acc=57.9]\n"
     ]
    },
    {
     "name": "stdout",
     "output_type": "stream",
     "text": [
      "Epoch 6/50:\n",
      "Train Loss: 1.1885 | Train Acc: 57.02%\n",
      "Val Loss: 1.1567 | Val Acc: 57.92%\n",
      "Validation accuracy improved from 57.34% to 57.92%, saving model...\n"
     ]
    },
    {
     "name": "stderr",
     "output_type": "stream",
     "text": [
      "Epoch 7/50 [Train]: 100%|██████████| 352/352 [00:47<00:00,  7.46it/s, loss=1.14, acc=58.7]\n",
      "Epoch 7/50 [Val]: 100%|██████████| 40/40 [00:01<00:00, 21.44it/s, loss=1.18, acc=58.1]\n"
     ]
    },
    {
     "name": "stdout",
     "output_type": "stream",
     "text": [
      "Epoch 7/50:\n",
      "Train Loss: 1.1417 | Train Acc: 58.75%\n",
      "Val Loss: 1.1784 | Val Acc: 58.12%\n",
      "Validation accuracy improved from 57.92% to 58.12%, saving model...\n"
     ]
    },
    {
     "name": "stderr",
     "output_type": "stream",
     "text": [
      "Epoch 8/50 [Train]: 100%|██████████| 352/352 [00:47<00:00,  7.47it/s, loss=1.11, acc=60.1]\n",
      "Epoch 8/50 [Val]: 100%|██████████| 40/40 [00:01<00:00, 22.77it/s, loss=1.09, acc=60.5]\n"
     ]
    },
    {
     "name": "stdout",
     "output_type": "stream",
     "text": [
      "Epoch 8/50:\n",
      "Train Loss: 1.1054 | Train Acc: 60.11%\n",
      "Val Loss: 1.0946 | Val Acc: 60.50%\n",
      "Validation accuracy improved from 58.12% to 60.50%, saving model...\n"
     ]
    },
    {
     "name": "stderr",
     "output_type": "stream",
     "text": [
      "Epoch 9/50 [Train]: 100%|██████████| 352/352 [00:46<00:00,  7.54it/s, loss=1.07, acc=61.4]\n",
      "Epoch 9/50 [Val]: 100%|██████████| 40/40 [00:01<00:00, 22.35it/s, loss=1.09, acc=60.2]\n"
     ]
    },
    {
     "name": "stdout",
     "output_type": "stream",
     "text": [
      "Epoch 9/50:\n",
      "Train Loss: 1.0720 | Train Acc: 61.42%\n",
      "Val Loss: 1.0905 | Val Acc: 60.20%\n"
     ]
    },
    {
     "name": "stderr",
     "output_type": "stream",
     "text": [
      "Epoch 10/50 [Train]: 100%|██████████| 352/352 [00:47<00:00,  7.44it/s, loss=1.04, acc=62.6]\n",
      "Epoch 10/50 [Val]: 100%|██████████| 40/40 [00:01<00:00, 21.21it/s, loss=1.04, acc=62]\n"
     ]
    },
    {
     "name": "stdout",
     "output_type": "stream",
     "text": [
      "Epoch 10/50:\n",
      "Train Loss: 1.0425 | Train Acc: 62.60%\n",
      "Val Loss: 1.0411 | Val Acc: 61.96%\n",
      "Validation accuracy improved from 60.50% to 61.96%, saving model...\n"
     ]
    },
    {
     "name": "stderr",
     "output_type": "stream",
     "text": [
      "Epoch 11/50 [Train]: 100%|██████████| 352/352 [00:46<00:00,  7.50it/s, loss=1.01, acc=63.3]\n",
      "Epoch 11/50 [Val]: 100%|██████████| 40/40 [00:02<00:00, 19.41it/s, loss=1.03, acc=62.9]\n"
     ]
    },
    {
     "name": "stdout",
     "output_type": "stream",
     "text": [
      "Epoch 11/50:\n",
      "Train Loss: 1.0147 | Train Acc: 63.30%\n",
      "Val Loss: 1.0323 | Val Acc: 62.92%\n",
      "Validation accuracy improved from 61.96% to 62.92%, saving model...\n"
     ]
    },
    {
     "name": "stderr",
     "output_type": "stream",
     "text": [
      "Epoch 12/50 [Train]: 100%|██████████| 352/352 [00:47<00:00,  7.47it/s, loss=0.987, acc=64.5]\n",
      "Epoch 12/50 [Val]: 100%|██████████| 40/40 [00:01<00:00, 21.84it/s, loss=1.03, acc=62.5]\n"
     ]
    },
    {
     "name": "stdout",
     "output_type": "stream",
     "text": [
      "Epoch 12/50:\n",
      "Train Loss: 0.9875 | Train Acc: 64.51%\n",
      "Val Loss: 1.0322 | Val Acc: 62.46%\n"
     ]
    },
    {
     "name": "stderr",
     "output_type": "stream",
     "text": [
      "Epoch 13/50 [Train]: 100%|██████████| 352/352 [00:47<00:00,  7.47it/s, loss=0.962, acc=65.4]\n",
      "Epoch 13/50 [Val]: 100%|██████████| 40/40 [00:01<00:00, 21.98it/s, loss=1.02, acc=63]\n"
     ]
    },
    {
     "name": "stdout",
     "output_type": "stream",
     "text": [
      "Epoch 13/50:\n",
      "Train Loss: 0.9621 | Train Acc: 65.44%\n",
      "Val Loss: 1.0209 | Val Acc: 63.04%\n",
      "Validation accuracy improved from 62.92% to 63.04%, saving model...\n"
     ]
    },
    {
     "name": "stderr",
     "output_type": "stream",
     "text": [
      "Epoch 14/50 [Train]: 100%|██████████| 352/352 [00:47<00:00,  7.49it/s, loss=0.933, acc=66.8]\n",
      "Epoch 14/50 [Val]: 100%|██████████| 40/40 [00:01<00:00, 22.21it/s, loss=0.966, acc=65.1]\n"
     ]
    },
    {
     "name": "stdout",
     "output_type": "stream",
     "text": [
      "Epoch 14/50:\n",
      "Train Loss: 0.9327 | Train Acc: 66.76%\n",
      "Val Loss: 0.9663 | Val Acc: 65.06%\n",
      "Validation accuracy improved from 63.04% to 65.06%, saving model...\n"
     ]
    },
    {
     "name": "stderr",
     "output_type": "stream",
     "text": [
      "Epoch 15/50 [Train]: 100%|██████████| 352/352 [00:47<00:00,  7.46it/s, loss=0.913, acc=67.6]\n",
      "Epoch 15/50 [Val]: 100%|██████████| 40/40 [00:01<00:00, 22.05it/s, loss=0.923, acc=67.4]\n"
     ]
    },
    {
     "name": "stdout",
     "output_type": "stream",
     "text": [
      "Epoch 15/50:\n",
      "Train Loss: 0.9129 | Train Acc: 67.56%\n",
      "Val Loss: 0.9231 | Val Acc: 67.44%\n",
      "Validation accuracy improved from 65.06% to 67.44%, saving model...\n"
     ]
    },
    {
     "name": "stderr",
     "output_type": "stream",
     "text": [
      "Epoch 16/50 [Train]: 100%|██████████| 352/352 [00:47<00:00,  7.48it/s, loss=0.893, acc=68.1]\n",
      "Epoch 16/50 [Val]: 100%|██████████| 40/40 [00:01<00:00, 21.47it/s, loss=0.981, acc=64.6]\n"
     ]
    },
    {
     "name": "stdout",
     "output_type": "stream",
     "text": [
      "Epoch 16/50:\n",
      "Train Loss: 0.8934 | Train Acc: 68.06%\n",
      "Val Loss: 0.9812 | Val Acc: 64.60%\n"
     ]
    },
    {
     "name": "stderr",
     "output_type": "stream",
     "text": [
      "Epoch 17/50 [Train]: 100%|██████████| 352/352 [00:47<00:00,  7.45it/s, loss=0.874, acc=68.5]\n",
      "Epoch 17/50 [Val]: 100%|██████████| 40/40 [00:01<00:00, 23.18it/s, loss=0.937, acc=66.4]\n"
     ]
    },
    {
     "name": "stdout",
     "output_type": "stream",
     "text": [
      "Epoch 17/50:\n",
      "Train Loss: 0.8739 | Train Acc: 68.51%\n",
      "Val Loss: 0.9369 | Val Acc: 66.38%\n"
     ]
    },
    {
     "name": "stderr",
     "output_type": "stream",
     "text": [
      "Epoch 18/50 [Train]: 100%|██████████| 352/352 [00:46<00:00,  7.55it/s, loss=0.85, acc=69.4]\n",
      "Epoch 18/50 [Val]: 100%|██████████| 40/40 [00:01<00:00, 22.08it/s, loss=0.953, acc=67.1]\n"
     ]
    },
    {
     "name": "stdout",
     "output_type": "stream",
     "text": [
      "Epoch 18/50:\n",
      "Train Loss: 0.8498 | Train Acc: 69.38%\n",
      "Val Loss: 0.9534 | Val Acc: 67.12%\n"
     ]
    },
    {
     "name": "stderr",
     "output_type": "stream",
     "text": [
      "Epoch 19/50 [Train]: 100%|██████████| 352/352 [00:46<00:00,  7.53it/s, loss=0.83, acc=70.3]\n",
      "Epoch 19/50 [Val]: 100%|██████████| 40/40 [00:01<00:00, 21.74it/s, loss=0.9, acc=68.8]\n"
     ]
    },
    {
     "name": "stdout",
     "output_type": "stream",
     "text": [
      "Epoch 19/50:\n",
      "Train Loss: 0.8304 | Train Acc: 70.29%\n",
      "Val Loss: 0.9002 | Val Acc: 68.80%\n",
      "Validation accuracy improved from 67.44% to 68.80%, saving model...\n"
     ]
    },
    {
     "name": "stderr",
     "output_type": "stream",
     "text": [
      "Epoch 20/50 [Train]: 100%|██████████| 352/352 [00:46<00:00,  7.55it/s, loss=0.81, acc=70.7]\n",
      "Epoch 20/50 [Val]: 100%|██████████| 40/40 [00:01<00:00, 23.06it/s, loss=0.931, acc=67.8]\n"
     ]
    },
    {
     "name": "stdout",
     "output_type": "stream",
     "text": [
      "Epoch 20/50:\n",
      "Train Loss: 0.8104 | Train Acc: 70.71%\n",
      "Val Loss: 0.9310 | Val Acc: 67.78%\n"
     ]
    },
    {
     "name": "stderr",
     "output_type": "stream",
     "text": [
      "Epoch 21/50 [Train]: 100%|██████████| 352/352 [00:46<00:00,  7.51it/s, loss=0.785, acc=71.9]\n",
      "Epoch 21/50 [Val]: 100%|██████████| 40/40 [00:01<00:00, 23.05it/s, loss=0.908, acc=67.3]\n"
     ]
    },
    {
     "name": "stdout",
     "output_type": "stream",
     "text": [
      "Epoch 21/50:\n",
      "Train Loss: 0.7851 | Train Acc: 71.91%\n",
      "Val Loss: 0.9079 | Val Acc: 67.30%\n"
     ]
    },
    {
     "name": "stderr",
     "output_type": "stream",
     "text": [
      "Epoch 22/50 [Train]: 100%|██████████| 352/352 [00:46<00:00,  7.59it/s, loss=0.763, acc=72.7]\n",
      "Epoch 22/50 [Val]: 100%|██████████| 40/40 [00:01<00:00, 22.24it/s, loss=0.894, acc=68.4]\n"
     ]
    },
    {
     "name": "stdout",
     "output_type": "stream",
     "text": [
      "Epoch 22/50:\n",
      "Train Loss: 0.7635 | Train Acc: 72.66%\n",
      "Val Loss: 0.8945 | Val Acc: 68.38%\n"
     ]
    },
    {
     "name": "stderr",
     "output_type": "stream",
     "text": [
      "Epoch 23/50 [Train]: 100%|██████████| 352/352 [00:46<00:00,  7.60it/s, loss=0.741, acc=73.6]\n",
      "Epoch 23/50 [Val]: 100%|██████████| 40/40 [00:01<00:00, 24.16it/s, loss=0.856, acc=69.2]\n"
     ]
    },
    {
     "name": "stdout",
     "output_type": "stream",
     "text": [
      "Epoch 23/50:\n",
      "Train Loss: 0.7410 | Train Acc: 73.55%\n",
      "Val Loss: 0.8559 | Val Acc: 69.24%\n",
      "Validation accuracy improved from 68.80% to 69.24%, saving model...\n"
     ]
    },
    {
     "name": "stderr",
     "output_type": "stream",
     "text": [
      "Epoch 24/50 [Train]: 100%|██████████| 352/352 [00:46<00:00,  7.52it/s, loss=0.724, acc=73.9]\n",
      "Epoch 24/50 [Val]: 100%|██████████| 40/40 [00:01<00:00, 22.37it/s, loss=0.848, acc=70.1]\n"
     ]
    },
    {
     "name": "stdout",
     "output_type": "stream",
     "text": [
      "Epoch 24/50:\n",
      "Train Loss: 0.7244 | Train Acc: 73.94%\n",
      "Val Loss: 0.8484 | Val Acc: 70.06%\n",
      "Validation accuracy improved from 69.24% to 70.06%, saving model...\n"
     ]
    },
    {
     "name": "stderr",
     "output_type": "stream",
     "text": [
      "Epoch 25/50 [Train]: 100%|██████████| 352/352 [00:46<00:00,  7.54it/s, loss=0.701, acc=74.8]\n",
      "Epoch 25/50 [Val]: 100%|██████████| 40/40 [00:01<00:00, 21.48it/s, loss=0.917, acc=68.2]\n"
     ]
    },
    {
     "name": "stdout",
     "output_type": "stream",
     "text": [
      "Epoch 25/50:\n",
      "Train Loss: 0.7013 | Train Acc: 74.79%\n",
      "Val Loss: 0.9166 | Val Acc: 68.24%\n"
     ]
    },
    {
     "name": "stderr",
     "output_type": "stream",
     "text": [
      "Epoch 26/50 [Train]: 100%|██████████| 352/352 [00:46<00:00,  7.56it/s, loss=0.683, acc=75.4]\n",
      "Epoch 26/50 [Val]: 100%|██████████| 40/40 [00:01<00:00, 23.09it/s, loss=0.892, acc=70.4]\n"
     ]
    },
    {
     "name": "stdout",
     "output_type": "stream",
     "text": [
      "Epoch 26/50:\n",
      "Train Loss: 0.6829 | Train Acc: 75.43%\n",
      "Val Loss: 0.8920 | Val Acc: 70.36%\n",
      "Validation accuracy improved from 70.06% to 70.36%, saving model...\n"
     ]
    },
    {
     "name": "stderr",
     "output_type": "stream",
     "text": [
      "Epoch 27/50 [Train]: 100%|██████████| 352/352 [00:46<00:00,  7.58it/s, loss=0.665, acc=76.3]\n",
      "Epoch 27/50 [Val]: 100%|██████████| 40/40 [00:01<00:00, 22.52it/s, loss=0.872, acc=70.6]\n"
     ]
    },
    {
     "name": "stdout",
     "output_type": "stream",
     "text": [
      "Epoch 27/50:\n",
      "Train Loss: 0.6652 | Train Acc: 76.34%\n",
      "Val Loss: 0.8717 | Val Acc: 70.64%\n",
      "Validation accuracy improved from 70.36% to 70.64%, saving model...\n"
     ]
    },
    {
     "name": "stderr",
     "output_type": "stream",
     "text": [
      "Epoch 28/50 [Train]: 100%|██████████| 352/352 [00:46<00:00,  7.54it/s, loss=0.646, acc=76.7]\n",
      "Epoch 28/50 [Val]: 100%|██████████| 40/40 [00:01<00:00, 22.84it/s, loss=0.862, acc=70.2]\n"
     ]
    },
    {
     "name": "stdout",
     "output_type": "stream",
     "text": [
      "Epoch 28/50:\n",
      "Train Loss: 0.6464 | Train Acc: 76.68%\n",
      "Val Loss: 0.8617 | Val Acc: 70.16%\n"
     ]
    },
    {
     "name": "stderr",
     "output_type": "stream",
     "text": [
      "Epoch 29/50 [Train]: 100%|██████████| 352/352 [00:46<00:00,  7.54it/s, loss=0.623, acc=77.6]\n",
      "Epoch 29/50 [Val]: 100%|██████████| 40/40 [00:01<00:00, 22.53it/s, loss=0.872, acc=70.4]\n"
     ]
    },
    {
     "name": "stdout",
     "output_type": "stream",
     "text": [
      "Epoch 29/50:\n",
      "Train Loss: 0.6234 | Train Acc: 77.62%\n",
      "Val Loss: 0.8723 | Val Acc: 70.36%\n"
     ]
    },
    {
     "name": "stderr",
     "output_type": "stream",
     "text": [
      "Epoch 30/50 [Train]: 100%|██████████| 352/352 [00:46<00:00,  7.59it/s, loss=0.609, acc=78]\n",
      "Epoch 30/50 [Val]: 100%|██████████| 40/40 [00:01<00:00, 23.28it/s, loss=0.864, acc=70.3]\n"
     ]
    },
    {
     "name": "stdout",
     "output_type": "stream",
     "text": [
      "Epoch 30/50:\n",
      "Train Loss: 0.6090 | Train Acc: 78.01%\n",
      "Val Loss: 0.8638 | Val Acc: 70.30%\n"
     ]
    },
    {
     "name": "stderr",
     "output_type": "stream",
     "text": [
      "Epoch 31/50 [Train]: 100%|██████████| 352/352 [00:46<00:00,  7.60it/s, loss=0.587, acc=79]\n",
      "Epoch 31/50 [Val]: 100%|██████████| 40/40 [00:01<00:00, 21.95it/s, loss=0.871, acc=71.2]\n"
     ]
    },
    {
     "name": "stdout",
     "output_type": "stream",
     "text": [
      "Epoch 31/50:\n",
      "Train Loss: 0.5870 | Train Acc: 79.04%\n",
      "Val Loss: 0.8713 | Val Acc: 71.18%\n",
      "Validation accuracy improved from 70.64% to 71.18%, saving model...\n"
     ]
    },
    {
     "name": "stderr",
     "output_type": "stream",
     "text": [
      "Epoch 32/50 [Train]: 100%|██████████| 352/352 [00:46<00:00,  7.54it/s, loss=0.57, acc=79.4]\n",
      "Epoch 32/50 [Val]: 100%|██████████| 40/40 [00:01<00:00, 22.24it/s, loss=0.854, acc=71.5]\n"
     ]
    },
    {
     "name": "stdout",
     "output_type": "stream",
     "text": [
      "Epoch 32/50:\n",
      "Train Loss: 0.5703 | Train Acc: 79.41%\n",
      "Val Loss: 0.8542 | Val Acc: 71.48%\n",
      "Validation accuracy improved from 71.18% to 71.48%, saving model...\n"
     ]
    },
    {
     "name": "stderr",
     "output_type": "stream",
     "text": [
      "Epoch 33/50 [Train]: 100%|██████████| 352/352 [00:46<00:00,  7.57it/s, loss=0.55, acc=80.3]\n",
      "Epoch 33/50 [Val]: 100%|██████████| 40/40 [00:01<00:00, 23.04it/s, loss=0.892, acc=71.6]\n"
     ]
    },
    {
     "name": "stdout",
     "output_type": "stream",
     "text": [
      "Epoch 33/50:\n",
      "Train Loss: 0.5500 | Train Acc: 80.31%\n",
      "Val Loss: 0.8915 | Val Acc: 71.60%\n",
      "Validation accuracy improved from 71.48% to 71.60%, saving model...\n"
     ]
    },
    {
     "name": "stderr",
     "output_type": "stream",
     "text": [
      "Epoch 34/50 [Train]: 100%|██████████| 352/352 [00:46<00:00,  7.52it/s, loss=0.54, acc=80.6]\n",
      "Epoch 34/50 [Val]: 100%|██████████| 40/40 [00:01<00:00, 21.96it/s, loss=0.85, acc=71.8]\n"
     ]
    },
    {
     "name": "stdout",
     "output_type": "stream",
     "text": [
      "Epoch 34/50:\n",
      "Train Loss: 0.5396 | Train Acc: 80.60%\n",
      "Val Loss: 0.8499 | Val Acc: 71.76%\n",
      "Validation accuracy improved from 71.60% to 71.76%, saving model...\n"
     ]
    },
    {
     "name": "stderr",
     "output_type": "stream",
     "text": [
      "Epoch 35/50 [Train]: 100%|██████████| 352/352 [00:46<00:00,  7.51it/s, loss=0.52, acc=81.2]\n",
      "Epoch 35/50 [Val]: 100%|██████████| 40/40 [00:01<00:00, 22.35it/s, loss=0.888, acc=72]\n"
     ]
    },
    {
     "name": "stdout",
     "output_type": "stream",
     "text": [
      "Epoch 35/50:\n",
      "Train Loss: 0.5202 | Train Acc: 81.22%\n",
      "Val Loss: 0.8881 | Val Acc: 71.98%\n",
      "Validation accuracy improved from 71.76% to 71.98%, saving model...\n"
     ]
    },
    {
     "name": "stderr",
     "output_type": "stream",
     "text": [
      "Epoch 36/50 [Train]: 100%|██████████| 352/352 [00:46<00:00,  7.54it/s, loss=0.503, acc=81.8]\n",
      "Epoch 36/50 [Val]: 100%|██████████| 40/40 [00:01<00:00, 22.29it/s, loss=0.868, acc=72.3]\n"
     ]
    },
    {
     "name": "stdout",
     "output_type": "stream",
     "text": [
      "Epoch 36/50:\n",
      "Train Loss: 0.5025 | Train Acc: 81.78%\n",
      "Val Loss: 0.8679 | Val Acc: 72.26%\n",
      "Validation accuracy improved from 71.98% to 72.26%, saving model...\n"
     ]
    },
    {
     "name": "stderr",
     "output_type": "stream",
     "text": [
      "Epoch 37/50 [Train]: 100%|██████████| 352/352 [00:46<00:00,  7.56it/s, loss=0.489, acc=82.6]\n",
      "Epoch 37/50 [Val]: 100%|██████████| 40/40 [00:01<00:00, 20.56it/s, loss=0.877, acc=72.2]\n"
     ]
    },
    {
     "name": "stdout",
     "output_type": "stream",
     "text": [
      "Epoch 37/50:\n",
      "Train Loss: 0.4888 | Train Acc: 82.56%\n",
      "Val Loss: 0.8772 | Val Acc: 72.24%\n"
     ]
    },
    {
     "name": "stderr",
     "output_type": "stream",
     "text": [
      "Epoch 38/50 [Train]: 100%|██████████| 352/352 [00:46<00:00,  7.57it/s, loss=0.479, acc=82.8]\n",
      "Epoch 38/50 [Val]: 100%|██████████| 40/40 [00:01<00:00, 21.85it/s, loss=0.878, acc=71.9]\n"
     ]
    },
    {
     "name": "stdout",
     "output_type": "stream",
     "text": [
      "Epoch 38/50:\n",
      "Train Loss: 0.4787 | Train Acc: 82.81%\n",
      "Val Loss: 0.8783 | Val Acc: 71.94%\n"
     ]
    },
    {
     "name": "stderr",
     "output_type": "stream",
     "text": [
      "Epoch 39/50 [Train]: 100%|██████████| 352/352 [00:46<00:00,  7.55it/s, loss=0.471, acc=83.3]\n",
      "Epoch 39/50 [Val]: 100%|██████████| 40/40 [00:01<00:00, 23.06it/s, loss=0.884, acc=72.3]\n"
     ]
    },
    {
     "name": "stdout",
     "output_type": "stream",
     "text": [
      "Epoch 39/50:\n",
      "Train Loss: 0.4708 | Train Acc: 83.26%\n",
      "Val Loss: 0.8844 | Val Acc: 72.28%\n",
      "Validation accuracy improved from 72.26% to 72.28%, saving model...\n"
     ]
    },
    {
     "name": "stderr",
     "output_type": "stream",
     "text": [
      "Epoch 40/50 [Train]: 100%|██████████| 352/352 [00:46<00:00,  7.59it/s, loss=0.456, acc=83.7]\n",
      "Epoch 40/50 [Val]: 100%|██████████| 40/40 [00:01<00:00, 23.12it/s, loss=0.914, acc=71.8]\n"
     ]
    },
    {
     "name": "stdout",
     "output_type": "stream",
     "text": [
      "Epoch 40/50:\n",
      "Train Loss: 0.4564 | Train Acc: 83.74%\n",
      "Val Loss: 0.9136 | Val Acc: 71.78%\n"
     ]
    },
    {
     "name": "stderr",
     "output_type": "stream",
     "text": [
      "Epoch 41/50 [Train]: 100%|██████████| 352/352 [00:46<00:00,  7.62it/s, loss=0.445, acc=84.1]\n",
      "Epoch 41/50 [Val]: 100%|██████████| 40/40 [00:01<00:00, 23.14it/s, loss=0.922, acc=71.6]\n"
     ]
    },
    {
     "name": "stdout",
     "output_type": "stream",
     "text": [
      "Epoch 41/50:\n",
      "Train Loss: 0.4450 | Train Acc: 84.14%\n",
      "Val Loss: 0.9217 | Val Acc: 71.62%\n"
     ]
    },
    {
     "name": "stderr",
     "output_type": "stream",
     "text": [
      "Epoch 42/50 [Train]: 100%|██████████| 352/352 [00:46<00:00,  7.55it/s, loss=0.432, acc=84.4]\n",
      "Epoch 42/50 [Val]: 100%|██████████| 40/40 [00:01<00:00, 23.04it/s, loss=0.889, acc=72.7]\n"
     ]
    },
    {
     "name": "stdout",
     "output_type": "stream",
     "text": [
      "Epoch 42/50:\n",
      "Train Loss: 0.4321 | Train Acc: 84.40%\n",
      "Val Loss: 0.8890 | Val Acc: 72.68%\n",
      "Validation accuracy improved from 72.28% to 72.68%, saving model...\n"
     ]
    },
    {
     "name": "stderr",
     "output_type": "stream",
     "text": [
      "Epoch 43/50 [Train]: 100%|██████████| 352/352 [00:46<00:00,  7.57it/s, loss=0.434, acc=84.4]\n",
      "Epoch 43/50 [Val]: 100%|██████████| 40/40 [00:01<00:00, 23.24it/s, loss=0.865, acc=72.7]\n"
     ]
    },
    {
     "name": "stdout",
     "output_type": "stream",
     "text": [
      "Epoch 43/50:\n",
      "Train Loss: 0.4337 | Train Acc: 84.35%\n",
      "Val Loss: 0.8651 | Val Acc: 72.70%\n",
      "Validation accuracy improved from 72.68% to 72.70%, saving model...\n"
     ]
    },
    {
     "name": "stderr",
     "output_type": "stream",
     "text": [
      "Epoch 44/50 [Train]: 100%|██████████| 352/352 [00:46<00:00,  7.60it/s, loss=0.424, acc=84.9]\n",
      "Epoch 44/50 [Val]: 100%|██████████| 40/40 [00:01<00:00, 22.17it/s, loss=0.896, acc=72]\n"
     ]
    },
    {
     "name": "stdout",
     "output_type": "stream",
     "text": [
      "Epoch 44/50:\n",
      "Train Loss: 0.4236 | Train Acc: 84.91%\n",
      "Val Loss: 0.8965 | Val Acc: 71.96%\n"
     ]
    },
    {
     "name": "stderr",
     "output_type": "stream",
     "text": [
      "Epoch 45/50 [Train]: 100%|██████████| 352/352 [00:46<00:00,  7.59it/s, loss=0.414, acc=85.2]\n",
      "Epoch 45/50 [Val]: 100%|██████████| 40/40 [00:01<00:00, 22.81it/s, loss=0.914, acc=72.1]\n"
     ]
    },
    {
     "name": "stdout",
     "output_type": "stream",
     "text": [
      "Epoch 45/50:\n",
      "Train Loss: 0.4141 | Train Acc: 85.15%\n",
      "Val Loss: 0.9141 | Val Acc: 72.10%\n"
     ]
    },
    {
     "name": "stderr",
     "output_type": "stream",
     "text": [
      "Epoch 46/50 [Train]: 100%|██████████| 352/352 [00:46<00:00,  7.59it/s, loss=0.419, acc=85]\n",
      "Epoch 46/50 [Val]: 100%|██████████| 40/40 [00:01<00:00, 22.88it/s, loss=0.889, acc=72.7]\n"
     ]
    },
    {
     "name": "stdout",
     "output_type": "stream",
     "text": [
      "Epoch 46/50:\n",
      "Train Loss: 0.4192 | Train Acc: 85.04%\n",
      "Val Loss: 0.8889 | Val Acc: 72.72%\n",
      "Validation accuracy improved from 72.70% to 72.72%, saving model...\n"
     ]
    },
    {
     "name": "stderr",
     "output_type": "stream",
     "text": [
      "Epoch 47/50 [Train]: 100%|██████████| 352/352 [00:46<00:00,  7.57it/s, loss=0.413, acc=85.2]\n",
      "Epoch 47/50 [Val]: 100%|██████████| 40/40 [00:01<00:00, 23.11it/s, loss=0.898, acc=72.8]\n"
     ]
    },
    {
     "name": "stdout",
     "output_type": "stream",
     "text": [
      "Epoch 47/50:\n",
      "Train Loss: 0.4126 | Train Acc: 85.16%\n",
      "Val Loss: 0.8977 | Val Acc: 72.78%\n",
      "Validation accuracy improved from 72.72% to 72.78%, saving model...\n"
     ]
    },
    {
     "name": "stderr",
     "output_type": "stream",
     "text": [
      "Epoch 48/50 [Train]: 100%|██████████| 352/352 [00:46<00:00,  7.59it/s, loss=0.406, acc=85.5]\n",
      "Epoch 48/50 [Val]: 100%|██████████| 40/40 [00:01<00:00, 23.36it/s, loss=0.907, acc=72.2]\n"
     ]
    },
    {
     "name": "stdout",
     "output_type": "stream",
     "text": [
      "Epoch 48/50:\n",
      "Train Loss: 0.4057 | Train Acc: 85.48%\n",
      "Val Loss: 0.9071 | Val Acc: 72.16%\n"
     ]
    },
    {
     "name": "stderr",
     "output_type": "stream",
     "text": [
      "Epoch 49/50 [Train]: 100%|██████████| 352/352 [00:47<00:00,  7.46it/s, loss=0.409, acc=85.3]\n",
      "Epoch 49/50 [Val]: 100%|██████████| 40/40 [00:01<00:00, 21.85it/s, loss=0.902, acc=72.4]\n"
     ]
    },
    {
     "name": "stdout",
     "output_type": "stream",
     "text": [
      "Epoch 49/50:\n",
      "Train Loss: 0.4093 | Train Acc: 85.30%\n",
      "Val Loss: 0.9018 | Val Acc: 72.42%\n"
     ]
    },
    {
     "name": "stderr",
     "output_type": "stream",
     "text": [
      "Epoch 50/50 [Train]: 100%|██████████| 352/352 [00:46<00:00,  7.53it/s, loss=0.409, acc=85.2]\n",
      "Epoch 50/50 [Val]: 100%|██████████| 40/40 [00:01<00:00, 22.32it/s, loss=0.912, acc=72.6]\n",
      "/tmp/ipykernel_19/487665336.py:633: FutureWarning: You are using `torch.load` with `weights_only=False` (the current default value), which uses the default pickle module implicitly. It is possible to construct malicious pickle data which will execute arbitrary code during unpickling (See https://github.com/pytorch/pytorch/blob/main/SECURITY.md#untrusted-models for more details). In a future release, the default value for `weights_only` will be flipped to `True`. This limits the functions that could be executed during unpickling. Arbitrary objects will no longer be allowed to be loaded via this mode unless they are explicitly allowlisted by the user via `torch.serialization.add_safe_globals`. We recommend you start setting `weights_only=True` for any use case where you don't have full control of the loaded file. Please open an issue on GitHub for any issues related to this experimental feature.\n",
      "  best_model.load_state_dict(torch.load(f'best_{model_name}_model.pth'))\n"
     ]
    },
    {
     "name": "stdout",
     "output_type": "stream",
     "text": [
      "Epoch 50/50:\n",
      "Train Loss: 0.4088 | Train Acc: 85.21%\n",
      "Val Loss: 0.9115 | Val Acc: 72.58%\n",
      "Best validation accuracy: 72.78%\n"
     ]
    },
    {
     "name": "stderr",
     "output_type": "stream",
     "text": [
      "Evaluating on test set: 100%|██████████| 79/79 [00:03<00:00, 24.91it/s]\n"
     ]
    },
    {
     "name": "stdout",
     "output_type": "stream",
     "text": [
      "Test accuracy: 71.74%\n"
     ]
    },
    {
     "data": {
      "image/png": "[encoded data removed]",
      "text/plain": [
       "<Figure size 1200x500 with 2 Axes>"
      ]
     },
     "metadata": {},
     "output_type": "display_data"
    },
    {
     "name": "stdout",
     "output_type": "stream",
     "text": [
      "\n",
      "\n",
      "==================================================\n",
      "Testing positional embedding type: 1d_learned\n",
      "==================================================\n",
      "\n",
      "Using device: cuda\n"
     ]
    },
    {
     "name": "stderr",
     "output_type": "stream",
     "text": [
      "Epoch 1/50 [Train]: 100%|██████████| 352/352 [00:46<00:00,  7.53it/s, loss=1.76, acc=34.1]\n",
      "Epoch 1/50 [Val]: 100%|██████████| 40/40 [00:01<00:00, 23.50it/s, loss=1.55, acc=42.4]\n"
     ]
    },
    {
     "name": "stdout",
     "output_type": "stream",
     "text": [
      "Epoch 1/50:\n",
      "Train Loss: 1.7634 | Train Acc: 34.10%\n",
      "Val Loss: 1.5528 | Val Acc: 42.44%\n",
      "Validation accuracy improved from 0.00% to 42.44%, saving model...\n"
     ]
    },
    {
     "name": "stderr",
     "output_type": "stream",
     "text": [
      "Epoch 2/50 [Train]: 100%|██████████| 352/352 [00:46<00:00,  7.52it/s, loss=1.46, acc=46.4]\n",
      "Epoch 2/50 [Val]: 100%|██████████| 40/40 [00:01<00:00, 22.55it/s, loss=1.37, acc=50.3]\n"
     ]
    },
    {
     "name": "stdout",
     "output_type": "stream",
     "text": [
      "Epoch 2/50:\n",
      "Train Loss: 1.4633 | Train Acc: 46.43%\n",
      "Val Loss: 1.3701 | Val Acc: 50.30%\n",
      "Validation accuracy improved from 42.44% to 50.30%, saving model...\n"
     ]
    },
    {
     "name": "stderr",
     "output_type": "stream",
     "text": [
      "Epoch 3/50 [Train]: 100%|██████████| 352/352 [00:46<00:00,  7.52it/s, loss=1.32, acc=52]\n",
      "Epoch 3/50 [Val]: 100%|██████████| 40/40 [00:01<00:00, 22.95it/s, loss=1.22, acc=56.1]\n"
     ]
    },
    {
     "name": "stdout",
     "output_type": "stream",
     "text": [
      "Epoch 3/50:\n",
      "Train Loss: 1.3187 | Train Acc: 51.96%\n",
      "Val Loss: 1.2214 | Val Acc: 56.14%\n",
      "Validation accuracy improved from 50.30% to 56.14%, saving model...\n"
     ]
    },
    {
     "name": "stderr",
     "output_type": "stream",
     "text": [
      "Epoch 4/50 [Train]: 100%|██████████| 352/352 [00:46<00:00,  7.54it/s, loss=1.22, acc=55.3]\n",
      "Epoch 4/50 [Val]: 100%|██████████| 40/40 [00:01<00:00, 21.32it/s, loss=1.17, acc=57.6]\n"
     ]
    },
    {
     "name": "stdout",
     "output_type": "stream",
     "text": [
      "Epoch 4/50:\n",
      "Train Loss: 1.2245 | Train Acc: 55.26%\n",
      "Val Loss: 1.1681 | Val Acc: 57.64%\n",
      "Validation accuracy improved from 56.14% to 57.64%, saving model...\n"
     ]
    },
    {
     "name": "stderr",
     "output_type": "stream",
     "text": [
      "Epoch 5/50 [Train]: 100%|██████████| 352/352 [00:46<00:00,  7.51it/s, loss=1.15, acc=58.7]\n",
      "Epoch 5/50 [Val]: 100%|██████████| 40/40 [00:01<00:00, 23.45it/s, loss=1.09, acc=59.9]\n"
     ]
    },
    {
     "name": "stdout",
     "output_type": "stream",
     "text": [
      "Epoch 5/50:\n",
      "Train Loss: 1.1494 | Train Acc: 58.69%\n",
      "Val Loss: 1.0894 | Val Acc: 59.92%\n",
      "Validation accuracy improved from 57.64% to 59.92%, saving model...\n"
     ]
    },
    {
     "name": "stderr",
     "output_type": "stream",
     "text": [
      "Epoch 6/50 [Train]: 100%|██████████| 352/352 [00:46<00:00,  7.54it/s, loss=1.1, acc=60.5]\n",
      "Epoch 6/50 [Val]: 100%|██████████| 40/40 [00:01<00:00, 22.60it/s, loss=1.07, acc=60.3]\n"
     ]
    },
    {
     "name": "stdout",
     "output_type": "stream",
     "text": [
      "Epoch 6/50:\n",
      "Train Loss: 1.0980 | Train Acc: 60.47%\n",
      "Val Loss: 1.0714 | Val Acc: 60.34%\n",
      "Validation accuracy improved from 59.92% to 60.34%, saving model...\n"
     ]
    },
    {
     "name": "stderr",
     "output_type": "stream",
     "text": [
      "Epoch 7/50 [Train]: 100%|██████████| 352/352 [00:46<00:00,  7.50it/s, loss=1.05, acc=62]\n",
      "Epoch 7/50 [Val]: 100%|██████████| 40/40 [00:01<00:00, 22.39it/s, loss=1.04, acc=62.9]\n"
     ]
    },
    {
     "name": "stdout",
     "output_type": "stream",
     "text": [
      "Epoch 7/50:\n",
      "Train Loss: 1.0529 | Train Acc: 61.96%\n",
      "Val Loss: 1.0446 | Val Acc: 62.86%\n",
      "Validation accuracy improved from 60.34% to 62.86%, saving model...\n"
     ]
    },
    {
     "name": "stderr",
     "output_type": "stream",
     "text": [
      "Epoch 8/50 [Train]: 100%|██████████| 352/352 [00:46<00:00,  7.50it/s, loss=1.01, acc=63.5]\n",
      "Epoch 8/50 [Val]: 100%|██████████| 40/40 [00:01<00:00, 22.45it/s, loss=0.965, acc=64.9]\n"
     ]
    },
    {
     "name": "stdout",
     "output_type": "stream",
     "text": [
      "Epoch 8/50:\n",
      "Train Loss: 1.0101 | Train Acc: 63.53%\n",
      "Val Loss: 0.9652 | Val Acc: 64.88%\n",
      "Validation accuracy improved from 62.86% to 64.88%, saving model...\n"
     ]
    },
    {
     "name": "stderr",
     "output_type": "stream",
     "text": [
      "Epoch 9/50 [Train]: 100%|██████████| 352/352 [00:46<00:00,  7.50it/s, loss=0.975, acc=65.1]\n",
      "Epoch 9/50 [Val]: 100%|██████████| 40/40 [00:01<00:00, 23.27it/s, loss=0.949, acc=65]\n"
     ]
    },
    {
     "name": "stdout",
     "output_type": "stream",
     "text": [
      "Epoch 9/50:\n",
      "Train Loss: 0.9748 | Train Acc: 65.08%\n",
      "Val Loss: 0.9493 | Val Acc: 65.04%\n",
      "Validation accuracy improved from 64.88% to 65.04%, saving model...\n"
     ]
    },
    {
     "name": "stderr",
     "output_type": "stream",
     "text": [
      "Epoch 10/50 [Train]: 100%|██████████| 352/352 [00:46<00:00,  7.54it/s, loss=0.933, acc=66.7]\n",
      "Epoch 10/50 [Val]: 100%|██████████| 40/40 [00:01<00:00, 21.89it/s, loss=0.933, acc=66.6]\n"
     ]
    },
    {
     "name": "stdout",
     "output_type": "stream",
     "text": [
      "Epoch 10/50:\n",
      "Train Loss: 0.9326 | Train Acc: 66.68%\n",
      "Val Loss: 0.9333 | Val Acc: 66.60%\n",
      "Validation accuracy improved from 65.04% to 66.60%, saving model...\n"
     ]
    },
    {
     "name": "stderr",
     "output_type": "stream",
     "text": [
      "Epoch 11/50 [Train]: 100%|██████████| 352/352 [00:46<00:00,  7.51it/s, loss=0.896, acc=67.8]\n",
      "Epoch 11/50 [Val]: 100%|██████████| 40/40 [00:01<00:00, 20.67it/s, loss=0.904, acc=66.9]\n"
     ]
    },
    {
     "name": "stdout",
     "output_type": "stream",
     "text": [
      "Epoch 11/50:\n",
      "Train Loss: 0.8957 | Train Acc: 67.81%\n",
      "Val Loss: 0.9035 | Val Acc: 66.86%\n",
      "Validation accuracy improved from 66.60% to 66.86%, saving model...\n"
     ]
    },
    {
     "name": "stderr",
     "output_type": "stream",
     "text": [
      "Epoch 12/50 [Train]: 100%|██████████| 352/352 [00:46<00:00,  7.58it/s, loss=0.867, acc=69]\n",
      "Epoch 12/50 [Val]: 100%|██████████| 40/40 [00:01<00:00, 22.33it/s, loss=0.855, acc=69]\n"
     ]
    },
    {
     "name": "stdout",
     "output_type": "stream",
     "text": [
      "Epoch 12/50:\n",
      "Train Loss: 0.8667 | Train Acc: 68.96%\n",
      "Val Loss: 0.8554 | Val Acc: 68.98%\n",
      "Validation accuracy improved from 66.86% to 68.98%, saving model...\n"
     ]
    },
    {
     "name": "stderr",
     "output_type": "stream",
     "text": [
      "Epoch 13/50 [Train]: 100%|██████████| 352/352 [00:46<00:00,  7.51it/s, loss=0.839, acc=69.8]\n",
      "Epoch 13/50 [Val]: 100%|██████████| 40/40 [00:01<00:00, 20.92it/s, loss=0.856, acc=69.5]\n"
     ]
    },
    {
     "name": "stdout",
     "output_type": "stream",
     "text": [
      "Epoch 13/50:\n",
      "Train Loss: 0.8392 | Train Acc: 69.78%\n",
      "Val Loss: 0.8564 | Val Acc: 69.46%\n",
      "Validation accuracy improved from 68.98% to 69.46%, saving model...\n"
     ]
    },
    {
     "name": "stderr",
     "output_type": "stream",
     "text": [
      "Epoch 14/50 [Train]: 100%|██████████| 352/352 [00:47<00:00,  7.48it/s, loss=0.806, acc=71.3]\n",
      "Epoch 14/50 [Val]: 100%|██████████| 40/40 [00:01<00:00, 21.59it/s, loss=0.832, acc=70.6]\n"
     ]
    },
    {
     "name": "stdout",
     "output_type": "stream",
     "text": [
      "Epoch 14/50:\n",
      "Train Loss: 0.8059 | Train Acc: 71.33%\n",
      "Val Loss: 0.8316 | Val Acc: 70.60%\n",
      "Validation accuracy improved from 69.46% to 70.60%, saving model...\n"
     ]
    },
    {
     "name": "stderr",
     "output_type": "stream",
     "text": [
      "Epoch 15/50 [Train]: 100%|██████████| 352/352 [00:47<00:00,  7.40it/s, loss=0.774, acc=72.2]\n",
      "Epoch 15/50 [Val]: 100%|██████████| 40/40 [00:01<00:00, 22.87it/s, loss=0.783, acc=72.9]\n"
     ]
    },
    {
     "name": "stdout",
     "output_type": "stream",
     "text": [
      "Epoch 15/50:\n",
      "Train Loss: 0.7741 | Train Acc: 72.24%\n",
      "Val Loss: 0.7828 | Val Acc: 72.88%\n",
      "Validation accuracy improved from 70.60% to 72.88%, saving model...\n"
     ]
    },
    {
     "name": "stderr",
     "output_type": "stream",
     "text": [
      "Epoch 16/50 [Train]: 100%|██████████| 352/352 [00:47<00:00,  7.39it/s, loss=0.749, acc=73.2]\n",
      "Epoch 16/50 [Val]: 100%|██████████| 40/40 [00:01<00:00, 21.88it/s, loss=0.768, acc=72.8]\n"
     ]
    },
    {
     "name": "stdout",
     "output_type": "stream",
     "text": [
      "Epoch 16/50:\n",
      "Train Loss: 0.7492 | Train Acc: 73.25%\n",
      "Val Loss: 0.7680 | Val Acc: 72.80%\n"
     ]
    },
    {
     "name": "stderr",
     "output_type": "stream",
     "text": [
      "Epoch 17/50 [Train]: 100%|██████████| 352/352 [00:47<00:00,  7.40it/s, loss=0.724, acc=74.2]\n",
      "Epoch 17/50 [Val]: 100%|██████████| 40/40 [00:01<00:00, 21.86it/s, loss=0.787, acc=72.4]\n"
     ]
    },
    {
     "name": "stdout",
     "output_type": "stream",
     "text": [
      "Epoch 17/50:\n",
      "Train Loss: 0.7243 | Train Acc: 74.16%\n",
      "Val Loss: 0.7865 | Val Acc: 72.38%\n"
     ]
    },
    {
     "name": "stderr",
     "output_type": "stream",
     "text": [
      "Epoch 18/50 [Train]: 100%|██████████| 352/352 [00:47<00:00,  7.46it/s, loss=0.694, acc=75.2]\n",
      "Epoch 18/50 [Val]: 100%|██████████| 40/40 [00:01<00:00, 21.58it/s, loss=0.801, acc=71.4]\n"
     ]
    },
    {
     "name": "stdout",
     "output_type": "stream",
     "text": [
      "Epoch 18/50:\n",
      "Train Loss: 0.6942 | Train Acc: 75.17%\n",
      "Val Loss: 0.8006 | Val Acc: 71.38%\n"
     ]
    },
    {
     "name": "stderr",
     "output_type": "stream",
     "text": [
      "Epoch 19/50 [Train]: 100%|██████████| 352/352 [00:47<00:00,  7.40it/s, loss=0.674, acc=76.1]\n",
      "Epoch 19/50 [Val]: 100%|██████████| 40/40 [00:01<00:00, 21.83it/s, loss=0.744, acc=74.5]\n"
     ]
    },
    {
     "name": "stdout",
     "output_type": "stream",
     "text": [
      "Epoch 19/50:\n",
      "Train Loss: 0.6737 | Train Acc: 76.05%\n",
      "Val Loss: 0.7438 | Val Acc: 74.48%\n",
      "Validation accuracy improved from 72.88% to 74.48%, saving model...\n"
     ]
    },
    {
     "name": "stderr",
     "output_type": "stream",
     "text": [
      "Epoch 20/50 [Train]: 100%|██████████| 352/352 [00:47<00:00,  7.43it/s, loss=0.642, acc=77.1]\n",
      "Epoch 20/50 [Val]: 100%|██████████| 40/40 [00:01<00:00, 21.48it/s, loss=0.738, acc=74.7]\n"
     ]
    },
    {
     "name": "stdout",
     "output_type": "stream",
     "text": [
      "Epoch 20/50:\n",
      "Train Loss: 0.6419 | Train Acc: 77.06%\n",
      "Val Loss: 0.7379 | Val Acc: 74.68%\n",
      "Validation accuracy improved from 74.48% to 74.68%, saving model...\n"
     ]
    },
    {
     "name": "stderr",
     "output_type": "stream",
     "text": [
      "Epoch 21/50 [Train]: 100%|██████████| 352/352 [00:48<00:00,  7.33it/s, loss=0.628, acc=77.5]\n",
      "Epoch 21/50 [Val]: 100%|██████████| 40/40 [00:01<00:00, 21.42it/s, loss=0.711, acc=75.3]\n"
     ]
    },
    {
     "name": "stdout",
     "output_type": "stream",
     "text": [
      "Epoch 21/50:\n",
      "Train Loss: 0.6283 | Train Acc: 77.48%\n",
      "Val Loss: 0.7107 | Val Acc: 75.28%\n",
      "Validation accuracy improved from 74.68% to 75.28%, saving model...\n"
     ]
    },
    {
     "name": "stderr",
     "output_type": "stream",
     "text": [
      "Epoch 22/50 [Train]: 100%|██████████| 352/352 [00:47<00:00,  7.43it/s, loss=0.602, acc=78.6]\n",
      "Epoch 22/50 [Val]: 100%|██████████| 40/40 [00:01<00:00, 22.02it/s, loss=0.721, acc=74.8]\n"
     ]
    },
    {
     "name": "stdout",
     "output_type": "stream",
     "text": [
      "Epoch 22/50:\n",
      "Train Loss: 0.6015 | Train Acc: 78.59%\n",
      "Val Loss: 0.7214 | Val Acc: 74.76%\n"
     ]
    },
    {
     "name": "stderr",
     "output_type": "stream",
     "text": [
      "Epoch 23/50 [Train]: 100%|██████████| 352/352 [00:47<00:00,  7.37it/s, loss=0.584, acc=79.1]\n",
      "Epoch 23/50 [Val]: 100%|██████████| 40/40 [00:01<00:00, 21.91it/s, loss=0.712, acc=75.1]\n"
     ]
    },
    {
     "name": "stdout",
     "output_type": "stream",
     "text": [
      "Epoch 23/50:\n",
      "Train Loss: 0.5845 | Train Acc: 79.11%\n",
      "Val Loss: 0.7124 | Val Acc: 75.06%\n"
     ]
    },
    {
     "name": "stderr",
     "output_type": "stream",
     "text": [
      "Epoch 24/50 [Train]: 100%|██████████| 352/352 [00:47<00:00,  7.43it/s, loss=0.561, acc=80.1]\n",
      "Epoch 24/50 [Val]: 100%|██████████| 40/40 [00:01<00:00, 21.63it/s, loss=0.715, acc=74.9]\n"
     ]
    },
    {
     "name": "stdout",
     "output_type": "stream",
     "text": [
      "Epoch 24/50:\n",
      "Train Loss: 0.5613 | Train Acc: 80.09%\n",
      "Val Loss: 0.7149 | Val Acc: 74.94%\n"
     ]
    },
    {
     "name": "stderr",
     "output_type": "stream",
     "text": [
      "Epoch 25/50 [Train]: 100%|██████████| 352/352 [00:47<00:00,  7.43it/s, loss=0.543, acc=80.7]\n",
      "Epoch 25/50 [Val]: 100%|██████████| 40/40 [00:01<00:00, 21.85it/s, loss=0.697, acc=76.7]\n"
     ]
    },
    {
     "name": "stdout",
     "output_type": "stream",
     "text": [
      "Epoch 25/50:\n",
      "Train Loss: 0.5429 | Train Acc: 80.65%\n",
      "Val Loss: 0.6975 | Val Acc: 76.68%\n",
      "Validation accuracy improved from 75.28% to 76.68%, saving model...\n"
     ]
    },
    {
     "name": "stderr",
     "output_type": "stream",
     "text": [
      "Epoch 26/50 [Train]: 100%|██████████| 352/352 [00:47<00:00,  7.47it/s, loss=0.521, acc=81.4]\n",
      "Epoch 26/50 [Val]: 100%|██████████| 40/40 [00:01<00:00, 22.27it/s, loss=0.682, acc=76.9]\n"
     ]
    },
    {
     "name": "stdout",
     "output_type": "stream",
     "text": [
      "Epoch 26/50:\n",
      "Train Loss: 0.5214 | Train Acc: 81.37%\n",
      "Val Loss: 0.6819 | Val Acc: 76.90%\n",
      "Validation accuracy improved from 76.68% to 76.90%, saving model...\n"
     ]
    },
    {
     "name": "stderr",
     "output_type": "stream",
     "text": [
      "Epoch 27/50 [Train]: 100%|██████████| 352/352 [00:47<00:00,  7.41it/s, loss=0.499, acc=82.3]\n",
      "Epoch 27/50 [Val]: 100%|██████████| 40/40 [00:01<00:00, 22.98it/s, loss=0.689, acc=77.2]\n"
     ]
    },
    {
     "name": "stdout",
     "output_type": "stream",
     "text": [
      "Epoch 27/50:\n",
      "Train Loss: 0.4990 | Train Acc: 82.33%\n",
      "Val Loss: 0.6888 | Val Acc: 77.18%\n",
      "Validation accuracy improved from 76.90% to 77.18%, saving model...\n"
     ]
    },
    {
     "name": "stderr",
     "output_type": "stream",
     "text": [
      "Epoch 28/50 [Train]: 100%|██████████| 352/352 [00:46<00:00,  7.57it/s, loss=0.479, acc=82.9]\n",
      "Epoch 28/50 [Val]: 100%|██████████| 40/40 [00:01<00:00, 21.77it/s, loss=0.692, acc=76.7]\n"
     ]
    },
    {
     "name": "stdout",
     "output_type": "stream",
     "text": [
      "Epoch 28/50:\n",
      "Train Loss: 0.4794 | Train Acc: 82.93%\n",
      "Val Loss: 0.6915 | Val Acc: 76.74%\n"
     ]
    },
    {
     "name": "stderr",
     "output_type": "stream",
     "text": [
      "Epoch 29/50 [Train]: 100%|██████████| 352/352 [00:46<00:00,  7.59it/s, loss=0.462, acc=83.5]\n",
      "Epoch 29/50 [Val]: 100%|██████████| 40/40 [00:01<00:00, 22.75it/s, loss=0.695, acc=76.6]\n"
     ]
    },
    {
     "name": "stdout",
     "output_type": "stream",
     "text": [
      "Epoch 29/50:\n",
      "Train Loss: 0.4625 | Train Acc: 83.50%\n",
      "Val Loss: 0.6950 | Val Acc: 76.60%\n"
     ]
    },
    {
     "name": "stderr",
     "output_type": "stream",
     "text": [
      "Epoch 30/50 [Train]: 100%|██████████| 352/352 [00:46<00:00,  7.60it/s, loss=0.444, acc=84.2]\n",
      "Epoch 30/50 [Val]: 100%|██████████| 40/40 [00:01<00:00, 22.52it/s, loss=0.697, acc=76.8]\n"
     ]
    },
    {
     "name": "stdout",
     "output_type": "stream",
     "text": [
      "Epoch 30/50:\n",
      "Train Loss: 0.4444 | Train Acc: 84.18%\n",
      "Val Loss: 0.6970 | Val Acc: 76.76%\n"
     ]
    },
    {
     "name": "stderr",
     "output_type": "stream",
     "text": [
      "Epoch 31/50 [Train]: 100%|██████████| 352/352 [00:46<00:00,  7.53it/s, loss=0.434, acc=84.4]\n",
      "Epoch 31/50 [Val]: 100%|██████████| 40/40 [00:02<00:00, 17.73it/s, loss=0.72, acc=77]\n"
     ]
    },
    {
     "name": "stdout",
     "output_type": "stream",
     "text": [
      "Epoch 31/50:\n",
      "Train Loss: 0.4336 | Train Acc: 84.38%\n",
      "Val Loss: 0.7198 | Val Acc: 77.02%\n"
     ]
    },
    {
     "name": "stderr",
     "output_type": "stream",
     "text": [
      "Epoch 32/50 [Train]: 100%|██████████| 352/352 [00:46<00:00,  7.56it/s, loss=0.409, acc=85.4]\n",
      "Epoch 32/50 [Val]: 100%|██████████| 40/40 [00:01<00:00, 21.62it/s, loss=0.724, acc=77.4]\n"
     ]
    },
    {
     "name": "stdout",
     "output_type": "stream",
     "text": [
      "Epoch 32/50:\n",
      "Train Loss: 0.4089 | Train Acc: 85.38%\n",
      "Val Loss: 0.7242 | Val Acc: 77.36%\n",
      "Validation accuracy improved from 77.18% to 77.36%, saving model...\n"
     ]
    },
    {
     "name": "stderr",
     "output_type": "stream",
     "text": [
      "Epoch 33/50 [Train]: 100%|██████████| 352/352 [00:46<00:00,  7.57it/s, loss=0.393, acc=86]\n",
      "Epoch 33/50 [Val]: 100%|██████████| 40/40 [00:01<00:00, 22.45it/s, loss=0.693, acc=78]\n"
     ]
    },
    {
     "name": "stdout",
     "output_type": "stream",
     "text": [
      "Epoch 33/50:\n",
      "Train Loss: 0.3927 | Train Acc: 85.99%\n",
      "Val Loss: 0.6934 | Val Acc: 78.04%\n",
      "Validation accuracy improved from 77.36% to 78.04%, saving model...\n"
     ]
    },
    {
     "name": "stderr",
     "output_type": "stream",
     "text": [
      "Epoch 34/50 [Train]: 100%|██████████| 352/352 [00:47<00:00,  7.46it/s, loss=0.381, acc=86.3]\n",
      "Epoch 34/50 [Val]: 100%|██████████| 40/40 [00:01<00:00, 22.94it/s, loss=0.703, acc=78]\n"
     ]
    },
    {
     "name": "stdout",
     "output_type": "stream",
     "text": [
      "Epoch 34/50:\n",
      "Train Loss: 0.3809 | Train Acc: 86.33%\n",
      "Val Loss: 0.7029 | Val Acc: 77.98%\n"
     ]
    },
    {
     "name": "stderr",
     "output_type": "stream",
     "text": [
      "Epoch 35/50 [Train]: 100%|██████████| 352/352 [00:46<00:00,  7.53it/s, loss=0.368, acc=86.7]\n",
      "Epoch 35/50 [Val]: 100%|██████████| 40/40 [00:01<00:00, 23.48it/s, loss=0.689, acc=77.5]\n"
     ]
    },
    {
     "name": "stdout",
     "output_type": "stream",
     "text": [
      "Epoch 35/50:\n",
      "Train Loss: 0.3680 | Train Acc: 86.69%\n",
      "Val Loss: 0.6890 | Val Acc: 77.48%\n"
     ]
    },
    {
     "name": "stderr",
     "output_type": "stream",
     "text": [
      "Epoch 36/50 [Train]: 100%|██████████| 352/352 [00:46<00:00,  7.56it/s, loss=0.346, acc=87.6]\n",
      "Epoch 36/50 [Val]: 100%|██████████| 40/40 [00:01<00:00, 22.02it/s, loss=0.726, acc=77.4]\n"
     ]
    },
    {
     "name": "stdout",
     "output_type": "stream",
     "text": [
      "Epoch 36/50:\n",
      "Train Loss: 0.3464 | Train Acc: 87.56%\n",
      "Val Loss: 0.7256 | Val Acc: 77.38%\n"
     ]
    },
    {
     "name": "stderr",
     "output_type": "stream",
     "text": [
      "Epoch 37/50 [Train]: 100%|██████████| 352/352 [00:46<00:00,  7.56it/s, loss=0.34, acc=87.8]\n",
      "Epoch 37/50 [Val]: 100%|██████████| 40/40 [00:01<00:00, 21.92it/s, loss=0.733, acc=77.6]\n"
     ]
    },
    {
     "name": "stdout",
     "output_type": "stream",
     "text": [
      "Epoch 37/50:\n",
      "Train Loss: 0.3397 | Train Acc: 87.77%\n",
      "Val Loss: 0.7332 | Val Acc: 77.56%\n"
     ]
    },
    {
     "name": "stderr",
     "output_type": "stream",
     "text": [
      "Epoch 38/50 [Train]: 100%|██████████| 352/352 [00:46<00:00,  7.53it/s, loss=0.326, acc=88.4]\n",
      "Epoch 38/50 [Val]: 100%|██████████| 40/40 [00:01<00:00, 23.71it/s, loss=0.729, acc=77.4]\n"
     ]
    },
    {
     "name": "stdout",
     "output_type": "stream",
     "text": [
      "Epoch 38/50:\n",
      "Train Loss: 0.3264 | Train Acc: 88.36%\n",
      "Val Loss: 0.7288 | Val Acc: 77.42%\n"
     ]
    },
    {
     "name": "stderr",
     "output_type": "stream",
     "text": [
      "Epoch 39/50 [Train]: 100%|██████████| 352/352 [00:46<00:00,  7.54it/s, loss=0.314, acc=88.8]\n",
      "Epoch 39/50 [Val]: 100%|██████████| 40/40 [00:01<00:00, 22.85it/s, loss=0.734, acc=78.2]\n"
     ]
    },
    {
     "name": "stdout",
     "output_type": "stream",
     "text": [
      "Epoch 39/50:\n",
      "Train Loss: 0.3138 | Train Acc: 88.79%\n",
      "Val Loss: 0.7335 | Val Acc: 78.18%\n",
      "Validation accuracy improved from 78.04% to 78.18%, saving model...\n"
     ]
    },
    {
     "name": "stderr",
     "output_type": "stream",
     "text": [
      "Epoch 40/50 [Train]: 100%|██████████| 352/352 [00:46<00:00,  7.52it/s, loss=0.301, acc=89.3]\n",
      "Epoch 40/50 [Val]: 100%|██████████| 40/40 [00:01<00:00, 21.30it/s, loss=0.738, acc=77.9]\n"
     ]
    },
    {
     "name": "stdout",
     "output_type": "stream",
     "text": [
      "Epoch 40/50:\n",
      "Train Loss: 0.3010 | Train Acc: 89.33%\n",
      "Val Loss: 0.7376 | Val Acc: 77.88%\n"
     ]
    },
    {
     "name": "stderr",
     "output_type": "stream",
     "text": [
      "Epoch 41/50 [Train]: 100%|██████████| 352/352 [00:46<00:00,  7.56it/s, loss=0.291, acc=89.6]\n",
      "Epoch 41/50 [Val]: 100%|██████████| 40/40 [00:01<00:00, 22.78it/s, loss=0.72, acc=78.4]\n"
     ]
    },
    {
     "name": "stdout",
     "output_type": "stream",
     "text": [
      "Epoch 41/50:\n",
      "Train Loss: 0.2913 | Train Acc: 89.56%\n",
      "Val Loss: 0.7204 | Val Acc: 78.38%\n",
      "Validation accuracy improved from 78.18% to 78.38%, saving model...\n"
     ]
    },
    {
     "name": "stderr",
     "output_type": "stream",
     "text": [
      "Epoch 42/50 [Train]: 100%|██████████| 352/352 [00:46<00:00,  7.55it/s, loss=0.284, acc=89.9]\n",
      "Epoch 42/50 [Val]: 100%|██████████| 40/40 [00:01<00:00, 22.36it/s, loss=0.75, acc=78.2]\n"
     ]
    },
    {
     "name": "stdout",
     "output_type": "stream",
     "text": [
      "Epoch 42/50:\n",
      "Train Loss: 0.2844 | Train Acc: 89.94%\n",
      "Val Loss: 0.7497 | Val Acc: 78.24%\n"
     ]
    },
    {
     "name": "stderr",
     "output_type": "stream",
     "text": [
      "Epoch 43/50 [Train]: 100%|██████████| 352/352 [00:46<00:00,  7.51it/s, loss=0.275, acc=90.3]\n",
      "Epoch 43/50 [Val]: 100%|██████████| 40/40 [00:01<00:00, 23.56it/s, loss=0.726, acc=78.3]\n"
     ]
    },
    {
     "name": "stdout",
     "output_type": "stream",
     "text": [
      "Epoch 43/50:\n",
      "Train Loss: 0.2746 | Train Acc: 90.26%\n",
      "Val Loss: 0.7257 | Val Acc: 78.32%\n"
     ]
    },
    {
     "name": "stderr",
     "output_type": "stream",
     "text": [
      "Epoch 44/50 [Train]: 100%|██████████| 352/352 [00:46<00:00,  7.61it/s, loss=0.276, acc=90.1]\n",
      "Epoch 44/50 [Val]: 100%|██████████| 40/40 [00:01<00:00, 21.67it/s, loss=0.737, acc=78.6]\n"
     ]
    },
    {
     "name": "stdout",
     "output_type": "stream",
     "text": [
      "Epoch 44/50:\n",
      "Train Loss: 0.2756 | Train Acc: 90.08%\n",
      "Val Loss: 0.7366 | Val Acc: 78.64%\n",
      "Validation accuracy improved from 78.38% to 78.64%, saving model...\n"
     ]
    },
    {
     "name": "stderr",
     "output_type": "stream",
     "text": [
      "Epoch 45/50 [Train]: 100%|██████████| 352/352 [00:47<00:00,  7.47it/s, loss=0.268, acc=90.5]\n",
      "Epoch 45/50 [Val]: 100%|██████████| 40/40 [00:01<00:00, 22.05it/s, loss=0.737, acc=78.2]\n"
     ]
    },
    {
     "name": "stdout",
     "output_type": "stream",
     "text": [
      "Epoch 45/50:\n",
      "Train Loss: 0.2685 | Train Acc: 90.45%\n",
      "Val Loss: 0.7374 | Val Acc: 78.18%\n"
     ]
    },
    {
     "name": "stderr",
     "output_type": "stream",
     "text": [
      "Epoch 46/50 [Train]: 100%|██████████| 352/352 [00:46<00:00,  7.57it/s, loss=0.265, acc=90.5]\n",
      "Epoch 46/50 [Val]: 100%|██████████| 40/40 [00:01<00:00, 20.75it/s, loss=0.747, acc=78]\n"
     ]
    },
    {
     "name": "stdout",
     "output_type": "stream",
     "text": [
      "Epoch 46/50:\n",
      "Train Loss: 0.2652 | Train Acc: 90.48%\n",
      "Val Loss: 0.7474 | Val Acc: 77.96%\n"
     ]
    },
    {
     "name": "stderr",
     "output_type": "stream",
     "text": [
      "Epoch 47/50 [Train]: 100%|██████████| 352/352 [00:47<00:00,  7.47it/s, loss=0.255, acc=91]\n",
      "Epoch 47/50 [Val]: 100%|██████████| 40/40 [00:01<00:00, 23.05it/s, loss=0.758, acc=78.1]\n"
     ]
    },
    {
     "name": "stdout",
     "output_type": "stream",
     "text": [
      "Epoch 47/50:\n",
      "Train Loss: 0.2553 | Train Acc: 90.98%\n",
      "Val Loss: 0.7576 | Val Acc: 78.14%\n"
     ]
    },
    {
     "name": "stderr",
     "output_type": "stream",
     "text": [
      "Epoch 48/50 [Train]: 100%|██████████| 352/352 [00:46<00:00,  7.64it/s, loss=0.256, acc=90.7]\n",
      "Epoch 48/50 [Val]: 100%|██████████| 40/40 [00:01<00:00, 22.12it/s, loss=0.73, acc=78.6]\n"
     ]
    },
    {
     "name": "stdout",
     "output_type": "stream",
     "text": [
      "Epoch 48/50:\n",
      "Train Loss: 0.2562 | Train Acc: 90.73%\n",
      "Val Loss: 0.7303 | Val Acc: 78.64%\n"
     ]
    },
    {
     "name": "stderr",
     "output_type": "stream",
     "text": [
      "Epoch 49/50 [Train]: 100%|██████████| 352/352 [00:46<00:00,  7.51it/s, loss=0.257, acc=90.8]\n",
      "Epoch 49/50 [Val]: 100%|██████████| 40/40 [00:01<00:00, 23.08it/s, loss=0.744, acc=78.3]\n"
     ]
    },
    {
     "name": "stdout",
     "output_type": "stream",
     "text": [
      "Epoch 49/50:\n",
      "Train Loss: 0.2568 | Train Acc: 90.81%\n",
      "Val Loss: 0.7440 | Val Acc: 78.30%\n"
     ]
    },
    {
     "name": "stderr",
     "output_type": "stream",
     "text": [
      "Epoch 50/50 [Train]: 100%|██████████| 352/352 [00:46<00:00,  7.50it/s, loss=0.255, acc=90.7]\n",
      "Epoch 50/50 [Val]: 100%|██████████| 40/40 [00:01<00:00, 22.61it/s, loss=0.773, acc=78.3]\n"
     ]
    },
    {
     "name": "stdout",
     "output_type": "stream",
     "text": [
      "Epoch 50/50:\n",
      "Train Loss: 0.2555 | Train Acc: 90.72%\n",
      "Val Loss: 0.7728 | Val Acc: 78.32%\n",
      "Best validation accuracy: 78.64%\n"
     ]
    },
    {
     "name": "stderr",
     "output_type": "stream",
     "text": [
      "Evaluating on test set: 100%|██████████| 79/79 [00:03<00:00, 25.66it/s]\n"
     ]
    },
    {
     "name": "stdout",
     "output_type": "stream",
     "text": [
      "Test accuracy: 79.30%\n"
     ]
    },
    {
     "data": {
      "image/png": "[encoded data removed]",
      "text/plain": [
       "<Figure size 1200x500 with 2 Axes>"
      ]
     },
     "metadata": {},
     "output_type": "display_data"
    },
    {
     "name": "stdout",
     "output_type": "stream",
     "text": [
      "\n",
      "\n",
      "==================================================\n",
      "Testing positional embedding type: 2d_learned\n",
      "==================================================\n",
      "\n",
      "Using device: cuda\n"
     ]
    },
    {
     "name": "stderr",
     "output_type": "stream",
     "text": [
      "Epoch 1/50 [Train]: 100%|██████████| 352/352 [00:51<00:00,  6.86it/s, loss=1.77, acc=33.5]\n",
      "Epoch 1/50 [Val]: 100%|██████████| 40/40 [00:02<00:00, 19.79it/s, loss=1.58, acc=42.4]\n"
     ]
    },
    {
     "name": "stdout",
     "output_type": "stream",
     "text": [
      "Epoch 1/50:\n",
      "Train Loss: 1.7731 | Train Acc: 33.52%\n",
      "Val Loss: 1.5757 | Val Acc: 42.38%\n",
      "Validation accuracy improved from 0.00% to 42.38%, saving model...\n"
     ]
    },
    {
     "name": "stderr",
     "output_type": "stream",
     "text": [
      "Epoch 2/50 [Train]: 100%|██████████| 352/352 [00:51<00:00,  6.79it/s, loss=1.47, acc=46.3]\n",
      "Epoch 2/50 [Val]: 100%|██████████| 40/40 [00:01<00:00, 21.66it/s, loss=1.33, acc=50.7]\n"
     ]
    },
    {
     "name": "stdout",
     "output_type": "stream",
     "text": [
      "Epoch 2/50:\n",
      "Train Loss: 1.4661 | Train Acc: 46.27%\n",
      "Val Loss: 1.3342 | Val Acc: 50.70%\n",
      "Validation accuracy improved from 42.38% to 50.70%, saving model...\n"
     ]
    },
    {
     "name": "stderr",
     "output_type": "stream",
     "text": [
      "Epoch 3/50 [Train]: 100%|██████████| 352/352 [00:51<00:00,  6.83it/s, loss=1.32, acc=51.8]\n",
      "Epoch 3/50 [Val]: 100%|██████████| 40/40 [00:01<00:00, 20.50it/s, loss=1.23, acc=54.9]\n"
     ]
    },
    {
     "name": "stdout",
     "output_type": "stream",
     "text": [
      "Epoch 3/50:\n",
      "Train Loss: 1.3182 | Train Acc: 51.77%\n",
      "Val Loss: 1.2332 | Val Acc: 54.90%\n",
      "Validation accuracy improved from 50.70% to 54.90%, saving model...\n"
     ]
    },
    {
     "name": "stderr",
     "output_type": "stream",
     "text": [
      "Epoch 4/50 [Train]: 100%|██████████| 352/352 [00:51<00:00,  6.90it/s, loss=1.22, acc=55.8]\n",
      "Epoch 4/50 [Val]: 100%|██████████| 40/40 [00:01<00:00, 20.35it/s, loss=1.15, acc=58.6]\n"
     ]
    },
    {
     "name": "stdout",
     "output_type": "stream",
     "text": [
      "Epoch 4/50:\n",
      "Train Loss: 1.2175 | Train Acc: 55.76%\n",
      "Val Loss: 1.1483 | Val Acc: 58.58%\n",
      "Validation accuracy improved from 54.90% to 58.58%, saving model...\n"
     ]
    },
    {
     "name": "stderr",
     "output_type": "stream",
     "text": [
      "Epoch 5/50 [Train]: 100%|██████████| 352/352 [00:51<00:00,  6.80it/s, loss=1.13, acc=59.1]\n",
      "Epoch 5/50 [Val]: 100%|██████████| 40/40 [00:01<00:00, 21.65it/s, loss=1.07, acc=61]\n"
     ]
    },
    {
     "name": "stdout",
     "output_type": "stream",
     "text": [
      "Epoch 5/50:\n",
      "Train Loss: 1.1331 | Train Acc: 59.12%\n",
      "Val Loss: 1.0737 | Val Acc: 60.96%\n",
      "Validation accuracy improved from 58.58% to 60.96%, saving model...\n"
     ]
    },
    {
     "name": "stderr",
     "output_type": "stream",
     "text": [
      "Epoch 6/50 [Train]: 100%|██████████| 352/352 [00:51<00:00,  6.85it/s, loss=1.08, acc=61.1]\n",
      "Epoch 6/50 [Val]: 100%|██████████| 40/40 [00:01<00:00, 21.43it/s, loss=1.03, acc=62.4]\n"
     ]
    },
    {
     "name": "stdout",
     "output_type": "stream",
     "text": [
      "Epoch 6/50:\n",
      "Train Loss: 1.0764 | Train Acc: 61.13%\n",
      "Val Loss: 1.0310 | Val Acc: 62.42%\n",
      "Validation accuracy improved from 60.96% to 62.42%, saving model...\n"
     ]
    },
    {
     "name": "stderr",
     "output_type": "stream",
     "text": [
      "Epoch 7/50 [Train]: 100%|██████████| 352/352 [00:51<00:00,  6.78it/s, loss=1.03, acc=62.9]\n",
      "Epoch 7/50 [Val]: 100%|██████████| 40/40 [00:01<00:00, 21.27it/s, loss=0.997, acc=64.2]\n"
     ]
    },
    {
     "name": "stdout",
     "output_type": "stream",
     "text": [
      "Epoch 7/50:\n",
      "Train Loss: 1.0277 | Train Acc: 62.93%\n",
      "Val Loss: 0.9971 | Val Acc: 64.20%\n",
      "Validation accuracy improved from 62.42% to 64.20%, saving model...\n"
     ]
    },
    {
     "name": "stderr",
     "output_type": "stream",
     "text": [
      "Epoch 8/50 [Train]: 100%|██████████| 352/352 [00:51<00:00,  6.83it/s, loss=0.975, acc=65]\n",
      "Epoch 8/50 [Val]: 100%|██████████| 40/40 [00:01<00:00, 20.09it/s, loss=0.978, acc=64.6]\n"
     ]
    },
    {
     "name": "stdout",
     "output_type": "stream",
     "text": [
      "Epoch 8/50:\n",
      "Train Loss: 0.9747 | Train Acc: 65.02%\n",
      "Val Loss: 0.9784 | Val Acc: 64.56%\n",
      "Validation accuracy improved from 64.20% to 64.56%, saving model...\n"
     ]
    },
    {
     "name": "stderr",
     "output_type": "stream",
     "text": [
      "Epoch 9/50 [Train]: 100%|██████████| 352/352 [00:51<00:00,  6.79it/s, loss=0.934, acc=66.7]\n",
      "Epoch 9/50 [Val]: 100%|██████████| 40/40 [00:01<00:00, 20.66it/s, loss=0.931, acc=66.4]\n"
     ]
    },
    {
     "name": "stdout",
     "output_type": "stream",
     "text": [
      "Epoch 9/50:\n",
      "Train Loss: 0.9343 | Train Acc: 66.67%\n",
      "Val Loss: 0.9315 | Val Acc: 66.36%\n",
      "Validation accuracy improved from 64.56% to 66.36%, saving model...\n"
     ]
    },
    {
     "name": "stderr",
     "output_type": "stream",
     "text": [
      "Epoch 10/50 [Train]: 100%|██████████| 352/352 [00:51<00:00,  6.77it/s, loss=0.893, acc=68.4]\n",
      "Epoch 10/50 [Val]: 100%|██████████| 40/40 [00:01<00:00, 21.54it/s, loss=0.893, acc=67.6]\n"
     ]
    },
    {
     "name": "stdout",
     "output_type": "stream",
     "text": [
      "Epoch 10/50:\n",
      "Train Loss: 0.8925 | Train Acc: 68.40%\n",
      "Val Loss: 0.8927 | Val Acc: 67.56%\n",
      "Validation accuracy improved from 66.36% to 67.56%, saving model...\n"
     ]
    },
    {
     "name": "stderr",
     "output_type": "stream",
     "text": [
      "Epoch 11/50 [Train]: 100%|██████████| 352/352 [00:51<00:00,  6.85it/s, loss=0.855, acc=69.5]\n",
      "Epoch 11/50 [Val]: 100%|██████████| 40/40 [00:01<00:00, 20.93it/s, loss=0.867, acc=68.9]\n"
     ]
    },
    {
     "name": "stdout",
     "output_type": "stream",
     "text": [
      "Epoch 11/50:\n",
      "Train Loss: 0.8550 | Train Acc: 69.54%\n",
      "Val Loss: 0.8675 | Val Acc: 68.88%\n",
      "Validation accuracy improved from 67.56% to 68.88%, saving model...\n"
     ]
    },
    {
     "name": "stderr",
     "output_type": "stream",
     "text": [
      "Epoch 12/50 [Train]: 100%|██████████| 352/352 [00:51<00:00,  6.80it/s, loss=0.824, acc=70.7]\n",
      "Epoch 12/50 [Val]: 100%|██████████| 40/40 [00:01<00:00, 20.88it/s, loss=0.86, acc=69.7]\n"
     ]
    },
    {
     "name": "stdout",
     "output_type": "stream",
     "text": [
      "Epoch 12/50:\n",
      "Train Loss: 0.8241 | Train Acc: 70.70%\n",
      "Val Loss: 0.8600 | Val Acc: 69.72%\n",
      "Validation accuracy improved from 68.88% to 69.72%, saving model...\n"
     ]
    },
    {
     "name": "stderr",
     "output_type": "stream",
     "text": [
      "Epoch 13/50 [Train]: 100%|██████████| 352/352 [00:51<00:00,  6.84it/s, loss=0.788, acc=72.1]\n",
      "Epoch 13/50 [Val]: 100%|██████████| 40/40 [00:01<00:00, 21.69it/s, loss=0.818, acc=71]\n"
     ]
    },
    {
     "name": "stdout",
     "output_type": "stream",
     "text": [
      "Epoch 13/50:\n",
      "Train Loss: 0.7877 | Train Acc: 72.06%\n",
      "Val Loss: 0.8181 | Val Acc: 71.04%\n",
      "Validation accuracy improved from 69.72% to 71.04%, saving model...\n"
     ]
    },
    {
     "name": "stderr",
     "output_type": "stream",
     "text": [
      "Epoch 14/50 [Train]: 100%|██████████| 352/352 [00:51<00:00,  6.82it/s, loss=0.755, acc=73.2]\n",
      "Epoch 14/50 [Val]: 100%|██████████| 40/40 [00:01<00:00, 20.22it/s, loss=0.803, acc=70.7]\n"
     ]
    },
    {
     "name": "stdout",
     "output_type": "stream",
     "text": [
      "Epoch 14/50:\n",
      "Train Loss: 0.7546 | Train Acc: 73.24%\n",
      "Val Loss: 0.8029 | Val Acc: 70.68%\n"
     ]
    },
    {
     "name": "stderr",
     "output_type": "stream",
     "text": [
      "Epoch 15/50 [Train]: 100%|██████████| 352/352 [00:51<00:00,  6.85it/s, loss=0.735, acc=73.7]\n",
      "Epoch 15/50 [Val]: 100%|██████████| 40/40 [00:01<00:00, 21.07it/s, loss=0.771, acc=72.4]\n"
     ]
    },
    {
     "name": "stdout",
     "output_type": "stream",
     "text": [
      "Epoch 15/50:\n",
      "Train Loss: 0.7353 | Train Acc: 73.68%\n",
      "Val Loss: 0.7706 | Val Acc: 72.38%\n",
      "Validation accuracy improved from 71.04% to 72.38%, saving model...\n"
     ]
    },
    {
     "name": "stderr",
     "output_type": "stream",
     "text": [
      "Epoch 16/50 [Train]: 100%|██████████| 352/352 [00:51<00:00,  6.80it/s, loss=0.703, acc=75.1]\n",
      "Epoch 16/50 [Val]: 100%|██████████| 40/40 [00:01<00:00, 20.71it/s, loss=0.79, acc=72.3]\n"
     ]
    },
    {
     "name": "stdout",
     "output_type": "stream",
     "text": [
      "Epoch 16/50:\n",
      "Train Loss: 0.7029 | Train Acc: 75.13%\n",
      "Val Loss: 0.7903 | Val Acc: 72.34%\n"
     ]
    },
    {
     "name": "stderr",
     "output_type": "stream",
     "text": [
      "Epoch 17/50 [Train]: 100%|██████████| 352/352 [00:51<00:00,  6.79it/s, loss=0.679, acc=75.7]\n",
      "Epoch 17/50 [Val]: 100%|██████████| 40/40 [00:02<00:00, 19.78it/s, loss=0.734, acc=74.2]\n"
     ]
    },
    {
     "name": "stdout",
     "output_type": "stream",
     "text": [
      "Epoch 17/50:\n",
      "Train Loss: 0.6795 | Train Acc: 75.71%\n",
      "Val Loss: 0.7339 | Val Acc: 74.22%\n",
      "Validation accuracy improved from 72.38% to 74.22%, saving model...\n"
     ]
    },
    {
     "name": "stderr",
     "output_type": "stream",
     "text": [
      "Epoch 18/50 [Train]: 100%|██████████| 352/352 [00:51<00:00,  6.87it/s, loss=0.656, acc=76.6]\n",
      "Epoch 18/50 [Val]: 100%|██████████| 40/40 [00:01<00:00, 21.03it/s, loss=0.734, acc=74.5]\n"
     ]
    },
    {
     "name": "stdout",
     "output_type": "stream",
     "text": [
      "Epoch 18/50:\n",
      "Train Loss: 0.6559 | Train Acc: 76.60%\n",
      "Val Loss: 0.7335 | Val Acc: 74.50%\n",
      "Validation accuracy improved from 74.22% to 74.50%, saving model...\n"
     ]
    },
    {
     "name": "stderr",
     "output_type": "stream",
     "text": [
      "Epoch 19/50 [Train]: 100%|██████████| 352/352 [00:51<00:00,  6.82it/s, loss=0.63, acc=77.5]\n",
      "Epoch 19/50 [Val]: 100%|██████████| 40/40 [00:02<00:00, 18.57it/s, loss=0.733, acc=74.1]\n"
     ]
    },
    {
     "name": "stdout",
     "output_type": "stream",
     "text": [
      "Epoch 19/50:\n",
      "Train Loss: 0.6300 | Train Acc: 77.46%\n",
      "Val Loss: 0.7333 | Val Acc: 74.14%\n"
     ]
    },
    {
     "name": "stderr",
     "output_type": "stream",
     "text": [
      "Epoch 20/50 [Train]: 100%|██████████| 352/352 [00:51<00:00,  6.79it/s, loss=0.612, acc=78.3]\n",
      "Epoch 20/50 [Val]: 100%|██████████| 40/40 [00:01<00:00, 20.69it/s, loss=0.733, acc=74.7]\n"
     ]
    },
    {
     "name": "stdout",
     "output_type": "stream",
     "text": [
      "Epoch 20/50:\n",
      "Train Loss: 0.6118 | Train Acc: 78.33%\n",
      "Val Loss: 0.7335 | Val Acc: 74.70%\n",
      "Validation accuracy improved from 74.50% to 74.70%, saving model...\n"
     ]
    },
    {
     "name": "stderr",
     "output_type": "stream",
     "text": [
      "Epoch 21/50 [Train]: 100%|██████████| 352/352 [00:53<00:00,  6.60it/s, loss=0.589, acc=79.1]\n",
      "Epoch 21/50 [Val]: 100%|██████████| 40/40 [00:01<00:00, 20.85it/s, loss=0.709, acc=76.1]\n"
     ]
    },
    {
     "name": "stdout",
     "output_type": "stream",
     "text": [
      "Epoch 21/50:\n",
      "Train Loss: 0.5885 | Train Acc: 79.12%\n",
      "Val Loss: 0.7086 | Val Acc: 76.08%\n",
      "Validation accuracy improved from 74.70% to 76.08%, saving model...\n"
     ]
    },
    {
     "name": "stderr",
     "output_type": "stream",
     "text": [
      "Epoch 22/50 [Train]: 100%|██████████| 352/352 [00:52<00:00,  6.70it/s, loss=0.564, acc=79.8]\n",
      "Epoch 22/50 [Val]: 100%|██████████| 40/40 [00:01<00:00, 20.81it/s, loss=0.727, acc=75.5]\n"
     ]
    },
    {
     "name": "stdout",
     "output_type": "stream",
     "text": [
      "Epoch 22/50:\n",
      "Train Loss: 0.5636 | Train Acc: 79.81%\n",
      "Val Loss: 0.7268 | Val Acc: 75.50%\n"
     ]
    },
    {
     "name": "stderr",
     "output_type": "stream",
     "text": [
      "Epoch 23/50 [Train]: 100%|██████████| 352/352 [00:53<00:00,  6.63it/s, loss=0.548, acc=80.6]\n",
      "Epoch 23/50 [Val]: 100%|██████████| 40/40 [00:01<00:00, 20.84it/s, loss=0.696, acc=76.1]\n"
     ]
    },
    {
     "name": "stdout",
     "output_type": "stream",
     "text": [
      "Epoch 23/50:\n",
      "Train Loss: 0.5484 | Train Acc: 80.56%\n",
      "Val Loss: 0.6956 | Val Acc: 76.08%\n"
     ]
    },
    {
     "name": "stderr",
     "output_type": "stream",
     "text": [
      "Epoch 24/50 [Train]: 100%|██████████| 352/352 [00:52<00:00,  6.69it/s, loss=0.526, acc=81.3]\n",
      "Epoch 24/50 [Val]: 100%|██████████| 40/40 [00:02<00:00, 18.82it/s, loss=0.711, acc=75.7]\n"
     ]
    },
    {
     "name": "stdout",
     "output_type": "stream",
     "text": [
      "Epoch 24/50:\n",
      "Train Loss: 0.5264 | Train Acc: 81.27%\n",
      "Val Loss: 0.7112 | Val Acc: 75.66%\n"
     ]
    },
    {
     "name": "stderr",
     "output_type": "stream",
     "text": [
      "Epoch 25/50 [Train]: 100%|██████████| 352/352 [00:52<00:00,  6.68it/s, loss=0.509, acc=81.9]\n",
      "Epoch 25/50 [Val]: 100%|██████████| 40/40 [00:01<00:00, 21.03it/s, loss=0.684, acc=76.2]\n"
     ]
    },
    {
     "name": "stdout",
     "output_type": "stream",
     "text": [
      "Epoch 25/50:\n",
      "Train Loss: 0.5089 | Train Acc: 81.93%\n",
      "Val Loss: 0.6839 | Val Acc: 76.24%\n",
      "Validation accuracy improved from 76.08% to 76.24%, saving model...\n"
     ]
    },
    {
     "name": "stderr",
     "output_type": "stream",
     "text": [
      "Epoch 26/50 [Train]: 100%|██████████| 352/352 [00:52<00:00,  6.70it/s, loss=0.482, acc=82.8]\n",
      "Epoch 26/50 [Val]: 100%|██████████| 40/40 [00:01<00:00, 20.15it/s, loss=0.696, acc=76.8]\n"
     ]
    },
    {
     "name": "stdout",
     "output_type": "stream",
     "text": [
      "Epoch 26/50:\n",
      "Train Loss: 0.4824 | Train Acc: 82.84%\n",
      "Val Loss: 0.6957 | Val Acc: 76.78%\n",
      "Validation accuracy improved from 76.24% to 76.78%, saving model...\n"
     ]
    },
    {
     "name": "stderr",
     "output_type": "stream",
     "text": [
      "Epoch 27/50 [Train]: 100%|██████████| 352/352 [00:53<00:00,  6.62it/s, loss=0.463, acc=83.5]\n",
      "Epoch 27/50 [Val]: 100%|██████████| 40/40 [00:01<00:00, 20.20it/s, loss=0.698, acc=76.7]\n"
     ]
    },
    {
     "name": "stdout",
     "output_type": "stream",
     "text": [
      "Epoch 27/50:\n",
      "Train Loss: 0.4632 | Train Acc: 83.54%\n",
      "Val Loss: 0.6977 | Val Acc: 76.70%\n"
     ]
    },
    {
     "name": "stderr",
     "output_type": "stream",
     "text": [
      "Epoch 28/50 [Train]: 100%|██████████| 352/352 [00:53<00:00,  6.60it/s, loss=0.45, acc=84]\n",
      "Epoch 28/50 [Val]: 100%|██████████| 40/40 [00:01<00:00, 20.79it/s, loss=0.684, acc=77.5]\n"
     ]
    },
    {
     "name": "stdout",
     "output_type": "stream",
     "text": [
      "Epoch 28/50:\n",
      "Train Loss: 0.4500 | Train Acc: 83.96%\n",
      "Val Loss: 0.6841 | Val Acc: 77.52%\n",
      "Validation accuracy improved from 76.78% to 77.52%, saving model...\n"
     ]
    },
    {
     "name": "stderr",
     "output_type": "stream",
     "text": [
      "Epoch 29/50 [Train]: 100%|██████████| 352/352 [00:52<00:00,  6.71it/s, loss=0.427, acc=84.7]\n",
      "Epoch 29/50 [Val]: 100%|██████████| 40/40 [00:01<00:00, 21.23it/s, loss=0.696, acc=76.6]\n"
     ]
    },
    {
     "name": "stdout",
     "output_type": "stream",
     "text": [
      "Epoch 29/50:\n",
      "Train Loss: 0.4271 | Train Acc: 84.67%\n",
      "Val Loss: 0.6961 | Val Acc: 76.64%\n"
     ]
    },
    {
     "name": "stderr",
     "output_type": "stream",
     "text": [
      "Epoch 30/50 [Train]: 100%|██████████| 352/352 [00:53<00:00,  6.60it/s, loss=0.407, acc=85.5]\n",
      "Epoch 30/50 [Val]: 100%|██████████| 40/40 [00:01<00:00, 21.46it/s, loss=0.701, acc=77.8]\n"
     ]
    },
    {
     "name": "stdout",
     "output_type": "stream",
     "text": [
      "Epoch 30/50:\n",
      "Train Loss: 0.4074 | Train Acc: 85.48%\n",
      "Val Loss: 0.7006 | Val Acc: 77.76%\n",
      "Validation accuracy improved from 77.52% to 77.76%, saving model...\n"
     ]
    },
    {
     "name": "stderr",
     "output_type": "stream",
     "text": [
      "Epoch 31/50 [Train]: 100%|██████████| 352/352 [00:52<00:00,  6.75it/s, loss=0.39, acc=86.1]\n",
      "Epoch 31/50 [Val]: 100%|██████████| 40/40 [00:01<00:00, 20.47it/s, loss=0.71, acc=77.6]\n"
     ]
    },
    {
     "name": "stdout",
     "output_type": "stream",
     "text": [
      "Epoch 31/50:\n",
      "Train Loss: 0.3902 | Train Acc: 86.06%\n",
      "Val Loss: 0.7103 | Val Acc: 77.64%\n"
     ]
    },
    {
     "name": "stderr",
     "output_type": "stream",
     "text": [
      "Epoch 32/50 [Train]: 100%|██████████| 352/352 [00:51<00:00,  6.77it/s, loss=0.38, acc=86.5]\n",
      "Epoch 32/50 [Val]: 100%|██████████| 40/40 [00:01<00:00, 20.52it/s, loss=0.695, acc=78.3]\n"
     ]
    },
    {
     "name": "stdout",
     "output_type": "stream",
     "text": [
      "Epoch 32/50:\n",
      "Train Loss: 0.3798 | Train Acc: 86.50%\n",
      "Val Loss: 0.6953 | Val Acc: 78.32%\n",
      "Validation accuracy improved from 77.76% to 78.32%, saving model...\n"
     ]
    },
    {
     "name": "stderr",
     "output_type": "stream",
     "text": [
      "Epoch 33/50 [Train]: 100%|██████████| 352/352 [00:51<00:00,  6.87it/s, loss=0.355, acc=87.4]\n",
      "Epoch 33/50 [Val]: 100%|██████████| 40/40 [00:01<00:00, 20.46it/s, loss=0.695, acc=78.6]\n"
     ]
    },
    {
     "name": "stdout",
     "output_type": "stream",
     "text": [
      "Epoch 33/50:\n",
      "Train Loss: 0.3554 | Train Acc: 87.38%\n",
      "Val Loss: 0.6945 | Val Acc: 78.64%\n",
      "Validation accuracy improved from 78.32% to 78.64%, saving model...\n"
     ]
    },
    {
     "name": "stderr",
     "output_type": "stream",
     "text": [
      "Epoch 34/50 [Train]: 100%|██████████| 352/352 [00:51<00:00,  6.81it/s, loss=0.346, acc=87.6]\n",
      "Epoch 34/50 [Val]: 100%|██████████| 40/40 [00:01<00:00, 21.46it/s, loss=0.705, acc=78.3]\n"
     ]
    },
    {
     "name": "stdout",
     "output_type": "stream",
     "text": [
      "Epoch 34/50:\n",
      "Train Loss: 0.3459 | Train Acc: 87.61%\n",
      "Val Loss: 0.7046 | Val Acc: 78.26%\n"
     ]
    },
    {
     "name": "stderr",
     "output_type": "stream",
     "text": [
      "Epoch 35/50 [Train]: 100%|██████████| 352/352 [00:51<00:00,  6.90it/s, loss=0.332, acc=88.1]\n",
      "Epoch 35/50 [Val]: 100%|██████████| 40/40 [00:02<00:00, 19.64it/s, loss=0.717, acc=78.5]\n"
     ]
    },
    {
     "name": "stdout",
     "output_type": "stream",
     "text": [
      "Epoch 35/50:\n",
      "Train Loss: 0.3316 | Train Acc: 88.12%\n",
      "Val Loss: 0.7168 | Val Acc: 78.54%\n"
     ]
    },
    {
     "name": "stderr",
     "output_type": "stream",
     "text": [
      "Epoch 36/50 [Train]: 100%|██████████| 352/352 [00:51<00:00,  6.85it/s, loss=0.316, acc=88.5]\n",
      "Epoch 36/50 [Val]: 100%|██████████| 40/40 [00:01<00:00, 21.10it/s, loss=0.712, acc=78.4]\n"
     ]
    },
    {
     "name": "stdout",
     "output_type": "stream",
     "text": [
      "Epoch 36/50:\n",
      "Train Loss: 0.3160 | Train Acc: 88.51%\n",
      "Val Loss: 0.7123 | Val Acc: 78.40%\n"
     ]
    },
    {
     "name": "stderr",
     "output_type": "stream",
     "text": [
      "Epoch 37/50 [Train]: 100%|██████████| 352/352 [00:50<00:00,  6.91it/s, loss=0.302, acc=89.2]\n",
      "Epoch 37/50 [Val]: 100%|██████████| 40/40 [00:01<00:00, 20.48it/s, loss=0.705, acc=78.4]\n"
     ]
    },
    {
     "name": "stdout",
     "output_type": "stream",
     "text": [
      "Epoch 37/50:\n",
      "Train Loss: 0.3023 | Train Acc: 89.23%\n",
      "Val Loss: 0.7048 | Val Acc: 78.38%\n"
     ]
    },
    {
     "name": "stderr",
     "output_type": "stream",
     "text": [
      "Epoch 38/50 [Train]: 100%|██████████| 352/352 [00:51<00:00,  6.78it/s, loss=0.291, acc=89.6]\n",
      "Epoch 38/50 [Val]: 100%|██████████| 40/40 [00:01<00:00, 21.91it/s, loss=0.72, acc=78.8]\n"
     ]
    },
    {
     "name": "stdout",
     "output_type": "stream",
     "text": [
      "Epoch 38/50:\n",
      "Train Loss: 0.2909 | Train Acc: 89.60%\n",
      "Val Loss: 0.7200 | Val Acc: 78.76%\n",
      "Validation accuracy improved from 78.64% to 78.76%, saving model...\n"
     ]
    },
    {
     "name": "stderr",
     "output_type": "stream",
     "text": [
      "Epoch 39/50 [Train]: 100%|██████████| 352/352 [00:50<00:00,  6.93it/s, loss=0.279, acc=90.1]\n",
      "Epoch 39/50 [Val]: 100%|██████████| 40/40 [00:01<00:00, 20.19it/s, loss=0.728, acc=79.2]\n"
     ]
    },
    {
     "name": "stdout",
     "output_type": "stream",
     "text": [
      "Epoch 39/50:\n",
      "Train Loss: 0.2794 | Train Acc: 90.08%\n",
      "Val Loss: 0.7279 | Val Acc: 79.22%\n",
      "Validation accuracy improved from 78.76% to 79.22%, saving model...\n"
     ]
    },
    {
     "name": "stderr",
     "output_type": "stream",
     "text": [
      "Epoch 40/50 [Train]: 100%|██████████| 352/352 [00:51<00:00,  6.83it/s, loss=0.27, acc=90.5]\n",
      "Epoch 40/50 [Val]: 100%|██████████| 40/40 [00:01<00:00, 20.40it/s, loss=0.737, acc=79.1]\n"
     ]
    },
    {
     "name": "stdout",
     "output_type": "stream",
     "text": [
      "Epoch 40/50:\n",
      "Train Loss: 0.2695 | Train Acc: 90.48%\n",
      "Val Loss: 0.7373 | Val Acc: 79.06%\n"
     ]
    },
    {
     "name": "stderr",
     "output_type": "stream",
     "text": [
      "Epoch 41/50 [Train]: 100%|██████████| 352/352 [00:51<00:00,  6.87it/s, loss=0.26, acc=90.7]\n",
      "Epoch 41/50 [Val]: 100%|██████████| 40/40 [00:02<00:00, 19.56it/s, loss=0.736, acc=79.4]\n"
     ]
    },
    {
     "name": "stdout",
     "output_type": "stream",
     "text": [
      "Epoch 41/50:\n",
      "Train Loss: 0.2604 | Train Acc: 90.66%\n",
      "Val Loss: 0.7361 | Val Acc: 79.40%\n",
      "Validation accuracy improved from 79.22% to 79.40%, saving model...\n"
     ]
    },
    {
     "name": "stderr",
     "output_type": "stream",
     "text": [
      "Epoch 42/50 [Train]: 100%|██████████| 352/352 [00:51<00:00,  6.89it/s, loss=0.251, acc=91.1]\n",
      "Epoch 42/50 [Val]: 100%|██████████| 40/40 [00:01<00:00, 21.20it/s, loss=0.766, acc=78.7]\n"
     ]
    },
    {
     "name": "stdout",
     "output_type": "stream",
     "text": [
      "Epoch 42/50:\n",
      "Train Loss: 0.2514 | Train Acc: 91.06%\n",
      "Val Loss: 0.7664 | Val Acc: 78.72%\n"
     ]
    },
    {
     "name": "stderr",
     "output_type": "stream",
     "text": [
      "Epoch 43/50 [Train]: 100%|██████████| 352/352 [00:50<00:00,  6.93it/s, loss=0.248, acc=91.1]\n",
      "Epoch 43/50 [Val]: 100%|██████████| 40/40 [00:01<00:00, 20.72it/s, loss=0.75, acc=78.9]\n"
     ]
    },
    {
     "name": "stdout",
     "output_type": "stream",
     "text": [
      "Epoch 43/50:\n",
      "Train Loss: 0.2479 | Train Acc: 91.13%\n",
      "Val Loss: 0.7501 | Val Acc: 78.94%\n"
     ]
    },
    {
     "name": "stderr",
     "output_type": "stream",
     "text": [
      "Epoch 44/50 [Train]: 100%|██████████| 352/352 [00:51<00:00,  6.88it/s, loss=0.244, acc=91.4]\n",
      "Epoch 44/50 [Val]: 100%|██████████| 40/40 [00:01<00:00, 21.04it/s, loss=0.733, acc=79.5]\n"
     ]
    },
    {
     "name": "stdout",
     "output_type": "stream",
     "text": [
      "Epoch 44/50:\n",
      "Train Loss: 0.2444 | Train Acc: 91.40%\n",
      "Val Loss: 0.7334 | Val Acc: 79.46%\n",
      "Validation accuracy improved from 79.40% to 79.46%, saving model...\n"
     ]
    },
    {
     "name": "stderr",
     "output_type": "stream",
     "text": [
      "Epoch 45/50 [Train]: 100%|██████████| 352/352 [00:51<00:00,  6.87it/s, loss=0.238, acc=91.6]\n",
      "Epoch 45/50 [Val]: 100%|██████████| 40/40 [00:01<00:00, 20.90it/s, loss=0.717, acc=79.6]\n"
     ]
    },
    {
     "name": "stdout",
     "output_type": "stream",
     "text": [
      "Epoch 45/50:\n",
      "Train Loss: 0.2378 | Train Acc: 91.61%\n",
      "Val Loss: 0.7166 | Val Acc: 79.58%\n",
      "Validation accuracy improved from 79.46% to 79.58%, saving model...\n"
     ]
    },
    {
     "name": "stderr",
     "output_type": "stream",
     "text": [
      "Epoch 46/50 [Train]: 100%|██████████| 352/352 [00:51<00:00,  6.85it/s, loss=0.234, acc=91.5]\n",
      "Epoch 46/50 [Val]: 100%|██████████| 40/40 [00:01<00:00, 20.93it/s, loss=0.728, acc=78.9]\n"
     ]
    },
    {
     "name": "stdout",
     "output_type": "stream",
     "text": [
      "Epoch 46/50:\n",
      "Train Loss: 0.2337 | Train Acc: 91.50%\n",
      "Val Loss: 0.7281 | Val Acc: 78.92%\n"
     ]
    },
    {
     "name": "stderr",
     "output_type": "stream",
     "text": [
      "Epoch 47/50 [Train]: 100%|██████████| 352/352 [00:50<00:00,  6.94it/s, loss=0.23, acc=91.9]\n",
      "Epoch 47/50 [Val]: 100%|██████████| 40/40 [00:01<00:00, 21.57it/s, loss=0.746, acc=79.6]\n"
     ]
    },
    {
     "name": "stdout",
     "output_type": "stream",
     "text": [
      "Epoch 47/50:\n",
      "Train Loss: 0.2296 | Train Acc: 91.93%\n",
      "Val Loss: 0.7461 | Val Acc: 79.64%\n",
      "Validation accuracy improved from 79.58% to 79.64%, saving model...\n"
     ]
    },
    {
     "name": "stderr",
     "output_type": "stream",
     "text": [
      "Epoch 48/50 [Train]: 100%|██████████| 352/352 [00:51<00:00,  6.82it/s, loss=0.23, acc=91.9]\n",
      "Epoch 48/50 [Val]: 100%|██████████| 40/40 [00:01<00:00, 21.14it/s, loss=0.751, acc=79.5]\n"
     ]
    },
    {
     "name": "stdout",
     "output_type": "stream",
     "text": [
      "Epoch 48/50:\n",
      "Train Loss: 0.2302 | Train Acc: 91.85%\n",
      "Val Loss: 0.7508 | Val Acc: 79.52%\n"
     ]
    },
    {
     "name": "stderr",
     "output_type": "stream",
     "text": [
      "Epoch 49/50 [Train]: 100%|██████████| 352/352 [00:50<00:00,  6.92it/s, loss=0.226, acc=92.1]\n",
      "Epoch 49/50 [Val]: 100%|██████████| 40/40 [00:02<00:00, 18.80it/s, loss=0.766, acc=79.2]\n"
     ]
    },
    {
     "name": "stdout",
     "output_type": "stream",
     "text": [
      "Epoch 49/50:\n",
      "Train Loss: 0.2258 | Train Acc: 92.05%\n",
      "Val Loss: 0.7662 | Val Acc: 79.24%\n"
     ]
    },
    {
     "name": "stderr",
     "output_type": "stream",
     "text": [
      "Epoch 50/50 [Train]: 100%|██████████| 352/352 [00:52<00:00,  6.74it/s, loss=0.228, acc=91.7]\n",
      "Epoch 50/50 [Val]: 100%|██████████| 40/40 [00:01<00:00, 21.18it/s, loss=0.766, acc=78.9]\n"
     ]
    },
    {
     "name": "stdout",
     "output_type": "stream",
     "text": [
      "Epoch 50/50:\n",
      "Train Loss: 0.2277 | Train Acc: 91.73%\n",
      "Val Loss: 0.7661 | Val Acc: 78.90%\n",
      "Best validation accuracy: 79.64%\n"
     ]
    },
    {
     "name": "stderr",
     "output_type": "stream",
     "text": [
      "Evaluating on test set: 100%|██████████| 79/79 [00:03<00:00, 23.54it/s]\n"
     ]
    },
    {
     "name": "stdout",
     "output_type": "stream",
     "text": [
      "Test accuracy: 79.75%\n"
     ]
    },
    {
     "data": {
      "image/png": "[encoded data removed]",
      "text/plain": [
       "<Figure size 1200x500 with 2 Axes>"
      ]
     },
     "metadata": {},
     "output_type": "display_data"
    },
    {
     "name": "stdout",
     "output_type": "stream",
     "text": [
      "\n",
      "\n",
      "==================================================\n",
      "Testing positional embedding type: sinusoidal\n",
      "==================================================\n",
      "\n",
      "Using device: cuda\n"
     ]
    },
    {
     "name": "stderr",
     "output_type": "stream",
     "text": [
      "Epoch 1/50 [Train]: 100%|██████████| 352/352 [00:46<00:00,  7.52it/s, loss=1.75, acc=35.1]\n",
      "Epoch 1/50 [Val]: 100%|██████████| 40/40 [00:01<00:00, 22.90it/s, loss=1.5, acc=46]\n"
     ]
    },
    {
     "name": "stdout",
     "output_type": "stream",
     "text": [
      "Epoch 1/50:\n",
      "Train Loss: 1.7463 | Train Acc: 35.14%\n",
      "Val Loss: 1.4955 | Val Acc: 46.04%\n",
      "Validation accuracy improved from 0.00% to 46.04%, saving model...\n"
     ]
    },
    {
     "name": "stderr",
     "output_type": "stream",
     "text": [
      "Epoch 2/50 [Train]: 100%|██████████| 352/352 [00:47<00:00,  7.44it/s, loss=1.43, acc=47.9]\n",
      "Epoch 2/50 [Val]: 100%|██████████| 40/40 [00:01<00:00, 22.74it/s, loss=1.27, acc=52.6]\n"
     ]
    },
    {
     "name": "stdout",
     "output_type": "stream",
     "text": [
      "Epoch 2/50:\n",
      "Train Loss: 1.4268 | Train Acc: 47.87%\n",
      "Val Loss: 1.2733 | Val Acc: 52.62%\n",
      "Validation accuracy improved from 46.04% to 52.62%, saving model...\n"
     ]
    },
    {
     "name": "stderr",
     "output_type": "stream",
     "text": [
      "Epoch 3/50 [Train]: 100%|██████████| 352/352 [00:46<00:00,  7.53it/s, loss=1.3, acc=52.8]\n",
      "Epoch 3/50 [Val]: 100%|██████████| 40/40 [00:01<00:00, 22.18it/s, loss=1.21, acc=56.9]\n"
     ]
    },
    {
     "name": "stdout",
     "output_type": "stream",
     "text": [
      "Epoch 3/50:\n",
      "Train Loss: 1.3012 | Train Acc: 52.80%\n",
      "Val Loss: 1.2056 | Val Acc: 56.88%\n",
      "Validation accuracy improved from 52.62% to 56.88%, saving model...\n"
     ]
    },
    {
     "name": "stderr",
     "output_type": "stream",
     "text": [
      "Epoch 4/50 [Train]: 100%|██████████| 352/352 [00:47<00:00,  7.48it/s, loss=1.21, acc=56.2]\n",
      "Epoch 4/50 [Val]: 100%|██████████| 40/40 [00:01<00:00, 21.31it/s, loss=1.14, acc=58.1]\n"
     ]
    },
    {
     "name": "stdout",
     "output_type": "stream",
     "text": [
      "Epoch 4/50:\n",
      "Train Loss: 1.2133 | Train Acc: 56.21%\n",
      "Val Loss: 1.1427 | Val Acc: 58.10%\n",
      "Validation accuracy improved from 56.88% to 58.10%, saving model...\n"
     ]
    },
    {
     "name": "stderr",
     "output_type": "stream",
     "text": [
      "Epoch 5/50 [Train]: 100%|██████████| 352/352 [00:47<00:00,  7.48it/s, loss=1.15, acc=58.7]\n",
      "Epoch 5/50 [Val]: 100%|██████████| 40/40 [00:01<00:00, 23.30it/s, loss=1.1, acc=60.5]\n"
     ]
    },
    {
     "name": "stdout",
     "output_type": "stream",
     "text": [
      "Epoch 5/50:\n",
      "Train Loss: 1.1475 | Train Acc: 58.72%\n",
      "Val Loss: 1.1000 | Val Acc: 60.54%\n",
      "Validation accuracy improved from 58.10% to 60.54%, saving model...\n"
     ]
    },
    {
     "name": "stderr",
     "output_type": "stream",
     "text": [
      "Epoch 6/50 [Train]: 100%|██████████| 352/352 [00:46<00:00,  7.55it/s, loss=1.09, acc=60.9]\n",
      "Epoch 6/50 [Val]: 100%|██████████| 40/40 [00:01<00:00, 21.90it/s, loss=1.05, acc=62.6]\n"
     ]
    },
    {
     "name": "stdout",
     "output_type": "stream",
     "text": [
      "Epoch 6/50:\n",
      "Train Loss: 1.0919 | Train Acc: 60.91%\n",
      "Val Loss: 1.0499 | Val Acc: 62.56%\n",
      "Validation accuracy improved from 60.54% to 62.56%, saving model...\n"
     ]
    },
    {
     "name": "stderr",
     "output_type": "stream",
     "text": [
      "Epoch 7/50 [Train]: 100%|██████████| 352/352 [00:46<00:00,  7.58it/s, loss=1.04, acc=62.4]\n",
      "Epoch 7/50 [Val]: 100%|██████████| 40/40 [00:01<00:00, 21.80it/s, loss=1.03, acc=63.3]\n"
     ]
    },
    {
     "name": "stdout",
     "output_type": "stream",
     "text": [
      "Epoch 7/50:\n",
      "Train Loss: 1.0399 | Train Acc: 62.43%\n",
      "Val Loss: 1.0348 | Val Acc: 63.34%\n",
      "Validation accuracy improved from 62.56% to 63.34%, saving model...\n"
     ]
    },
    {
     "name": "stderr",
     "output_type": "stream",
     "text": [
      "Epoch 8/50 [Train]: 100%|██████████| 352/352 [00:47<00:00,  7.40it/s, loss=0.993, acc=64.4]\n",
      "Epoch 8/50 [Val]: 100%|██████████| 40/40 [00:01<00:00, 22.98it/s, loss=0.97, acc=65.6]\n"
     ]
    },
    {
     "name": "stdout",
     "output_type": "stream",
     "text": [
      "Epoch 8/50:\n",
      "Train Loss: 0.9932 | Train Acc: 64.39%\n",
      "Val Loss: 0.9700 | Val Acc: 65.58%\n",
      "Validation accuracy improved from 63.34% to 65.58%, saving model...\n"
     ]
    },
    {
     "name": "stderr",
     "output_type": "stream",
     "text": [
      "Epoch 9/50 [Train]: 100%|██████████| 352/352 [00:46<00:00,  7.53it/s, loss=0.961, acc=65.5]\n",
      "Epoch 9/50 [Val]: 100%|██████████| 40/40 [00:01<00:00, 22.63it/s, loss=0.967, acc=65.8]\n"
     ]
    },
    {
     "name": "stdout",
     "output_type": "stream",
     "text": [
      "Epoch 9/50:\n",
      "Train Loss: 0.9606 | Train Acc: 65.54%\n",
      "Val Loss: 0.9665 | Val Acc: 65.80%\n",
      "Validation accuracy improved from 65.58% to 65.80%, saving model...\n"
     ]
    },
    {
     "name": "stderr",
     "output_type": "stream",
     "text": [
      "Epoch 10/50 [Train]: 100%|██████████| 352/352 [00:46<00:00,  7.50it/s, loss=0.926, acc=66.8]\n",
      "Epoch 10/50 [Val]: 100%|██████████| 40/40 [00:01<00:00, 21.72it/s, loss=0.912, acc=67.7]\n"
     ]
    },
    {
     "name": "stdout",
     "output_type": "stream",
     "text": [
      "Epoch 10/50:\n",
      "Train Loss: 0.9263 | Train Acc: 66.80%\n",
      "Val Loss: 0.9115 | Val Acc: 67.66%\n",
      "Validation accuracy improved from 65.80% to 67.66%, saving model...\n"
     ]
    },
    {
     "name": "stderr",
     "output_type": "stream",
     "text": [
      "Epoch 11/50 [Train]: 100%|██████████| 352/352 [00:47<00:00,  7.47it/s, loss=0.893, acc=68.1]\n",
      "Epoch 11/50 [Val]: 100%|██████████| 40/40 [00:01<00:00, 22.34it/s, loss=0.875, acc=68]\n"
     ]
    },
    {
     "name": "stdout",
     "output_type": "stream",
     "text": [
      "Epoch 11/50:\n",
      "Train Loss: 0.8929 | Train Acc: 68.07%\n",
      "Val Loss: 0.8751 | Val Acc: 68.02%\n",
      "Validation accuracy improved from 67.66% to 68.02%, saving model...\n"
     ]
    },
    {
     "name": "stderr",
     "output_type": "stream",
     "text": [
      "Epoch 12/50 [Train]: 100%|██████████| 352/352 [00:47<00:00,  7.48it/s, loss=0.862, acc=69.1]\n",
      "Epoch 12/50 [Val]: 100%|██████████| 40/40 [00:01<00:00, 23.69it/s, loss=0.859, acc=69.9]\n"
     ]
    },
    {
     "name": "stdout",
     "output_type": "stream",
     "text": [
      "Epoch 12/50:\n",
      "Train Loss: 0.8618 | Train Acc: 69.09%\n",
      "Val Loss: 0.8594 | Val Acc: 69.88%\n",
      "Validation accuracy improved from 68.02% to 69.88%, saving model...\n"
     ]
    },
    {
     "name": "stderr",
     "output_type": "stream",
     "text": [
      "Epoch 13/50 [Train]: 100%|██████████| 352/352 [00:47<00:00,  7.44it/s, loss=0.833, acc=70.2]\n",
      "Epoch 13/50 [Val]: 100%|██████████| 40/40 [00:01<00:00, 22.49it/s, loss=0.861, acc=69.4]\n"
     ]
    },
    {
     "name": "stdout",
     "output_type": "stream",
     "text": [
      "Epoch 13/50:\n",
      "Train Loss: 0.8334 | Train Acc: 70.16%\n",
      "Val Loss: 0.8611 | Val Acc: 69.44%\n"
     ]
    },
    {
     "name": "stderr",
     "output_type": "stream",
     "text": [
      "Epoch 14/50 [Train]: 100%|██████████| 352/352 [00:46<00:00,  7.50it/s, loss=0.808, acc=71.2]\n",
      "Epoch 14/50 [Val]: 100%|██████████| 40/40 [00:01<00:00, 22.70it/s, loss=0.845, acc=70.1]\n"
     ]
    },
    {
     "name": "stdout",
     "output_type": "stream",
     "text": [
      "Epoch 14/50:\n",
      "Train Loss: 0.8084 | Train Acc: 71.23%\n",
      "Val Loss: 0.8450 | Val Acc: 70.14%\n",
      "Validation accuracy improved from 69.88% to 70.14%, saving model...\n"
     ]
    },
    {
     "name": "stderr",
     "output_type": "stream",
     "text": [
      "Epoch 15/50 [Train]: 100%|██████████| 352/352 [00:46<00:00,  7.51it/s, loss=0.771, acc=72.5]\n",
      "Epoch 15/50 [Val]: 100%|██████████| 40/40 [00:01<00:00, 21.63it/s, loss=0.818, acc=71.2]\n"
     ]
    },
    {
     "name": "stdout",
     "output_type": "stream",
     "text": [
      "Epoch 15/50:\n",
      "Train Loss: 0.7713 | Train Acc: 72.52%\n",
      "Val Loss: 0.8177 | Val Acc: 71.18%\n",
      "Validation accuracy improved from 70.14% to 71.18%, saving model...\n"
     ]
    },
    {
     "name": "stderr",
     "output_type": "stream",
     "text": [
      "Epoch 16/50 [Train]: 100%|██████████| 352/352 [00:46<00:00,  7.54it/s, loss=0.752, acc=73.1]\n",
      "Epoch 16/50 [Val]: 100%|██████████| 40/40 [00:01<00:00, 20.60it/s, loss=0.789, acc=72.2]\n"
     ]
    },
    {
     "name": "stdout",
     "output_type": "stream",
     "text": [
      "Epoch 16/50:\n",
      "Train Loss: 0.7522 | Train Acc: 73.11%\n",
      "Val Loss: 0.7892 | Val Acc: 72.20%\n",
      "Validation accuracy improved from 71.18% to 72.20%, saving model...\n"
     ]
    },
    {
     "name": "stderr",
     "output_type": "stream",
     "text": [
      "Epoch 17/50 [Train]: 100%|██████████| 352/352 [00:47<00:00,  7.49it/s, loss=0.727, acc=74.2]\n",
      "Epoch 17/50 [Val]: 100%|██████████| 40/40 [00:01<00:00, 22.20it/s, loss=0.791, acc=72.2]\n"
     ]
    },
    {
     "name": "stdout",
     "output_type": "stream",
     "text": [
      "Epoch 17/50:\n",
      "Train Loss: 0.7274 | Train Acc: 74.18%\n",
      "Val Loss: 0.7906 | Val Acc: 72.16%\n"
     ]
    },
    {
     "name": "stderr",
     "output_type": "stream",
     "text": [
      "Epoch 18/50 [Train]: 100%|██████████| 352/352 [00:46<00:00,  7.54it/s, loss=0.693, acc=75.3]\n",
      "Epoch 18/50 [Val]: 100%|██████████| 40/40 [00:01<00:00, 23.02it/s, loss=0.792, acc=72]\n"
     ]
    },
    {
     "name": "stdout",
     "output_type": "stream",
     "text": [
      "Epoch 18/50:\n",
      "Train Loss: 0.6930 | Train Acc: 75.31%\n",
      "Val Loss: 0.7924 | Val Acc: 71.96%\n"
     ]
    },
    {
     "name": "stderr",
     "output_type": "stream",
     "text": [
      "Epoch 19/50 [Train]: 100%|██████████| 352/352 [00:46<00:00,  7.55it/s, loss=0.67, acc=76.2]\n",
      "Epoch 19/50 [Val]: 100%|██████████| 40/40 [00:01<00:00, 22.52it/s, loss=0.807, acc=72.5]\n"
     ]
    },
    {
     "name": "stdout",
     "output_type": "stream",
     "text": [
      "Epoch 19/50:\n",
      "Train Loss: 0.6700 | Train Acc: 76.16%\n",
      "Val Loss: 0.8066 | Val Acc: 72.48%\n",
      "Validation accuracy improved from 72.20% to 72.48%, saving model...\n"
     ]
    },
    {
     "name": "stderr",
     "output_type": "stream",
     "text": [
      "Epoch 20/50 [Train]: 100%|██████████| 352/352 [00:46<00:00,  7.52it/s, loss=0.656, acc=76.6]\n",
      "Epoch 20/50 [Val]: 100%|██████████| 40/40 [00:01<00:00, 22.38it/s, loss=0.721, acc=74.9]\n"
     ]
    },
    {
     "name": "stdout",
     "output_type": "stream",
     "text": [
      "Epoch 20/50:\n",
      "Train Loss: 0.6563 | Train Acc: 76.57%\n",
      "Val Loss: 0.7212 | Val Acc: 74.92%\n",
      "Validation accuracy improved from 72.48% to 74.92%, saving model...\n"
     ]
    },
    {
     "name": "stderr",
     "output_type": "stream",
     "text": [
      "Epoch 21/50 [Train]: 100%|██████████| 352/352 [00:46<00:00,  7.61it/s, loss=0.631, acc=77.4]\n",
      "Epoch 21/50 [Val]: 100%|██████████| 40/40 [00:01<00:00, 21.66it/s, loss=0.759, acc=73.8]\n"
     ]
    },
    {
     "name": "stdout",
     "output_type": "stream",
     "text": [
      "Epoch 21/50:\n",
      "Train Loss: 0.6307 | Train Acc: 77.42%\n",
      "Val Loss: 0.7591 | Val Acc: 73.84%\n"
     ]
    },
    {
     "name": "stderr",
     "output_type": "stream",
     "text": [
      "Epoch 22/50 [Train]: 100%|██████████| 352/352 [00:46<00:00,  7.55it/s, loss=0.607, acc=78.5]\n",
      "Epoch 22/50 [Val]: 100%|██████████| 40/40 [00:01<00:00, 22.65it/s, loss=0.75, acc=74.4]\n"
     ]
    },
    {
     "name": "stdout",
     "output_type": "stream",
     "text": [
      "Epoch 22/50:\n",
      "Train Loss: 0.6066 | Train Acc: 78.54%\n",
      "Val Loss: 0.7502 | Val Acc: 74.38%\n"
     ]
    },
    {
     "name": "stderr",
     "output_type": "stream",
     "text": [
      "Epoch 23/50 [Train]: 100%|██████████| 352/352 [00:46<00:00,  7.52it/s, loss=0.586, acc=79.1]\n",
      "Epoch 23/50 [Val]: 100%|██████████| 40/40 [00:01<00:00, 22.34it/s, loss=0.733, acc=75]\n"
     ]
    },
    {
     "name": "stdout",
     "output_type": "stream",
     "text": [
      "Epoch 23/50:\n",
      "Train Loss: 0.5859 | Train Acc: 79.07%\n",
      "Val Loss: 0.7329 | Val Acc: 75.04%\n",
      "Validation accuracy improved from 74.92% to 75.04%, saving model...\n"
     ]
    },
    {
     "name": "stderr",
     "output_type": "stream",
     "text": [
      "Epoch 24/50 [Train]: 100%|██████████| 352/352 [00:46<00:00,  7.64it/s, loss=0.562, acc=79.8]\n",
      "Epoch 24/50 [Val]: 100%|██████████| 40/40 [00:01<00:00, 23.43it/s, loss=0.739, acc=75]\n"
     ]
    },
    {
     "name": "stdout",
     "output_type": "stream",
     "text": [
      "Epoch 24/50:\n",
      "Train Loss: 0.5625 | Train Acc: 79.81%\n",
      "Val Loss: 0.7390 | Val Acc: 74.98%\n"
     ]
    },
    {
     "name": "stderr",
     "output_type": "stream",
     "text": [
      "Epoch 25/50 [Train]: 100%|██████████| 352/352 [00:46<00:00,  7.58it/s, loss=0.548, acc=80.4]\n",
      "Epoch 25/50 [Val]: 100%|██████████| 40/40 [00:01<00:00, 23.90it/s, loss=0.726, acc=75.6]\n"
     ]
    },
    {
     "name": "stdout",
     "output_type": "stream",
     "text": [
      "Epoch 25/50:\n",
      "Train Loss: 0.5477 | Train Acc: 80.42%\n",
      "Val Loss: 0.7261 | Val Acc: 75.58%\n",
      "Validation accuracy improved from 75.04% to 75.58%, saving model...\n"
     ]
    },
    {
     "name": "stderr",
     "output_type": "stream",
     "text": [
      "Epoch 26/50 [Train]: 100%|██████████| 352/352 [00:47<00:00,  7.45it/s, loss=0.524, acc=81.1]\n",
      "Epoch 26/50 [Val]: 100%|██████████| 40/40 [00:01<00:00, 22.78it/s, loss=0.74, acc=75.2]\n"
     ]
    },
    {
     "name": "stdout",
     "output_type": "stream",
     "text": [
      "Epoch 26/50:\n",
      "Train Loss: 0.5241 | Train Acc: 81.07%\n",
      "Val Loss: 0.7401 | Val Acc: 75.22%\n"
     ]
    },
    {
     "name": "stderr",
     "output_type": "stream",
     "text": [
      "Epoch 27/50 [Train]: 100%|██████████| 352/352 [00:47<00:00,  7.49it/s, loss=0.507, acc=81.9]\n",
      "Epoch 27/50 [Val]: 100%|██████████| 40/40 [00:01<00:00, 22.61it/s, loss=0.721, acc=76.1]\n"
     ]
    },
    {
     "name": "stdout",
     "output_type": "stream",
     "text": [
      "Epoch 27/50:\n",
      "Train Loss: 0.5069 | Train Acc: 81.88%\n",
      "Val Loss: 0.7212 | Val Acc: 76.14%\n",
      "Validation accuracy improved from 75.58% to 76.14%, saving model...\n"
     ]
    },
    {
     "name": "stderr",
     "output_type": "stream",
     "text": [
      "Epoch 28/50 [Train]: 100%|██████████| 352/352 [00:47<00:00,  7.43it/s, loss=0.489, acc=82.4]\n",
      "Epoch 28/50 [Val]: 100%|██████████| 40/40 [00:01<00:00, 22.53it/s, loss=0.727, acc=74.7]\n"
     ]
    },
    {
     "name": "stdout",
     "output_type": "stream",
     "text": [
      "Epoch 28/50:\n",
      "Train Loss: 0.4892 | Train Acc: 82.42%\n",
      "Val Loss: 0.7270 | Val Acc: 74.72%\n"
     ]
    },
    {
     "name": "stderr",
     "output_type": "stream",
     "text": [
      "Epoch 29/50 [Train]: 100%|██████████| 352/352 [00:48<00:00,  7.26it/s, loss=0.466, acc=83.4]\n",
      "Epoch 29/50 [Val]: 100%|██████████| 40/40 [00:01<00:00, 21.77it/s, loss=0.718, acc=76.5]\n"
     ]
    },
    {
     "name": "stdout",
     "output_type": "stream",
     "text": [
      "Epoch 29/50:\n",
      "Train Loss: 0.4658 | Train Acc: 83.37%\n",
      "Val Loss: 0.7180 | Val Acc: 76.54%\n",
      "Validation accuracy improved from 76.14% to 76.54%, saving model...\n"
     ]
    },
    {
     "name": "stderr",
     "output_type": "stream",
     "text": [
      "Epoch 30/50 [Train]: 100%|██████████| 352/352 [00:47<00:00,  7.36it/s, loss=0.453, acc=83.8]\n",
      "Epoch 30/50 [Val]: 100%|██████████| 40/40 [00:01<00:00, 21.27it/s, loss=0.723, acc=76.2]\n"
     ]
    },
    {
     "name": "stdout",
     "output_type": "stream",
     "text": [
      "Epoch 30/50:\n",
      "Train Loss: 0.4528 | Train Acc: 83.76%\n",
      "Val Loss: 0.7225 | Val Acc: 76.20%\n"
     ]
    },
    {
     "name": "stderr",
     "output_type": "stream",
     "text": [
      "Epoch 31/50 [Train]: 100%|██████████| 352/352 [00:47<00:00,  7.42it/s, loss=0.435, acc=84.5]\n",
      "Epoch 31/50 [Val]: 100%|██████████| 40/40 [00:01<00:00, 21.84it/s, loss=0.739, acc=76.1]\n"
     ]
    },
    {
     "name": "stdout",
     "output_type": "stream",
     "text": [
      "Epoch 31/50:\n",
      "Train Loss: 0.4351 | Train Acc: 84.48%\n",
      "Val Loss: 0.7387 | Val Acc: 76.06%\n"
     ]
    },
    {
     "name": "stderr",
     "output_type": "stream",
     "text": [
      "Epoch 32/50 [Train]: 100%|██████████| 352/352 [00:48<00:00,  7.30it/s, loss=0.419, acc=85.1]\n",
      "Epoch 32/50 [Val]: 100%|██████████| 40/40 [00:02<00:00, 19.75it/s, loss=0.739, acc=76.5]\n"
     ]
    },
    {
     "name": "stdout",
     "output_type": "stream",
     "text": [
      "Epoch 32/50:\n",
      "Train Loss: 0.4187 | Train Acc: 85.07%\n",
      "Val Loss: 0.7392 | Val Acc: 76.48%\n"
     ]
    },
    {
     "name": "stderr",
     "output_type": "stream",
     "text": [
      "Epoch 33/50 [Train]: 100%|██████████| 352/352 [00:46<00:00,  7.50it/s, loss=0.399, acc=85.7]\n",
      "Epoch 33/50 [Val]: 100%|██████████| 40/40 [00:01<00:00, 22.74it/s, loss=0.751, acc=76.9]\n"
     ]
    },
    {
     "name": "stdout",
     "output_type": "stream",
     "text": [
      "Epoch 33/50:\n",
      "Train Loss: 0.3989 | Train Acc: 85.66%\n",
      "Val Loss: 0.7507 | Val Acc: 76.90%\n",
      "Validation accuracy improved from 76.54% to 76.90%, saving model...\n"
     ]
    },
    {
     "name": "stderr",
     "output_type": "stream",
     "text": [
      "Epoch 34/50 [Train]: 100%|██████████| 352/352 [00:47<00:00,  7.40it/s, loss=0.385, acc=86.1]\n",
      "Epoch 34/50 [Val]: 100%|██████████| 40/40 [00:01<00:00, 22.60it/s, loss=0.738, acc=76.9]\n"
     ]
    },
    {
     "name": "stdout",
     "output_type": "stream",
     "text": [
      "Epoch 34/50:\n",
      "Train Loss: 0.3847 | Train Acc: 86.13%\n",
      "Val Loss: 0.7383 | Val Acc: 76.86%\n"
     ]
    },
    {
     "name": "stderr",
     "output_type": "stream",
     "text": [
      "Epoch 35/50 [Train]: 100%|██████████| 352/352 [00:47<00:00,  7.41it/s, loss=0.369, acc=86.9]\n",
      "Epoch 35/50 [Val]: 100%|██████████| 40/40 [00:01<00:00, 22.42it/s, loss=0.748, acc=77.8]\n"
     ]
    },
    {
     "name": "stdout",
     "output_type": "stream",
     "text": [
      "Epoch 35/50:\n",
      "Train Loss: 0.3688 | Train Acc: 86.94%\n",
      "Val Loss: 0.7482 | Val Acc: 77.82%\n",
      "Validation accuracy improved from 76.90% to 77.82%, saving model...\n"
     ]
    },
    {
     "name": "stderr",
     "output_type": "stream",
     "text": [
      "Epoch 36/50 [Train]: 100%|██████████| 352/352 [00:47<00:00,  7.47it/s, loss=0.36, acc=86.9]\n",
      "Epoch 36/50 [Val]: 100%|██████████| 40/40 [00:01<00:00, 20.67it/s, loss=0.749, acc=77]\n"
     ]
    },
    {
     "name": "stdout",
     "output_type": "stream",
     "text": [
      "Epoch 36/50:\n",
      "Train Loss: 0.3600 | Train Acc: 86.94%\n",
      "Val Loss: 0.7488 | Val Acc: 76.96%\n"
     ]
    },
    {
     "name": "stderr",
     "output_type": "stream",
     "text": [
      "Epoch 37/50 [Train]: 100%|██████████| 352/352 [00:47<00:00,  7.45it/s, loss=0.349, acc=87.4]\n",
      "Epoch 37/50 [Val]: 100%|██████████| 40/40 [00:01<00:00, 21.60it/s, loss=0.723, acc=78.1]\n"
     ]
    },
    {
     "name": "stdout",
     "output_type": "stream",
     "text": [
      "Epoch 37/50:\n",
      "Train Loss: 0.3492 | Train Acc: 87.44%\n",
      "Val Loss: 0.7234 | Val Acc: 78.06%\n",
      "Validation accuracy improved from 77.82% to 78.06%, saving model...\n"
     ]
    },
    {
     "name": "stderr",
     "output_type": "stream",
     "text": [
      "Epoch 38/50 [Train]: 100%|██████████| 352/352 [00:47<00:00,  7.38it/s, loss=0.334, acc=88.1]\n",
      "Epoch 38/50 [Val]: 100%|██████████| 40/40 [00:01<00:00, 21.89it/s, loss=0.759, acc=76.8]\n"
     ]
    },
    {
     "name": "stdout",
     "output_type": "stream",
     "text": [
      "Epoch 38/50:\n",
      "Train Loss: 0.3342 | Train Acc: 88.11%\n",
      "Val Loss: 0.7590 | Val Acc: 76.78%\n"
     ]
    },
    {
     "name": "stderr",
     "output_type": "stream",
     "text": [
      "Epoch 39/50 [Train]: 100%|██████████| 352/352 [00:47<00:00,  7.35it/s, loss=0.323, acc=88.5]\n",
      "Epoch 39/50 [Val]: 100%|██████████| 40/40 [00:01<00:00, 22.34it/s, loss=0.778, acc=76.7]\n"
     ]
    },
    {
     "name": "stdout",
     "output_type": "stream",
     "text": [
      "Epoch 39/50:\n",
      "Train Loss: 0.3227 | Train Acc: 88.47%\n",
      "Val Loss: 0.7780 | Val Acc: 76.72%\n"
     ]
    },
    {
     "name": "stderr",
     "output_type": "stream",
     "text": [
      "Epoch 40/50 [Train]: 100%|██████████| 352/352 [00:46<00:00,  7.60it/s, loss=0.315, acc=88.7]\n",
      "Epoch 40/50 [Val]: 100%|██████████| 40/40 [00:01<00:00, 22.97it/s, loss=0.785, acc=77.7]\n"
     ]
    },
    {
     "name": "stdout",
     "output_type": "stream",
     "text": [
      "Epoch 40/50:\n",
      "Train Loss: 0.3150 | Train Acc: 88.74%\n",
      "Val Loss: 0.7851 | Val Acc: 77.68%\n"
     ]
    },
    {
     "name": "stderr",
     "output_type": "stream",
     "text": [
      "Epoch 41/50 [Train]: 100%|██████████| 352/352 [00:47<00:00,  7.47it/s, loss=0.31, acc=88.9]\n",
      "Epoch 41/50 [Val]: 100%|██████████| 40/40 [00:01<00:00, 21.91it/s, loss=0.758, acc=77.4]\n"
     ]
    },
    {
     "name": "stdout",
     "output_type": "stream",
     "text": [
      "Epoch 41/50:\n",
      "Train Loss: 0.3096 | Train Acc: 88.94%\n",
      "Val Loss: 0.7578 | Val Acc: 77.42%\n"
     ]
    },
    {
     "name": "stderr",
     "output_type": "stream",
     "text": [
      "Epoch 42/50 [Train]: 100%|██████████| 352/352 [00:46<00:00,  7.55it/s, loss=0.298, acc=89.3]\n",
      "Epoch 42/50 [Val]: 100%|██████████| 40/40 [00:01<00:00, 22.73it/s, loss=0.798, acc=77.2]\n"
     ]
    },
    {
     "name": "stdout",
     "output_type": "stream",
     "text": [
      "Epoch 42/50:\n",
      "Train Loss: 0.2977 | Train Acc: 89.26%\n",
      "Val Loss: 0.7983 | Val Acc: 77.16%\n"
     ]
    },
    {
     "name": "stderr",
     "output_type": "stream",
     "text": [
      "Epoch 43/50 [Train]: 100%|██████████| 352/352 [00:46<00:00,  7.54it/s, loss=0.295, acc=89.5]\n",
      "Epoch 43/50 [Val]: 100%|██████████| 40/40 [00:01<00:00, 22.78it/s, loss=0.757, acc=77.5]\n"
     ]
    },
    {
     "name": "stdout",
     "output_type": "stream",
     "text": [
      "Epoch 43/50:\n",
      "Train Loss: 0.2949 | Train Acc: 89.45%\n",
      "Val Loss: 0.7573 | Val Acc: 77.46%\n"
     ]
    },
    {
     "name": "stderr",
     "output_type": "stream",
     "text": [
      "Epoch 44/50 [Train]: 100%|██████████| 352/352 [00:46<00:00,  7.60it/s, loss=0.288, acc=89.7]\n",
      "Epoch 44/50 [Val]: 100%|██████████| 40/40 [00:01<00:00, 22.50it/s, loss=0.743, acc=77.9]\n"
     ]
    },
    {
     "name": "stdout",
     "output_type": "stream",
     "text": [
      "Epoch 44/50:\n",
      "Train Loss: 0.2881 | Train Acc: 89.70%\n",
      "Val Loss: 0.7430 | Val Acc: 77.88%\n"
     ]
    },
    {
     "name": "stderr",
     "output_type": "stream",
     "text": [
      "Epoch 45/50 [Train]: 100%|██████████| 352/352 [00:46<00:00,  7.52it/s, loss=0.281, acc=90.1]\n",
      "Epoch 45/50 [Val]: 100%|██████████| 40/40 [00:01<00:00, 22.77it/s, loss=0.763, acc=78.7]\n"
     ]
    },
    {
     "name": "stdout",
     "output_type": "stream",
     "text": [
      "Epoch 45/50:\n",
      "Train Loss: 0.2808 | Train Acc: 90.07%\n",
      "Val Loss: 0.7631 | Val Acc: 78.66%\n",
      "Validation accuracy improved from 78.06% to 78.66%, saving model...\n"
     ]
    },
    {
     "name": "stderr",
     "output_type": "stream",
     "text": [
      "Epoch 46/50 [Train]: 100%|██████████| 352/352 [00:46<00:00,  7.56it/s, loss=0.278, acc=90.1]\n",
      "Epoch 46/50 [Val]: 100%|██████████| 40/40 [00:01<00:00, 22.94it/s, loss=0.784, acc=78]\n"
     ]
    },
    {
     "name": "stdout",
     "output_type": "stream",
     "text": [
      "Epoch 46/50:\n",
      "Train Loss: 0.2782 | Train Acc: 90.12%\n",
      "Val Loss: 0.7845 | Val Acc: 78.00%\n"
     ]
    },
    {
     "name": "stderr",
     "output_type": "stream",
     "text": [
      "Epoch 47/50 [Train]: 100%|██████████| 352/352 [00:46<00:00,  7.60it/s, loss=0.273, acc=90.3]\n",
      "Epoch 47/50 [Val]: 100%|██████████| 40/40 [00:01<00:00, 23.89it/s, loss=0.765, acc=78.2]\n"
     ]
    },
    {
     "name": "stdout",
     "output_type": "stream",
     "text": [
      "Epoch 47/50:\n",
      "Train Loss: 0.2726 | Train Acc: 90.35%\n",
      "Val Loss: 0.7647 | Val Acc: 78.22%\n"
     ]
    },
    {
     "name": "stderr",
     "output_type": "stream",
     "text": [
      "Epoch 48/50 [Train]: 100%|██████████| 352/352 [00:46<00:00,  7.52it/s, loss=0.268, acc=90.5]\n",
      "Epoch 48/50 [Val]: 100%|██████████| 40/40 [00:01<00:00, 22.40it/s, loss=0.777, acc=78.5]\n"
     ]
    },
    {
     "name": "stdout",
     "output_type": "stream",
     "text": [
      "Epoch 48/50:\n",
      "Train Loss: 0.2681 | Train Acc: 90.45%\n",
      "Val Loss: 0.7769 | Val Acc: 78.48%\n"
     ]
    },
    {
     "name": "stderr",
     "output_type": "stream",
     "text": [
      "Epoch 49/50 [Train]: 100%|██████████| 352/352 [00:47<00:00,  7.48it/s, loss=0.278, acc=90]\n",
      "Epoch 49/50 [Val]: 100%|██████████| 40/40 [00:01<00:00, 22.40it/s, loss=0.786, acc=78]\n"
     ]
    },
    {
     "name": "stdout",
     "output_type": "stream",
     "text": [
      "Epoch 49/50:\n",
      "Train Loss: 0.2780 | Train Acc: 89.99%\n",
      "Val Loss: 0.7860 | Val Acc: 78.04%\n"
     ]
    },
    {
     "name": "stderr",
     "output_type": "stream",
     "text": [
      "Epoch 50/50 [Train]: 100%|██████████| 352/352 [00:46<00:00,  7.50it/s, loss=0.267, acc=90.4]\n",
      "Epoch 50/50 [Val]: 100%|██████████| 40/40 [00:01<00:00, 23.09it/s, loss=0.77, acc=78.4]\n"
     ]
    },
    {
     "name": "stdout",
     "output_type": "stream",
     "text": [
      "Epoch 50/50:\n",
      "Train Loss: 0.2672 | Train Acc: 90.40%\n",
      "Val Loss: 0.7699 | Val Acc: 78.44%\n",
      "Best validation accuracy: 78.66%\n"
     ]
    },
    {
     "name": "stderr",
     "output_type": "stream",
     "text": [
      "Evaluating on test set: 100%|██████████| 79/79 [00:03<00:00, 25.17it/s]\n"
     ]
    },
    {
     "name": "stdout",
     "output_type": "stream",
     "text": [
      "Test accuracy: 77.96%\n"
     ]
    },
    {
     "data": {
      "image/png": "[encoded data removed]",
      "text/plain": [
       "<Figure size 1200x500 with 2 Axes>"
      ]
     },
     "metadata": {},
     "output_type": "display_data"
    },
    {
     "name": "stdout",
     "output_type": "stream",
     "text": [
      "\n",
      "\n",
      "Positional Embedding Results Summary:\n",
      "--------------------------------------------------\n",
      "2d_learned     : 79.75%\n",
      "1d_learned     : 79.30%\n",
      "sinusoidal     : 77.96%\n",
      "none           : 71.74%\n"
     ]
    },
    {
     "data": {
      "image/png": "[encoded data removed]",
      "text/plain": [
       "<Figure size 1200x600 with 1 Axes>"
      ]
     },
     "metadata": {},
     "output_type": "display_data"
    },
    {
     "data": {
      "image/png": "[encoded data removed]",
      "text/plain": [
       "<Figure size 1200x600 with 1 Axes>"
      ]
     },
     "metadata": {},
     "output_type": "display_data"
    },
    {
     "data": {
      "text/plain": [
       "{'none': 71.74, '1d_learned': 79.3, '2d_learned': 79.75, 'sinusoidal': 77.96}"
      ]
     },
     "execution_count": 2,
     "metadata": {},
     "output_type": "execute_result"
    }
   ],
   "source": [
    "compare_positional_embeddings()"
   ]
  },
  {
   "cell_type": "markdown",
   "id": "c6bb4703",
   "metadata": {},
   "source": [
    "### Positional Embedding Comparison for Differential ViT\n",
    "\n",
    "Results analysis for Differential ViT positional embeddings:\n",
    "\n",
    "1. **2D Learned** embeddings performed best (79.75%) by directly modeling spatial relationships between image patches in two dimensions.\n",
    "\n",
    "2. **1D Learned** embeddings followed closely (79.30%), demonstrating that learned positional information, even in one dimension, significantly benefits the model.\n",
    "\n",
    "3. **Sinusoidal** embeddings achieved moderate performance (77.96%), showing that fixed positional encoding provides useful spatial information but lacks the adaptability of learned approaches.\n",
    "\n",
    "4. **No** positional embeddings severely underperformed (71.74%), with an 8% drop from the best approach, confirming that spatial information is crucial for Differential ViT's effectiveness.\n",
    "\n",
    "These results mirror the pattern seen in standard ViT, highlighting that regardless of attention mechanism, 2D-aware position encoding is essential for vision transformers to effectively process image data."
   ]
  }
 ],
 "metadata": {
  "kaggle": {
   "accelerator": "gpu",
   "dataSources": [],
   "dockerImageVersionId": 31011,
   "isGpuEnabled": true,
   "isInternetEnabled": true,
   "language": "python",
   "sourceType": "notebook"
  },
  "kernelspec": {
   "display_name": "Python 3",
   "language": "python",
   "name": "python3"
  },
  "language_info": {
   "codemirror_mode": {
    "name": "ipython",
    "version": 3
   },
   "file_extension": ".py",
   "mimetype": "text/x-python",
   "name": "python",
   "nbconvert_exporter": "python",
   "pygments_lexer": "ipython3",
   "version": "3.11.11"
  },
  "papermill": {
   "default_parameters": {},
   "duration": 10040.30007,
   "end_time": "2025-04-20T14:56:32.778997",
   "environment_variables": {},
   "exception": null,
   "input_path": "__notebook__.ipynb",
   "output_path": "__notebook__.ipynb",
   "parameters": {},
   "start_time": "2025-04-20T12:09:12.478927",
   "version": "2.6.0"
  }
 },
 "nbformat": 4,
 "nbformat_minor": 5
}
