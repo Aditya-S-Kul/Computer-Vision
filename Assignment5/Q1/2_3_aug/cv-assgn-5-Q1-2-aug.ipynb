{
 "cells": [
  {
   "cell_type": "code",
   "execution_count": null,
   "id": "e373c52e",
   "metadata": {
    "execution": {
     "iopub.execute_input": "2025-04-19T14:51:40.534743Z",
     "iopub.status.busy": "2025-04-19T14:51:40.534467Z",
     "iopub.status.idle": "2025-04-19T14:51:48.878423Z",
     "shell.execute_reply": "2025-04-19T14:51:48.877831Z"
    },
    "papermill": {
     "duration": 8.349428,
     "end_time": "2025-04-19T14:51:48.879860",
     "exception": false,
     "start_time": "2025-04-19T14:51:40.530432",
     "status": "completed"
    },
    "tags": []
   },
   "outputs": [],
   "source": [
    "import torch\n",
    "import torch.nn as nn\n",
    "import torch.nn.functional as F\n",
    "import torch.optim as optim\n",
    "from torch.utils.data import DataLoader\n",
    "import torchvision\n",
    "import torchvision.transforms as transforms\n",
    "import matplotlib.pyplot as plt\n",
    "import numpy as np\n",
    "from tqdm import tqdm\n",
    "import os\n",
    "from torchvision.transforms import AutoAugment, RandAugment, TrivialAugmentWide, RandomErasing\n",
    "\n",
    "\n",
    "# For reproducibility\n",
    "torch.manual_seed(42)\n",
    "np.random.seed(42)\n",
    "\n",
    "class ScaledDotProductAttention(nn.Module):\n",
    "    \"\"\"Scaled Dot-Product Attention as described in the ViT paper\"\"\"\n",
    "    def __init__(self, scale):\n",
    "        super(ScaledDotProductAttention, self).__init__()\n",
    "        self.scale = scale\n",
    "    \n",
    "    def forward(self, q, k, v, mask=None):\n",
    "        # q, k, v shape: [batch_size, head, seq_len, dim]\n",
    "        # Calculate attention scores\n",
    "        attention_scores = torch.matmul(q, k.transpose(-2, -1)) * self.scale\n",
    "        \n",
    "        # Apply mask if provided\n",
    "        if mask is not None:\n",
    "            attention_scores = attention_scores.masked_fill(mask == 0, -1e9)\n",
    "        \n",
    "        # Apply softmax to get attention weights\n",
    "        attention_weights = F.softmax(attention_scores, dim=-1)\n",
    "        \n",
    "        # Apply attention weights to values\n",
    "        output = torch.matmul(attention_weights, v)\n",
    "        \n",
    "        return output, attention_weights\n",
    "\n",
    "class MultiHeadAttention(nn.Module):\n",
    "    \"\"\"Multi-Head Attention as described in the ViT paper\"\"\"\n",
    "    def __init__(self, dim_model, num_heads):\n",
    "        super(MultiHeadAttention, self).__init__()\n",
    "        self.num_heads = num_heads\n",
    "        self.dim_model = dim_model\n",
    "        \n",
    "        assert dim_model % num_heads == 0, \"dim_model must be divisible by num_heads\"\n",
    "        \n",
    "        self.depth = dim_model // num_heads\n",
    "        \n",
    "        # Linear projections\n",
    "        self.wq = nn.Linear(dim_model, dim_model)\n",
    "        self.wk = nn.Linear(dim_model, dim_model)\n",
    "        self.wv = nn.Linear(dim_model, dim_model)\n",
    "        \n",
    "        self.attention = ScaledDotProductAttention(scale=self.depth ** -0.5)\n",
    "        \n",
    "        self.fc_out = nn.Linear(dim_model, dim_model)\n",
    "        \n",
    "    def forward(self, q, k, v, mask=None):\n",
    "        batch_size = q.shape[0]\n",
    "        \n",
    "        # Linear projections and reshape\n",
    "        q = self.wq(q).view(batch_size, -1, self.num_heads, self.depth).transpose(1, 2)\n",
    "        k = self.wk(k).view(batch_size, -1, self.num_heads, self.depth).transpose(1, 2)\n",
    "        v = self.wv(v).view(batch_size, -1, self.num_heads, self.depth).transpose(1, 2)\n",
    "        \n",
    "        # Scaled dot-product attention\n",
    "        output, _ = self.attention(q, k, v, mask)\n",
    "        \n",
    "        # Reshape back and project\n",
    "        output = output.transpose(1, 2).contiguous().view(batch_size, -1, self.dim_model)\n",
    "        output = self.fc_out(output)\n",
    "        \n",
    "        return output\n",
    "\n",
    "class TransformerEncoderLayer(nn.Module):\n",
    "    \"\"\"Transformer Encoder Layer as described in the ViT paper\"\"\"\n",
    "    def __init__(self, dim_model, num_heads, dim_ff, dropout=0.1):\n",
    "        super(TransformerEncoderLayer, self).__init__()\n",
    "        self.norm1 = nn.LayerNorm(dim_model)\n",
    "        self.norm2 = nn.LayerNorm(dim_model)\n",
    "        self.mha = MultiHeadAttention(dim_model, num_heads)\n",
    "        self.ffn = nn.Sequential(\n",
    "            nn.Linear(dim_model, dim_ff),\n",
    "            nn.GELU(),\n",
    "            nn.Dropout(dropout),\n",
    "            nn.Linear(dim_ff, dim_model),\n",
    "            nn.Dropout(dropout)\n",
    "        )\n",
    "        self.dropout = nn.Dropout(dropout)\n",
    "        \n",
    "    def forward(self, x, mask=None):\n",
    "        # Layer norm and multi-head attention (Pre-LN architecture)\n",
    "        attn_output = self.mha(self.norm1(x), self.norm1(x), self.norm1(x), mask)\n",
    "        # Residual connection\n",
    "        x = x + self.dropout(attn_output)\n",
    "        \n",
    "        # Layer norm and feed forward\n",
    "        ff_output = self.ffn(self.norm2(x))\n",
    "        # Residual connection\n",
    "        x = x + ff_output\n",
    "        \n",
    "        return x\n",
    "\n",
    "class VisionTransformer(nn.Module):\n",
    "    \"\"\"Vision Transformer (ViT) as described in the paper\"\"\"\n",
    "    def __init__(self, \n",
    "                 image_size=32,       # CIFAR-10 image size\n",
    "                 patch_size=4,        # as specified\n",
    "                 in_channels=3,       # RGB images\n",
    "                 num_classes=10,      # CIFAR-10 has 10 classes\n",
    "                 dim_model=192,       # embedding dimension\n",
    "                 num_heads=8,         # number of heads in multihead attention\n",
    "                 num_encoder_layers=8, # number of transformer encoder layers\n",
    "                 dim_ff=768,          # feed-forward network dimension\n",
    "                 dropout=0.1):        # dropout rate\n",
    "        super(VisionTransformer, self).__init__()\n",
    "        \n",
    "        # Image and patch parameters\n",
    "        self.image_size = image_size\n",
    "        self.patch_size = patch_size\n",
    "        self.in_channels = in_channels\n",
    "        \n",
    "        # Calculate the number of patches\n",
    "        assert image_size % patch_size == 0, \"Image size must be divisible by patch size\"\n",
    "        num_patches = (image_size // patch_size) ** 2\n",
    "        patch_dim = in_channels * patch_size * patch_size\n",
    "        \n",
    "        # Linear projection of flattened patches\n",
    "        self.patch_embedding = nn.Linear(patch_dim, dim_model)\n",
    "        \n",
    "        # Class token\n",
    "        self.cls_token = nn.Parameter(torch.zeros(1, 1, dim_model))\n",
    "        \n",
    "        # Positional embedding for patches + class token\n",
    "        self.pos_embedding = nn.Parameter(torch.zeros(1, num_patches + 1, dim_model))\n",
    "        \n",
    "        # Dropout after position embedding\n",
    "        self.dropout = nn.Dropout(dropout)\n",
    "        \n",
    "        # Transformer encoder\n",
    "        self.encoder_layers = nn.ModuleList([\n",
    "            TransformerEncoderLayer(dim_model, num_heads, dim_ff, dropout)\n",
    "            for _ in range(num_encoder_layers)\n",
    "        ])\n",
    "        \n",
    "        # Layer normalization\n",
    "        self.ln = nn.LayerNorm(dim_model)\n",
    "        \n",
    "        # MLP Head for classification\n",
    "        self.mlp_head = nn.Linear(dim_model, num_classes)\n",
    "        \n",
    "        # Initialize weights\n",
    "        self.init_weights()\n",
    "        \n",
    "    def init_weights(self):\n",
    "        # Initialize patch embedding like a linear layer\n",
    "        nn.init.xavier_uniform_(self.patch_embedding.weight)\n",
    "        nn.init.zeros_(self.patch_embedding.bias)\n",
    "        \n",
    "        # Initialize cls token\n",
    "        nn.init.xavier_normal_(self.cls_token)\n",
    "        \n",
    "        # Initialize position embedding\n",
    "        nn.init.normal_(self.pos_embedding, std=0.02)\n",
    "        \n",
    "    def forward(self, x):\n",
    "        # x shape: [batch_size, channels, height, width]\n",
    "        batch_size = x.shape[0]\n",
    "        \n",
    "        # Extract patches: [B, C, H, W] -> [B, num_patches, C*P*P]\n",
    "        # Where P is the patch size\n",
    "        x = x.unfold(2, self.patch_size, self.patch_size).unfold(3, self.patch_size, self.patch_size)\n",
    "        x = x.contiguous().view(batch_size, self.in_channels, -1, self.patch_size * self.patch_size)\n",
    "        x = x.permute(0, 2, 1, 3).contiguous().view(batch_size, -1, self.in_channels * self.patch_size * self.patch_size)\n",
    "        \n",
    "        # Linear embedding of patches\n",
    "        x = self.patch_embedding(x)  # [B, num_patches, dim_model]\n",
    "        \n",
    "        # Add class token\n",
    "        cls_tokens = self.cls_token.expand(batch_size, -1, -1)  # [B, 1, dim_model]\n",
    "        x = torch.cat((cls_tokens, x), dim=1)  # [B, 1+num_patches, dim_model]\n",
    "        \n",
    "        # Add positional embedding\n",
    "        x = x + self.pos_embedding\n",
    "        x = self.dropout(x)\n",
    "        \n",
    "        # Apply transformer encoder layers\n",
    "        for layer in self.encoder_layers:\n",
    "            x = layer(x)\n",
    "        \n",
    "        # Apply layer normalization\n",
    "        x = self.ln(x)\n",
    "        \n",
    "        # Take the cls token representation\n",
    "        x = x[:, 0]  # [B, dim_model]\n",
    "        \n",
    "        # Classification head\n",
    "        x = self.mlp_head(x)  # [B, num_classes]\n",
    "        \n",
    "        return x\n",
    "\n",
    "\n",
    "\n",
    "from torchvision.transforms import AutoAugment, RandAugment, TrivialAugmentWide, RandomErasing\n",
    "\n",
    "def get_augmentation_strategy(strategy_name, mean=(0.4914, 0.4822, 0.4465), std=(0.2470, 0.2435, 0.2616)):\n",
    "    \"\"\"\n",
    "    Returns a transform composition based on the chosen augmentation strategy\n",
    "    \"\"\"\n",
    "    base_transforms = [\n",
    "        transforms.ToTensor(),\n",
    "        transforms.Normalize(mean, std)\n",
    "    ]\n",
    "    \n",
    "    if strategy_name == \"autoaugment\":\n",
    "        return transforms.Compose([\n",
    "            transforms.RandomCrop(32, padding=4),\n",
    "            transforms.RandomHorizontalFlip(),\n",
    "            AutoAugment(policy=torchvision.transforms.autoaugment.AutoAugmentPolicy.CIFAR10),\n",
    "            *base_transforms\n",
    "        ])\n",
    "    \n",
    "    elif strategy_name == \"randaugment\":\n",
    "        return transforms.Compose([\n",
    "            transforms.RandomCrop(32, padding=4),\n",
    "            transforms.RandomHorizontalFlip(),\n",
    "            RandAugment(num_ops=2, magnitude=9),\n",
    "            *base_transforms\n",
    "        ])\n",
    "    \n",
    "    elif strategy_name == \"strongest\":\n",
    "        return transforms.Compose([\n",
    "            transforms.RandomCrop(32, padding=4),\n",
    "            transforms.RandomHorizontalFlip(),\n",
    "            transforms.RandomRotation(15),\n",
    "            transforms.ColorJitter(brightness=0.2, contrast=0.2, saturation=0.2, hue=0.1),\n",
    "            RandAugment(num_ops=2, magnitude=9),\n",
    "            *base_transforms,\n",
    "            RandomErasing(p=0.3, scale=(0.02, 0.33), ratio=(0.3, 3.3))\n",
    "        ])\n",
    "    \n",
    "    else:\n",
    "        raise ValueError(f\"Unknown augmentation strategy: {strategy_name}\")\n",
    "\n",
    "\n",
    "def get_data_loaders(batch_size=128, augmentation_strategy=\"basic\"):\n",
    "    \"\"\"Create CIFAR-10 dataloaders with specified augmentation strategy\"\"\"\n",
    "    mean = (0.4914, 0.4822, 0.4465)\n",
    "    std = (0.2470, 0.2435, 0.2616)\n",
    "    \n",
    "    transform_train = get_augmentation_strategy(augmentation_strategy, mean, std)\n",
    "    \n",
    "    transform_test = transforms.Compose([\n",
    "        transforms.ToTensor(),\n",
    "        transforms.Normalize(mean, std)\n",
    "    ])\n",
    "\n",
    "    trainset = torchvision.datasets.CIFAR10(\n",
    "        root='./data', train=True, download=True, transform=transform_train)\n",
    "    trainloader = DataLoader(\n",
    "        trainset, batch_size=batch_size, shuffle=True, num_workers=2)\n",
    "\n",
    "    testset = torchvision.datasets.CIFAR10(\n",
    "        root='./data', train=False, download=True, transform=transform_test)\n",
    "    testloader = DataLoader(\n",
    "        testset, batch_size=batch_size, shuffle=False, num_workers=2)\n",
    "    \n",
    "    # Create a validation set\n",
    "    val_size = 5000\n",
    "    train_size = len(trainset) - val_size\n",
    "    \n",
    "    train_subset, val_subset = torch.utils.data.random_split(\n",
    "        trainset, [train_size, val_size], \n",
    "        generator=torch.Generator().manual_seed(42))\n",
    "    \n",
    "    valloader = DataLoader(\n",
    "        val_subset, batch_size=batch_size, shuffle=False, num_workers=2)\n",
    "    \n",
    "    train_subset_loader = DataLoader(\n",
    "        train_subset, batch_size=batch_size, shuffle=True, num_workers=2)\n",
    "    \n",
    "    return train_subset_loader, valloader, testloader\n",
    "\n",
    "\n",
    "def train_model(model, train_loader, val_loader, epochs=50, lr=0.001, weight_decay=1e-4, \n",
    "                model_save_path='best_vit_model.pth'):\n",
    "    \"\"\"Train the Vision Transformer model\"\"\"\n",
    "    device = torch.device(\"cuda\" if torch.cuda.is_available() else \"cpu\")\n",
    "    print(f\"Using device: {device}\")\n",
    "    \n",
    "    model = model.to(device)\n",
    "    criterion = nn.CrossEntropyLoss()\n",
    "    optimizer = optim.AdamW(model.parameters(), lr=lr, weight_decay=weight_decay)\n",
    "    scheduler = optim.lr_scheduler.CosineAnnealingLR(optimizer, T_max=epochs)\n",
    "    \n",
    "    # For tracking metrics\n",
    "    train_losses = []\n",
    "    train_accs = []\n",
    "    val_losses = []\n",
    "    val_accs = []\n",
    "    \n",
    "    # For saving the best model\n",
    "    best_val_acc = 0\n",
    "    best_model_path = 'best_vit_model.pth'\n",
    "    \n",
    "    for epoch in range(epochs):\n",
    "        # Training\n",
    "        model.train()\n",
    "        train_loss = 0\n",
    "        correct = 0\n",
    "        total = 0\n",
    "        \n",
    "        pbar = tqdm(train_loader, desc=f'Epoch {epoch+1}/{epochs} [Train]')\n",
    "        for batch_idx, (inputs, targets) in enumerate(pbar):\n",
    "            inputs, targets = inputs.to(device), targets.to(device)\n",
    "            \n",
    "            optimizer.zero_grad()\n",
    "            outputs = model(inputs)\n",
    "            loss = criterion(outputs, targets)\n",
    "            loss.backward()\n",
    "            optimizer.step()\n",
    "            \n",
    "            train_loss += loss.item()\n",
    "            _, predicted = outputs.max(1)\n",
    "            total += targets.size(0)\n",
    "            correct += predicted.eq(targets).sum().item()\n",
    "            \n",
    "            pbar.set_postfix({\n",
    "                'loss': train_loss/(batch_idx+1), \n",
    "                'acc': 100.*correct/total\n",
    "            })\n",
    "        \n",
    "        train_loss = train_loss / len(train_loader)\n",
    "        train_acc = 100. * correct / total\n",
    "        \n",
    "        train_losses.append(train_loss)\n",
    "        train_accs.append(train_acc)\n",
    "        \n",
    "        # Validation\n",
    "        model.eval()\n",
    "        val_loss = 0\n",
    "        correct = 0\n",
    "        total = 0\n",
    "        \n",
    "        with torch.no_grad():\n",
    "            pbar = tqdm(val_loader, desc=f'Epoch {epoch+1}/{epochs} [Val]')\n",
    "            for batch_idx, (inputs, targets) in enumerate(pbar):\n",
    "                inputs, targets = inputs.to(device), targets.to(device)\n",
    "                \n",
    "                outputs = model(inputs)\n",
    "                loss = criterion(outputs, targets)\n",
    "                \n",
    "                val_loss += loss.item()\n",
    "                _, predicted = outputs.max(1)\n",
    "                total += targets.size(0)\n",
    "                correct += predicted.eq(targets).sum().item()\n",
    "                \n",
    "                pbar.set_postfix({\n",
    "                    'loss': val_loss/(batch_idx+1), \n",
    "                    'acc': 100.*correct/total\n",
    "                })\n",
    "        \n",
    "        val_loss = val_loss / len(val_loader)\n",
    "        val_acc = 100. * correct / total\n",
    "        \n",
    "        val_losses.append(val_loss)\n",
    "        val_accs.append(val_acc)\n",
    "        \n",
    "        # Print stats\n",
    "        print(f'Epoch {epoch+1}/{epochs}:')\n",
    "        print(f'Train Loss: {train_loss:.4f} | Train Acc: {train_acc:.2f}%')\n",
    "        print(f'Val Loss: {val_loss:.4f} | Val Acc: {val_acc:.2f}%')\n",
    "        \n",
    "        # Save the best model\n",
    "        if val_acc > best_val_acc:\n",
    "            print(f'Validation accuracy improved from {best_val_acc:.2f}% to {val_acc:.2f}%, saving model...')\n",
    "            best_val_acc = val_acc\n",
    "            torch.save(model.state_dict(), model_save_path)\n",
    "    \n",
    "        \n",
    "        # Update learning rate\n",
    "        scheduler.step()\n",
    "    \n",
    "    print(f'Best validation accuracy: {best_val_acc:.2f}%')\n",
    "    return train_losses, train_accs, val_losses, val_accs\n",
    "\n",
    "def evaluate_model(model, test_loader):\n",
    "    \"\"\"Evaluate the trained model on the test set\"\"\"\n",
    "    device = torch.device(\"cuda\" if torch.cuda.is_available() else \"cpu\")\n",
    "    model = model.to(device)\n",
    "    model.eval()\n",
    "    \n",
    "    correct = 0\n",
    "    total = 0\n",
    "    \n",
    "    with torch.no_grad():\n",
    "        for inputs, targets in tqdm(test_loader, desc='Evaluating on test set'):\n",
    "            inputs, targets = inputs.to(device), targets.to(device)\n",
    "            \n",
    "            outputs = model(inputs)\n",
    "            _, predicted = outputs.max(1)\n",
    "            \n",
    "            total += targets.size(0)\n",
    "            correct += predicted.eq(targets).sum().item()\n",
    "    \n",
    "    test_acc = 100. * correct / total\n",
    "    print(f'Test accuracy: {test_acc:.2f}%')\n",
    "    return test_acc\n",
    "\n",
    "def plot_metrics(train_losses, val_losses, train_accs, val_accs, \n",
    "                 title_suffix=\"\", filename_prefix=\"vit\"):\n",
    "    \"\"\"Plot loss and accuracy curves separately with custom titles and filenames\"\"\"\n",
    "    # Plot losses\n",
    "    plt.figure(figsize=(10, 5))\n",
    "    plt.plot(train_losses, label='Train Loss')\n",
    "    plt.plot(val_losses, label='Validation Loss')\n",
    "    plt.xlabel('Epoch')\n",
    "    plt.ylabel('Loss')\n",
    "    plt.title(f'Training and Validation Loss {title_suffix}')\n",
    "    plt.legend()\n",
    "    plt.grid(True)\n",
    "    plt.savefig(f'{filename_prefix}_loss_curves.png')\n",
    "    plt.show()\n",
    "    \n",
    "    # Plot accuracies\n",
    "    plt.figure(figsize=(10, 5))\n",
    "    plt.plot(train_accs, label='Train Accuracy')\n",
    "    plt.plot(val_accs, label='Validation Accuracy')\n",
    "    plt.xlabel('Epoch')\n",
    "    plt.ylabel('Accuracy (%)')\n",
    "    plt.title(f'Training and Validation Accuracy {title_suffix}')\n",
    "    plt.legend()\n",
    "    plt.grid(True)\n",
    "    plt.savefig(f'{filename_prefix}_accuracy_curves.png')\n",
    "    plt.show()\n",
    "\n",
    "\n",
    "\n",
    "\n",
    "def evaluate_augmentation_strategies():\n",
    "    \"\"\"Evaluate different augmentation strategies and report results\"\"\"\n",
    "    augmentation_strategies = [\"autoaugment\",\"randaugment\",\"strongest\"]\n",
    "    \n",
    "    results = {}\n",
    "    \n",
    "    for strategy in augmentation_strategies:\n",
    "        print(f\"\\n\\n{'='*50}\")\n",
    "        print(f\"Testing augmentation strategy: {strategy}\")\n",
    "        print(f\"{'='*50}\\n\")\n",
    "        \n",
    "        # Get data loaders with the current strategy\n",
    "        train_loader, val_loader, test_loader = get_data_loaders(batch_size=128, augmentation_strategy=strategy)\n",
    "        \n",
    "        # Create model\n",
    "        model = VisionTransformer(\n",
    "            image_size=32, patch_size=4, in_channels=3, num_classes=10,\n",
    "            dim_model=192, num_heads=8, num_encoder_layers=8, dim_ff=768, dropout=0.1\n",
    "        )\n",
    "        \n",
    "        # Train model\n",
    "        train_losses, train_accs, val_losses, val_accs = train_model(\n",
    "            model, train_loader, val_loader, epochs=50, lr=3e-4, weight_decay=1e-4,\n",
    "            model_save_path=f'best_vit_model_{strategy}.pth'\n",
    "        )\n",
    "        \n",
    "        # Load best model and evaluate\n",
    "        best_model = VisionTransformer(\n",
    "            image_size=32, patch_size=4, in_channels=3, num_classes=10,\n",
    "            dim_model=192, num_heads=8, num_encoder_layers=8, dim_ff=768, dropout=0.1\n",
    "        )\n",
    "        best_model.load_state_dict(torch.load(f'best_vit_model_{strategy}.pth'))\n",
    "        \n",
    "        test_acc = evaluate_model(best_model, test_loader)\n",
    "        results[strategy] = test_acc\n",
    "        \n",
    "        # Plot metrics\n",
    "        plot_metrics(\n",
    "            train_losses, val_losses, train_accs, val_accs,\n",
    "            title_suffix=f\"- {strategy}\", \n",
    "            filename_prefix=f\"vit_{strategy}\"\n",
    "        )\n",
    "    \n",
    "    # Print and plot results summary\n",
    "    print(\"\\n\\nAugmentation Strategy Results Summary:\")\n",
    "    print(\"-\" * 50)\n",
    "    for strategy, acc in sorted(results.items(), key=lambda x: x[1], reverse=True):\n",
    "        print(f\"{strategy.ljust(15)}: {acc:.2f}%\")\n",
    "    \n",
    "    # Plot bar chart of results\n",
    "    plt.figure(figsize=(12, 6))\n",
    "    strategies = list(results.keys())\n",
    "    accuracies = [results[s] for s in strategies]\n",
    "    plt.bar(strategies, accuracies)\n",
    "    plt.xlabel('Augmentation Strategy')\n",
    "    plt.ylabel('Test Accuracy (%)')\n",
    "    plt.title('Effect of Different Augmentation Strategies on Test Accuracy')\n",
    "    plt.xticks(rotation=45)\n",
    "    plt.tight_layout()\n",
    "    plt.savefig('augmentation_comparison.png')\n",
    "    plt.show()\n",
    "\n",
    "\n"
   ]
  },
  {
   "cell_type": "code",
   "execution_count": 2,
   "id": "9088106f",
   "metadata": {
    "execution": {
     "iopub.execute_input": "2025-04-19T14:51:48.885129Z",
     "iopub.status.busy": "2025-04-19T14:51:48.884440Z",
     "iopub.status.idle": "2025-04-19T16:15:00.376059Z",
     "shell.execute_reply": "2025-04-19T16:15:00.375170Z"
    },
    "papermill": {
     "duration": 4991.495211,
     "end_time": "2025-04-19T16:15:00.377316",
     "exception": false,
     "start_time": "2025-04-19T14:51:48.882105",
     "status": "completed"
    },
    "tags": []
   },
   "outputs": [
    {
     "name": "stdout",
     "output_type": "stream",
     "text": [
      "\n",
      "\n",
      "==================================================\n",
      "Testing augmentation strategy: autoaugment\n",
      "==================================================\n",
      "\n",
      "Downloading https://www.cs.toronto.edu/~kriz/cifar-10-python.tar.gz to ./data/cifar-10-python.tar.gz\n"
     ]
    },
    {
     "name": "stderr",
     "output_type": "stream",
     "text": [
      "100%|██████████| 170M/170M [00:11<00:00, 14.4MB/s]\n"
     ]
    },
    {
     "name": "stdout",
     "output_type": "stream",
     "text": [
      "Extracting ./data/cifar-10-python.tar.gz to ./data\n",
      "Files already downloaded and verified\n",
      "Using device: cuda\n"
     ]
    },
    {
     "name": "stderr",
     "output_type": "stream",
     "text": [
      "Epoch 1/50 [Train]: 100%|██████████| 352/352 [00:29<00:00, 12.13it/s, loss=1.99, acc=25.8]\n",
      "Epoch 1/50 [Val]: 100%|██████████| 40/40 [00:02<00:00, 18.82it/s, loss=1.83, acc=31.8]\n"
     ]
    },
    {
     "name": "stdout",
     "output_type": "stream",
     "text": [
      "Epoch 1/50:\n",
      "Train Loss: 1.9859 | Train Acc: 25.76%\n",
      "Val Loss: 1.8298 | Val Acc: 31.80%\n",
      "Validation accuracy improved from 0.00% to 31.80%, saving model...\n"
     ]
    },
    {
     "name": "stderr",
     "output_type": "stream",
     "text": [
      "Epoch 2/50 [Train]: 100%|██████████| 352/352 [00:28<00:00, 12.56it/s, loss=1.73, acc=36.7]\n",
      "Epoch 2/50 [Val]: 100%|██████████| 40/40 [00:02<00:00, 19.29it/s, loss=1.61, acc=41.6]\n"
     ]
    },
    {
     "name": "stdout",
     "output_type": "stream",
     "text": [
      "Epoch 2/50:\n",
      "Train Loss: 1.7276 | Train Acc: 36.70%\n",
      "Val Loss: 1.6076 | Val Acc: 41.58%\n",
      "Validation accuracy improved from 31.80% to 41.58%, saving model...\n"
     ]
    },
    {
     "name": "stderr",
     "output_type": "stream",
     "text": [
      "Epoch 3/50 [Train]: 100%|██████████| 352/352 [00:28<00:00, 12.57it/s, loss=1.6, acc=41.8]\n",
      "Epoch 3/50 [Val]: 100%|██████████| 40/40 [00:02<00:00, 16.13it/s, loss=1.49, acc=46]\n"
     ]
    },
    {
     "name": "stdout",
     "output_type": "stream",
     "text": [
      "Epoch 3/50:\n",
      "Train Loss: 1.5995 | Train Acc: 41.81%\n",
      "Val Loss: 1.4874 | Val Acc: 45.96%\n",
      "Validation accuracy improved from 41.58% to 45.96%, saving model...\n"
     ]
    },
    {
     "name": "stderr",
     "output_type": "stream",
     "text": [
      "Epoch 4/50 [Train]: 100%|██████████| 352/352 [00:28<00:00, 12.57it/s, loss=1.52, acc=45.2]\n",
      "Epoch 4/50 [Val]: 100%|██████████| 40/40 [00:02<00:00, 18.11it/s, loss=1.48, acc=46.8]\n"
     ]
    },
    {
     "name": "stdout",
     "output_type": "stream",
     "text": [
      "Epoch 4/50:\n",
      "Train Loss: 1.5157 | Train Acc: 45.20%\n",
      "Val Loss: 1.4761 | Val Acc: 46.78%\n",
      "Validation accuracy improved from 45.96% to 46.78%, saving model...\n"
     ]
    },
    {
     "name": "stderr",
     "output_type": "stream",
     "text": [
      "Epoch 5/50 [Train]: 100%|██████████| 352/352 [00:28<00:00, 12.55it/s, loss=1.45, acc=48.1]\n",
      "Epoch 5/50 [Val]: 100%|██████████| 40/40 [00:02<00:00, 18.80it/s, loss=1.39, acc=50.7]\n"
     ]
    },
    {
     "name": "stdout",
     "output_type": "stream",
     "text": [
      "Epoch 5/50:\n",
      "Train Loss: 1.4452 | Train Acc: 48.05%\n",
      "Val Loss: 1.3872 | Val Acc: 50.70%\n",
      "Validation accuracy improved from 46.78% to 50.70%, saving model...\n"
     ]
    },
    {
     "name": "stderr",
     "output_type": "stream",
     "text": [
      "Epoch 6/50 [Train]: 100%|██████████| 352/352 [00:28<00:00, 12.56it/s, loss=1.39, acc=50.2]\n",
      "Epoch 6/50 [Val]: 100%|██████████| 40/40 [00:02<00:00, 18.98it/s, loss=1.38, acc=50.7]\n"
     ]
    },
    {
     "name": "stdout",
     "output_type": "stream",
     "text": [
      "Epoch 6/50:\n",
      "Train Loss: 1.3862 | Train Acc: 50.22%\n",
      "Val Loss: 1.3810 | Val Acc: 50.70%\n"
     ]
    },
    {
     "name": "stderr",
     "output_type": "stream",
     "text": [
      "Epoch 7/50 [Train]: 100%|██████████| 352/352 [00:28<00:00, 12.56it/s, loss=1.34, acc=51.6]\n",
      "Epoch 7/50 [Val]: 100%|██████████| 40/40 [00:02<00:00, 18.81it/s, loss=1.31, acc=53]\n"
     ]
    },
    {
     "name": "stdout",
     "output_type": "stream",
     "text": [
      "Epoch 7/50:\n",
      "Train Loss: 1.3420 | Train Acc: 51.64%\n",
      "Val Loss: 1.3126 | Val Acc: 53.00%\n",
      "Validation accuracy improved from 50.70% to 53.00%, saving model...\n"
     ]
    },
    {
     "name": "stderr",
     "output_type": "stream",
     "text": [
      "Epoch 8/50 [Train]: 100%|██████████| 352/352 [00:28<00:00, 12.55it/s, loss=1.3, acc=53.3]\n",
      "Epoch 8/50 [Val]: 100%|██████████| 40/40 [00:02<00:00, 19.04it/s, loss=1.27, acc=53.9]\n"
     ]
    },
    {
     "name": "stdout",
     "output_type": "stream",
     "text": [
      "Epoch 8/50:\n",
      "Train Loss: 1.3047 | Train Acc: 53.30%\n",
      "Val Loss: 1.2724 | Val Acc: 53.86%\n",
      "Validation accuracy improved from 53.00% to 53.86%, saving model...\n"
     ]
    },
    {
     "name": "stderr",
     "output_type": "stream",
     "text": [
      "Epoch 9/50 [Train]: 100%|██████████| 352/352 [00:28<00:00, 12.55it/s, loss=1.27, acc=54.8]\n",
      "Epoch 9/50 [Val]: 100%|██████████| 40/40 [00:02<00:00, 19.05it/s, loss=1.24, acc=55.2]\n"
     ]
    },
    {
     "name": "stdout",
     "output_type": "stream",
     "text": [
      "Epoch 9/50:\n",
      "Train Loss: 1.2677 | Train Acc: 54.77%\n",
      "Val Loss: 1.2384 | Val Acc: 55.18%\n",
      "Validation accuracy improved from 53.86% to 55.18%, saving model...\n"
     ]
    },
    {
     "name": "stderr",
     "output_type": "stream",
     "text": [
      "Epoch 10/50 [Train]: 100%|██████████| 352/352 [00:28<00:00, 12.55it/s, loss=1.22, acc=56.4]\n",
      "Epoch 10/50 [Val]: 100%|██████████| 40/40 [00:02<00:00, 18.80it/s, loss=1.23, acc=56.7]\n"
     ]
    },
    {
     "name": "stdout",
     "output_type": "stream",
     "text": [
      "Epoch 10/50:\n",
      "Train Loss: 1.2219 | Train Acc: 56.40%\n",
      "Val Loss: 1.2348 | Val Acc: 56.66%\n",
      "Validation accuracy improved from 55.18% to 56.66%, saving model...\n"
     ]
    },
    {
     "name": "stderr",
     "output_type": "stream",
     "text": [
      "Epoch 11/50 [Train]: 100%|██████████| 352/352 [00:28<00:00, 12.54it/s, loss=1.19, acc=57.9]\n",
      "Epoch 11/50 [Val]: 100%|██████████| 40/40 [00:02<00:00, 19.48it/s, loss=1.25, acc=54.9]\n"
     ]
    },
    {
     "name": "stdout",
     "output_type": "stream",
     "text": [
      "Epoch 11/50:\n",
      "Train Loss: 1.1864 | Train Acc: 57.86%\n",
      "Val Loss: 1.2510 | Val Acc: 54.90%\n"
     ]
    },
    {
     "name": "stderr",
     "output_type": "stream",
     "text": [
      "Epoch 12/50 [Train]: 100%|██████████| 352/352 [00:28<00:00, 12.55it/s, loss=1.16, acc=58.6]\n",
      "Epoch 12/50 [Val]: 100%|██████████| 40/40 [00:02<00:00, 19.14it/s, loss=1.1, acc=60]\n"
     ]
    },
    {
     "name": "stdout",
     "output_type": "stream",
     "text": [
      "Epoch 12/50:\n",
      "Train Loss: 1.1602 | Train Acc: 58.64%\n",
      "Val Loss: 1.1010 | Val Acc: 60.04%\n",
      "Validation accuracy improved from 56.66% to 60.04%, saving model...\n"
     ]
    },
    {
     "name": "stderr",
     "output_type": "stream",
     "text": [
      "Epoch 13/50 [Train]: 100%|██████████| 352/352 [00:28<00:00, 12.55it/s, loss=1.13, acc=59.7]\n",
      "Epoch 13/50 [Val]: 100%|██████████| 40/40 [00:02<00:00, 19.06it/s, loss=1.06, acc=61.6]\n"
     ]
    },
    {
     "name": "stdout",
     "output_type": "stream",
     "text": [
      "Epoch 13/50:\n",
      "Train Loss: 1.1294 | Train Acc: 59.66%\n",
      "Val Loss: 1.0640 | Val Acc: 61.64%\n",
      "Validation accuracy improved from 60.04% to 61.64%, saving model...\n"
     ]
    },
    {
     "name": "stderr",
     "output_type": "stream",
     "text": [
      "Epoch 14/50 [Train]: 100%|██████████| 352/352 [00:28<00:00, 12.55it/s, loss=1.1, acc=60.8]\n",
      "Epoch 14/50 [Val]: 100%|██████████| 40/40 [00:02<00:00, 18.56it/s, loss=1.05, acc=62.1]\n"
     ]
    },
    {
     "name": "stdout",
     "output_type": "stream",
     "text": [
      "Epoch 14/50:\n",
      "Train Loss: 1.1018 | Train Acc: 60.80%\n",
      "Val Loss: 1.0525 | Val Acc: 62.06%\n",
      "Validation accuracy improved from 61.64% to 62.06%, saving model...\n"
     ]
    },
    {
     "name": "stderr",
     "output_type": "stream",
     "text": [
      "Epoch 15/50 [Train]: 100%|██████████| 352/352 [00:28<00:00, 12.55it/s, loss=1.08, acc=61.5]\n",
      "Epoch 15/50 [Val]: 100%|██████████| 40/40 [00:02<00:00, 19.26it/s, loss=1.03, acc=63.4]\n"
     ]
    },
    {
     "name": "stdout",
     "output_type": "stream",
     "text": [
      "Epoch 15/50:\n",
      "Train Loss: 1.0814 | Train Acc: 61.53%\n",
      "Val Loss: 1.0346 | Val Acc: 63.44%\n",
      "Validation accuracy improved from 62.06% to 63.44%, saving model...\n"
     ]
    },
    {
     "name": "stderr",
     "output_type": "stream",
     "text": [
      "Epoch 16/50 [Train]: 100%|██████████| 352/352 [00:28<00:00, 12.55it/s, loss=1.05, acc=62.3]\n",
      "Epoch 16/50 [Val]: 100%|██████████| 40/40 [00:02<00:00, 18.91it/s, loss=1.02, acc=63.2]\n"
     ]
    },
    {
     "name": "stdout",
     "output_type": "stream",
     "text": [
      "Epoch 16/50:\n",
      "Train Loss: 1.0546 | Train Acc: 62.27%\n",
      "Val Loss: 1.0211 | Val Acc: 63.18%\n"
     ]
    },
    {
     "name": "stderr",
     "output_type": "stream",
     "text": [
      "Epoch 17/50 [Train]: 100%|██████████| 352/352 [00:28<00:00, 12.56it/s, loss=1.04, acc=63.2]\n",
      "Epoch 17/50 [Val]: 100%|██████████| 40/40 [00:02<00:00, 17.54it/s, loss=1.03, acc=63.7]\n"
     ]
    },
    {
     "name": "stdout",
     "output_type": "stream",
     "text": [
      "Epoch 17/50:\n",
      "Train Loss: 1.0375 | Train Acc: 63.20%\n",
      "Val Loss: 1.0292 | Val Acc: 63.72%\n",
      "Validation accuracy improved from 63.44% to 63.72%, saving model...\n"
     ]
    },
    {
     "name": "stderr",
     "output_type": "stream",
     "text": [
      "Epoch 18/50 [Train]: 100%|██████████| 352/352 [00:27<00:00, 12.57it/s, loss=1.01, acc=64.2]\n",
      "Epoch 18/50 [Val]: 100%|██████████| 40/40 [00:02<00:00, 16.65it/s, loss=0.97, acc=65.9]\n"
     ]
    },
    {
     "name": "stdout",
     "output_type": "stream",
     "text": [
      "Epoch 18/50:\n",
      "Train Loss: 1.0140 | Train Acc: 64.22%\n",
      "Val Loss: 0.9704 | Val Acc: 65.90%\n",
      "Validation accuracy improved from 63.72% to 65.90%, saving model...\n"
     ]
    },
    {
     "name": "stderr",
     "output_type": "stream",
     "text": [
      "Epoch 19/50 [Train]: 100%|██████████| 352/352 [00:28<00:00, 12.56it/s, loss=0.991, acc=64.9]\n",
      "Epoch 19/50 [Val]: 100%|██████████| 40/40 [00:02<00:00, 18.80it/s, loss=0.999, acc=64.7]\n"
     ]
    },
    {
     "name": "stdout",
     "output_type": "stream",
     "text": [
      "Epoch 19/50:\n",
      "Train Loss: 0.9908 | Train Acc: 64.87%\n",
      "Val Loss: 0.9985 | Val Acc: 64.74%\n"
     ]
    },
    {
     "name": "stderr",
     "output_type": "stream",
     "text": [
      "Epoch 20/50 [Train]: 100%|██████████| 352/352 [00:28<00:00, 12.55it/s, loss=0.971, acc=65.6]\n",
      "Epoch 20/50 [Val]: 100%|██████████| 40/40 [00:02<00:00, 18.59it/s, loss=0.917, acc=67.2]\n"
     ]
    },
    {
     "name": "stdout",
     "output_type": "stream",
     "text": [
      "Epoch 20/50:\n",
      "Train Loss: 0.9709 | Train Acc: 65.58%\n",
      "Val Loss: 0.9168 | Val Acc: 67.22%\n",
      "Validation accuracy improved from 65.90% to 67.22%, saving model...\n"
     ]
    },
    {
     "name": "stderr",
     "output_type": "stream",
     "text": [
      "Epoch 21/50 [Train]: 100%|██████████| 352/352 [00:28<00:00, 12.53it/s, loss=0.952, acc=66.2]\n",
      "Epoch 21/50 [Val]: 100%|██████████| 40/40 [00:02<00:00, 18.52it/s, loss=0.929, acc=67.7]\n"
     ]
    },
    {
     "name": "stdout",
     "output_type": "stream",
     "text": [
      "Epoch 21/50:\n",
      "Train Loss: 0.9518 | Train Acc: 66.24%\n",
      "Val Loss: 0.9293 | Val Acc: 67.72%\n",
      "Validation accuracy improved from 67.22% to 67.72%, saving model...\n"
     ]
    },
    {
     "name": "stderr",
     "output_type": "stream",
     "text": [
      "Epoch 22/50 [Train]: 100%|██████████| 352/352 [00:28<00:00, 12.55it/s, loss=0.926, acc=67.4]\n",
      "Epoch 22/50 [Val]: 100%|██████████| 40/40 [00:02<00:00, 18.80it/s, loss=0.882, acc=68.2]\n"
     ]
    },
    {
     "name": "stdout",
     "output_type": "stream",
     "text": [
      "Epoch 22/50:\n",
      "Train Loss: 0.9260 | Train Acc: 67.38%\n",
      "Val Loss: 0.8817 | Val Acc: 68.18%\n",
      "Validation accuracy improved from 67.72% to 68.18%, saving model...\n"
     ]
    },
    {
     "name": "stderr",
     "output_type": "stream",
     "text": [
      "Epoch 23/50 [Train]: 100%|██████████| 352/352 [00:28<00:00, 12.55it/s, loss=0.913, acc=67.7]\n",
      "Epoch 23/50 [Val]: 100%|██████████| 40/40 [00:02<00:00, 18.70it/s, loss=0.901, acc=68.1]\n"
     ]
    },
    {
     "name": "stdout",
     "output_type": "stream",
     "text": [
      "Epoch 23/50:\n",
      "Train Loss: 0.9130 | Train Acc: 67.66%\n",
      "Val Loss: 0.9013 | Val Acc: 68.10%\n"
     ]
    },
    {
     "name": "stderr",
     "output_type": "stream",
     "text": [
      "Epoch 24/50 [Train]: 100%|██████████| 352/352 [00:28<00:00, 12.55it/s, loss=0.894, acc=68.3]\n",
      "Epoch 24/50 [Val]: 100%|██████████| 40/40 [00:02<00:00, 19.41it/s, loss=0.887, acc=69.1]\n"
     ]
    },
    {
     "name": "stdout",
     "output_type": "stream",
     "text": [
      "Epoch 24/50:\n",
      "Train Loss: 0.8940 | Train Acc: 68.26%\n",
      "Val Loss: 0.8874 | Val Acc: 69.08%\n",
      "Validation accuracy improved from 68.18% to 69.08%, saving model...\n"
     ]
    },
    {
     "name": "stderr",
     "output_type": "stream",
     "text": [
      "Epoch 25/50 [Train]: 100%|██████████| 352/352 [00:28<00:00, 12.55it/s, loss=0.874, acc=68.9]\n",
      "Epoch 25/50 [Val]: 100%|██████████| 40/40 [00:02<00:00, 18.32it/s, loss=0.86, acc=69.4]\n"
     ]
    },
    {
     "name": "stdout",
     "output_type": "stream",
     "text": [
      "Epoch 25/50:\n",
      "Train Loss: 0.8745 | Train Acc: 68.92%\n",
      "Val Loss: 0.8603 | Val Acc: 69.40%\n",
      "Validation accuracy improved from 69.08% to 69.40%, saving model...\n"
     ]
    },
    {
     "name": "stderr",
     "output_type": "stream",
     "text": [
      "Epoch 26/50 [Train]: 100%|██████████| 352/352 [00:28<00:00, 12.56it/s, loss=0.86, acc=69.6]\n",
      "Epoch 26/50 [Val]: 100%|██████████| 40/40 [00:02<00:00, 18.74it/s, loss=0.854, acc=69]\n"
     ]
    },
    {
     "name": "stdout",
     "output_type": "stream",
     "text": [
      "Epoch 26/50:\n",
      "Train Loss: 0.8600 | Train Acc: 69.58%\n",
      "Val Loss: 0.8539 | Val Acc: 69.02%\n"
     ]
    },
    {
     "name": "stderr",
     "output_type": "stream",
     "text": [
      "Epoch 27/50 [Train]: 100%|██████████| 352/352 [00:28<00:00, 12.55it/s, loss=0.848, acc=70.1]\n",
      "Epoch 27/50 [Val]: 100%|██████████| 40/40 [00:02<00:00, 19.00it/s, loss=0.863, acc=70]\n"
     ]
    },
    {
     "name": "stdout",
     "output_type": "stream",
     "text": [
      "Epoch 27/50:\n",
      "Train Loss: 0.8476 | Train Acc: 70.14%\n",
      "Val Loss: 0.8632 | Val Acc: 70.00%\n",
      "Validation accuracy improved from 69.40% to 70.00%, saving model...\n"
     ]
    },
    {
     "name": "stderr",
     "output_type": "stream",
     "text": [
      "Epoch 28/50 [Train]: 100%|██████████| 352/352 [00:28<00:00, 12.55it/s, loss=0.834, acc=70.6]\n",
      "Epoch 28/50 [Val]: 100%|██████████| 40/40 [00:02<00:00, 18.18it/s, loss=0.84, acc=70.5]\n"
     ]
    },
    {
     "name": "stdout",
     "output_type": "stream",
     "text": [
      "Epoch 28/50:\n",
      "Train Loss: 0.8339 | Train Acc: 70.56%\n",
      "Val Loss: 0.8404 | Val Acc: 70.54%\n",
      "Validation accuracy improved from 70.00% to 70.54%, saving model...\n"
     ]
    },
    {
     "name": "stderr",
     "output_type": "stream",
     "text": [
      "Epoch 29/50 [Train]: 100%|██████████| 352/352 [00:28<00:00, 12.54it/s, loss=0.818, acc=71]\n",
      "Epoch 29/50 [Val]: 100%|██████████| 40/40 [00:02<00:00, 18.54it/s, loss=0.841, acc=70.4]\n"
     ]
    },
    {
     "name": "stdout",
     "output_type": "stream",
     "text": [
      "Epoch 29/50:\n",
      "Train Loss: 0.8176 | Train Acc: 70.98%\n",
      "Val Loss: 0.8415 | Val Acc: 70.42%\n"
     ]
    },
    {
     "name": "stderr",
     "output_type": "stream",
     "text": [
      "Epoch 30/50 [Train]: 100%|██████████| 352/352 [00:28<00:00, 12.56it/s, loss=0.806, acc=71.5]\n",
      "Epoch 30/50 [Val]: 100%|██████████| 40/40 [00:02<00:00, 18.93it/s, loss=0.807, acc=71.2]\n"
     ]
    },
    {
     "name": "stdout",
     "output_type": "stream",
     "text": [
      "Epoch 30/50:\n",
      "Train Loss: 0.8057 | Train Acc: 71.50%\n",
      "Val Loss: 0.8066 | Val Acc: 71.20%\n",
      "Validation accuracy improved from 70.54% to 71.20%, saving model...\n"
     ]
    },
    {
     "name": "stderr",
     "output_type": "stream",
     "text": [
      "Epoch 31/50 [Train]: 100%|██████████| 352/352 [00:28<00:00, 12.51it/s, loss=0.805, acc=71.5]\n",
      "Epoch 31/50 [Val]: 100%|██████████| 40/40 [00:02<00:00, 18.63it/s, loss=0.807, acc=71.7]\n"
     ]
    },
    {
     "name": "stdout",
     "output_type": "stream",
     "text": [
      "Epoch 31/50:\n",
      "Train Loss: 0.8053 | Train Acc: 71.49%\n",
      "Val Loss: 0.8075 | Val Acc: 71.68%\n",
      "Validation accuracy improved from 71.20% to 71.68%, saving model...\n"
     ]
    },
    {
     "name": "stderr",
     "output_type": "stream",
     "text": [
      "Epoch 32/50 [Train]: 100%|██████████| 352/352 [00:28<00:00, 12.53it/s, loss=0.78, acc=72.4]\n",
      "Epoch 32/50 [Val]: 100%|██████████| 40/40 [00:02<00:00, 16.20it/s, loss=0.826, acc=71.3]\n"
     ]
    },
    {
     "name": "stdout",
     "output_type": "stream",
     "text": [
      "Epoch 32/50:\n",
      "Train Loss: 0.7803 | Train Acc: 72.37%\n",
      "Val Loss: 0.8260 | Val Acc: 71.32%\n"
     ]
    },
    {
     "name": "stderr",
     "output_type": "stream",
     "text": [
      "Epoch 33/50 [Train]: 100%|██████████| 352/352 [00:28<00:00, 12.56it/s, loss=0.764, acc=72.9]\n",
      "Epoch 33/50 [Val]: 100%|██████████| 40/40 [00:02<00:00, 14.33it/s, loss=0.804, acc=72.9]\n"
     ]
    },
    {
     "name": "stdout",
     "output_type": "stream",
     "text": [
      "Epoch 33/50:\n",
      "Train Loss: 0.7639 | Train Acc: 72.88%\n",
      "Val Loss: 0.8040 | Val Acc: 72.90%\n",
      "Validation accuracy improved from 71.68% to 72.90%, saving model...\n"
     ]
    },
    {
     "name": "stderr",
     "output_type": "stream",
     "text": [
      "Epoch 34/50 [Train]: 100%|██████████| 352/352 [00:27<00:00, 12.62it/s, loss=0.753, acc=73.3]\n",
      "Epoch 34/50 [Val]: 100%|██████████| 40/40 [00:02<00:00, 16.82it/s, loss=0.777, acc=72.4]\n"
     ]
    },
    {
     "name": "stdout",
     "output_type": "stream",
     "text": [
      "Epoch 34/50:\n",
      "Train Loss: 0.7532 | Train Acc: 73.34%\n",
      "Val Loss: 0.7765 | Val Acc: 72.40%\n"
     ]
    },
    {
     "name": "stderr",
     "output_type": "stream",
     "text": [
      "Epoch 35/50 [Train]: 100%|██████████| 352/352 [00:27<00:00, 12.72it/s, loss=0.745, acc=73.5]\n",
      "Epoch 35/50 [Val]: 100%|██████████| 40/40 [00:02<00:00, 18.52it/s, loss=0.765, acc=73.4]\n"
     ]
    },
    {
     "name": "stdout",
     "output_type": "stream",
     "text": [
      "Epoch 35/50:\n",
      "Train Loss: 0.7448 | Train Acc: 73.53%\n",
      "Val Loss: 0.7647 | Val Acc: 73.44%\n",
      "Validation accuracy improved from 72.90% to 73.44%, saving model...\n"
     ]
    },
    {
     "name": "stderr",
     "output_type": "stream",
     "text": [
      "Epoch 36/50 [Train]: 100%|██████████| 352/352 [00:27<00:00, 12.75it/s, loss=0.728, acc=74]\n",
      "Epoch 36/50 [Val]: 100%|██████████| 40/40 [00:02<00:00, 18.77it/s, loss=0.776, acc=72.4]\n"
     ]
    },
    {
     "name": "stdout",
     "output_type": "stream",
     "text": [
      "Epoch 36/50:\n",
      "Train Loss: 0.7283 | Train Acc: 74.02%\n",
      "Val Loss: 0.7763 | Val Acc: 72.44%\n"
     ]
    },
    {
     "name": "stderr",
     "output_type": "stream",
     "text": [
      "Epoch 37/50 [Train]: 100%|██████████| 352/352 [00:27<00:00, 12.75it/s, loss=0.722, acc=74.3]\n",
      "Epoch 37/50 [Val]: 100%|██████████| 40/40 [00:02<00:00, 19.17it/s, loss=0.755, acc=73.4]\n"
     ]
    },
    {
     "name": "stdout",
     "output_type": "stream",
     "text": [
      "Epoch 37/50:\n",
      "Train Loss: 0.7220 | Train Acc: 74.34%\n",
      "Val Loss: 0.7554 | Val Acc: 73.38%\n"
     ]
    },
    {
     "name": "stderr",
     "output_type": "stream",
     "text": [
      "Epoch 38/50 [Train]: 100%|██████████| 352/352 [00:27<00:00, 12.75it/s, loss=0.713, acc=74.9]\n",
      "Epoch 38/50 [Val]: 100%|██████████| 40/40 [00:02<00:00, 19.07it/s, loss=0.762, acc=73]\n"
     ]
    },
    {
     "name": "stdout",
     "output_type": "stream",
     "text": [
      "Epoch 38/50:\n",
      "Train Loss: 0.7130 | Train Acc: 74.87%\n",
      "Val Loss: 0.7623 | Val Acc: 72.98%\n"
     ]
    },
    {
     "name": "stderr",
     "output_type": "stream",
     "text": [
      "Epoch 39/50 [Train]: 100%|██████████| 352/352 [00:27<00:00, 12.74it/s, loss=0.704, acc=75.1]\n",
      "Epoch 39/50 [Val]: 100%|██████████| 40/40 [00:02<00:00, 18.97it/s, loss=0.746, acc=74.3]\n"
     ]
    },
    {
     "name": "stdout",
     "output_type": "stream",
     "text": [
      "Epoch 39/50:\n",
      "Train Loss: 0.7036 | Train Acc: 75.14%\n",
      "Val Loss: 0.7464 | Val Acc: 74.28%\n",
      "Validation accuracy improved from 73.44% to 74.28%, saving model...\n"
     ]
    },
    {
     "name": "stderr",
     "output_type": "stream",
     "text": [
      "Epoch 40/50 [Train]: 100%|██████████| 352/352 [00:27<00:00, 12.74it/s, loss=0.703, acc=75]\n",
      "Epoch 40/50 [Val]: 100%|██████████| 40/40 [00:02<00:00, 19.90it/s, loss=0.761, acc=73.4]\n"
     ]
    },
    {
     "name": "stdout",
     "output_type": "stream",
     "text": [
      "Epoch 40/50:\n",
      "Train Loss: 0.7030 | Train Acc: 75.04%\n",
      "Val Loss: 0.7609 | Val Acc: 73.42%\n"
     ]
    },
    {
     "name": "stderr",
     "output_type": "stream",
     "text": [
      "Epoch 41/50 [Train]: 100%|██████████| 352/352 [00:27<00:00, 12.75it/s, loss=0.698, acc=75.3]\n",
      "Epoch 41/50 [Val]: 100%|██████████| 40/40 [00:02<00:00, 19.05it/s, loss=0.74, acc=74.5]\n"
     ]
    },
    {
     "name": "stdout",
     "output_type": "stream",
     "text": [
      "Epoch 41/50:\n",
      "Train Loss: 0.6979 | Train Acc: 75.28%\n",
      "Val Loss: 0.7404 | Val Acc: 74.50%\n",
      "Validation accuracy improved from 74.28% to 74.50%, saving model...\n"
     ]
    },
    {
     "name": "stderr",
     "output_type": "stream",
     "text": [
      "Epoch 42/50 [Train]: 100%|██████████| 352/352 [00:27<00:00, 12.75it/s, loss=0.688, acc=75.5]\n",
      "Epoch 42/50 [Val]: 100%|██████████| 40/40 [00:02<00:00, 19.65it/s, loss=0.745, acc=73.7]\n"
     ]
    },
    {
     "name": "stdout",
     "output_type": "stream",
     "text": [
      "Epoch 42/50:\n",
      "Train Loss: 0.6881 | Train Acc: 75.47%\n",
      "Val Loss: 0.7455 | Val Acc: 73.72%\n"
     ]
    },
    {
     "name": "stderr",
     "output_type": "stream",
     "text": [
      "Epoch 43/50 [Train]: 100%|██████████| 352/352 [00:27<00:00, 12.76it/s, loss=0.683, acc=75.8]\n",
      "Epoch 43/50 [Val]: 100%|██████████| 40/40 [00:02<00:00, 19.83it/s, loss=0.744, acc=73.9]\n"
     ]
    },
    {
     "name": "stdout",
     "output_type": "stream",
     "text": [
      "Epoch 43/50:\n",
      "Train Loss: 0.6833 | Train Acc: 75.78%\n",
      "Val Loss: 0.7444 | Val Acc: 73.92%\n"
     ]
    },
    {
     "name": "stderr",
     "output_type": "stream",
     "text": [
      "Epoch 44/50 [Train]: 100%|██████████| 352/352 [00:27<00:00, 12.71it/s, loss=0.682, acc=75.7]\n",
      "Epoch 44/50 [Val]: 100%|██████████| 40/40 [00:02<00:00, 19.29it/s, loss=0.749, acc=73.6]\n"
     ]
    },
    {
     "name": "stdout",
     "output_type": "stream",
     "text": [
      "Epoch 44/50:\n",
      "Train Loss: 0.6819 | Train Acc: 75.66%\n",
      "Val Loss: 0.7486 | Val Acc: 73.60%\n"
     ]
    },
    {
     "name": "stderr",
     "output_type": "stream",
     "text": [
      "Epoch 45/50 [Train]: 100%|██████████| 352/352 [00:27<00:00, 12.70it/s, loss=0.679, acc=76]\n",
      "Epoch 45/50 [Val]: 100%|██████████| 40/40 [00:02<00:00, 16.94it/s, loss=0.738, acc=73.9]\n"
     ]
    },
    {
     "name": "stdout",
     "output_type": "stream",
     "text": [
      "Epoch 45/50:\n",
      "Train Loss: 0.6789 | Train Acc: 76.01%\n",
      "Val Loss: 0.7378 | Val Acc: 73.94%\n"
     ]
    },
    {
     "name": "stderr",
     "output_type": "stream",
     "text": [
      "Epoch 46/50 [Train]: 100%|██████████| 352/352 [00:27<00:00, 12.73it/s, loss=0.67, acc=76.4]\n",
      "Epoch 46/50 [Val]: 100%|██████████| 40/40 [00:02<00:00, 19.28it/s, loss=0.732, acc=74.2]\n"
     ]
    },
    {
     "name": "stdout",
     "output_type": "stream",
     "text": [
      "Epoch 46/50:\n",
      "Train Loss: 0.6704 | Train Acc: 76.38%\n",
      "Val Loss: 0.7322 | Val Acc: 74.20%\n"
     ]
    },
    {
     "name": "stderr",
     "output_type": "stream",
     "text": [
      "Epoch 47/50 [Train]: 100%|██████████| 352/352 [00:27<00:00, 12.69it/s, loss=0.671, acc=76.2]\n",
      "Epoch 47/50 [Val]: 100%|██████████| 40/40 [00:02<00:00, 18.85it/s, loss=0.724, acc=75.2]\n"
     ]
    },
    {
     "name": "stdout",
     "output_type": "stream",
     "text": [
      "Epoch 47/50:\n",
      "Train Loss: 0.6711 | Train Acc: 76.22%\n",
      "Val Loss: 0.7244 | Val Acc: 75.20%\n",
      "Validation accuracy improved from 74.50% to 75.20%, saving model...\n"
     ]
    },
    {
     "name": "stderr",
     "output_type": "stream",
     "text": [
      "Epoch 48/50 [Train]: 100%|██████████| 352/352 [00:27<00:00, 12.67it/s, loss=0.665, acc=76.4]\n",
      "Epoch 48/50 [Val]: 100%|██████████| 40/40 [00:02<00:00, 19.53it/s, loss=0.739, acc=74.5]\n"
     ]
    },
    {
     "name": "stdout",
     "output_type": "stream",
     "text": [
      "Epoch 48/50:\n",
      "Train Loss: 0.6654 | Train Acc: 76.42%\n",
      "Val Loss: 0.7387 | Val Acc: 74.46%\n"
     ]
    },
    {
     "name": "stderr",
     "output_type": "stream",
     "text": [
      "Epoch 49/50 [Train]: 100%|██████████| 352/352 [00:27<00:00, 12.71it/s, loss=0.666, acc=76.2]\n",
      "Epoch 49/50 [Val]: 100%|██████████| 40/40 [00:02<00:00, 18.83it/s, loss=0.739, acc=74.8]\n"
     ]
    },
    {
     "name": "stdout",
     "output_type": "stream",
     "text": [
      "Epoch 49/50:\n",
      "Train Loss: 0.6664 | Train Acc: 76.22%\n",
      "Val Loss: 0.7391 | Val Acc: 74.78%\n"
     ]
    },
    {
     "name": "stderr",
     "output_type": "stream",
     "text": [
      "Epoch 50/50 [Train]: 100%|██████████| 352/352 [00:27<00:00, 12.72it/s, loss=0.667, acc=76.5]\n",
      "Epoch 50/50 [Val]: 100%|██████████| 40/40 [00:02<00:00, 16.54it/s, loss=0.744, acc=74.5]\n",
      "/tmp/ipykernel_19/1031146479.py:513: FutureWarning: You are using `torch.load` with `weights_only=False` (the current default value), which uses the default pickle module implicitly. It is possible to construct malicious pickle data which will execute arbitrary code during unpickling (See https://github.com/pytorch/pytorch/blob/main/SECURITY.md#untrusted-models for more details). In a future release, the default value for `weights_only` will be flipped to `True`. This limits the functions that could be executed during unpickling. Arbitrary objects will no longer be allowed to be loaded via this mode unless they are explicitly allowlisted by the user via `torch.serialization.add_safe_globals`. We recommend you start setting `weights_only=True` for any use case where you don't have full control of the loaded file. Please open an issue on GitHub for any issues related to this experimental feature.\n",
      "  best_model.load_state_dict(torch.load(f'best_vit_model_{strategy}.pth'))\n"
     ]
    },
    {
     "name": "stdout",
     "output_type": "stream",
     "text": [
      "Epoch 50/50:\n",
      "Train Loss: 0.6671 | Train Acc: 76.48%\n",
      "Val Loss: 0.7441 | Val Acc: 74.52%\n",
      "Best validation accuracy: 75.20%\n"
     ]
    },
    {
     "name": "stderr",
     "output_type": "stream",
     "text": [
      "Evaluating on test set: 100%|██████████| 79/79 [00:01<00:00, 40.18it/s]\n"
     ]
    },
    {
     "name": "stdout",
     "output_type": "stream",
     "text": [
      "Test accuracy: 81.48%\n"
     ]
    },
    {
     "data": {
      "image/png": "[encoded data removed]",
      "text/plain": [
       "<Figure size 1000x500 with 1 Axes>"
      ]
     },
     "metadata": {},
     "output_type": "display_data"
    },
    {
     "data": {
      "image/png": "[encoded data removed]",
      "text/plain": [
       "<Figure size 1000x500 with 1 Axes>"
      ]
     },
     "metadata": {},
     "output_type": "display_data"
    },
    {
     "name": "stdout",
     "output_type": "stream",
     "text": [
      "\n",
      "\n",
      "==================================================\n",
      "Testing augmentation strategy: randaugment\n",
      "==================================================\n",
      "\n",
      "Files already downloaded and verified\n",
      "Files already downloaded and verified\n",
      "Using device: cuda\n"
     ]
    },
    {
     "name": "stderr",
     "output_type": "stream",
     "text": [
      "Epoch 1/50 [Train]: 100%|██████████| 352/352 [00:27<00:00, 12.76it/s, loss=1.96, acc=26.6]\n",
      "Epoch 1/50 [Val]: 100%|██████████| 40/40 [00:02<00:00, 18.15it/s, loss=1.78, acc=33.6]\n"
     ]
    },
    {
     "name": "stdout",
     "output_type": "stream",
     "text": [
      "Epoch 1/50:\n",
      "Train Loss: 1.9559 | Train Acc: 26.65%\n",
      "Val Loss: 1.7796 | Val Acc: 33.58%\n",
      "Validation accuracy improved from 0.00% to 33.58%, saving model...\n"
     ]
    },
    {
     "name": "stderr",
     "output_type": "stream",
     "text": [
      "Epoch 2/50 [Train]: 100%|██████████| 352/352 [00:27<00:00, 12.76it/s, loss=1.65, acc=39.2]\n",
      "Epoch 2/50 [Val]: 100%|██████████| 40/40 [00:02<00:00, 15.37it/s, loss=1.56, acc=42.4]\n"
     ]
    },
    {
     "name": "stdout",
     "output_type": "stream",
     "text": [
      "Epoch 2/50:\n",
      "Train Loss: 1.6522 | Train Acc: 39.16%\n",
      "Val Loss: 1.5636 | Val Acc: 42.38%\n",
      "Validation accuracy improved from 33.58% to 42.38%, saving model...\n"
     ]
    },
    {
     "name": "stderr",
     "output_type": "stream",
     "text": [
      "Epoch 3/50 [Train]: 100%|██████████| 352/352 [00:27<00:00, 12.76it/s, loss=1.51, acc=45.2]\n",
      "Epoch 3/50 [Val]: 100%|██████████| 40/40 [00:02<00:00, 17.83it/s, loss=1.4, acc=49.9]\n"
     ]
    },
    {
     "name": "stdout",
     "output_type": "stream",
     "text": [
      "Epoch 3/50:\n",
      "Train Loss: 1.5098 | Train Acc: 45.18%\n",
      "Val Loss: 1.4038 | Val Acc: 49.88%\n",
      "Validation accuracy improved from 42.38% to 49.88%, saving model...\n"
     ]
    },
    {
     "name": "stderr",
     "output_type": "stream",
     "text": [
      "Epoch 4/50 [Train]: 100%|██████████| 352/352 [00:27<00:00, 12.73it/s, loss=1.4, acc=49.3]\n",
      "Epoch 4/50 [Val]: 100%|██████████| 40/40 [00:02<00:00, 18.49it/s, loss=1.31, acc=52.8]\n"
     ]
    },
    {
     "name": "stdout",
     "output_type": "stream",
     "text": [
      "Epoch 4/50:\n",
      "Train Loss: 1.4026 | Train Acc: 49.26%\n",
      "Val Loss: 1.3065 | Val Acc: 52.80%\n",
      "Validation accuracy improved from 49.88% to 52.80%, saving model...\n"
     ]
    },
    {
     "name": "stderr",
     "output_type": "stream",
     "text": [
      "Epoch 5/50 [Train]: 100%|██████████| 352/352 [00:27<00:00, 12.75it/s, loss=1.34, acc=52]\n",
      "Epoch 5/50 [Val]: 100%|██████████| 40/40 [00:02<00:00, 18.42it/s, loss=1.3, acc=53.5]\n"
     ]
    },
    {
     "name": "stdout",
     "output_type": "stream",
     "text": [
      "Epoch 5/50:\n",
      "Train Loss: 1.3378 | Train Acc: 51.97%\n",
      "Val Loss: 1.3046 | Val Acc: 53.50%\n",
      "Validation accuracy improved from 52.80% to 53.50%, saving model...\n"
     ]
    },
    {
     "name": "stderr",
     "output_type": "stream",
     "text": [
      "Epoch 6/50 [Train]: 100%|██████████| 352/352 [00:27<00:00, 12.76it/s, loss=1.27, acc=54]\n",
      "Epoch 6/50 [Val]: 100%|██████████| 40/40 [00:02<00:00, 18.56it/s, loss=1.22, acc=55.8]\n"
     ]
    },
    {
     "name": "stdout",
     "output_type": "stream",
     "text": [
      "Epoch 6/50:\n",
      "Train Loss: 1.2741 | Train Acc: 53.98%\n",
      "Val Loss: 1.2165 | Val Acc: 55.80%\n",
      "Validation accuracy improved from 53.50% to 55.80%, saving model...\n"
     ]
    },
    {
     "name": "stderr",
     "output_type": "stream",
     "text": [
      "Epoch 7/50 [Train]: 100%|██████████| 352/352 [00:27<00:00, 12.78it/s, loss=1.22, acc=56.3]\n",
      "Epoch 7/50 [Val]: 100%|██████████| 40/40 [00:02<00:00, 17.76it/s, loss=1.16, acc=58]\n"
     ]
    },
    {
     "name": "stdout",
     "output_type": "stream",
     "text": [
      "Epoch 7/50:\n",
      "Train Loss: 1.2216 | Train Acc: 56.29%\n",
      "Val Loss: 1.1595 | Val Acc: 58.02%\n",
      "Validation accuracy improved from 55.80% to 58.02%, saving model...\n"
     ]
    },
    {
     "name": "stderr",
     "output_type": "stream",
     "text": [
      "Epoch 8/50 [Train]: 100%|██████████| 352/352 [00:27<00:00, 12.76it/s, loss=1.18, acc=57.9]\n",
      "Epoch 8/50 [Val]: 100%|██████████| 40/40 [00:02<00:00, 18.41it/s, loss=1.15, acc=58.9]\n"
     ]
    },
    {
     "name": "stdout",
     "output_type": "stream",
     "text": [
      "Epoch 8/50:\n",
      "Train Loss: 1.1770 | Train Acc: 57.86%\n",
      "Val Loss: 1.1468 | Val Acc: 58.94%\n",
      "Validation accuracy improved from 58.02% to 58.94%, saving model...\n"
     ]
    },
    {
     "name": "stderr",
     "output_type": "stream",
     "text": [
      "Epoch 9/50 [Train]: 100%|██████████| 352/352 [00:27<00:00, 12.77it/s, loss=1.13, acc=59.4]\n",
      "Epoch 9/50 [Val]: 100%|██████████| 40/40 [00:02<00:00, 18.54it/s, loss=1.09, acc=61.3]\n"
     ]
    },
    {
     "name": "stdout",
     "output_type": "stream",
     "text": [
      "Epoch 9/50:\n",
      "Train Loss: 1.1323 | Train Acc: 59.36%\n",
      "Val Loss: 1.0900 | Val Acc: 61.26%\n",
      "Validation accuracy improved from 58.94% to 61.26%, saving model...\n"
     ]
    },
    {
     "name": "stderr",
     "output_type": "stream",
     "text": [
      "Epoch 10/50 [Train]: 100%|██████████| 352/352 [00:27<00:00, 12.80it/s, loss=1.1, acc=60.8]\n",
      "Epoch 10/50 [Val]: 100%|██████████| 40/40 [00:02<00:00, 15.95it/s, loss=1.04, acc=62.3]\n"
     ]
    },
    {
     "name": "stdout",
     "output_type": "stream",
     "text": [
      "Epoch 10/50:\n",
      "Train Loss: 1.0982 | Train Acc: 60.80%\n",
      "Val Loss: 1.0389 | Val Acc: 62.26%\n",
      "Validation accuracy improved from 61.26% to 62.26%, saving model...\n"
     ]
    },
    {
     "name": "stderr",
     "output_type": "stream",
     "text": [
      "Epoch 11/50 [Train]: 100%|██████████| 352/352 [00:27<00:00, 12.80it/s, loss=1.06, acc=62.1]\n",
      "Epoch 11/50 [Val]: 100%|██████████| 40/40 [00:02<00:00, 18.63it/s, loss=1.02, acc=63.6]\n"
     ]
    },
    {
     "name": "stdout",
     "output_type": "stream",
     "text": [
      "Epoch 11/50:\n",
      "Train Loss: 1.0607 | Train Acc: 62.11%\n",
      "Val Loss: 1.0229 | Val Acc: 63.56%\n",
      "Validation accuracy improved from 62.26% to 63.56%, saving model...\n"
     ]
    },
    {
     "name": "stderr",
     "output_type": "stream",
     "text": [
      "Epoch 12/50 [Train]: 100%|██████████| 352/352 [00:27<00:00, 12.78it/s, loss=1.03, acc=63.5]\n",
      "Epoch 12/50 [Val]: 100%|██████████| 40/40 [00:02<00:00, 18.48it/s, loss=1.02, acc=64]\n"
     ]
    },
    {
     "name": "stdout",
     "output_type": "stream",
     "text": [
      "Epoch 12/50:\n",
      "Train Loss: 1.0252 | Train Acc: 63.50%\n",
      "Val Loss: 1.0202 | Val Acc: 63.98%\n",
      "Validation accuracy improved from 63.56% to 63.98%, saving model...\n"
     ]
    },
    {
     "name": "stderr",
     "output_type": "stream",
     "text": [
      "Epoch 13/50 [Train]: 100%|██████████| 352/352 [00:27<00:00, 12.78it/s, loss=0.994, acc=64.7]\n",
      "Epoch 13/50 [Val]: 100%|██████████| 40/40 [00:02<00:00, 18.74it/s, loss=0.96, acc=65]\n"
     ]
    },
    {
     "name": "stdout",
     "output_type": "stream",
     "text": [
      "Epoch 13/50:\n",
      "Train Loss: 0.9935 | Train Acc: 64.69%\n",
      "Val Loss: 0.9603 | Val Acc: 65.04%\n",
      "Validation accuracy improved from 63.98% to 65.04%, saving model...\n"
     ]
    },
    {
     "name": "stderr",
     "output_type": "stream",
     "text": [
      "Epoch 14/50 [Train]: 100%|██████████| 352/352 [00:27<00:00, 12.78it/s, loss=0.97, acc=65.7]\n",
      "Epoch 14/50 [Val]: 100%|██████████| 40/40 [00:02<00:00, 16.27it/s, loss=0.969, acc=65.2]\n"
     ]
    },
    {
     "name": "stdout",
     "output_type": "stream",
     "text": [
      "Epoch 14/50:\n",
      "Train Loss: 0.9698 | Train Acc: 65.67%\n",
      "Val Loss: 0.9695 | Val Acc: 65.20%\n",
      "Validation accuracy improved from 65.04% to 65.20%, saving model...\n"
     ]
    },
    {
     "name": "stderr",
     "output_type": "stream",
     "text": [
      "Epoch 15/50 [Train]: 100%|██████████| 352/352 [00:27<00:00, 12.79it/s, loss=0.945, acc=66.7]\n",
      "Epoch 15/50 [Val]: 100%|██████████| 40/40 [00:02<00:00, 17.08it/s, loss=0.919, acc=67.7]\n"
     ]
    },
    {
     "name": "stdout",
     "output_type": "stream",
     "text": [
      "Epoch 15/50:\n",
      "Train Loss: 0.9453 | Train Acc: 66.68%\n",
      "Val Loss: 0.9191 | Val Acc: 67.66%\n",
      "Validation accuracy improved from 65.20% to 67.66%, saving model...\n"
     ]
    },
    {
     "name": "stderr",
     "output_type": "stream",
     "text": [
      "Epoch 16/50 [Train]: 100%|██████████| 352/352 [00:27<00:00, 12.78it/s, loss=0.923, acc=67.4]\n",
      "Epoch 16/50 [Val]: 100%|██████████| 40/40 [00:02<00:00, 18.95it/s, loss=0.905, acc=67.3]\n"
     ]
    },
    {
     "name": "stdout",
     "output_type": "stream",
     "text": [
      "Epoch 16/50:\n",
      "Train Loss: 0.9232 | Train Acc: 67.35%\n",
      "Val Loss: 0.9051 | Val Acc: 67.28%\n"
     ]
    },
    {
     "name": "stderr",
     "output_type": "stream",
     "text": [
      "Epoch 17/50 [Train]: 100%|██████████| 352/352 [00:27<00:00, 12.77it/s, loss=0.899, acc=68.1]\n",
      "Epoch 17/50 [Val]: 100%|██████████| 40/40 [00:02<00:00, 18.84it/s, loss=0.901, acc=68.3]\n"
     ]
    },
    {
     "name": "stdout",
     "output_type": "stream",
     "text": [
      "Epoch 17/50:\n",
      "Train Loss: 0.8989 | Train Acc: 68.12%\n",
      "Val Loss: 0.9014 | Val Acc: 68.28%\n",
      "Validation accuracy improved from 67.66% to 68.28%, saving model...\n"
     ]
    },
    {
     "name": "stderr",
     "output_type": "stream",
     "text": [
      "Epoch 18/50 [Train]: 100%|██████████| 352/352 [00:27<00:00, 12.77it/s, loss=0.874, acc=69.1]\n",
      "Epoch 18/50 [Val]: 100%|██████████| 40/40 [00:02<00:00, 18.73it/s, loss=0.893, acc=67.9]\n"
     ]
    },
    {
     "name": "stdout",
     "output_type": "stream",
     "text": [
      "Epoch 18/50:\n",
      "Train Loss: 0.8743 | Train Acc: 69.14%\n",
      "Val Loss: 0.8927 | Val Acc: 67.94%\n"
     ]
    },
    {
     "name": "stderr",
     "output_type": "stream",
     "text": [
      "Epoch 19/50 [Train]: 100%|██████████| 352/352 [00:27<00:00, 12.77it/s, loss=0.859, acc=69.6]\n",
      "Epoch 19/50 [Val]: 100%|██████████| 40/40 [00:02<00:00, 19.38it/s, loss=0.845, acc=70.4]\n"
     ]
    },
    {
     "name": "stdout",
     "output_type": "stream",
     "text": [
      "Epoch 19/50:\n",
      "Train Loss: 0.8595 | Train Acc: 69.63%\n",
      "Val Loss: 0.8449 | Val Acc: 70.44%\n",
      "Validation accuracy improved from 68.28% to 70.44%, saving model...\n"
     ]
    },
    {
     "name": "stderr",
     "output_type": "stream",
     "text": [
      "Epoch 20/50 [Train]: 100%|██████████| 352/352 [00:27<00:00, 12.74it/s, loss=0.838, acc=70.4]\n",
      "Epoch 20/50 [Val]: 100%|██████████| 40/40 [00:02<00:00, 18.77it/s, loss=0.855, acc=70.1]\n"
     ]
    },
    {
     "name": "stdout",
     "output_type": "stream",
     "text": [
      "Epoch 20/50:\n",
      "Train Loss: 0.8384 | Train Acc: 70.43%\n",
      "Val Loss: 0.8550 | Val Acc: 70.08%\n"
     ]
    },
    {
     "name": "stderr",
     "output_type": "stream",
     "text": [
      "Epoch 21/50 [Train]: 100%|██████████| 352/352 [00:27<00:00, 12.72it/s, loss=0.811, acc=71.4]\n",
      "Epoch 21/50 [Val]: 100%|██████████| 40/40 [00:02<00:00, 18.89it/s, loss=0.823, acc=70.8]\n"
     ]
    },
    {
     "name": "stdout",
     "output_type": "stream",
     "text": [
      "Epoch 21/50:\n",
      "Train Loss: 0.8111 | Train Acc: 71.36%\n",
      "Val Loss: 0.8232 | Val Acc: 70.76%\n",
      "Validation accuracy improved from 70.44% to 70.76%, saving model...\n"
     ]
    },
    {
     "name": "stderr",
     "output_type": "stream",
     "text": [
      "Epoch 22/50 [Train]: 100%|██████████| 352/352 [00:27<00:00, 12.75it/s, loss=0.799, acc=71.7]\n",
      "Epoch 22/50 [Val]: 100%|██████████| 40/40 [00:02<00:00, 16.35it/s, loss=0.821, acc=71.8]\n"
     ]
    },
    {
     "name": "stdout",
     "output_type": "stream",
     "text": [
      "Epoch 22/50:\n",
      "Train Loss: 0.7992 | Train Acc: 71.66%\n",
      "Val Loss: 0.8207 | Val Acc: 71.84%\n",
      "Validation accuracy improved from 70.76% to 71.84%, saving model...\n"
     ]
    },
    {
     "name": "stderr",
     "output_type": "stream",
     "text": [
      "Epoch 23/50 [Train]: 100%|██████████| 352/352 [00:27<00:00, 12.74it/s, loss=0.78, acc=72.4]\n",
      "Epoch 23/50 [Val]: 100%|██████████| 40/40 [00:02<00:00, 18.21it/s, loss=0.794, acc=71.4]\n"
     ]
    },
    {
     "name": "stdout",
     "output_type": "stream",
     "text": [
      "Epoch 23/50:\n",
      "Train Loss: 0.7804 | Train Acc: 72.44%\n",
      "Val Loss: 0.7938 | Val Acc: 71.42%\n"
     ]
    },
    {
     "name": "stderr",
     "output_type": "stream",
     "text": [
      "Epoch 24/50 [Train]: 100%|██████████| 352/352 [00:27<00:00, 12.67it/s, loss=0.768, acc=72.8]\n",
      "Epoch 24/50 [Val]: 100%|██████████| 40/40 [00:02<00:00, 18.83it/s, loss=0.791, acc=72.2]\n"
     ]
    },
    {
     "name": "stdout",
     "output_type": "stream",
     "text": [
      "Epoch 24/50:\n",
      "Train Loss: 0.7683 | Train Acc: 72.85%\n",
      "Val Loss: 0.7910 | Val Acc: 72.22%\n",
      "Validation accuracy improved from 71.84% to 72.22%, saving model...\n"
     ]
    },
    {
     "name": "stderr",
     "output_type": "stream",
     "text": [
      "Epoch 25/50 [Train]: 100%|██████████| 352/352 [00:27<00:00, 12.72it/s, loss=0.747, acc=73.9]\n",
      "Epoch 25/50 [Val]: 100%|██████████| 40/40 [00:02<00:00, 14.85it/s, loss=0.767, acc=73]\n"
     ]
    },
    {
     "name": "stdout",
     "output_type": "stream",
     "text": [
      "Epoch 25/50:\n",
      "Train Loss: 0.7470 | Train Acc: 73.86%\n",
      "Val Loss: 0.7672 | Val Acc: 73.02%\n",
      "Validation accuracy improved from 72.22% to 73.02%, saving model...\n"
     ]
    },
    {
     "name": "stderr",
     "output_type": "stream",
     "text": [
      "Epoch 26/50 [Train]: 100%|██████████| 352/352 [00:27<00:00, 12.72it/s, loss=0.734, acc=74]\n",
      "Epoch 26/50 [Val]: 100%|██████████| 40/40 [00:02<00:00, 18.70it/s, loss=0.794, acc=72.8]\n"
     ]
    },
    {
     "name": "stdout",
     "output_type": "stream",
     "text": [
      "Epoch 26/50:\n",
      "Train Loss: 0.7345 | Train Acc: 74.01%\n",
      "Val Loss: 0.7945 | Val Acc: 72.78%\n"
     ]
    },
    {
     "name": "stderr",
     "output_type": "stream",
     "text": [
      "Epoch 27/50 [Train]: 100%|██████████| 352/352 [00:27<00:00, 12.76it/s, loss=0.713, acc=74.7]\n",
      "Epoch 27/50 [Val]: 100%|██████████| 40/40 [00:02<00:00, 18.24it/s, loss=0.759, acc=74.5]\n"
     ]
    },
    {
     "name": "stdout",
     "output_type": "stream",
     "text": [
      "Epoch 27/50:\n",
      "Train Loss: 0.7133 | Train Acc: 74.74%\n",
      "Val Loss: 0.7594 | Val Acc: 74.48%\n",
      "Validation accuracy improved from 73.02% to 74.48%, saving model...\n"
     ]
    },
    {
     "name": "stderr",
     "output_type": "stream",
     "text": [
      "Epoch 28/50 [Train]: 100%|██████████| 352/352 [00:27<00:00, 12.72it/s, loss=0.708, acc=74.8]\n",
      "Epoch 28/50 [Val]: 100%|██████████| 40/40 [00:02<00:00, 18.98it/s, loss=0.758, acc=73.2]\n"
     ]
    },
    {
     "name": "stdout",
     "output_type": "stream",
     "text": [
      "Epoch 28/50:\n",
      "Train Loss: 0.7079 | Train Acc: 74.80%\n",
      "Val Loss: 0.7580 | Val Acc: 73.22%\n"
     ]
    },
    {
     "name": "stderr",
     "output_type": "stream",
     "text": [
      "Epoch 29/50 [Train]: 100%|██████████| 352/352 [00:27<00:00, 12.73it/s, loss=0.689, acc=75.7]\n",
      "Epoch 29/50 [Val]: 100%|██████████| 40/40 [00:02<00:00, 19.08it/s, loss=0.785, acc=72.9]\n"
     ]
    },
    {
     "name": "stdout",
     "output_type": "stream",
     "text": [
      "Epoch 29/50:\n",
      "Train Loss: 0.6892 | Train Acc: 75.69%\n",
      "Val Loss: 0.7854 | Val Acc: 72.94%\n"
     ]
    },
    {
     "name": "stderr",
     "output_type": "stream",
     "text": [
      "Epoch 30/50 [Train]: 100%|██████████| 352/352 [00:27<00:00, 12.76it/s, loss=0.68, acc=75.9]\n",
      "Epoch 30/50 [Val]: 100%|██████████| 40/40 [00:02<00:00, 19.05it/s, loss=0.757, acc=74.1]\n"
     ]
    },
    {
     "name": "stdout",
     "output_type": "stream",
     "text": [
      "Epoch 30/50:\n",
      "Train Loss: 0.6800 | Train Acc: 75.85%\n",
      "Val Loss: 0.7569 | Val Acc: 74.08%\n"
     ]
    },
    {
     "name": "stderr",
     "output_type": "stream",
     "text": [
      "Epoch 31/50 [Train]: 100%|██████████| 352/352 [00:27<00:00, 12.74it/s, loss=0.667, acc=76.3]\n",
      "Epoch 31/50 [Val]: 100%|██████████| 40/40 [00:02<00:00, 18.41it/s, loss=0.719, acc=74.9]\n"
     ]
    },
    {
     "name": "stdout",
     "output_type": "stream",
     "text": [
      "Epoch 31/50:\n",
      "Train Loss: 0.6667 | Train Acc: 76.29%\n",
      "Val Loss: 0.7194 | Val Acc: 74.88%\n",
      "Validation accuracy improved from 74.48% to 74.88%, saving model...\n"
     ]
    },
    {
     "name": "stderr",
     "output_type": "stream",
     "text": [
      "Epoch 32/50 [Train]: 100%|██████████| 352/352 [00:27<00:00, 12.66it/s, loss=0.654, acc=77]\n",
      "Epoch 32/50 [Val]: 100%|██████████| 40/40 [00:02<00:00, 18.59it/s, loss=0.724, acc=75.2]\n"
     ]
    },
    {
     "name": "stdout",
     "output_type": "stream",
     "text": [
      "Epoch 32/50:\n",
      "Train Loss: 0.6544 | Train Acc: 76.99%\n",
      "Val Loss: 0.7244 | Val Acc: 75.24%\n",
      "Validation accuracy improved from 74.88% to 75.24%, saving model...\n"
     ]
    },
    {
     "name": "stderr",
     "output_type": "stream",
     "text": [
      "Epoch 33/50 [Train]: 100%|██████████| 352/352 [00:27<00:00, 12.63it/s, loss=0.639, acc=77.5]\n",
      "Epoch 33/50 [Val]: 100%|██████████| 40/40 [00:02<00:00, 18.28it/s, loss=0.723, acc=74.4]\n"
     ]
    },
    {
     "name": "stdout",
     "output_type": "stream",
     "text": [
      "Epoch 33/50:\n",
      "Train Loss: 0.6394 | Train Acc: 77.48%\n",
      "Val Loss: 0.7225 | Val Acc: 74.44%\n"
     ]
    },
    {
     "name": "stderr",
     "output_type": "stream",
     "text": [
      "Epoch 34/50 [Train]: 100%|██████████| 352/352 [00:27<00:00, 12.67it/s, loss=0.629, acc=77.8]\n",
      "Epoch 34/50 [Val]: 100%|██████████| 40/40 [00:02<00:00, 15.13it/s, loss=0.702, acc=75.3]\n"
     ]
    },
    {
     "name": "stdout",
     "output_type": "stream",
     "text": [
      "Epoch 34/50:\n",
      "Train Loss: 0.6290 | Train Acc: 77.76%\n",
      "Val Loss: 0.7024 | Val Acc: 75.32%\n",
      "Validation accuracy improved from 75.24% to 75.32%, saving model...\n"
     ]
    },
    {
     "name": "stderr",
     "output_type": "stream",
     "text": [
      "Epoch 35/50 [Train]: 100%|██████████| 352/352 [00:27<00:00, 12.80it/s, loss=0.617, acc=78.2]\n",
      "Epoch 35/50 [Val]: 100%|██████████| 40/40 [00:02<00:00, 15.31it/s, loss=0.717, acc=75.7]\n"
     ]
    },
    {
     "name": "stdout",
     "output_type": "stream",
     "text": [
      "Epoch 35/50:\n",
      "Train Loss: 0.6166 | Train Acc: 78.19%\n",
      "Val Loss: 0.7169 | Val Acc: 75.66%\n",
      "Validation accuracy improved from 75.32% to 75.66%, saving model...\n"
     ]
    },
    {
     "name": "stderr",
     "output_type": "stream",
     "text": [
      "Epoch 36/50 [Train]: 100%|██████████| 352/352 [00:27<00:00, 12.77it/s, loss=0.604, acc=78.7]\n",
      "Epoch 36/50 [Val]: 100%|██████████| 40/40 [00:02<00:00, 18.88it/s, loss=0.698, acc=76.4]\n"
     ]
    },
    {
     "name": "stdout",
     "output_type": "stream",
     "text": [
      "Epoch 36/50:\n",
      "Train Loss: 0.6043 | Train Acc: 78.73%\n",
      "Val Loss: 0.6977 | Val Acc: 76.38%\n",
      "Validation accuracy improved from 75.66% to 76.38%, saving model...\n"
     ]
    },
    {
     "name": "stderr",
     "output_type": "stream",
     "text": [
      "Epoch 37/50 [Train]: 100%|██████████| 352/352 [00:27<00:00, 12.79it/s, loss=0.596, acc=78.8]\n",
      "Epoch 37/50 [Val]: 100%|██████████| 40/40 [00:02<00:00, 19.48it/s, loss=0.702, acc=75.5]\n"
     ]
    },
    {
     "name": "stdout",
     "output_type": "stream",
     "text": [
      "Epoch 37/50:\n",
      "Train Loss: 0.5965 | Train Acc: 78.76%\n",
      "Val Loss: 0.7019 | Val Acc: 75.46%\n"
     ]
    },
    {
     "name": "stderr",
     "output_type": "stream",
     "text": [
      "Epoch 38/50 [Train]: 100%|██████████| 352/352 [00:27<00:00, 12.76it/s, loss=0.589, acc=79.2]\n",
      "Epoch 38/50 [Val]: 100%|██████████| 40/40 [00:02<00:00, 18.72it/s, loss=0.702, acc=75.8]\n"
     ]
    },
    {
     "name": "stdout",
     "output_type": "stream",
     "text": [
      "Epoch 38/50:\n",
      "Train Loss: 0.5895 | Train Acc: 79.19%\n",
      "Val Loss: 0.7022 | Val Acc: 75.84%\n"
     ]
    },
    {
     "name": "stderr",
     "output_type": "stream",
     "text": [
      "Epoch 39/50 [Train]: 100%|██████████| 352/352 [00:27<00:00, 12.70it/s, loss=0.581, acc=79.3]\n",
      "Epoch 39/50 [Val]: 100%|██████████| 40/40 [00:02<00:00, 18.52it/s, loss=0.678, acc=76.6]\n"
     ]
    },
    {
     "name": "stdout",
     "output_type": "stream",
     "text": [
      "Epoch 39/50:\n",
      "Train Loss: 0.5812 | Train Acc: 79.28%\n",
      "Val Loss: 0.6783 | Val Acc: 76.56%\n",
      "Validation accuracy improved from 76.38% to 76.56%, saving model...\n"
     ]
    },
    {
     "name": "stderr",
     "output_type": "stream",
     "text": [
      "Epoch 40/50 [Train]: 100%|██████████| 352/352 [00:27<00:00, 12.70it/s, loss=0.573, acc=79.7]\n",
      "Epoch 40/50 [Val]: 100%|██████████| 40/40 [00:02<00:00, 18.41it/s, loss=0.7, acc=76.1]\n"
     ]
    },
    {
     "name": "stdout",
     "output_type": "stream",
     "text": [
      "Epoch 40/50:\n",
      "Train Loss: 0.5729 | Train Acc: 79.69%\n",
      "Val Loss: 0.7001 | Val Acc: 76.12%\n"
     ]
    },
    {
     "name": "stderr",
     "output_type": "stream",
     "text": [
      "Epoch 41/50 [Train]: 100%|██████████| 352/352 [00:27<00:00, 12.71it/s, loss=0.564, acc=80]\n",
      "Epoch 41/50 [Val]: 100%|██████████| 40/40 [00:02<00:00, 18.25it/s, loss=0.673, acc=77.1]\n"
     ]
    },
    {
     "name": "stdout",
     "output_type": "stream",
     "text": [
      "Epoch 41/50:\n",
      "Train Loss: 0.5638 | Train Acc: 79.98%\n",
      "Val Loss: 0.6729 | Val Acc: 77.12%\n",
      "Validation accuracy improved from 76.56% to 77.12%, saving model...\n"
     ]
    },
    {
     "name": "stderr",
     "output_type": "stream",
     "text": [
      "Epoch 42/50 [Train]: 100%|██████████| 352/352 [00:27<00:00, 12.71it/s, loss=0.553, acc=80.4]\n",
      "Epoch 42/50 [Val]: 100%|██████████| 40/40 [00:02<00:00, 18.43it/s, loss=0.686, acc=75.7]\n"
     ]
    },
    {
     "name": "stdout",
     "output_type": "stream",
     "text": [
      "Epoch 42/50:\n",
      "Train Loss: 0.5529 | Train Acc: 80.44%\n",
      "Val Loss: 0.6855 | Val Acc: 75.68%\n"
     ]
    },
    {
     "name": "stderr",
     "output_type": "stream",
     "text": [
      "Epoch 43/50 [Train]: 100%|██████████| 352/352 [00:27<00:00, 12.71it/s, loss=0.55, acc=80.6]\n",
      "Epoch 43/50 [Val]: 100%|██████████| 40/40 [00:02<00:00, 15.24it/s, loss=0.672, acc=77.2]\n"
     ]
    },
    {
     "name": "stdout",
     "output_type": "stream",
     "text": [
      "Epoch 43/50:\n",
      "Train Loss: 0.5500 | Train Acc: 80.55%\n",
      "Val Loss: 0.6715 | Val Acc: 77.18%\n",
      "Validation accuracy improved from 77.12% to 77.18%, saving model...\n"
     ]
    },
    {
     "name": "stderr",
     "output_type": "stream",
     "text": [
      "Epoch 44/50 [Train]: 100%|██████████| 352/352 [00:27<00:00, 12.75it/s, loss=0.551, acc=80.5]\n",
      "Epoch 44/50 [Val]: 100%|██████████| 40/40 [00:02<00:00, 19.03it/s, loss=0.664, acc=77.4]\n"
     ]
    },
    {
     "name": "stdout",
     "output_type": "stream",
     "text": [
      "Epoch 44/50:\n",
      "Train Loss: 0.5511 | Train Acc: 80.45%\n",
      "Val Loss: 0.6641 | Val Acc: 77.44%\n",
      "Validation accuracy improved from 77.18% to 77.44%, saving model...\n"
     ]
    },
    {
     "name": "stderr",
     "output_type": "stream",
     "text": [
      "Epoch 45/50 [Train]: 100%|██████████| 352/352 [00:27<00:00, 12.74it/s, loss=0.548, acc=80.6]\n",
      "Epoch 45/50 [Val]: 100%|██████████| 40/40 [00:02<00:00, 19.12it/s, loss=0.671, acc=77.4]\n"
     ]
    },
    {
     "name": "stdout",
     "output_type": "stream",
     "text": [
      "Epoch 45/50:\n",
      "Train Loss: 0.5484 | Train Acc: 80.56%\n",
      "Val Loss: 0.6711 | Val Acc: 77.42%\n"
     ]
    },
    {
     "name": "stderr",
     "output_type": "stream",
     "text": [
      "Epoch 46/50 [Train]: 100%|██████████| 352/352 [00:27<00:00, 12.74it/s, loss=0.537, acc=81]\n",
      "Epoch 46/50 [Val]: 100%|██████████| 40/40 [00:02<00:00, 18.52it/s, loss=0.669, acc=76.9]\n"
     ]
    },
    {
     "name": "stdout",
     "output_type": "stream",
     "text": [
      "Epoch 46/50:\n",
      "Train Loss: 0.5368 | Train Acc: 81.01%\n",
      "Val Loss: 0.6688 | Val Acc: 76.92%\n"
     ]
    },
    {
     "name": "stderr",
     "output_type": "stream",
     "text": [
      "Epoch 47/50 [Train]: 100%|██████████| 352/352 [00:27<00:00, 12.70it/s, loss=0.531, acc=81.3]\n",
      "Epoch 47/50 [Val]: 100%|██████████| 40/40 [00:02<00:00, 19.23it/s, loss=0.688, acc=76.6]\n"
     ]
    },
    {
     "name": "stdout",
     "output_type": "stream",
     "text": [
      "Epoch 47/50:\n",
      "Train Loss: 0.5308 | Train Acc: 81.27%\n",
      "Val Loss: 0.6876 | Val Acc: 76.64%\n"
     ]
    },
    {
     "name": "stderr",
     "output_type": "stream",
     "text": [
      "Epoch 48/50 [Train]: 100%|██████████| 352/352 [00:27<00:00, 12.76it/s, loss=0.533, acc=81.3]\n",
      "Epoch 48/50 [Val]: 100%|██████████| 40/40 [00:02<00:00, 16.19it/s, loss=0.668, acc=77.1]\n"
     ]
    },
    {
     "name": "stdout",
     "output_type": "stream",
     "text": [
      "Epoch 48/50:\n",
      "Train Loss: 0.5330 | Train Acc: 81.30%\n",
      "Val Loss: 0.6681 | Val Acc: 77.06%\n"
     ]
    },
    {
     "name": "stderr",
     "output_type": "stream",
     "text": [
      "Epoch 49/50 [Train]: 100%|██████████| 352/352 [00:27<00:00, 12.74it/s, loss=0.531, acc=81.3]\n",
      "Epoch 49/50 [Val]: 100%|██████████| 40/40 [00:02<00:00, 18.52it/s, loss=0.664, acc=77.1]\n"
     ]
    },
    {
     "name": "stdout",
     "output_type": "stream",
     "text": [
      "Epoch 49/50:\n",
      "Train Loss: 0.5306 | Train Acc: 81.27%\n",
      "Val Loss: 0.6644 | Val Acc: 77.08%\n"
     ]
    },
    {
     "name": "stderr",
     "output_type": "stream",
     "text": [
      "Epoch 50/50 [Train]: 100%|██████████| 352/352 [00:27<00:00, 12.73it/s, loss=0.534, acc=81.3]\n",
      "Epoch 50/50 [Val]: 100%|██████████| 40/40 [00:02<00:00, 18.68it/s, loss=0.662, acc=77.7]\n"
     ]
    },
    {
     "name": "stdout",
     "output_type": "stream",
     "text": [
      "Epoch 50/50:\n",
      "Train Loss: 0.5336 | Train Acc: 81.28%\n",
      "Val Loss: 0.6618 | Val Acc: 77.66%\n",
      "Validation accuracy improved from 77.44% to 77.66%, saving model...\n",
      "Best validation accuracy: 77.66%\n"
     ]
    },
    {
     "name": "stderr",
     "output_type": "stream",
     "text": [
      "Evaluating on test set: 100%|██████████| 79/79 [00:01<00:00, 40.52it/s]\n"
     ]
    },
    {
     "name": "stdout",
     "output_type": "stream",
     "text": [
      "Test accuracy: 81.78%\n"
     ]
    },
    {
     "data": {
      "image/png": "[encoded data removed]",
      "text/plain": [
       "<Figure size 1000x500 with 1 Axes>"
      ]
     },
     "metadata": {},
     "output_type": "display_data"
    },
    {
     "data": {
      "image/png": "[encoded data removed]",
      "text/plain": [
       "<Figure size 1000x500 with 1 Axes>"
      ]
     },
     "metadata": {},
     "output_type": "display_data"
    },
    {
     "name": "stdout",
     "output_type": "stream",
     "text": [
      "\n",
      "\n",
      "==================================================\n",
      "Testing augmentation strategy: strongest\n",
      "==================================================\n",
      "\n",
      "Files already downloaded and verified\n",
      "Files already downloaded and verified\n",
      "Using device: cuda\n"
     ]
    },
    {
     "name": "stderr",
     "output_type": "stream",
     "text": [
      "Epoch 1/50 [Train]: 100%|██████████| 352/352 [00:35<00:00,  9.93it/s, loss=2.03, acc=23.8]\n",
      "Epoch 1/50 [Val]: 100%|██████████| 40/40 [00:03<00:00, 11.35it/s, loss=1.92, acc=29]\n"
     ]
    },
    {
     "name": "stdout",
     "output_type": "stream",
     "text": [
      "Epoch 1/50:\n",
      "Train Loss: 2.0258 | Train Acc: 23.85%\n",
      "Val Loss: 1.9209 | Val Acc: 28.96%\n",
      "Validation accuracy improved from 0.00% to 28.96%, saving model...\n"
     ]
    },
    {
     "name": "stderr",
     "output_type": "stream",
     "text": [
      "Epoch 2/50 [Train]: 100%|██████████| 352/352 [00:34<00:00, 10.11it/s, loss=1.83, acc=32.2]\n",
      "Epoch 2/50 [Val]: 100%|██████████| 40/40 [00:03<00:00, 11.53it/s, loss=1.75, acc=36]\n"
     ]
    },
    {
     "name": "stdout",
     "output_type": "stream",
     "text": [
      "Epoch 2/50:\n",
      "Train Loss: 1.8294 | Train Acc: 32.24%\n",
      "Val Loss: 1.7506 | Val Acc: 36.00%\n",
      "Validation accuracy improved from 28.96% to 36.00%, saving model...\n"
     ]
    },
    {
     "name": "stderr",
     "output_type": "stream",
     "text": [
      "Epoch 3/50 [Train]: 100%|██████████| 352/352 [00:34<00:00, 10.08it/s, loss=1.71, acc=37.3]\n",
      "Epoch 3/50 [Val]: 100%|██████████| 40/40 [00:03<00:00, 11.58it/s, loss=1.66, acc=40.1]\n"
     ]
    },
    {
     "name": "stdout",
     "output_type": "stream",
     "text": [
      "Epoch 3/50:\n",
      "Train Loss: 1.7113 | Train Acc: 37.32%\n",
      "Val Loss: 1.6597 | Val Acc: 40.12%\n",
      "Validation accuracy improved from 36.00% to 40.12%, saving model...\n"
     ]
    },
    {
     "name": "stderr",
     "output_type": "stream",
     "text": [
      "Epoch 4/50 [Train]: 100%|██████████| 352/352 [00:35<00:00,  9.88it/s, loss=1.64, acc=40.5]\n",
      "Epoch 4/50 [Val]: 100%|██████████| 40/40 [00:03<00:00, 10.90it/s, loss=1.58, acc=42.1]\n"
     ]
    },
    {
     "name": "stdout",
     "output_type": "stream",
     "text": [
      "Epoch 4/50:\n",
      "Train Loss: 1.6364 | Train Acc: 40.46%\n",
      "Val Loss: 1.5802 | Val Acc: 42.08%\n",
      "Validation accuracy improved from 40.12% to 42.08%, saving model...\n"
     ]
    },
    {
     "name": "stderr",
     "output_type": "stream",
     "text": [
      "Epoch 5/50 [Train]: 100%|██████████| 352/352 [00:37<00:00,  9.34it/s, loss=1.58, acc=42.7]\n",
      "Epoch 5/50 [Val]: 100%|██████████| 40/40 [00:04<00:00,  8.42it/s, loss=1.52, acc=45.4]\n"
     ]
    },
    {
     "name": "stdout",
     "output_type": "stream",
     "text": [
      "Epoch 5/50:\n",
      "Train Loss: 1.5789 | Train Acc: 42.65%\n",
      "Val Loss: 1.5239 | Val Acc: 45.44%\n",
      "Validation accuracy improved from 42.08% to 45.44%, saving model...\n"
     ]
    },
    {
     "name": "stderr",
     "output_type": "stream",
     "text": [
      "Epoch 6/50 [Train]: 100%|██████████| 352/352 [00:36<00:00,  9.59it/s, loss=1.52, acc=45.2]\n",
      "Epoch 6/50 [Val]: 100%|██████████| 40/40 [00:03<00:00, 11.24it/s, loss=1.46, acc=47.7]\n"
     ]
    },
    {
     "name": "stdout",
     "output_type": "stream",
     "text": [
      "Epoch 6/50:\n",
      "Train Loss: 1.5179 | Train Acc: 45.16%\n",
      "Val Loss: 1.4565 | Val Acc: 47.74%\n",
      "Validation accuracy improved from 45.44% to 47.74%, saving model...\n"
     ]
    },
    {
     "name": "stderr",
     "output_type": "stream",
     "text": [
      "Epoch 7/50 [Train]: 100%|██████████| 352/352 [00:36<00:00,  9.69it/s, loss=1.48, acc=46.4]\n",
      "Epoch 7/50 [Val]: 100%|██████████| 40/40 [00:03<00:00, 10.82it/s, loss=1.44, acc=49]\n"
     ]
    },
    {
     "name": "stdout",
     "output_type": "stream",
     "text": [
      "Epoch 7/50:\n",
      "Train Loss: 1.4792 | Train Acc: 46.44%\n",
      "Val Loss: 1.4411 | Val Acc: 48.98%\n",
      "Validation accuracy improved from 47.74% to 48.98%, saving model...\n"
     ]
    },
    {
     "name": "stderr",
     "output_type": "stream",
     "text": [
      "Epoch 8/50 [Train]: 100%|██████████| 352/352 [00:36<00:00,  9.76it/s, loss=1.43, acc=48.6]\n",
      "Epoch 8/50 [Val]: 100%|██████████| 40/40 [00:03<00:00, 11.27it/s, loss=1.38, acc=50.2]\n"
     ]
    },
    {
     "name": "stdout",
     "output_type": "stream",
     "text": [
      "Epoch 8/50:\n",
      "Train Loss: 1.4289 | Train Acc: 48.64%\n",
      "Val Loss: 1.3817 | Val Acc: 50.22%\n",
      "Validation accuracy improved from 48.98% to 50.22%, saving model...\n"
     ]
    },
    {
     "name": "stderr",
     "output_type": "stream",
     "text": [
      "Epoch 9/50 [Train]: 100%|██████████| 352/352 [00:35<00:00, 10.01it/s, loss=1.4, acc=49.9]\n",
      "Epoch 9/50 [Val]: 100%|██████████| 40/40 [00:03<00:00, 11.39it/s, loss=1.34, acc=52.2]\n"
     ]
    },
    {
     "name": "stdout",
     "output_type": "stream",
     "text": [
      "Epoch 9/50:\n",
      "Train Loss: 1.3958 | Train Acc: 49.89%\n",
      "Val Loss: 1.3415 | Val Acc: 52.22%\n",
      "Validation accuracy improved from 50.22% to 52.22%, saving model...\n"
     ]
    },
    {
     "name": "stderr",
     "output_type": "stream",
     "text": [
      "Epoch 10/50 [Train]: 100%|██████████| 352/352 [00:35<00:00,  9.98it/s, loss=1.36, acc=51.1]\n",
      "Epoch 10/50 [Val]: 100%|██████████| 40/40 [00:03<00:00, 11.26it/s, loss=1.32, acc=52.2]\n"
     ]
    },
    {
     "name": "stdout",
     "output_type": "stream",
     "text": [
      "Epoch 10/50:\n",
      "Train Loss: 1.3650 | Train Acc: 51.14%\n",
      "Val Loss: 1.3235 | Val Acc: 52.24%\n",
      "Validation accuracy improved from 52.22% to 52.24%, saving model...\n"
     ]
    },
    {
     "name": "stderr",
     "output_type": "stream",
     "text": [
      "Epoch 11/50 [Train]: 100%|██████████| 352/352 [00:35<00:00,  9.98it/s, loss=1.34, acc=52.2]\n",
      "Epoch 11/50 [Val]: 100%|██████████| 40/40 [00:03<00:00, 11.65it/s, loss=1.29, acc=53.7]\n"
     ]
    },
    {
     "name": "stdout",
     "output_type": "stream",
     "text": [
      "Epoch 11/50:\n",
      "Train Loss: 1.3363 | Train Acc: 52.18%\n",
      "Val Loss: 1.2891 | Val Acc: 53.74%\n",
      "Validation accuracy improved from 52.24% to 53.74%, saving model...\n"
     ]
    },
    {
     "name": "stderr",
     "output_type": "stream",
     "text": [
      "Epoch 12/50 [Train]: 100%|██████████| 352/352 [00:35<00:00, 10.05it/s, loss=1.31, acc=53.1]\n",
      "Epoch 12/50 [Val]: 100%|██████████| 40/40 [00:03<00:00, 10.83it/s, loss=1.25, acc=54.6]\n"
     ]
    },
    {
     "name": "stdout",
     "output_type": "stream",
     "text": [
      "Epoch 12/50:\n",
      "Train Loss: 1.3097 | Train Acc: 53.11%\n",
      "Val Loss: 1.2507 | Val Acc: 54.62%\n",
      "Validation accuracy improved from 53.74% to 54.62%, saving model...\n"
     ]
    },
    {
     "name": "stderr",
     "output_type": "stream",
     "text": [
      "Epoch 13/50 [Train]: 100%|██████████| 352/352 [00:36<00:00,  9.72it/s, loss=1.28, acc=54.3]\n",
      "Epoch 13/50 [Val]: 100%|██████████| 40/40 [00:04<00:00,  9.79it/s, loss=1.28, acc=54.9]\n"
     ]
    },
    {
     "name": "stdout",
     "output_type": "stream",
     "text": [
      "Epoch 13/50:\n",
      "Train Loss: 1.2794 | Train Acc: 54.32%\n",
      "Val Loss: 1.2801 | Val Acc: 54.86%\n",
      "Validation accuracy improved from 54.62% to 54.86%, saving model...\n"
     ]
    },
    {
     "name": "stderr",
     "output_type": "stream",
     "text": [
      "Epoch 14/50 [Train]: 100%|██████████| 352/352 [00:35<00:00,  9.89it/s, loss=1.26, acc=55.4]\n",
      "Epoch 14/50 [Val]: 100%|██████████| 40/40 [00:03<00:00, 10.16it/s, loss=1.26, acc=55.5]\n"
     ]
    },
    {
     "name": "stdout",
     "output_type": "stream",
     "text": [
      "Epoch 14/50:\n",
      "Train Loss: 1.2563 | Train Acc: 55.41%\n",
      "Val Loss: 1.2630 | Val Acc: 55.52%\n",
      "Validation accuracy improved from 54.86% to 55.52%, saving model...\n"
     ]
    },
    {
     "name": "stderr",
     "output_type": "stream",
     "text": [
      "Epoch 15/50 [Train]: 100%|██████████| 352/352 [00:36<00:00,  9.64it/s, loss=1.23, acc=56.2]\n",
      "Epoch 15/50 [Val]: 100%|██████████| 40/40 [00:03<00:00, 11.01it/s, loss=1.21, acc=55.7]\n"
     ]
    },
    {
     "name": "stdout",
     "output_type": "stream",
     "text": [
      "Epoch 15/50:\n",
      "Train Loss: 1.2310 | Train Acc: 56.17%\n",
      "Val Loss: 1.2061 | Val Acc: 55.68%\n",
      "Validation accuracy improved from 55.52% to 55.68%, saving model...\n"
     ]
    },
    {
     "name": "stderr",
     "output_type": "stream",
     "text": [
      "Epoch 16/50 [Train]: 100%|██████████| 352/352 [00:37<00:00,  9.49it/s, loss=1.2, acc=57.1]\n",
      "Epoch 16/50 [Val]: 100%|██████████| 40/40 [00:03<00:00, 11.11it/s, loss=1.21, acc=57.6]\n"
     ]
    },
    {
     "name": "stdout",
     "output_type": "stream",
     "text": [
      "Epoch 16/50:\n",
      "Train Loss: 1.2040 | Train Acc: 57.11%\n",
      "Val Loss: 1.2084 | Val Acc: 57.56%\n",
      "Validation accuracy improved from 55.68% to 57.56%, saving model...\n"
     ]
    },
    {
     "name": "stderr",
     "output_type": "stream",
     "text": [
      "Epoch 17/50 [Train]: 100%|██████████| 352/352 [00:35<00:00,  9.87it/s, loss=1.18, acc=58.2]\n",
      "Epoch 17/50 [Val]: 100%|██████████| 40/40 [00:03<00:00, 11.37it/s, loss=1.17, acc=58.3]\n"
     ]
    },
    {
     "name": "stdout",
     "output_type": "stream",
     "text": [
      "Epoch 17/50:\n",
      "Train Loss: 1.1782 | Train Acc: 58.19%\n",
      "Val Loss: 1.1735 | Val Acc: 58.34%\n",
      "Validation accuracy improved from 57.56% to 58.34%, saving model...\n"
     ]
    },
    {
     "name": "stderr",
     "output_type": "stream",
     "text": [
      "Epoch 18/50 [Train]: 100%|██████████| 352/352 [00:35<00:00,  9.91it/s, loss=1.16, acc=58.5]\n",
      "Epoch 18/50 [Val]: 100%|██████████| 40/40 [00:03<00:00, 11.27it/s, loss=1.12, acc=60]\n"
     ]
    },
    {
     "name": "stdout",
     "output_type": "stream",
     "text": [
      "Epoch 18/50:\n",
      "Train Loss: 1.1640 | Train Acc: 58.55%\n",
      "Val Loss: 1.1222 | Val Acc: 60.04%\n",
      "Validation accuracy improved from 58.34% to 60.04%, saving model...\n"
     ]
    },
    {
     "name": "stderr",
     "output_type": "stream",
     "text": [
      "Epoch 19/50 [Train]: 100%|██████████| 352/352 [00:36<00:00,  9.76it/s, loss=1.13, acc=60]\n",
      "Epoch 19/50 [Val]: 100%|██████████| 40/40 [00:03<00:00, 11.08it/s, loss=1.15, acc=59.9]\n"
     ]
    },
    {
     "name": "stdout",
     "output_type": "stream",
     "text": [
      "Epoch 19/50:\n",
      "Train Loss: 1.1349 | Train Acc: 60.02%\n",
      "Val Loss: 1.1482 | Val Acc: 59.86%\n"
     ]
    },
    {
     "name": "stderr",
     "output_type": "stream",
     "text": [
      "Epoch 20/50 [Train]: 100%|██████████| 352/352 [00:36<00:00,  9.73it/s, loss=1.11, acc=60.4]\n",
      "Epoch 20/50 [Val]: 100%|██████████| 40/40 [00:04<00:00,  9.10it/s, loss=1.11, acc=60.8]\n"
     ]
    },
    {
     "name": "stdout",
     "output_type": "stream",
     "text": [
      "Epoch 20/50:\n",
      "Train Loss: 1.1114 | Train Acc: 60.41%\n",
      "Val Loss: 1.1136 | Val Acc: 60.82%\n",
      "Validation accuracy improved from 60.04% to 60.82%, saving model...\n"
     ]
    },
    {
     "name": "stderr",
     "output_type": "stream",
     "text": [
      "Epoch 21/50 [Train]: 100%|██████████| 352/352 [00:35<00:00,  9.80it/s, loss=1.1, acc=61.2]\n",
      "Epoch 21/50 [Val]: 100%|██████████| 40/40 [00:03<00:00, 11.04it/s, loss=1.07, acc=60.6]\n"
     ]
    },
    {
     "name": "stdout",
     "output_type": "stream",
     "text": [
      "Epoch 21/50:\n",
      "Train Loss: 1.0978 | Train Acc: 61.18%\n",
      "Val Loss: 1.0667 | Val Acc: 60.58%\n"
     ]
    },
    {
     "name": "stderr",
     "output_type": "stream",
     "text": [
      "Epoch 22/50 [Train]: 100%|██████████| 352/352 [00:35<00:00,  9.97it/s, loss=1.09, acc=61.5]\n",
      "Epoch 22/50 [Val]: 100%|██████████| 40/40 [00:03<00:00, 11.14it/s, loss=1.06, acc=62.8]\n"
     ]
    },
    {
     "name": "stdout",
     "output_type": "stream",
     "text": [
      "Epoch 22/50:\n",
      "Train Loss: 1.0860 | Train Acc: 61.48%\n",
      "Val Loss: 1.0551 | Val Acc: 62.78%\n",
      "Validation accuracy improved from 60.82% to 62.78%, saving model...\n"
     ]
    },
    {
     "name": "stderr",
     "output_type": "stream",
     "text": [
      "Epoch 23/50 [Train]: 100%|██████████| 352/352 [00:35<00:00,  9.99it/s, loss=1.07, acc=62.2]\n",
      "Epoch 23/50 [Val]: 100%|██████████| 40/40 [00:03<00:00, 10.53it/s, loss=1.05, acc=62.7]\n"
     ]
    },
    {
     "name": "stdout",
     "output_type": "stream",
     "text": [
      "Epoch 23/50:\n",
      "Train Loss: 1.0662 | Train Acc: 62.24%\n",
      "Val Loss: 1.0525 | Val Acc: 62.72%\n"
     ]
    },
    {
     "name": "stderr",
     "output_type": "stream",
     "text": [
      "Epoch 24/50 [Train]: 100%|██████████| 352/352 [00:35<00:00,  9.90it/s, loss=1.05, acc=63.1]\n",
      "Epoch 24/50 [Val]: 100%|██████████| 40/40 [00:03<00:00, 11.39it/s, loss=1.04, acc=63.1]\n"
     ]
    },
    {
     "name": "stdout",
     "output_type": "stream",
     "text": [
      "Epoch 24/50:\n",
      "Train Loss: 1.0484 | Train Acc: 63.09%\n",
      "Val Loss: 1.0401 | Val Acc: 63.08%\n",
      "Validation accuracy improved from 62.78% to 63.08%, saving model...\n"
     ]
    },
    {
     "name": "stderr",
     "output_type": "stream",
     "text": [
      "Epoch 25/50 [Train]: 100%|██████████| 352/352 [00:35<00:00,  9.90it/s, loss=1.03, acc=63.4]\n",
      "Epoch 25/50 [Val]: 100%|██████████| 40/40 [00:03<00:00, 11.53it/s, loss=1.03, acc=63.1]\n"
     ]
    },
    {
     "name": "stdout",
     "output_type": "stream",
     "text": [
      "Epoch 25/50:\n",
      "Train Loss: 1.0296 | Train Acc: 63.37%\n",
      "Val Loss: 1.0309 | Val Acc: 63.08%\n"
     ]
    },
    {
     "name": "stderr",
     "output_type": "stream",
     "text": [
      "Epoch 26/50 [Train]: 100%|██████████| 352/352 [00:34<00:00, 10.11it/s, loss=1.02, acc=63.9]\n",
      "Epoch 26/50 [Val]: 100%|██████████| 40/40 [00:03<00:00, 11.50it/s, loss=0.995, acc=64.2]\n"
     ]
    },
    {
     "name": "stdout",
     "output_type": "stream",
     "text": [
      "Epoch 26/50:\n",
      "Train Loss: 1.0170 | Train Acc: 63.88%\n",
      "Val Loss: 0.9949 | Val Acc: 64.16%\n",
      "Validation accuracy improved from 63.08% to 64.16%, saving model...\n"
     ]
    },
    {
     "name": "stderr",
     "output_type": "stream",
     "text": [
      "Epoch 27/50 [Train]: 100%|██████████| 352/352 [00:34<00:00, 10.06it/s, loss=1.01, acc=64.3]\n",
      "Epoch 27/50 [Val]: 100%|██████████| 40/40 [00:03<00:00, 11.74it/s, loss=0.982, acc=64.9]\n"
     ]
    },
    {
     "name": "stdout",
     "output_type": "stream",
     "text": [
      "Epoch 27/50:\n",
      "Train Loss: 1.0121 | Train Acc: 64.35%\n",
      "Val Loss: 0.9816 | Val Acc: 64.86%\n",
      "Validation accuracy improved from 64.16% to 64.86%, saving model...\n"
     ]
    },
    {
     "name": "stderr",
     "output_type": "stream",
     "text": [
      "Epoch 28/50 [Train]: 100%|██████████| 352/352 [00:34<00:00, 10.14it/s, loss=0.994, acc=64.7]\n",
      "Epoch 28/50 [Val]: 100%|██████████| 40/40 [00:03<00:00, 11.28it/s, loss=1.01, acc=65.1]\n"
     ]
    },
    {
     "name": "stdout",
     "output_type": "stream",
     "text": [
      "Epoch 28/50:\n",
      "Train Loss: 0.9937 | Train Acc: 64.72%\n",
      "Val Loss: 1.0062 | Val Acc: 65.10%\n",
      "Validation accuracy improved from 64.86% to 65.10%, saving model...\n"
     ]
    },
    {
     "name": "stderr",
     "output_type": "stream",
     "text": [
      "Epoch 29/50 [Train]: 100%|██████████| 352/352 [00:35<00:00,  9.95it/s, loss=0.977, acc=65.3]\n",
      "Epoch 29/50 [Val]: 100%|██████████| 40/40 [00:04<00:00,  8.87it/s, loss=0.976, acc=65.6]\n"
     ]
    },
    {
     "name": "stdout",
     "output_type": "stream",
     "text": [
      "Epoch 29/50:\n",
      "Train Loss: 0.9766 | Train Acc: 65.27%\n",
      "Val Loss: 0.9759 | Val Acc: 65.62%\n",
      "Validation accuracy improved from 65.10% to 65.62%, saving model...\n"
     ]
    },
    {
     "name": "stderr",
     "output_type": "stream",
     "text": [
      "Epoch 30/50 [Train]: 100%|██████████| 352/352 [00:35<00:00, 10.06it/s, loss=0.956, acc=66.4]\n",
      "Epoch 30/50 [Val]: 100%|██████████| 40/40 [00:03<00:00, 11.26it/s, loss=0.946, acc=66.2]\n"
     ]
    },
    {
     "name": "stdout",
     "output_type": "stream",
     "text": [
      "Epoch 30/50:\n",
      "Train Loss: 0.9558 | Train Acc: 66.36%\n",
      "Val Loss: 0.9463 | Val Acc: 66.24%\n",
      "Validation accuracy improved from 65.62% to 66.24%, saving model...\n"
     ]
    },
    {
     "name": "stderr",
     "output_type": "stream",
     "text": [
      "Epoch 31/50 [Train]: 100%|██████████| 352/352 [00:34<00:00, 10.10it/s, loss=0.958, acc=65.9]\n",
      "Epoch 31/50 [Val]: 100%|██████████| 40/40 [00:03<00:00, 11.38it/s, loss=0.958, acc=66.7]\n"
     ]
    },
    {
     "name": "stdout",
     "output_type": "stream",
     "text": [
      "Epoch 31/50:\n",
      "Train Loss: 0.9582 | Train Acc: 65.92%\n",
      "Val Loss: 0.9582 | Val Acc: 66.68%\n",
      "Validation accuracy improved from 66.24% to 66.68%, saving model...\n"
     ]
    },
    {
     "name": "stderr",
     "output_type": "stream",
     "text": [
      "Epoch 32/50 [Train]: 100%|██████████| 352/352 [00:34<00:00, 10.08it/s, loss=0.942, acc=66.9]\n",
      "Epoch 32/50 [Val]: 100%|██████████| 40/40 [00:03<00:00, 11.75it/s, loss=0.985, acc=65.6]\n"
     ]
    },
    {
     "name": "stdout",
     "output_type": "stream",
     "text": [
      "Epoch 32/50:\n",
      "Train Loss: 0.9423 | Train Acc: 66.90%\n",
      "Val Loss: 0.9850 | Val Acc: 65.64%\n"
     ]
    },
    {
     "name": "stderr",
     "output_type": "stream",
     "text": [
      "Epoch 33/50 [Train]: 100%|██████████| 352/352 [00:34<00:00, 10.13it/s, loss=0.931, acc=67.2]\n",
      "Epoch 33/50 [Val]: 100%|██████████| 40/40 [00:03<00:00, 11.40it/s, loss=0.946, acc=66.9]\n"
     ]
    },
    {
     "name": "stdout",
     "output_type": "stream",
     "text": [
      "Epoch 33/50:\n",
      "Train Loss: 0.9309 | Train Acc: 67.23%\n",
      "Val Loss: 0.9462 | Val Acc: 66.90%\n",
      "Validation accuracy improved from 66.68% to 66.90%, saving model...\n"
     ]
    },
    {
     "name": "stderr",
     "output_type": "stream",
     "text": [
      "Epoch 34/50 [Train]: 100%|██████████| 352/352 [00:35<00:00, 10.00it/s, loss=0.915, acc=67.7]\n",
      "Epoch 34/50 [Val]: 100%|██████████| 40/40 [00:03<00:00, 11.13it/s, loss=0.92, acc=68.2]\n"
     ]
    },
    {
     "name": "stdout",
     "output_type": "stream",
     "text": [
      "Epoch 34/50:\n",
      "Train Loss: 0.9153 | Train Acc: 67.74%\n",
      "Val Loss: 0.9199 | Val Acc: 68.24%\n",
      "Validation accuracy improved from 66.90% to 68.24%, saving model...\n"
     ]
    },
    {
     "name": "stderr",
     "output_type": "stream",
     "text": [
      "Epoch 35/50 [Train]: 100%|██████████| 352/352 [00:35<00:00, 10.03it/s, loss=0.909, acc=67.9]\n",
      "Epoch 35/50 [Val]: 100%|██████████| 40/40 [00:03<00:00, 11.82it/s, loss=0.927, acc=67.1]\n"
     ]
    },
    {
     "name": "stdout",
     "output_type": "stream",
     "text": [
      "Epoch 35/50:\n",
      "Train Loss: 0.9089 | Train Acc: 67.87%\n",
      "Val Loss: 0.9271 | Val Acc: 67.12%\n"
     ]
    },
    {
     "name": "stderr",
     "output_type": "stream",
     "text": [
      "Epoch 36/50 [Train]: 100%|██████████| 352/352 [00:35<00:00, 10.01it/s, loss=0.902, acc=68]\n",
      "Epoch 36/50 [Val]: 100%|██████████| 40/40 [00:03<00:00, 11.28it/s, loss=0.903, acc=67.4]\n"
     ]
    },
    {
     "name": "stdout",
     "output_type": "stream",
     "text": [
      "Epoch 36/50:\n",
      "Train Loss: 0.9016 | Train Acc: 67.98%\n",
      "Val Loss: 0.9027 | Val Acc: 67.44%\n"
     ]
    },
    {
     "name": "stderr",
     "output_type": "stream",
     "text": [
      "Epoch 37/50 [Train]: 100%|██████████| 352/352 [00:34<00:00, 10.07it/s, loss=0.891, acc=68.5]\n",
      "Epoch 37/50 [Val]: 100%|██████████| 40/40 [00:03<00:00, 10.89it/s, loss=0.911, acc=67.1]\n"
     ]
    },
    {
     "name": "stdout",
     "output_type": "stream",
     "text": [
      "Epoch 37/50:\n",
      "Train Loss: 0.8911 | Train Acc: 68.54%\n",
      "Val Loss: 0.9107 | Val Acc: 67.10%\n"
     ]
    },
    {
     "name": "stderr",
     "output_type": "stream",
     "text": [
      "Epoch 38/50 [Train]: 100%|██████████| 352/352 [00:34<00:00, 10.13it/s, loss=0.883, acc=68.9]\n",
      "Epoch 38/50 [Val]: 100%|██████████| 40/40 [00:03<00:00, 11.53it/s, loss=0.921, acc=67.5]\n"
     ]
    },
    {
     "name": "stdout",
     "output_type": "stream",
     "text": [
      "Epoch 38/50:\n",
      "Train Loss: 0.8832 | Train Acc: 68.92%\n",
      "Val Loss: 0.9211 | Val Acc: 67.52%\n"
     ]
    },
    {
     "name": "stderr",
     "output_type": "stream",
     "text": [
      "Epoch 39/50 [Train]: 100%|██████████| 352/352 [00:35<00:00,  9.89it/s, loss=0.875, acc=69.2]\n",
      "Epoch 39/50 [Val]: 100%|██████████| 40/40 [00:04<00:00,  9.32it/s, loss=0.896, acc=68.8]\n"
     ]
    },
    {
     "name": "stdout",
     "output_type": "stream",
     "text": [
      "Epoch 39/50:\n",
      "Train Loss: 0.8753 | Train Acc: 69.20%\n",
      "Val Loss: 0.8955 | Val Acc: 68.78%\n",
      "Validation accuracy improved from 68.24% to 68.78%, saving model...\n"
     ]
    },
    {
     "name": "stderr",
     "output_type": "stream",
     "text": [
      "Epoch 40/50 [Train]: 100%|██████████| 352/352 [00:36<00:00,  9.72it/s, loss=0.87, acc=69.4]\n",
      "Epoch 40/50 [Val]: 100%|██████████| 40/40 [00:03<00:00, 10.05it/s, loss=0.916, acc=68.3]\n"
     ]
    },
    {
     "name": "stdout",
     "output_type": "stream",
     "text": [
      "Epoch 40/50:\n",
      "Train Loss: 0.8705 | Train Acc: 69.38%\n",
      "Val Loss: 0.9157 | Val Acc: 68.34%\n"
     ]
    },
    {
     "name": "stderr",
     "output_type": "stream",
     "text": [
      "Epoch 41/50 [Train]: 100%|██████████| 352/352 [00:35<00:00,  9.82it/s, loss=0.859, acc=69.7]\n",
      "Epoch 41/50 [Val]: 100%|██████████| 40/40 [00:04<00:00,  9.25it/s, loss=0.904, acc=69.1]\n"
     ]
    },
    {
     "name": "stdout",
     "output_type": "stream",
     "text": [
      "Epoch 41/50:\n",
      "Train Loss: 0.8592 | Train Acc: 69.66%\n",
      "Val Loss: 0.9041 | Val Acc: 69.08%\n",
      "Validation accuracy improved from 68.78% to 69.08%, saving model...\n"
     ]
    },
    {
     "name": "stderr",
     "output_type": "stream",
     "text": [
      "Epoch 42/50 [Train]: 100%|██████████| 352/352 [00:35<00:00,  9.91it/s, loss=0.857, acc=69.8]\n",
      "Epoch 42/50 [Val]: 100%|██████████| 40/40 [00:03<00:00, 11.16it/s, loss=0.929, acc=67.4]\n"
     ]
    },
    {
     "name": "stdout",
     "output_type": "stream",
     "text": [
      "Epoch 42/50:\n",
      "Train Loss: 0.8566 | Train Acc: 69.84%\n",
      "Val Loss: 0.9288 | Val Acc: 67.44%\n"
     ]
    },
    {
     "name": "stderr",
     "output_type": "stream",
     "text": [
      "Epoch 43/50 [Train]: 100%|██████████| 352/352 [00:35<00:00,  9.87it/s, loss=0.849, acc=69.9]\n",
      "Epoch 43/50 [Val]: 100%|██████████| 40/40 [00:03<00:00, 11.06it/s, loss=0.911, acc=68.6]\n"
     ]
    },
    {
     "name": "stdout",
     "output_type": "stream",
     "text": [
      "Epoch 43/50:\n",
      "Train Loss: 0.8494 | Train Acc: 69.88%\n",
      "Val Loss: 0.9114 | Val Acc: 68.64%\n"
     ]
    },
    {
     "name": "stderr",
     "output_type": "stream",
     "text": [
      "Epoch 44/50 [Train]: 100%|██████████| 352/352 [00:35<00:00,  9.81it/s, loss=0.845, acc=70.3]\n",
      "Epoch 44/50 [Val]: 100%|██████████| 40/40 [00:03<00:00, 11.24it/s, loss=0.875, acc=69.3]\n"
     ]
    },
    {
     "name": "stdout",
     "output_type": "stream",
     "text": [
      "Epoch 44/50:\n",
      "Train Loss: 0.8448 | Train Acc: 70.26%\n",
      "Val Loss: 0.8751 | Val Acc: 69.26%\n",
      "Validation accuracy improved from 69.08% to 69.26%, saving model...\n"
     ]
    },
    {
     "name": "stderr",
     "output_type": "stream",
     "text": [
      "Epoch 45/50 [Train]: 100%|██████████| 352/352 [00:35<00:00,  9.89it/s, loss=0.843, acc=70.3]\n",
      "Epoch 45/50 [Val]: 100%|██████████| 40/40 [00:03<00:00, 11.26it/s, loss=0.859, acc=69.3]\n"
     ]
    },
    {
     "name": "stdout",
     "output_type": "stream",
     "text": [
      "Epoch 45/50:\n",
      "Train Loss: 0.8431 | Train Acc: 70.29%\n",
      "Val Loss: 0.8593 | Val Acc: 69.26%\n"
     ]
    },
    {
     "name": "stderr",
     "output_type": "stream",
     "text": [
      "Epoch 46/50 [Train]: 100%|██████████| 352/352 [00:35<00:00,  9.78it/s, loss=0.839, acc=70.3]\n",
      "Epoch 46/50 [Val]: 100%|██████████| 40/40 [00:03<00:00, 11.22it/s, loss=0.9, acc=68.8]\n"
     ]
    },
    {
     "name": "stdout",
     "output_type": "stream",
     "text": [
      "Epoch 46/50:\n",
      "Train Loss: 0.8394 | Train Acc: 70.28%\n",
      "Val Loss: 0.8995 | Val Acc: 68.84%\n"
     ]
    },
    {
     "name": "stderr",
     "output_type": "stream",
     "text": [
      "Epoch 47/50 [Train]: 100%|██████████| 352/352 [00:35<00:00,  9.91it/s, loss=0.834, acc=70.5]\n",
      "Epoch 47/50 [Val]: 100%|██████████| 40/40 [00:03<00:00, 11.58it/s, loss=0.886, acc=68.8]\n"
     ]
    },
    {
     "name": "stdout",
     "output_type": "stream",
     "text": [
      "Epoch 47/50:\n",
      "Train Loss: 0.8343 | Train Acc: 70.55%\n",
      "Val Loss: 0.8863 | Val Acc: 68.76%\n"
     ]
    },
    {
     "name": "stderr",
     "output_type": "stream",
     "text": [
      "Epoch 48/50 [Train]: 100%|██████████| 352/352 [00:35<00:00,  9.91it/s, loss=0.833, acc=70.5]\n",
      "Epoch 48/50 [Val]: 100%|██████████| 40/40 [00:04<00:00,  9.96it/s, loss=0.882, acc=68.9]\n"
     ]
    },
    {
     "name": "stdout",
     "output_type": "stream",
     "text": [
      "Epoch 48/50:\n",
      "Train Loss: 0.8328 | Train Acc: 70.49%\n",
      "Val Loss: 0.8822 | Val Acc: 68.86%\n"
     ]
    },
    {
     "name": "stderr",
     "output_type": "stream",
     "text": [
      "Epoch 49/50 [Train]: 100%|██████████| 352/352 [00:35<00:00,  9.91it/s, loss=0.835, acc=70.3]\n",
      "Epoch 49/50 [Val]: 100%|██████████| 40/40 [00:03<00:00, 11.26it/s, loss=0.869, acc=69.9]\n"
     ]
    },
    {
     "name": "stdout",
     "output_type": "stream",
     "text": [
      "Epoch 49/50:\n",
      "Train Loss: 0.8350 | Train Acc: 70.33%\n",
      "Val Loss: 0.8690 | Val Acc: 69.90%\n",
      "Validation accuracy improved from 69.26% to 69.90%, saving model...\n"
     ]
    },
    {
     "name": "stderr",
     "output_type": "stream",
     "text": [
      "Epoch 50/50 [Train]: 100%|██████████| 352/352 [00:35<00:00, 10.00it/s, loss=0.833, acc=70.6]\n",
      "Epoch 50/50 [Val]: 100%|██████████| 40/40 [00:03<00:00, 11.00it/s, loss=0.859, acc=70.1]\n"
     ]
    },
    {
     "name": "stdout",
     "output_type": "stream",
     "text": [
      "Epoch 50/50:\n",
      "Train Loss: 0.8333 | Train Acc: 70.57%\n",
      "Val Loss: 0.8591 | Val Acc: 70.14%\n",
      "Validation accuracy improved from 69.90% to 70.14%, saving model...\n",
      "Best validation accuracy: 70.14%\n"
     ]
    },
    {
     "name": "stderr",
     "output_type": "stream",
     "text": [
      "Evaluating on test set: 100%|██████████| 79/79 [00:01<00:00, 40.61it/s]\n"
     ]
    },
    {
     "name": "stdout",
     "output_type": "stream",
     "text": [
      "Test accuracy: 78.00%\n"
     ]
    },
    {
     "data": {
      "image/png": "[encoded data removed]",
      "text/plain": [
       "<Figure size 1000x500 with 1 Axes>"
      ]
     },
     "metadata": {},
     "output_type": "display_data"
    },
    {
     "data": {
      "image/png": "[encoded data removed]",
      "text/plain": [
       "<Figure size 1000x500 with 1 Axes>"
      ]
     },
     "metadata": {},
     "output_type": "display_data"
    },
    {
     "name": "stdout",
     "output_type": "stream",
     "text": [
      "\n",
      "\n",
      "Augmentation Strategy Results Summary:\n",
      "--------------------------------------------------\n",
      "randaugment    : 81.78%\n",
      "autoaugment    : 81.48%\n",
      "strongest      : 78.00%\n"
     ]
    },
    {
     "data": {
      "image/png": "[encoded data removed]",
      "text/plain": [
       "<Figure size 1200x600 with 1 Axes>"
      ]
     },
     "metadata": {},
     "output_type": "display_data"
    }
   ],
   "source": [
    "evaluate_augmentation_strategies()"
   ]
  },
  {
   "cell_type": "markdown",
   "id": "ca80be76",
   "metadata": {},
   "source": [
    "### Augmentation Strategy Comparison\n",
    "\n",
    "\n",
    "1. **RandAugment** performed best (81.78%), likely due to its adaptive policy sampling that balances diversity and consistency.\n",
    "\n",
    "2. **AutoAugment** followed closely (81.48%), showing that its learned policies work well but may be slightly less effective than RandAugment's randomized approach for this model.\n",
    "\n",
    "3. **Strongest** augmentation performed worst (78.00%), suggesting that overly aggressive transformations disrupted important visual features needed for classification.\n",
    "\n",
    "These results indicate that moderate, randomized augmentation strategies provide the optimal balance between regularization and preserving critical image information for ViT on CIFAR-10. The 3.78% gap between best and worst strategies highlights the importance of careful augmentation selection."
   ]
  }
 ],
 "metadata": {
  "kaggle": {
   "accelerator": "gpu",
   "dataSources": [],
   "dockerImageVersionId": 31011,
   "isGpuEnabled": true,
   "isInternetEnabled": true,
   "language": "python",
   "sourceType": "notebook"
  },
  "kernelspec": {
   "display_name": "Python 3",
   "language": "python",
   "name": "python3"
  },
  "language_info": {
   "codemirror_mode": {
    "name": "ipython",
    "version": 3
   },
   "file_extension": ".py",
   "mimetype": "text/x-python",
   "name": "python",
   "nbconvert_exporter": "python",
   "pygments_lexer": "ipython3",
   "version": "3.11.11"
  },
  "papermill": {
   "default_parameters": {},
   "duration": 5025.333835,
   "end_time": "2025-04-19T16:15:21.847475",
   "environment_variables": {},
   "exception": null,
   "input_path": "__notebook__.ipynb",
   "output_path": "__notebook__.ipynb",
   "parameters": {},
   "start_time": "2025-04-19T14:51:36.513640",
   "version": "2.6.0"
  }
 },
 "nbformat": 4,
 "nbformat_minor": 5
}
