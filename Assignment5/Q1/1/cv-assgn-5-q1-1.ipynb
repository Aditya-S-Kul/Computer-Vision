{
 "cells": [
  {
   "cell_type": "code",
   "execution_count": 1,
   "id": "2a18778e",
   "metadata": {
    "execution": {
     "iopub.execute_input": "2025-04-18T18:51:48.941566Z",
     "iopub.status.busy": "2025-04-18T18:51:48.941315Z",
     "iopub.status.idle": "2025-04-18T18:51:58.484129Z",
     "shell.execute_reply": "2025-04-18T18:51:58.483524Z"
    },
    "papermill": {
     "duration": 9.54787,
     "end_time": "2025-04-18T18:51:58.485658",
     "exception": false,
     "start_time": "2025-04-18T18:51:48.937788",
     "status": "completed"
    },
    "tags": []
   },
   "outputs": [],
   "source": [
    "import torch\n",
    "import torch.nn as nn\n",
    "import torch.nn.functional as F\n",
    "import torch.optim as optim\n",
    "from torch.utils.data import DataLoader\n",
    "import torchvision\n",
    "import torchvision.transforms as transforms\n",
    "import matplotlib.pyplot as plt\n",
    "import numpy as np\n",
    "from tqdm import tqdm\n",
    "import os\n",
    "\n",
    "# For reproducibility\n",
    "torch.manual_seed(42)\n",
    "np.random.seed(42)\n",
    "\n",
    "class ScaledDotProductAttention(nn.Module):\n",
    "    \"\"\"Scaled Dot-Product Attention as described in the ViT paper\"\"\"\n",
    "    def __init__(self, scale):\n",
    "        super(ScaledDotProductAttention, self).__init__()\n",
    "        self.scale = scale\n",
    "    \n",
    "    def forward(self, q, k, v, mask=None):\n",
    "        # q, k, v shape: [batch_size, head, seq_len, dim]\n",
    "        # Calculate attention scores\n",
    "        attention_scores = torch.matmul(q, k.transpose(-2, -1)) * self.scale\n",
    "        \n",
    "        # Apply mask if provided\n",
    "        if mask is not None:\n",
    "            attention_scores = attention_scores.masked_fill(mask == 0, -1e9)\n",
    "        \n",
    "        # Apply softmax to get attention weights\n",
    "        attention_weights = F.softmax(attention_scores, dim=-1)\n",
    "        \n",
    "        # Apply attention weights to values\n",
    "        output = torch.matmul(attention_weights, v)\n",
    "        \n",
    "        return output, attention_weights\n",
    "\n",
    "class MultiHeadAttention(nn.Module):\n",
    "    \"\"\"Multi-Head Attention as described in the ViT paper\"\"\"\n",
    "    def __init__(self, dim_model, num_heads):\n",
    "        super(MultiHeadAttention, self).__init__()\n",
    "        self.num_heads = num_heads\n",
    "        self.dim_model = dim_model\n",
    "        \n",
    "        assert dim_model % num_heads == 0, \"dim_model must be divisible by num_heads\"\n",
    "        \n",
    "        self.depth = dim_model // num_heads\n",
    "        \n",
    "        # Linear projections\n",
    "        self.wq = nn.Linear(dim_model, dim_model)\n",
    "        self.wk = nn.Linear(dim_model, dim_model)\n",
    "        self.wv = nn.Linear(dim_model, dim_model)\n",
    "        \n",
    "        self.attention = ScaledDotProductAttention(scale=self.depth ** -0.5)\n",
    "        \n",
    "        self.fc_out = nn.Linear(dim_model, dim_model)\n",
    "        \n",
    "    def forward(self, q, k, v, mask=None):\n",
    "        batch_size = q.shape[0]\n",
    "        \n",
    "        # Linear projections and reshape\n",
    "        q = self.wq(q).view(batch_size, -1, self.num_heads, self.depth).transpose(1, 2)\n",
    "        k = self.wk(k).view(batch_size, -1, self.num_heads, self.depth).transpose(1, 2)\n",
    "        v = self.wv(v).view(batch_size, -1, self.num_heads, self.depth).transpose(1, 2)\n",
    "        \n",
    "        # Scaled dot-product attention\n",
    "        output, _ = self.attention(q, k, v, mask)\n",
    "        \n",
    "        # Reshape back and project\n",
    "        output = output.transpose(1, 2).contiguous().view(batch_size, -1, self.dim_model)\n",
    "        output = self.fc_out(output)\n",
    "        \n",
    "        return output\n",
    "\n",
    "class TransformerEncoderLayer(nn.Module):\n",
    "    \"\"\"Transformer Encoder Layer as described in the ViT paper\"\"\"\n",
    "    def __init__(self, dim_model, num_heads, dim_ff, dropout=0.1):\n",
    "        super(TransformerEncoderLayer, self).__init__()\n",
    "        self.norm1 = nn.LayerNorm(dim_model)\n",
    "        self.norm2 = nn.LayerNorm(dim_model)\n",
    "        self.mha = MultiHeadAttention(dim_model, num_heads)\n",
    "        self.ffn = nn.Sequential(\n",
    "            nn.Linear(dim_model, dim_ff),\n",
    "            nn.GELU(),\n",
    "            nn.Dropout(dropout),\n",
    "            nn.Linear(dim_ff, dim_model),\n",
    "            nn.Dropout(dropout)\n",
    "        )\n",
    "        self.dropout = nn.Dropout(dropout)\n",
    "        \n",
    "    def forward(self, x, mask=None):\n",
    "        # Layer norm and multi-head attention (Pre-LN architecture)\n",
    "        attn_output = self.mha(self.norm1(x), self.norm1(x), self.norm1(x), mask)\n",
    "        # Residual connection\n",
    "        x = x + self.dropout(attn_output)\n",
    "        \n",
    "        # Layer norm and feed forward\n",
    "        ff_output = self.ffn(self.norm2(x))\n",
    "        # Residual connection\n",
    "        x = x + ff_output\n",
    "        \n",
    "        return x\n",
    "\n",
    "class VisionTransformer(nn.Module):\n",
    "    \"\"\"Vision Transformer (ViT) as described in the paper\"\"\"\n",
    "    def __init__(self, \n",
    "                 image_size=32,       # CIFAR-10 image size\n",
    "                 patch_size=4,        # as specified\n",
    "                 in_channels=3,       # RGB images\n",
    "                 num_classes=10,      # CIFAR-10 has 10 classes\n",
    "                 dim_model=192,       # embedding dimension\n",
    "                 num_heads=8,         # number of heads in multihead attention\n",
    "                 num_encoder_layers=8, # number of transformer encoder layers\n",
    "                 dim_ff=768,          # feed-forward network dimension\n",
    "                 dropout=0.1):        # dropout rate\n",
    "        super(VisionTransformer, self).__init__()\n",
    "        \n",
    "        # Image and patch parameters\n",
    "        self.image_size = image_size\n",
    "        self.patch_size = patch_size\n",
    "        self.in_channels = in_channels\n",
    "        \n",
    "        # Calculate the number of patches\n",
    "        assert image_size % patch_size == 0, \"Image size must be divisible by patch size\"\n",
    "        num_patches = (image_size // patch_size) ** 2\n",
    "        patch_dim = in_channels * patch_size * patch_size\n",
    "        \n",
    "        # Linear projection of flattened patches\n",
    "        self.patch_embedding = nn.Linear(patch_dim, dim_model)\n",
    "        \n",
    "        # Class token\n",
    "        self.cls_token = nn.Parameter(torch.zeros(1, 1, dim_model))\n",
    "        \n",
    "        # Positional embedding for patches + class token\n",
    "        self.pos_embedding = nn.Parameter(torch.zeros(1, num_patches + 1, dim_model))\n",
    "        \n",
    "        # Dropout after position embedding\n",
    "        self.dropout = nn.Dropout(dropout)\n",
    "        \n",
    "        # Transformer encoder\n",
    "        self.encoder_layers = nn.ModuleList([\n",
    "            TransformerEncoderLayer(dim_model, num_heads, dim_ff, dropout)\n",
    "            for _ in range(num_encoder_layers)\n",
    "        ])\n",
    "        \n",
    "        # Layer normalization\n",
    "        self.ln = nn.LayerNorm(dim_model)\n",
    "        \n",
    "        # MLP Head for classification\n",
    "        self.mlp_head = nn.Linear(dim_model, num_classes)\n",
    "        \n",
    "        # Initialize weights\n",
    "        self.init_weights()\n",
    "        \n",
    "    def init_weights(self):\n",
    "        # Initialize patch embedding like a linear layer\n",
    "        nn.init.xavier_uniform_(self.patch_embedding.weight)\n",
    "        nn.init.zeros_(self.patch_embedding.bias)\n",
    "        \n",
    "        # Initialize cls token\n",
    "        nn.init.xavier_normal_(self.cls_token)\n",
    "        \n",
    "        # Initialize position embedding\n",
    "        nn.init.normal_(self.pos_embedding, std=0.02)\n",
    "        \n",
    "    def forward(self, x):\n",
    "        # x shape: [batch_size, channels, height, width]\n",
    "        batch_size = x.shape[0]\n",
    "        \n",
    "        # Extract patches: [B, C, H, W] -> [B, num_patches, C*P*P]\n",
    "        # Where P is the patch size\n",
    "        x = x.unfold(2, self.patch_size, self.patch_size).unfold(3, self.patch_size, self.patch_size)\n",
    "        x = x.contiguous().view(batch_size, self.in_channels, -1, self.patch_size * self.patch_size)\n",
    "        x = x.permute(0, 2, 1, 3).contiguous().view(batch_size, -1, self.in_channels * self.patch_size * self.patch_size)\n",
    "        \n",
    "        # Linear embedding of patches\n",
    "        x = self.patch_embedding(x)  # [B, num_patches, dim_model]\n",
    "        \n",
    "        # Add class token\n",
    "        cls_tokens = self.cls_token.expand(batch_size, -1, -1)  # [B, 1, dim_model]\n",
    "        x = torch.cat((cls_tokens, x), dim=1)  # [B, 1+num_patches, dim_model]\n",
    "        \n",
    "        # Add positional embedding\n",
    "        x = x + self.pos_embedding\n",
    "        x = self.dropout(x)\n",
    "        \n",
    "        # Apply transformer encoder layers\n",
    "        for layer in self.encoder_layers:\n",
    "            x = layer(x)\n",
    "        \n",
    "        # Apply layer normalization\n",
    "        x = self.ln(x)\n",
    "        \n",
    "        # Take the cls token representation\n",
    "        x = x[:, 0]  # [B, dim_model]\n",
    "        \n",
    "        # Classification head\n",
    "        x = self.mlp_head(x)  # [B, num_classes]\n",
    "        \n",
    "        return x\n",
    "\n",
    "def get_data_loaders(batch_size=128):\n",
    "    \"\"\"Create CIFAR-10 dataloaders\"\"\"\n",
    "    transform_train = transforms.Compose([\n",
    "        transforms.RandomCrop(32, padding=4),\n",
    "        transforms.RandomHorizontalFlip(),\n",
    "        transforms.ToTensor(),\n",
    "        transforms.Normalize((0.4914, 0.4822, 0.4465), (0.2470, 0.2435, 0.2616)),\n",
    "    ])\n",
    "    \n",
    "    transform_test = transforms.Compose([\n",
    "        transforms.ToTensor(),\n",
    "        transforms.Normalize((0.4914, 0.4822, 0.4465), (0.2470, 0.2435, 0.2616)),\n",
    "    ])\n",
    "\n",
    "    trainset = torchvision.datasets.CIFAR10(\n",
    "        root='./data', train=True, download=True, transform=transform_train)\n",
    "    trainloader = DataLoader(\n",
    "        trainset, batch_size=batch_size, shuffle=True, num_workers=2)\n",
    "\n",
    "    testset = torchvision.datasets.CIFAR10(\n",
    "        root='./data', train=False, download=True, transform=transform_test)\n",
    "    testloader = DataLoader(\n",
    "        testset, batch_size=batch_size, shuffle=False, num_workers=2)\n",
    "    \n",
    "    # Create a validation set\n",
    "    val_size = 5000\n",
    "    train_size = len(trainset) - val_size\n",
    "    \n",
    "    train_subset, val_subset = torch.utils.data.random_split(\n",
    "        trainset, [train_size, val_size], \n",
    "        generator=torch.Generator().manual_seed(42))\n",
    "    \n",
    "    valloader = DataLoader(\n",
    "        val_subset, batch_size=batch_size, shuffle=False, num_workers=2)\n",
    "    \n",
    "    train_subset_loader = DataLoader(\n",
    "        train_subset, batch_size=batch_size, shuffle=True, num_workers=2)\n",
    "    \n",
    "    return train_subset_loader, valloader, testloader\n",
    "\n",
    "def train_model(model, train_loader, val_loader, epochs=50, lr=0.001, weight_decay=1e-4):\n",
    "    \"\"\"Train the Vision Transformer model\"\"\"\n",
    "    device = torch.device(\"cuda\" if torch.cuda.is_available() else \"cpu\")\n",
    "    print(f\"Using device: {device}\")\n",
    "    \n",
    "    model = model.to(device)\n",
    "    criterion = nn.CrossEntropyLoss()\n",
    "    optimizer = optim.AdamW(model.parameters(), lr=lr, weight_decay=weight_decay)\n",
    "    scheduler = optim.lr_scheduler.CosineAnnealingLR(optimizer, T_max=epochs)\n",
    "    \n",
    "    # For tracking metrics\n",
    "    train_losses = []\n",
    "    train_accs = []\n",
    "    val_losses = []\n",
    "    val_accs = []\n",
    "    \n",
    "    # For saving the best model\n",
    "    best_val_acc = 0\n",
    "    best_model_path = 'best_vit_model.pth'\n",
    "    \n",
    "    for epoch in range(epochs):\n",
    "        # Training\n",
    "        model.train()\n",
    "        train_loss = 0\n",
    "        correct = 0\n",
    "        total = 0\n",
    "        \n",
    "        pbar = tqdm(train_loader, desc=f'Epoch {epoch+1}/{epochs} [Train]')\n",
    "        for batch_idx, (inputs, targets) in enumerate(pbar):\n",
    "            inputs, targets = inputs.to(device), targets.to(device)\n",
    "            \n",
    "            optimizer.zero_grad()\n",
    "            outputs = model(inputs)\n",
    "            loss = criterion(outputs, targets)\n",
    "            loss.backward()\n",
    "            optimizer.step()\n",
    "            \n",
    "            train_loss += loss.item()\n",
    "            _, predicted = outputs.max(1)\n",
    "            total += targets.size(0)\n",
    "            correct += predicted.eq(targets).sum().item()\n",
    "            \n",
    "            pbar.set_postfix({\n",
    "                'loss': train_loss/(batch_idx+1), \n",
    "                'acc': 100.*correct/total\n",
    "            })\n",
    "        \n",
    "        train_loss = train_loss / len(train_loader)\n",
    "        train_acc = 100. * correct / total\n",
    "        \n",
    "        train_losses.append(train_loss)\n",
    "        train_accs.append(train_acc)\n",
    "        \n",
    "        # Validation\n",
    "        model.eval()\n",
    "        val_loss = 0\n",
    "        correct = 0\n",
    "        total = 0\n",
    "        \n",
    "        with torch.no_grad():\n",
    "            pbar = tqdm(val_loader, desc=f'Epoch {epoch+1}/{epochs} [Val]')\n",
    "            for batch_idx, (inputs, targets) in enumerate(pbar):\n",
    "                inputs, targets = inputs.to(device), targets.to(device)\n",
    "                \n",
    "                outputs = model(inputs)\n",
    "                loss = criterion(outputs, targets)\n",
    "                \n",
    "                val_loss += loss.item()\n",
    "                _, predicted = outputs.max(1)\n",
    "                total += targets.size(0)\n",
    "                correct += predicted.eq(targets).sum().item()\n",
    "                \n",
    "                pbar.set_postfix({\n",
    "                    'loss': val_loss/(batch_idx+1), \n",
    "                    'acc': 100.*correct/total\n",
    "                })\n",
    "        \n",
    "        val_loss = val_loss / len(val_loader)\n",
    "        val_acc = 100. * correct / total\n",
    "        \n",
    "        val_losses.append(val_loss)\n",
    "        val_accs.append(val_acc)\n",
    "        \n",
    "        # Print stats\n",
    "        print(f'Epoch {epoch+1}/{epochs}:')\n",
    "        print(f'Train Loss: {train_loss:.4f} | Train Acc: {train_acc:.2f}%')\n",
    "        print(f'Val Loss: {val_loss:.4f} | Val Acc: {val_acc:.2f}%')\n",
    "        \n",
    "        # Save the best model\n",
    "        if val_acc > best_val_acc:\n",
    "            print(f'Validation accuracy improved from {best_val_acc:.2f}% to {val_acc:.2f}%, saving model...')\n",
    "            best_val_acc = val_acc\n",
    "            torch.save(model.state_dict(), best_model_path)\n",
    "        \n",
    "        # Update learning rate\n",
    "        scheduler.step()\n",
    "    \n",
    "    print(f'Best validation accuracy: {best_val_acc:.2f}%')\n",
    "    return train_losses, train_accs, val_losses, val_accs\n",
    "\n",
    "def evaluate_model(model, test_loader):\n",
    "    \"\"\"Evaluate the trained model on the test set\"\"\"\n",
    "    device = torch.device(\"cuda\" if torch.cuda.is_available() else \"cpu\")\n",
    "    model = model.to(device)\n",
    "    model.eval()\n",
    "    \n",
    "    correct = 0\n",
    "    total = 0\n",
    "    \n",
    "    with torch.no_grad():\n",
    "        for inputs, targets in tqdm(test_loader, desc='Evaluating on test set'):\n",
    "            inputs, targets = inputs.to(device), targets.to(device)\n",
    "            \n",
    "            outputs = model(inputs)\n",
    "            _, predicted = outputs.max(1)\n",
    "            \n",
    "            total += targets.size(0)\n",
    "            correct += predicted.eq(targets).sum().item()\n",
    "    \n",
    "    test_acc = 100. * correct / total\n",
    "    print(f'Test accuracy: {test_acc:.2f}%')\n",
    "    return test_acc\n",
    "\n",
    "def plot_metrics(train_losses, val_losses, train_accs, val_accs):\n",
    "    \"\"\"Plot loss and accuracy curves separately\"\"\"\n",
    "    # Plot losses\n",
    "    plt.figure(figsize=(10, 5))\n",
    "    plt.plot(train_losses, label='Train Loss')\n",
    "    plt.plot(val_losses, label='Validation Loss')\n",
    "    plt.xlabel('Epoch')\n",
    "    plt.ylabel('Loss')\n",
    "    plt.title('Training and Validation Loss')\n",
    "    plt.legend()\n",
    "    plt.grid(True)\n",
    "    plt.savefig('vit_loss_curves.png')\n",
    "    plt.show()\n",
    "    \n",
    "    # Plot accuracies\n",
    "    plt.figure(figsize=(10, 5))\n",
    "    plt.plot(train_accs, label='Train Accuracy')\n",
    "    plt.plot(val_accs, label='Validation Accuracy')\n",
    "    plt.xlabel('Epoch')\n",
    "    plt.ylabel('Accuracy (%)')\n",
    "    plt.title('Training and Validation Accuracy')\n",
    "    plt.legend()\n",
    "    plt.grid(True)\n",
    "    plt.savefig('vit_accuracy_curves.png')\n",
    "    plt.show()\n"
   ]
  },
  {
   "cell_type": "code",
   "execution_count": 2,
   "id": "ae93d2c1",
   "metadata": {
    "execution": {
     "iopub.execute_input": "2025-04-18T18:51:58.490081Z",
     "iopub.status.busy": "2025-04-18T18:51:58.489823Z",
     "iopub.status.idle": "2025-04-18T19:16:11.618017Z",
     "shell.execute_reply": "2025-04-18T19:16:11.616939Z"
    },
    "papermill": {
     "duration": 1453.131489,
     "end_time": "2025-04-18T19:16:11.619123",
     "exception": false,
     "start_time": "2025-04-18T18:51:58.487634",
     "status": "completed"
    },
    "tags": []
   },
   "outputs": [
    {
     "name": "stdout",
     "output_type": "stream",
     "text": [
      "Setting up Vision Transformer for CIFAR-10 classification...\n",
      "Downloading https://www.cs.toronto.edu/~kriz/cifar-10-python.tar.gz to ./data/cifar-10-python.tar.gz\n"
     ]
    },
    {
     "name": "stderr",
     "output_type": "stream",
     "text": [
      "100%|██████████| 170M/170M [00:05<00:00, 29.0MB/s]\n"
     ]
    },
    {
     "name": "stdout",
     "output_type": "stream",
     "text": [
      "Extracting ./data/cifar-10-python.tar.gz to ./data\n",
      "Files already downloaded and verified\n",
      "Model created with 3.58M parameters\n",
      "Starting training...\n",
      "Using device: cuda\n"
     ]
    },
    {
     "name": "stderr",
     "output_type": "stream",
     "text": [
      "Epoch 1/50 [Train]: 100%|██████████| 352/352 [00:28<00:00, 12.49it/s, loss=1.8, acc=32.6]\n",
      "Epoch 1/50 [Val]: 100%|██████████| 40/40 [00:01<00:00, 32.76it/s, loss=1.62, acc=39.9]\n"
     ]
    },
    {
     "name": "stdout",
     "output_type": "stream",
     "text": [
      "Epoch 1/50:\n",
      "Train Loss: 1.7959 | Train Acc: 32.64%\n",
      "Val Loss: 1.6223 | Val Acc: 39.88%\n",
      "Validation accuracy improved from 0.00% to 39.88%, saving model...\n"
     ]
    },
    {
     "name": "stderr",
     "output_type": "stream",
     "text": [
      "Epoch 2/50 [Train]: 100%|██████████| 352/352 [00:27<00:00, 12.85it/s, loss=1.46, acc=46.9]\n",
      "Epoch 2/50 [Val]: 100%|██████████| 40/40 [00:01<00:00, 33.46it/s, loss=1.39, acc=50.1]\n"
     ]
    },
    {
     "name": "stdout",
     "output_type": "stream",
     "text": [
      "Epoch 2/50:\n",
      "Train Loss: 1.4596 | Train Acc: 46.86%\n",
      "Val Loss: 1.3940 | Val Acc: 50.12%\n",
      "Validation accuracy improved from 39.88% to 50.12%, saving model...\n"
     ]
    },
    {
     "name": "stderr",
     "output_type": "stream",
     "text": [
      "Epoch 3/50 [Train]: 100%|██████████| 352/352 [00:27<00:00, 12.88it/s, loss=1.31, acc=52.6]\n",
      "Epoch 3/50 [Val]: 100%|██████████| 40/40 [00:01<00:00, 31.70it/s, loss=1.23, acc=55.3]\n"
     ]
    },
    {
     "name": "stdout",
     "output_type": "stream",
     "text": [
      "Epoch 3/50:\n",
      "Train Loss: 1.3138 | Train Acc: 52.57%\n",
      "Val Loss: 1.2252 | Val Acc: 55.34%\n",
      "Validation accuracy improved from 50.12% to 55.34%, saving model...\n"
     ]
    },
    {
     "name": "stderr",
     "output_type": "stream",
     "text": [
      "Epoch 4/50 [Train]: 100%|██████████| 352/352 [00:27<00:00, 12.79it/s, loss=1.22, acc=55.7]\n",
      "Epoch 4/50 [Val]: 100%|██████████| 40/40 [00:01<00:00, 30.96it/s, loss=1.16, acc=58.7]\n"
     ]
    },
    {
     "name": "stdout",
     "output_type": "stream",
     "text": [
      "Epoch 4/50:\n",
      "Train Loss: 1.2229 | Train Acc: 55.66%\n",
      "Val Loss: 1.1567 | Val Acc: 58.66%\n",
      "Validation accuracy improved from 55.34% to 58.66%, saving model...\n"
     ]
    },
    {
     "name": "stderr",
     "output_type": "stream",
     "text": [
      "Epoch 5/50 [Train]: 100%|██████████| 352/352 [00:27<00:00, 12.81it/s, loss=1.14, acc=58.7]\n",
      "Epoch 5/50 [Val]: 100%|██████████| 40/40 [00:01<00:00, 31.42it/s, loss=1.09, acc=60.3]\n"
     ]
    },
    {
     "name": "stdout",
     "output_type": "stream",
     "text": [
      "Epoch 5/50:\n",
      "Train Loss: 1.1414 | Train Acc: 58.65%\n",
      "Val Loss: 1.0872 | Val Acc: 60.30%\n",
      "Validation accuracy improved from 58.66% to 60.30%, saving model...\n"
     ]
    },
    {
     "name": "stderr",
     "output_type": "stream",
     "text": [
      "Epoch 6/50 [Train]: 100%|██████████| 352/352 [00:27<00:00, 12.70it/s, loss=1.09, acc=60.9]\n",
      "Epoch 6/50 [Val]: 100%|██████████| 40/40 [00:01<00:00, 26.09it/s, loss=1.03, acc=62.5]\n"
     ]
    },
    {
     "name": "stdout",
     "output_type": "stream",
     "text": [
      "Epoch 6/50:\n",
      "Train Loss: 1.0873 | Train Acc: 60.90%\n",
      "Val Loss: 1.0314 | Val Acc: 62.48%\n",
      "Validation accuracy improved from 60.30% to 62.48%, saving model...\n"
     ]
    },
    {
     "name": "stderr",
     "output_type": "stream",
     "text": [
      "Epoch 7/50 [Train]: 100%|██████████| 352/352 [00:27<00:00, 12.80it/s, loss=1.03, acc=62.6]\n",
      "Epoch 7/50 [Val]: 100%|██████████| 40/40 [00:01<00:00, 28.43it/s, loss=1.02, acc=63.4]\n"
     ]
    },
    {
     "name": "stdout",
     "output_type": "stream",
     "text": [
      "Epoch 7/50:\n",
      "Train Loss: 1.0340 | Train Acc: 62.62%\n",
      "Val Loss: 1.0191 | Val Acc: 63.42%\n",
      "Validation accuracy improved from 62.48% to 63.42%, saving model...\n"
     ]
    },
    {
     "name": "stderr",
     "output_type": "stream",
     "text": [
      "Epoch 8/50 [Train]: 100%|██████████| 352/352 [00:27<00:00, 12.72it/s, loss=0.988, acc=64.5]\n",
      "Epoch 8/50 [Val]: 100%|██████████| 40/40 [00:01<00:00, 28.79it/s, loss=0.962, acc=65.6]\n"
     ]
    },
    {
     "name": "stdout",
     "output_type": "stream",
     "text": [
      "Epoch 8/50:\n",
      "Train Loss: 0.9879 | Train Acc: 64.48%\n",
      "Val Loss: 0.9621 | Val Acc: 65.62%\n",
      "Validation accuracy improved from 63.42% to 65.62%, saving model...\n"
     ]
    },
    {
     "name": "stderr",
     "output_type": "stream",
     "text": [
      "Epoch 9/50 [Train]: 100%|██████████| 352/352 [00:27<00:00, 12.71it/s, loss=0.939, acc=66.4]\n",
      "Epoch 9/50 [Val]: 100%|██████████| 40/40 [00:01<00:00, 25.68it/s, loss=0.941, acc=67.2]\n"
     ]
    },
    {
     "name": "stdout",
     "output_type": "stream",
     "text": [
      "Epoch 9/50:\n",
      "Train Loss: 0.9386 | Train Acc: 66.36%\n",
      "Val Loss: 0.9415 | Val Acc: 67.20%\n",
      "Validation accuracy improved from 65.62% to 67.20%, saving model...\n"
     ]
    },
    {
     "name": "stderr",
     "output_type": "stream",
     "text": [
      "Epoch 10/50 [Train]: 100%|██████████| 352/352 [00:27<00:00, 12.78it/s, loss=0.896, acc=68]\n",
      "Epoch 10/50 [Val]: 100%|██████████| 40/40 [00:01<00:00, 24.35it/s, loss=0.894, acc=68.1]\n"
     ]
    },
    {
     "name": "stdout",
     "output_type": "stream",
     "text": [
      "Epoch 10/50:\n",
      "Train Loss: 0.8964 | Train Acc: 68.02%\n",
      "Val Loss: 0.8938 | Val Acc: 68.12%\n",
      "Validation accuracy improved from 67.20% to 68.12%, saving model...\n"
     ]
    },
    {
     "name": "stderr",
     "output_type": "stream",
     "text": [
      "Epoch 11/50 [Train]: 100%|██████████| 352/352 [00:27<00:00, 12.75it/s, loss=0.864, acc=69.2]\n",
      "Epoch 11/50 [Val]: 100%|██████████| 40/40 [00:01<00:00, 26.50it/s, loss=0.862, acc=69.2]\n"
     ]
    },
    {
     "name": "stdout",
     "output_type": "stream",
     "text": [
      "Epoch 11/50:\n",
      "Train Loss: 0.8636 | Train Acc: 69.22%\n",
      "Val Loss: 0.8624 | Val Acc: 69.22%\n",
      "Validation accuracy improved from 68.12% to 69.22%, saving model...\n"
     ]
    },
    {
     "name": "stderr",
     "output_type": "stream",
     "text": [
      "Epoch 12/50 [Train]: 100%|██████████| 352/352 [00:27<00:00, 12.71it/s, loss=0.827, acc=70.6]\n",
      "Epoch 12/50 [Val]: 100%|██████████| 40/40 [00:01<00:00, 25.96it/s, loss=0.826, acc=70.9]\n"
     ]
    },
    {
     "name": "stdout",
     "output_type": "stream",
     "text": [
      "Epoch 12/50:\n",
      "Train Loss: 0.8265 | Train Acc: 70.56%\n",
      "Val Loss: 0.8256 | Val Acc: 70.94%\n",
      "Validation accuracy improved from 69.22% to 70.94%, saving model...\n"
     ]
    },
    {
     "name": "stderr",
     "output_type": "stream",
     "text": [
      "Epoch 13/50 [Train]: 100%|██████████| 352/352 [00:27<00:00, 12.77it/s, loss=0.803, acc=71.3]\n",
      "Epoch 13/50 [Val]: 100%|██████████| 40/40 [00:01<00:00, 24.89it/s, loss=0.785, acc=72]\n"
     ]
    },
    {
     "name": "stdout",
     "output_type": "stream",
     "text": [
      "Epoch 13/50:\n",
      "Train Loss: 0.8027 | Train Acc: 71.34%\n",
      "Val Loss: 0.7848 | Val Acc: 72.02%\n",
      "Validation accuracy improved from 70.94% to 72.02%, saving model...\n"
     ]
    },
    {
     "name": "stderr",
     "output_type": "stream",
     "text": [
      "Epoch 14/50 [Train]: 100%|██████████| 352/352 [00:27<00:00, 12.70it/s, loss=0.77, acc=72.8]\n",
      "Epoch 14/50 [Val]: 100%|██████████| 40/40 [00:01<00:00, 26.57it/s, loss=0.806, acc=71.9]\n"
     ]
    },
    {
     "name": "stdout",
     "output_type": "stream",
     "text": [
      "Epoch 14/50:\n",
      "Train Loss: 0.7702 | Train Acc: 72.81%\n",
      "Val Loss: 0.8060 | Val Acc: 71.94%\n"
     ]
    },
    {
     "name": "stderr",
     "output_type": "stream",
     "text": [
      "Epoch 15/50 [Train]: 100%|██████████| 352/352 [00:27<00:00, 12.74it/s, loss=0.743, acc=73.7]\n",
      "Epoch 15/50 [Val]: 100%|██████████| 40/40 [00:01<00:00, 27.43it/s, loss=0.807, acc=71.5]\n"
     ]
    },
    {
     "name": "stdout",
     "output_type": "stream",
     "text": [
      "Epoch 15/50:\n",
      "Train Loss: 0.7428 | Train Acc: 73.75%\n",
      "Val Loss: 0.8075 | Val Acc: 71.48%\n"
     ]
    },
    {
     "name": "stderr",
     "output_type": "stream",
     "text": [
      "Epoch 16/50 [Train]: 100%|██████████| 352/352 [00:27<00:00, 12.76it/s, loss=0.715, acc=74.6]\n",
      "Epoch 16/50 [Val]: 100%|██████████| 40/40 [00:01<00:00, 25.48it/s, loss=0.755, acc=73.4]\n"
     ]
    },
    {
     "name": "stdout",
     "output_type": "stream",
     "text": [
      "Epoch 16/50:\n",
      "Train Loss: 0.7154 | Train Acc: 74.64%\n",
      "Val Loss: 0.7548 | Val Acc: 73.36%\n",
      "Validation accuracy improved from 72.02% to 73.36%, saving model...\n"
     ]
    },
    {
     "name": "stderr",
     "output_type": "stream",
     "text": [
      "Epoch 17/50 [Train]: 100%|██████████| 352/352 [00:27<00:00, 12.67it/s, loss=0.694, acc=75.2]\n",
      "Epoch 17/50 [Val]: 100%|██████████| 40/40 [00:01<00:00, 26.80it/s, loss=0.749, acc=73.9]\n"
     ]
    },
    {
     "name": "stdout",
     "output_type": "stream",
     "text": [
      "Epoch 17/50:\n",
      "Train Loss: 0.6942 | Train Acc: 75.20%\n",
      "Val Loss: 0.7486 | Val Acc: 73.92%\n",
      "Validation accuracy improved from 73.36% to 73.92%, saving model...\n"
     ]
    },
    {
     "name": "stderr",
     "output_type": "stream",
     "text": [
      "Epoch 18/50 [Train]: 100%|██████████| 352/352 [00:27<00:00, 12.76it/s, loss=0.661, acc=76.5]\n",
      "Epoch 18/50 [Val]: 100%|██████████| 40/40 [00:01<00:00, 23.72it/s, loss=0.724, acc=74.2]\n"
     ]
    },
    {
     "name": "stdout",
     "output_type": "stream",
     "text": [
      "Epoch 18/50:\n",
      "Train Loss: 0.6611 | Train Acc: 76.47%\n",
      "Val Loss: 0.7239 | Val Acc: 74.20%\n",
      "Validation accuracy improved from 73.92% to 74.20%, saving model...\n"
     ]
    },
    {
     "name": "stderr",
     "output_type": "stream",
     "text": [
      "Epoch 19/50 [Train]: 100%|██████████| 352/352 [00:27<00:00, 12.72it/s, loss=0.649, acc=77.1]\n",
      "Epoch 19/50 [Val]: 100%|██████████| 40/40 [00:01<00:00, 26.87it/s, loss=0.692, acc=75.8]\n"
     ]
    },
    {
     "name": "stdout",
     "output_type": "stream",
     "text": [
      "Epoch 19/50:\n",
      "Train Loss: 0.6487 | Train Acc: 77.11%\n",
      "Val Loss: 0.6919 | Val Acc: 75.82%\n",
      "Validation accuracy improved from 74.20% to 75.82%, saving model...\n"
     ]
    },
    {
     "name": "stderr",
     "output_type": "stream",
     "text": [
      "Epoch 20/50 [Train]: 100%|██████████| 352/352 [00:27<00:00, 12.76it/s, loss=0.626, acc=77.7]\n",
      "Epoch 20/50 [Val]: 100%|██████████| 40/40 [00:01<00:00, 27.51it/s, loss=0.691, acc=75.8]\n"
     ]
    },
    {
     "name": "stdout",
     "output_type": "stream",
     "text": [
      "Epoch 20/50:\n",
      "Train Loss: 0.6257 | Train Acc: 77.74%\n",
      "Val Loss: 0.6905 | Val Acc: 75.76%\n"
     ]
    },
    {
     "name": "stderr",
     "output_type": "stream",
     "text": [
      "Epoch 21/50 [Train]: 100%|██████████| 352/352 [00:27<00:00, 12.77it/s, loss=0.605, acc=78.5]\n",
      "Epoch 21/50 [Val]: 100%|██████████| 40/40 [00:01<00:00, 24.62it/s, loss=0.67, acc=76.1]\n"
     ]
    },
    {
     "name": "stdout",
     "output_type": "stream",
     "text": [
      "Epoch 21/50:\n",
      "Train Loss: 0.6045 | Train Acc: 78.48%\n",
      "Val Loss: 0.6704 | Val Acc: 76.08%\n",
      "Validation accuracy improved from 75.82% to 76.08%, saving model...\n"
     ]
    },
    {
     "name": "stderr",
     "output_type": "stream",
     "text": [
      "Epoch 22/50 [Train]: 100%|██████████| 352/352 [00:27<00:00, 12.86it/s, loss=0.578, acc=79.4]\n",
      "Epoch 22/50 [Val]: 100%|██████████| 40/40 [00:01<00:00, 32.91it/s, loss=0.691, acc=75.4]\n"
     ]
    },
    {
     "name": "stdout",
     "output_type": "stream",
     "text": [
      "Epoch 22/50:\n",
      "Train Loss: 0.5784 | Train Acc: 79.39%\n",
      "Val Loss: 0.6914 | Val Acc: 75.44%\n"
     ]
    },
    {
     "name": "stderr",
     "output_type": "stream",
     "text": [
      "Epoch 23/50 [Train]: 100%|██████████| 352/352 [00:27<00:00, 12.86it/s, loss=0.56, acc=80.1]\n",
      "Epoch 23/50 [Val]: 100%|██████████| 40/40 [00:01<00:00, 32.24it/s, loss=0.666, acc=78]\n"
     ]
    },
    {
     "name": "stdout",
     "output_type": "stream",
     "text": [
      "Epoch 23/50:\n",
      "Train Loss: 0.5604 | Train Acc: 80.11%\n",
      "Val Loss: 0.6659 | Val Acc: 78.02%\n",
      "Validation accuracy improved from 76.08% to 78.02%, saving model...\n"
     ]
    },
    {
     "name": "stderr",
     "output_type": "stream",
     "text": [
      "Epoch 24/50 [Train]: 100%|██████████| 352/352 [00:27<00:00, 12.85it/s, loss=0.538, acc=80.8]\n",
      "Epoch 24/50 [Val]: 100%|██████████| 40/40 [00:01<00:00, 32.15it/s, loss=0.664, acc=76.9]\n"
     ]
    },
    {
     "name": "stdout",
     "output_type": "stream",
     "text": [
      "Epoch 24/50:\n",
      "Train Loss: 0.5379 | Train Acc: 80.80%\n",
      "Val Loss: 0.6637 | Val Acc: 76.92%\n"
     ]
    },
    {
     "name": "stderr",
     "output_type": "stream",
     "text": [
      "Epoch 25/50 [Train]: 100%|██████████| 352/352 [00:27<00:00, 12.82it/s, loss=0.52, acc=81.6]\n",
      "Epoch 25/50 [Val]: 100%|██████████| 40/40 [00:01<00:00, 31.19it/s, loss=0.673, acc=77.1]\n"
     ]
    },
    {
     "name": "stdout",
     "output_type": "stream",
     "text": [
      "Epoch 25/50:\n",
      "Train Loss: 0.5202 | Train Acc: 81.58%\n",
      "Val Loss: 0.6729 | Val Acc: 77.08%\n"
     ]
    },
    {
     "name": "stderr",
     "output_type": "stream",
     "text": [
      "Epoch 26/50 [Train]: 100%|██████████| 352/352 [00:27<00:00, 12.83it/s, loss=0.495, acc=82.5]\n",
      "Epoch 26/50 [Val]: 100%|██████████| 40/40 [00:01<00:00, 32.21it/s, loss=0.645, acc=77.9]\n"
     ]
    },
    {
     "name": "stdout",
     "output_type": "stream",
     "text": [
      "Epoch 26/50:\n",
      "Train Loss: 0.4945 | Train Acc: 82.50%\n",
      "Val Loss: 0.6451 | Val Acc: 77.88%\n"
     ]
    },
    {
     "name": "stderr",
     "output_type": "stream",
     "text": [
      "Epoch 27/50 [Train]: 100%|██████████| 352/352 [00:27<00:00, 12.86it/s, loss=0.48, acc=83]\n",
      "Epoch 27/50 [Val]: 100%|██████████| 40/40 [00:01<00:00, 30.24it/s, loss=0.649, acc=78]\n"
     ]
    },
    {
     "name": "stdout",
     "output_type": "stream",
     "text": [
      "Epoch 27/50:\n",
      "Train Loss: 0.4795 | Train Acc: 82.97%\n",
      "Val Loss: 0.6489 | Val Acc: 78.02%\n"
     ]
    },
    {
     "name": "stderr",
     "output_type": "stream",
     "text": [
      "Epoch 28/50 [Train]: 100%|██████████| 352/352 [00:27<00:00, 12.85it/s, loss=0.46, acc=83.5]\n",
      "Epoch 28/50 [Val]: 100%|██████████| 40/40 [00:01<00:00, 27.82it/s, loss=0.657, acc=77.7]\n"
     ]
    },
    {
     "name": "stdout",
     "output_type": "stream",
     "text": [
      "Epoch 28/50:\n",
      "Train Loss: 0.4602 | Train Acc: 83.50%\n",
      "Val Loss: 0.6569 | Val Acc: 77.70%\n"
     ]
    },
    {
     "name": "stderr",
     "output_type": "stream",
     "text": [
      "Epoch 29/50 [Train]: 100%|██████████| 352/352 [00:27<00:00, 12.88it/s, loss=0.439, acc=84.5]\n",
      "Epoch 29/50 [Val]: 100%|██████████| 40/40 [00:01<00:00, 31.52it/s, loss=0.632, acc=79.1]\n"
     ]
    },
    {
     "name": "stdout",
     "output_type": "stream",
     "text": [
      "Epoch 29/50:\n",
      "Train Loss: 0.4386 | Train Acc: 84.48%\n",
      "Val Loss: 0.6315 | Val Acc: 79.10%\n",
      "Validation accuracy improved from 78.02% to 79.10%, saving model...\n"
     ]
    },
    {
     "name": "stderr",
     "output_type": "stream",
     "text": [
      "Epoch 30/50 [Train]: 100%|██████████| 352/352 [00:27<00:00, 12.87it/s, loss=0.42, acc=84.9]\n",
      "Epoch 30/50 [Val]: 100%|██████████| 40/40 [00:01<00:00, 32.84it/s, loss=0.654, acc=78.9]\n"
     ]
    },
    {
     "name": "stdout",
     "output_type": "stream",
     "text": [
      "Epoch 30/50:\n",
      "Train Loss: 0.4201 | Train Acc: 84.86%\n",
      "Val Loss: 0.6539 | Val Acc: 78.88%\n"
     ]
    },
    {
     "name": "stderr",
     "output_type": "stream",
     "text": [
      "Epoch 31/50 [Train]: 100%|██████████| 352/352 [00:27<00:00, 12.87it/s, loss=0.409, acc=85.4]\n",
      "Epoch 31/50 [Val]: 100%|██████████| 40/40 [00:01<00:00, 31.69it/s, loss=0.656, acc=78.5]\n"
     ]
    },
    {
     "name": "stdout",
     "output_type": "stream",
     "text": [
      "Epoch 31/50:\n",
      "Train Loss: 0.4095 | Train Acc: 85.40%\n",
      "Val Loss: 0.6555 | Val Acc: 78.54%\n"
     ]
    },
    {
     "name": "stderr",
     "output_type": "stream",
     "text": [
      "Epoch 32/50 [Train]: 100%|██████████| 352/352 [00:27<00:00, 12.85it/s, loss=0.393, acc=86]\n",
      "Epoch 32/50 [Val]: 100%|██████████| 40/40 [00:01<00:00, 33.96it/s, loss=0.657, acc=78.3]\n"
     ]
    },
    {
     "name": "stdout",
     "output_type": "stream",
     "text": [
      "Epoch 32/50:\n",
      "Train Loss: 0.3935 | Train Acc: 86.01%\n",
      "Val Loss: 0.6567 | Val Acc: 78.26%\n"
     ]
    },
    {
     "name": "stderr",
     "output_type": "stream",
     "text": [
      "Epoch 33/50 [Train]: 100%|██████████| 352/352 [00:27<00:00, 12.87it/s, loss=0.372, acc=87]\n",
      "Epoch 33/50 [Val]: 100%|██████████| 40/40 [00:01<00:00, 32.53it/s, loss=0.666, acc=78.7]\n"
     ]
    },
    {
     "name": "stdout",
     "output_type": "stream",
     "text": [
      "Epoch 33/50:\n",
      "Train Loss: 0.3716 | Train Acc: 86.97%\n",
      "Val Loss: 0.6661 | Val Acc: 78.66%\n"
     ]
    },
    {
     "name": "stderr",
     "output_type": "stream",
     "text": [
      "Epoch 34/50 [Train]: 100%|██████████| 352/352 [00:27<00:00, 12.86it/s, loss=0.358, acc=87.2]\n",
      "Epoch 34/50 [Val]: 100%|██████████| 40/40 [00:01<00:00, 31.31it/s, loss=0.625, acc=80.2]\n"
     ]
    },
    {
     "name": "stdout",
     "output_type": "stream",
     "text": [
      "Epoch 34/50:\n",
      "Train Loss: 0.3579 | Train Acc: 87.20%\n",
      "Val Loss: 0.6254 | Val Acc: 80.16%\n",
      "Validation accuracy improved from 79.10% to 80.16%, saving model...\n"
     ]
    },
    {
     "name": "stderr",
     "output_type": "stream",
     "text": [
      "Epoch 35/50 [Train]: 100%|██████████| 352/352 [00:27<00:00, 12.86it/s, loss=0.344, acc=87.7]\n",
      "Epoch 35/50 [Val]: 100%|██████████| 40/40 [00:01<00:00, 33.67it/s, loss=0.642, acc=79.5]\n"
     ]
    },
    {
     "name": "stdout",
     "output_type": "stream",
     "text": [
      "Epoch 35/50:\n",
      "Train Loss: 0.3437 | Train Acc: 87.66%\n",
      "Val Loss: 0.6420 | Val Acc: 79.46%\n"
     ]
    },
    {
     "name": "stderr",
     "output_type": "stream",
     "text": [
      "Epoch 36/50 [Train]: 100%|██████████| 352/352 [00:27<00:00, 12.87it/s, loss=0.334, acc=88]\n",
      "Epoch 36/50 [Val]: 100%|██████████| 40/40 [00:01<00:00, 30.95it/s, loss=0.663, acc=79.5]\n"
     ]
    },
    {
     "name": "stdout",
     "output_type": "stream",
     "text": [
      "Epoch 36/50:\n",
      "Train Loss: 0.3342 | Train Acc: 88.04%\n",
      "Val Loss: 0.6630 | Val Acc: 79.50%\n"
     ]
    },
    {
     "name": "stderr",
     "output_type": "stream",
     "text": [
      "Epoch 37/50 [Train]: 100%|██████████| 352/352 [00:27<00:00, 12.86it/s, loss=0.321, acc=88.4]\n",
      "Epoch 37/50 [Val]: 100%|██████████| 40/40 [00:01<00:00, 29.43it/s, loss=0.669, acc=79.5]\n"
     ]
    },
    {
     "name": "stdout",
     "output_type": "stream",
     "text": [
      "Epoch 37/50:\n",
      "Train Loss: 0.3206 | Train Acc: 88.42%\n",
      "Val Loss: 0.6689 | Val Acc: 79.52%\n"
     ]
    },
    {
     "name": "stderr",
     "output_type": "stream",
     "text": [
      "Epoch 38/50 [Train]: 100%|██████████| 352/352 [00:27<00:00, 12.86it/s, loss=0.308, acc=89]\n",
      "Epoch 38/50 [Val]: 100%|██████████| 40/40 [00:01<00:00, 31.49it/s, loss=0.67, acc=79.1]\n"
     ]
    },
    {
     "name": "stdout",
     "output_type": "stream",
     "text": [
      "Epoch 38/50:\n",
      "Train Loss: 0.3078 | Train Acc: 88.98%\n",
      "Val Loss: 0.6703 | Val Acc: 79.14%\n"
     ]
    },
    {
     "name": "stderr",
     "output_type": "stream",
     "text": [
      "Epoch 39/50 [Train]: 100%|██████████| 352/352 [00:27<00:00, 12.87it/s, loss=0.297, acc=89.4]\n",
      "Epoch 39/50 [Val]: 100%|██████████| 40/40 [00:01<00:00, 30.41it/s, loss=0.662, acc=80]\n"
     ]
    },
    {
     "name": "stdout",
     "output_type": "stream",
     "text": [
      "Epoch 39/50:\n",
      "Train Loss: 0.2972 | Train Acc: 89.40%\n",
      "Val Loss: 0.6625 | Val Acc: 80.00%\n"
     ]
    },
    {
     "name": "stderr",
     "output_type": "stream",
     "text": [
      "Epoch 40/50 [Train]: 100%|██████████| 352/352 [00:27<00:00, 12.86it/s, loss=0.286, acc=89.8]\n",
      "Epoch 40/50 [Val]: 100%|██████████| 40/40 [00:01<00:00, 30.43it/s, loss=0.649, acc=80]\n"
     ]
    },
    {
     "name": "stdout",
     "output_type": "stream",
     "text": [
      "Epoch 40/50:\n",
      "Train Loss: 0.2855 | Train Acc: 89.84%\n",
      "Val Loss: 0.6486 | Val Acc: 80.04%\n"
     ]
    },
    {
     "name": "stderr",
     "output_type": "stream",
     "text": [
      "Epoch 41/50 [Train]: 100%|██████████| 352/352 [00:27<00:00, 12.85it/s, loss=0.28, acc=89.9]\n",
      "Epoch 41/50 [Val]: 100%|██████████| 40/40 [00:01<00:00, 32.14it/s, loss=0.658, acc=79.8]\n"
     ]
    },
    {
     "name": "stdout",
     "output_type": "stream",
     "text": [
      "Epoch 41/50:\n",
      "Train Loss: 0.2803 | Train Acc: 89.91%\n",
      "Val Loss: 0.6577 | Val Acc: 79.84%\n"
     ]
    },
    {
     "name": "stderr",
     "output_type": "stream",
     "text": [
      "Epoch 42/50 [Train]: 100%|██████████| 352/352 [00:27<00:00, 12.87it/s, loss=0.274, acc=90.1]\n",
      "Epoch 42/50 [Val]: 100%|██████████| 40/40 [00:01<00:00, 32.11it/s, loss=0.655, acc=80.6]\n"
     ]
    },
    {
     "name": "stdout",
     "output_type": "stream",
     "text": [
      "Epoch 42/50:\n",
      "Train Loss: 0.2742 | Train Acc: 90.11%\n",
      "Val Loss: 0.6551 | Val Acc: 80.58%\n",
      "Validation accuracy improved from 80.16% to 80.58%, saving model...\n"
     ]
    },
    {
     "name": "stderr",
     "output_type": "stream",
     "text": [
      "Epoch 43/50 [Train]: 100%|██████████| 352/352 [00:27<00:00, 12.85it/s, loss=0.266, acc=90.5]\n",
      "Epoch 43/50 [Val]: 100%|██████████| 40/40 [00:01<00:00, 30.71it/s, loss=0.64, acc=80.7]\n"
     ]
    },
    {
     "name": "stdout",
     "output_type": "stream",
     "text": [
      "Epoch 43/50:\n",
      "Train Loss: 0.2658 | Train Acc: 90.48%\n",
      "Val Loss: 0.6396 | Val Acc: 80.66%\n",
      "Validation accuracy improved from 80.58% to 80.66%, saving model...\n"
     ]
    },
    {
     "name": "stderr",
     "output_type": "stream",
     "text": [
      "Epoch 44/50 [Train]: 100%|██████████| 352/352 [00:27<00:00, 12.85it/s, loss=0.257, acc=90.8]\n",
      "Epoch 44/50 [Val]: 100%|██████████| 40/40 [00:01<00:00, 30.64it/s, loss=0.654, acc=80.2]\n"
     ]
    },
    {
     "name": "stdout",
     "output_type": "stream",
     "text": [
      "Epoch 44/50:\n",
      "Train Loss: 0.2571 | Train Acc: 90.82%\n",
      "Val Loss: 0.6537 | Val Acc: 80.20%\n"
     ]
    },
    {
     "name": "stderr",
     "output_type": "stream",
     "text": [
      "Epoch 45/50 [Train]: 100%|██████████| 352/352 [00:27<00:00, 12.86it/s, loss=0.254, acc=90.9]\n",
      "Epoch 45/50 [Val]: 100%|██████████| 40/40 [00:01<00:00, 33.40it/s, loss=0.666, acc=80.2]\n"
     ]
    },
    {
     "name": "stdout",
     "output_type": "stream",
     "text": [
      "Epoch 45/50:\n",
      "Train Loss: 0.2541 | Train Acc: 90.88%\n",
      "Val Loss: 0.6662 | Val Acc: 80.20%\n"
     ]
    },
    {
     "name": "stderr",
     "output_type": "stream",
     "text": [
      "Epoch 46/50 [Train]: 100%|██████████| 352/352 [00:27<00:00, 12.86it/s, loss=0.25, acc=91]\n",
      "Epoch 46/50 [Val]: 100%|██████████| 40/40 [00:01<00:00, 31.47it/s, loss=0.654, acc=79.5]\n"
     ]
    },
    {
     "name": "stdout",
     "output_type": "stream",
     "text": [
      "Epoch 46/50:\n",
      "Train Loss: 0.2495 | Train Acc: 91.03%\n",
      "Val Loss: 0.6541 | Val Acc: 79.48%\n"
     ]
    },
    {
     "name": "stderr",
     "output_type": "stream",
     "text": [
      "Epoch 47/50 [Train]: 100%|██████████| 352/352 [00:27<00:00, 12.86it/s, loss=0.246, acc=91.2]\n",
      "Epoch 47/50 [Val]: 100%|██████████| 40/40 [00:01<00:00, 28.68it/s, loss=0.671, acc=80]\n"
     ]
    },
    {
     "name": "stdout",
     "output_type": "stream",
     "text": [
      "Epoch 47/50:\n",
      "Train Loss: 0.2460 | Train Acc: 91.15%\n",
      "Val Loss: 0.6709 | Val Acc: 80.02%\n"
     ]
    },
    {
     "name": "stderr",
     "output_type": "stream",
     "text": [
      "Epoch 48/50 [Train]: 100%|██████████| 352/352 [00:27<00:00, 12.88it/s, loss=0.248, acc=91.1]\n",
      "Epoch 48/50 [Val]: 100%|██████████| 40/40 [00:01<00:00, 30.52it/s, loss=0.657, acc=80.5]\n"
     ]
    },
    {
     "name": "stdout",
     "output_type": "stream",
     "text": [
      "Epoch 48/50:\n",
      "Train Loss: 0.2485 | Train Acc: 91.12%\n",
      "Val Loss: 0.6570 | Val Acc: 80.48%\n"
     ]
    },
    {
     "name": "stderr",
     "output_type": "stream",
     "text": [
      "Epoch 49/50 [Train]: 100%|██████████| 352/352 [00:27<00:00, 12.82it/s, loss=0.241, acc=91.4]\n",
      "Epoch 49/50 [Val]: 100%|██████████| 40/40 [00:01<00:00, 30.67it/s, loss=0.681, acc=80.2]\n"
     ]
    },
    {
     "name": "stdout",
     "output_type": "stream",
     "text": [
      "Epoch 49/50:\n",
      "Train Loss: 0.2413 | Train Acc: 91.36%\n",
      "Val Loss: 0.6805 | Val Acc: 80.20%\n"
     ]
    },
    {
     "name": "stderr",
     "output_type": "stream",
     "text": [
      "Epoch 50/50 [Train]: 100%|██████████| 352/352 [00:27<00:00, 12.82it/s, loss=0.243, acc=91.3]\n",
      "Epoch 50/50 [Val]: 100%|██████████| 40/40 [00:01<00:00, 30.87it/s, loss=0.655, acc=79.9]"
     ]
    },
    {
     "name": "stdout",
     "output_type": "stream",
     "text": [
      "Epoch 50/50:\n",
      "Train Loss: 0.2430 | Train Acc: 91.27%\n",
      "Val Loss: 0.6553 | Val Acc: 79.88%\n",
      "Best validation accuracy: 80.66%\n"
     ]
    },
    {
     "name": "stderr",
     "output_type": "stream",
     "text": [
      "\n"
     ]
    }
   ],
   "source": [
    "\n",
    "\n",
    "\n",
    "print(\"Setting up Vision Transformer for CIFAR-10 classification...\")\n",
    "\n",
    "# Hyperparameters\n",
    "batch_size = 128\n",
    "epochs = 50\n",
    "lr = 3e-4\n",
    "weight_decay = 1e-4\n",
    "\n",
    "# Get data loaders\n",
    "train_loader, val_loader, test_loader = get_data_loaders(batch_size)\n",
    "\n",
    "# Create model\n",
    "model = VisionTransformer(\n",
    "    image_size=32,        # CIFAR-10 images are 32x32\n",
    "    patch_size=4,         # As specified in the task\n",
    "    in_channels=3,        # RGB images\n",
    "    num_classes=10,       # CIFAR-10 has 10 classes\n",
    "    dim_model=192,        # Embedding dimension\n",
    "    num_heads=8,          # Number of heads in multi-head attention\n",
    "    num_encoder_layers=8, # Number of transformer encoder layers\n",
    "    dim_ff=768,           # Feed-forward network dimension\n",
    "    dropout=0.1           # Dropout rate\n",
    ")\n",
    "\n",
    "print(f\"Model created with {sum(p.numel() for p in model.parameters())/1e6:.2f}M parameters\")\n",
    "\n",
    "# Train the model\n",
    "print(\"Starting training...\")\n",
    "train_losses, train_accs, val_losses, val_accs = train_model(\n",
    "    model, train_loader, val_loader, epochs=epochs, lr=lr, weight_decay=weight_decay\n",
    ")\n"
   ]
  },
  {
   "cell_type": "code",
   "execution_count": 3,
   "id": "a3ac20a9",
   "metadata": {
    "execution": {
     "iopub.execute_input": "2025-04-18T19:16:14.063234Z",
     "iopub.status.busy": "2025-04-18T19:16:14.062421Z",
     "iopub.status.idle": "2025-04-18T19:16:16.769615Z",
     "shell.execute_reply": "2025-04-18T19:16:16.768821Z"
    },
    "papermill": {
     "duration": 4.006206,
     "end_time": "2025-04-18T19:16:16.771542",
     "exception": false,
     "start_time": "2025-04-18T19:16:12.765336",
     "status": "completed"
    },
    "tags": []
   },
   "outputs": [
    {
     "name": "stderr",
     "output_type": "stream",
     "text": [
      "/tmp/ipykernel_19/1801380268.py:7: FutureWarning: You are using `torch.load` with `weights_only=False` (the current default value), which uses the default pickle module implicitly. It is possible to construct malicious pickle data which will execute arbitrary code during unpickling (See https://github.com/pytorch/pytorch/blob/main/SECURITY.md#untrusted-models for more details). In a future release, the default value for `weights_only` will be flipped to `True`. This limits the functions that could be executed during unpickling. Arbitrary objects will no longer be allowed to be loaded via this mode unless they are explicitly allowlisted by the user via `torch.serialization.add_safe_globals`. We recommend you start setting `weights_only=True` for any use case where you don't have full control of the loaded file. Please open an issue on GitHub for any issues related to this experimental feature.\n",
      "  best_model.load_state_dict(torch.load('best_vit_model.pth'))\n"
     ]
    },
    {
     "name": "stdout",
     "output_type": "stream",
     "text": [
      "Loading best model for evaluation...\n"
     ]
    },
    {
     "name": "stderr",
     "output_type": "stream",
     "text": [
      "Evaluating on test set: 100%|██████████| 79/79 [00:01<00:00, 40.41it/s]\n"
     ]
    },
    {
     "name": "stdout",
     "output_type": "stream",
     "text": [
      "Test accuracy: 81.22%\n",
      "Plotting metrics...\n"
     ]
    },
    {
     "data": {
      "image/png": "[encoded data removed]",
      "text/plain": [
       "<Figure size 1000x500 with 1 Axes>"
      ]
     },
     "metadata": {},
     "output_type": "display_data"
    },
    {
     "data": {
      "image/png": "[encoded data removed]",
      "text/plain": [
       "<Figure size 1000x500 with 1 Axes>"
      ]
     },
     "metadata": {},
     "output_type": "display_data"
    },
    {
     "name": "stdout",
     "output_type": "stream",
     "text": [
      "All done!\n",
      "Final test accuracy: 81.22%\n"
     ]
    }
   ],
   "source": [
    "\n",
    "# Load best model and evaluate\n",
    "print(\"Loading best model for evaluation...\")\n",
    "best_model = VisionTransformer(\n",
    "    image_size=32, patch_size=4, in_channels=3, num_classes=10,\n",
    "    dim_model=192, num_heads=8, num_encoder_layers=8, dim_ff=768, dropout=0.1\n",
    ")\n",
    "best_model.load_state_dict(torch.load('best_vit_model.pth'))\n",
    "\n",
    "test_acc = evaluate_model(best_model, test_loader)\n",
    "\n",
    "# Plot metrics\n",
    "print(\"Plotting metrics...\")\n",
    "plot_metrics(train_losses, val_losses, train_accs, val_accs)\n",
    "\n",
    "print(\"All done!\")\n",
    "print(f\"Final test accuracy: {test_acc:.2f}%\")\n",
    "\n"
   ]
  }
 ],
 "metadata": {
  "kaggle": {
   "accelerator": "gpu",
   "dataSources": [],
   "dockerImageVersionId": 31011,
   "isGpuEnabled": true,
   "isInternetEnabled": true,
   "language": "python",
   "sourceType": "notebook"
  },
  "kernelspec": {
   "display_name": "Python 3",
   "language": "python",
   "name": "python3"
  },
  "language_info": {
   "codemirror_mode": {
    "name": "ipython",
    "version": 3
   },
   "file_extension": ".py",
   "mimetype": "text/x-python",
   "name": "python",
   "nbconvert_exporter": "python",
   "pygments_lexer": "ipython3",
   "version": "3.11.11"
  },
  "papermill": {
   "default_parameters": {},
   "duration": 1476.515782,
   "end_time": "2025-04-18T19:16:20.905643",
   "environment_variables": {},
   "exception": null,
   "input_path": "__notebook__.ipynb",
   "output_path": "__notebook__.ipynb",
   "parameters": {},
   "start_time": "2025-04-18T18:51:44.389861",
   "version": "2.6.0"
  }
 },
 "nbformat": 4,
 "nbformat_minor": 5
}
