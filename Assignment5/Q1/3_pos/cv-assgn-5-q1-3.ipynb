{
 "cells": [
  {
   "cell_type": "code",
   "execution_count": 1,
   "id": "f104ba59",
   "metadata": {
    "_cell_guid": "b1076dfc-b9ad-4769-8c92-a6c4dae69d19",
    "_uuid": "8f2839f25d086af736a60e9eeb907d3b93b6e0e5",
    "execution": {
     "iopub.execute_input": "2025-04-19T19:25:20.710639Z",
     "iopub.status.busy": "2025-04-19T19:25:20.710437Z",
     "iopub.status.idle": "2025-04-19T19:25:28.908827Z",
     "shell.execute_reply": "2025-04-19T19:25:28.907994Z"
    },
    "papermill": {
     "duration": 8.203271,
     "end_time": "2025-04-19T19:25:28.910313",
     "exception": false,
     "start_time": "2025-04-19T19:25:20.707042",
     "status": "completed"
    },
    "tags": []
   },
   "outputs": [],
   "source": [
    "import torch\n",
    "import torch.nn as nn\n",
    "import torch.nn.functional as F\n",
    "import torch.optim as optim\n",
    "from torch.utils.data import DataLoader\n",
    "import torchvision\n",
    "import torchvision.transforms as transforms\n",
    "import matplotlib.pyplot as plt\n",
    "import numpy as np\n",
    "from tqdm import tqdm\n",
    "import os\n",
    "import math\n",
    "\n",
    "# For reproducibility\n",
    "torch.manual_seed(42)\n",
    "np.random.seed(42)\n",
    "\n",
    "# Base class for positional embeddings\n",
    "class PositionalEmbedding(nn.Module):\n",
    "    def __init__(self, d_model, max_len):\n",
    "        super().__init__()\n",
    "        self.d_model = d_model\n",
    "        self.max_len = max_len\n",
    "        \n",
    "    def forward(self, x):\n",
    "        \"\"\"Add positional embeddings to the input tensor\"\"\"\n",
    "        return x\n",
    "\n",
    "# No positional embedding\n",
    "class NoPositionalEmbedding(PositionalEmbedding):\n",
    "    def __init__(self, d_model, max_len):\n",
    "        super().__init__(d_model, max_len)\n",
    "    \n",
    "    def forward(self, x):\n",
    "        # Return input as is (no positional information)\n",
    "        return x\n",
    "\n",
    "# 1D Learned positional embedding (default)\n",
    "class Learned1DPositionalEmbedding(PositionalEmbedding):\n",
    "    def __init__(self, d_model, max_len):\n",
    "        super().__init__(d_model, max_len)\n",
    "        self.pos_embedding = nn.Parameter(torch.zeros(1, max_len, d_model))\n",
    "        self.init_weights()\n",
    "    \n",
    "    def init_weights(self):\n",
    "        nn.init.normal_(self.pos_embedding, std=0.02)\n",
    "    \n",
    "    def forward(self, x):\n",
    "        # Add learned 1D positional embedding to the input\n",
    "        return x + self.pos_embedding[:, :x.size(1), :]\n",
    "\n",
    "# 2D Learned positional embedding \n",
    "class Learned2DPositionalEmbedding(PositionalEmbedding):\n",
    "    def __init__(self, d_model, max_len, grid_size):\n",
    "        super().__init__(d_model, max_len)\n",
    "        assert d_model % 2 == 0, \"d_model must be even for 2D embeddings\"\n",
    "        self.grid_size = grid_size  # (H, W)\n",
    "        # Create separate embeddings for X and Y dimensions\n",
    "        self.pos_embedding_x = nn.Parameter(torch.zeros(1, grid_size[1], d_model // 2))\n",
    "        self.pos_embedding_y = nn.Parameter(torch.zeros(1, grid_size[0], d_model // 2))\n",
    "        self.cls_token_pos = nn.Parameter(torch.zeros(1, 1, d_model))\n",
    "        self.init_weights()\n",
    "    \n",
    "    def init_weights(self):\n",
    "        nn.init.normal_(self.pos_embedding_x, std=0.02)\n",
    "        nn.init.normal_(self.pos_embedding_y, std=0.02)\n",
    "        nn.init.normal_(self.cls_token_pos, std=0.02)\n",
    "    \n",
    "    def forward(self, x):\n",
    "        # Special handling for cls token\n",
    "        cls_token, patches = x[:, :1, :], x[:, 1:, :]\n",
    "        \n",
    "        # Reshape to [batch_size, H, W, dim]\n",
    "        batch_size = patches.size(0)\n",
    "        patches = patches.view(batch_size, self.grid_size[0], self.grid_size[1], -1)\n",
    "        \n",
    "        # Create 2D positional embeddings by concatenating X and Y embeddings\n",
    "        pos_x = self.pos_embedding_x.expand(batch_size, -1, -1)  # [B, W, D/2]\n",
    "        pos_y = self.pos_embedding_y.expand(batch_size, -1, -1)  # [B, H, D/2]\n",
    "        \n",
    "        # For each position (i,j), concatenate the embeddings\n",
    "        pos_emb = torch.zeros(batch_size, self.grid_size[0], self.grid_size[1], self.d_model, device=x.device)\n",
    "        \n",
    "        for i in range(self.grid_size[0]):  # height\n",
    "            for j in range(self.grid_size[1]):  # width\n",
    "                pos_emb[:, i, j, :] = torch.cat([pos_y[:, i, :], pos_x[:, j, :]], dim=1)\n",
    "        \n",
    "        # Add positional embeddings to patches\n",
    "        patches = patches + pos_emb\n",
    "        \n",
    "        # Reshape back to [batch_size, H*W, dim]\n",
    "        patches = patches.view(batch_size, -1, self.d_model)\n",
    "        \n",
    "        # Add cls token back with its special position embedding\n",
    "        cls_token = cls_token + self.cls_token_pos\n",
    "        return torch.cat([cls_token, patches], dim=1)\n",
    "\n",
    "# Sinusoidal positional embedding from \"Attention Is All You Need\"\n",
    "class SinusoidalPositionalEmbedding(PositionalEmbedding):\n",
    "    def __init__(self, d_model, max_len):\n",
    "        super().__init__(d_model, max_len)\n",
    "        \n",
    "        # Create constant sinusoidal positional embeddings\n",
    "        pe = torch.zeros(max_len, d_model)\n",
    "        position = torch.arange(0, max_len, dtype=torch.float).unsqueeze(1)\n",
    "        div_term = torch.exp(torch.arange(0, d_model, 2).float() * (-math.log(10000.0) / d_model))\n",
    "        \n",
    "        pe[:, 0::2] = torch.sin(position * div_term)\n",
    "        pe[:, 1::2] = torch.cos(position * div_term)\n",
    "        \n",
    "        self.register_buffer('pe', pe.unsqueeze(0))  # [1, max_len, d_model]\n",
    "    \n",
    "    def forward(self, x):\n",
    "        # Add sinusoidal positional embeddings to the input\n",
    "        return x + self.pe[:, :x.size(1), :]\n",
    "\n",
    "class ScaledDotProductAttention(nn.Module):\n",
    "    \"\"\"Scaled Dot-Product Attention as described in the ViT paper\"\"\"\n",
    "    def __init__(self, scale):\n",
    "        super(ScaledDotProductAttention, self).__init__()\n",
    "        self.scale = scale\n",
    "    \n",
    "    def forward(self, q, k, v, mask=None):\n",
    "        # q, k, v shape: [batch_size, head, seq_len, dim]\n",
    "        # Calculate attention scores\n",
    "        attention_scores = torch.matmul(q, k.transpose(-2, -1)) * self.scale\n",
    "        \n",
    "        # Apply mask if provided\n",
    "        if mask is not None:\n",
    "            attention_scores = attention_scores.masked_fill(mask == 0, -1e9)\n",
    "        \n",
    "        # Apply softmax to get attention weights\n",
    "        attention_weights = F.softmax(attention_scores, dim=-1)\n",
    "        \n",
    "        # Apply attention weights to values\n",
    "        output = torch.matmul(attention_weights, v)\n",
    "        \n",
    "        return output, attention_weights\n",
    "\n",
    "class MultiHeadAttention(nn.Module):\n",
    "    \"\"\"Multi-Head Attention as described in the ViT paper\"\"\"\n",
    "    def __init__(self, dim_model, num_heads):\n",
    "        super(MultiHeadAttention, self).__init__()\n",
    "        self.num_heads = num_heads\n",
    "        self.dim_model = dim_model\n",
    "        \n",
    "        assert dim_model % num_heads == 0, \"dim_model must be divisible by num_heads\"\n",
    "        \n",
    "        self.depth = dim_model // num_heads\n",
    "        \n",
    "        # Linear projections\n",
    "        self.wq = nn.Linear(dim_model, dim_model)\n",
    "        self.wk = nn.Linear(dim_model, dim_model)\n",
    "        self.wv = nn.Linear(dim_model, dim_model)\n",
    "        \n",
    "        self.attention = ScaledDotProductAttention(scale=self.depth ** -0.5)\n",
    "        \n",
    "        self.fc_out = nn.Linear(dim_model, dim_model)\n",
    "        \n",
    "    def forward(self, q, k, v, mask=None):\n",
    "        batch_size = q.shape[0]\n",
    "        \n",
    "        # Linear projections and reshape\n",
    "        q = self.wq(q).view(batch_size, -1, self.num_heads, self.depth).transpose(1, 2)\n",
    "        k = self.wk(k).view(batch_size, -1, self.num_heads, self.depth).transpose(1, 2)\n",
    "        v = self.wv(v).view(batch_size, -1, self.num_heads, self.depth).transpose(1, 2)\n",
    "        \n",
    "        # Scaled dot-product attention\n",
    "        output, _ = self.attention(q, k, v, mask)\n",
    "        \n",
    "        # Reshape back and project\n",
    "        output = output.transpose(1, 2).contiguous().view(batch_size, -1, self.dim_model)\n",
    "        output = self.fc_out(output)\n",
    "        \n",
    "        return output\n",
    "\n",
    "class TransformerEncoderLayer(nn.Module):\n",
    "    \"\"\"Transformer Encoder Layer as described in the ViT paper\"\"\"\n",
    "    def __init__(self, dim_model, num_heads, dim_ff, dropout=0.1):\n",
    "        super(TransformerEncoderLayer, self).__init__()\n",
    "        self.norm1 = nn.LayerNorm(dim_model)\n",
    "        self.norm2 = nn.LayerNorm(dim_model)\n",
    "        self.mha = MultiHeadAttention(dim_model, num_heads)\n",
    "        self.ffn = nn.Sequential(\n",
    "            nn.Linear(dim_model, dim_ff),\n",
    "            nn.GELU(),\n",
    "            nn.Dropout(dropout),\n",
    "            nn.Linear(dim_ff, dim_model),\n",
    "            nn.Dropout(dropout)\n",
    "        )\n",
    "        self.dropout = nn.Dropout(dropout)\n",
    "        \n",
    "    def forward(self, x, mask=None):\n",
    "        # Layer norm and multi-head attention (Pre-LN architecture)\n",
    "        attn_output = self.mha(self.norm1(x), self.norm1(x), self.norm1(x), mask)\n",
    "        # Residual connection\n",
    "        x = x + self.dropout(attn_output)\n",
    "        \n",
    "        # Layer norm and feed forward\n",
    "        ff_output = self.ffn(self.norm2(x))\n",
    "        # Residual connection\n",
    "        x = x + ff_output\n",
    "        \n",
    "        return x\n",
    "\n",
    "class VisionTransformer(nn.Module):\n",
    "    \"\"\"Vision Transformer with customizable positional embedding types\"\"\"\n",
    "    def __init__(self, \n",
    "                 image_size=32,        # CIFAR-10 image size\n",
    "                 patch_size=4,         # as specified\n",
    "                 in_channels=3,        # RGB images\n",
    "                 num_classes=10,       # CIFAR-10 has 10 classes\n",
    "                 dim_model=192,        # embedding dimension\n",
    "                 num_heads=8,          # number of heads in multihead attention\n",
    "                 num_encoder_layers=8, # number of transformer encoder layers\n",
    "                 dim_ff=768,           # feed-forward network dimension\n",
    "                 dropout=0.1,\n",
    "                 pos_embedding_type='1d_learned'):  # type of positional embedding\n",
    "        super(VisionTransformer, self).__init__()\n",
    "        \n",
    "        # Image and patch parameters\n",
    "        self.image_size = image_size\n",
    "        self.patch_size = patch_size\n",
    "        self.in_channels = in_channels\n",
    "        \n",
    "        # Calculate the number of patches\n",
    "        assert image_size % patch_size == 0, \"Image size must be divisible by patch size\"\n",
    "        num_patches = (image_size // patch_size) ** 2\n",
    "        patch_dim = in_channels * patch_size * patch_size\n",
    "        \n",
    "        # Grid size (height, width) of patches\n",
    "        grid_size = (image_size // patch_size, image_size // patch_size)\n",
    "        \n",
    "        # Linear projection of flattened patches\n",
    "        self.patch_embedding = nn.Linear(patch_dim, dim_model)\n",
    "        \n",
    "        # Class token\n",
    "        self.cls_token = nn.Parameter(torch.zeros(1, 1, dim_model))\n",
    "        \n",
    "        # Positional embedding based on type\n",
    "        if pos_embedding_type == 'none':\n",
    "            self.pos_embedding = NoPositionalEmbedding(dim_model, num_patches + 1)\n",
    "        elif pos_embedding_type == '1d_learned':\n",
    "            self.pos_embedding = Learned1DPositionalEmbedding(dim_model, num_patches + 1)\n",
    "        elif pos_embedding_type == '2d_learned':\n",
    "            self.pos_embedding = Learned2DPositionalEmbedding(dim_model, num_patches + 1, grid_size)\n",
    "        elif pos_embedding_type == 'sinusoidal':\n",
    "            self.pos_embedding = SinusoidalPositionalEmbedding(dim_model, num_patches + 1)\n",
    "        else:\n",
    "            raise ValueError(f\"Unknown positional embedding type: {pos_embedding_type}\")\n",
    "        \n",
    "        # Dropout after position embedding\n",
    "        self.dropout = nn.Dropout(dropout)\n",
    "        \n",
    "        # Transformer encoder\n",
    "        self.encoder_layers = nn.ModuleList([\n",
    "            TransformerEncoderLayer(dim_model, num_heads, dim_ff, dropout)\n",
    "            for _ in range(num_encoder_layers)\n",
    "        ])\n",
    "        \n",
    "        # Layer normalization\n",
    "        self.ln = nn.LayerNorm(dim_model)\n",
    "        \n",
    "        # MLP Head for classification\n",
    "        self.mlp_head = nn.Linear(dim_model, num_classes)\n",
    "        \n",
    "        # Initialize weights\n",
    "        self.init_weights()\n",
    "        \n",
    "    def init_weights(self):\n",
    "        # Initialize patch embedding like a linear layer\n",
    "        nn.init.xavier_uniform_(self.patch_embedding.weight)\n",
    "        nn.init.zeros_(self.patch_embedding.bias)\n",
    "        \n",
    "        # Initialize cls token\n",
    "        nn.init.xavier_normal_(self.cls_token)\n",
    "        \n",
    "    def forward(self, x):\n",
    "        # x shape: [batch_size, channels, height, width]\n",
    "        batch_size = x.shape[0]\n",
    "        \n",
    "        # Extract patches: [B, C, H, W] -> [B, num_patches, C*P*P]\n",
    "        # Where P is the patch size\n",
    "        x = x.unfold(2, self.patch_size, self.patch_size).unfold(3, self.patch_size, self.patch_size)\n",
    "        x = x.contiguous().view(batch_size, self.in_channels, -1, self.patch_size * self.patch_size)\n",
    "        x = x.permute(0, 2, 1, 3).contiguous().view(batch_size, -1, self.in_channels * self.patch_size * self.patch_size)\n",
    "        \n",
    "        # Linear embedding of patches\n",
    "        x = self.patch_embedding(x)  # [B, num_patches, dim_model]\n",
    "        \n",
    "        # Add class token\n",
    "        cls_tokens = self.cls_token.expand(batch_size, -1, -1)  # [B, 1, dim_model]\n",
    "        x = torch.cat((cls_tokens, x), dim=1)  # [B, 1+num_patches, dim_model]\n",
    "        \n",
    "        # Add positional embedding\n",
    "        x = self.pos_embedding(x)\n",
    "        x = self.dropout(x)\n",
    "        \n",
    "        # Apply transformer encoder layers\n",
    "        for layer in self.encoder_layers:\n",
    "            x = layer(x)\n",
    "        \n",
    "        # Apply layer normalization\n",
    "        x = self.ln(x)\n",
    "        \n",
    "        # Take the cls token representation\n",
    "        x = x[:, 0]  # [B, dim_model]\n",
    "        \n",
    "        # Classification head\n",
    "        x = self.mlp_head(x)  # [B, num_classes]\n",
    "        \n",
    "        return x\n",
    "from torchvision.transforms import RandAugment\n",
    "\n",
    "def get_data_loaders(batch_size=128):\n",
    "    \"\"\"Create CIFAR-10 dataloaders\"\"\"\n",
    "    transform_train = transforms.Compose([\n",
    "        transforms.RandomCrop(32, padding=4),\n",
    "        transforms.RandomHorizontalFlip(),\n",
    "        RandAugment(num_ops=2, magnitude=9),\n",
    "        transforms.ToTensor(),\n",
    "        transforms.Normalize((0.4914, 0.4822, 0.4465), (0.2470, 0.2435, 0.2616)),\n",
    "    ])\n",
    "    \n",
    "    transform_test = transforms.Compose([\n",
    "        transforms.ToTensor(),\n",
    "        transforms.Normalize((0.4914, 0.4822, 0.4465), (0.2470, 0.2435, 0.2616)),\n",
    "    ])\n",
    "\n",
    "    trainset = torchvision.datasets.CIFAR10(\n",
    "        root='./data', train=True, download=True, transform=transform_train)\n",
    "    trainloader = DataLoader(\n",
    "        trainset, batch_size=batch_size, shuffle=True, num_workers=2)\n",
    "\n",
    "    testset = torchvision.datasets.CIFAR10(\n",
    "        root='./data', train=False, download=True, transform=transform_test)\n",
    "    testloader = DataLoader(\n",
    "        testset, batch_size=batch_size, shuffle=False, num_workers=2)\n",
    "    \n",
    "    # Create a validation set\n",
    "    val_size = 5000\n",
    "    train_size = len(trainset) - val_size\n",
    "    \n",
    "    train_subset, val_subset = torch.utils.data.random_split(\n",
    "        trainset, [train_size, val_size], \n",
    "        generator=torch.Generator().manual_seed(42))\n",
    "    \n",
    "    valloader = DataLoader(\n",
    "        val_subset, batch_size=batch_size, shuffle=False, num_workers=2)\n",
    "    \n",
    "    train_subset_loader = DataLoader(\n",
    "        train_subset, batch_size=batch_size, shuffle=True, num_workers=2)\n",
    "    \n",
    "    return train_subset_loader, valloader, testloader\n",
    "\n",
    "def train_model(model, train_loader, val_loader, epochs=30, lr=3e-4, weight_decay=1e-4, model_save_path='best_vit_model.pth'):\n",
    "    \"\"\"Train the Vision Transformer model\"\"\"\n",
    "    device = torch.device(\"cuda\" if torch.cuda.is_available() else \"cpu\")\n",
    "    print(f\"Using device: {device}\")\n",
    "    \n",
    "    model = model.to(device)\n",
    "    criterion = nn.CrossEntropyLoss()\n",
    "    optimizer = optim.AdamW(model.parameters(), lr=lr, weight_decay=weight_decay)\n",
    "    scheduler = optim.lr_scheduler.CosineAnnealingLR(optimizer, T_max=epochs)\n",
    "    \n",
    "    # For tracking metrics\n",
    "    train_losses = []\n",
    "    train_accs = []\n",
    "    val_losses = []\n",
    "    val_accs = []\n",
    "    \n",
    "    # For saving the best model\n",
    "    best_val_acc = 0\n",
    "    best_model_path = model_save_path\n",
    "    \n",
    "    for epoch in range(epochs):\n",
    "        # Training\n",
    "        model.train()\n",
    "        train_loss = 0\n",
    "        correct = 0\n",
    "        total = 0\n",
    "        \n",
    "        pbar = tqdm(train_loader, desc=f'Epoch {epoch+1}/{epochs} [Train]')\n",
    "        for batch_idx, (inputs, targets) in enumerate(pbar):\n",
    "            inputs, targets = inputs.to(device), targets.to(device)\n",
    "            \n",
    "            optimizer.zero_grad()\n",
    "            outputs = model(inputs)\n",
    "            loss = criterion(outputs, targets)\n",
    "            loss.backward()\n",
    "            optimizer.step()\n",
    "            \n",
    "            train_loss += loss.item()\n",
    "            _, predicted = outputs.max(1)\n",
    "            total += targets.size(0)\n",
    "            correct += predicted.eq(targets).sum().item()\n",
    "            \n",
    "            pbar.set_postfix({\n",
    "                'loss': train_loss/(batch_idx+1), \n",
    "                'acc': 100.*correct/total\n",
    "            })\n",
    "        \n",
    "        train_loss = train_loss / len(train_loader)\n",
    "        train_acc = 100. * correct / total\n",
    "        \n",
    "        train_losses.append(train_loss)\n",
    "        train_accs.append(train_acc)\n",
    "        \n",
    "        # Validation\n",
    "        model.eval()\n",
    "        val_loss = 0\n",
    "        correct = 0\n",
    "        total = 0\n",
    "        \n",
    "        with torch.no_grad():\n",
    "            pbar = tqdm(val_loader, desc=f'Epoch {epoch+1}/{epochs} [Val]')\n",
    "            for batch_idx, (inputs, targets) in enumerate(pbar):\n",
    "                inputs, targets = inputs.to(device), targets.to(device)\n",
    "                \n",
    "                outputs = model(inputs)\n",
    "                loss = criterion(outputs, targets)\n",
    "                \n",
    "                val_loss += loss.item()\n",
    "                _, predicted = outputs.max(1)\n",
    "                total += targets.size(0)\n",
    "                correct += predicted.eq(targets).sum().item()\n",
    "                \n",
    "                pbar.set_postfix({\n",
    "                    'loss': val_loss/(batch_idx+1), \n",
    "                    'acc': 100.*correct/total\n",
    "                })\n",
    "        \n",
    "        val_loss = val_loss / len(val_loader)\n",
    "        val_acc = 100. * correct / total\n",
    "        \n",
    "        val_losses.append(val_loss)\n",
    "        val_accs.append(val_acc)\n",
    "        \n",
    "        # Print stats\n",
    "        print(f'Epoch {epoch+1}/{epochs}:')\n",
    "        print(f'Train Loss: {train_loss:.4f} | Train Acc: {train_acc:.2f}%')\n",
    "        print(f'Val Loss: {val_loss:.4f} | Val Acc: {val_acc:.2f}%')\n",
    "        \n",
    "        # Save the best model\n",
    "        if val_acc > best_val_acc:\n",
    "            print(f'Validation accuracy improved from {best_val_acc:.2f}% to {val_acc:.2f}%, saving model...')\n",
    "            best_val_acc = val_acc\n",
    "            torch.save(model.state_dict(), best_model_path)\n",
    "        \n",
    "        # Update learning rate\n",
    "        scheduler.step()\n",
    "    \n",
    "    print(f'Best validation accuracy: {best_val_acc:.2f}%')\n",
    "    return train_losses, train_accs, val_losses, val_accs\n",
    "\n",
    "def evaluate_model(model, test_loader, model_path=None):\n",
    "    \"\"\"Evaluate the trained model on the test set\"\"\"\n",
    "    device = torch.device(\"cuda\" if torch.cuda.is_available() else \"cpu\")\n",
    "    \n",
    "    if model_path:\n",
    "        model.load_state_dict(torch.load(model_path))\n",
    "    \n",
    "    model = model.to(device)\n",
    "    model.eval()\n",
    "    \n",
    "    correct = 0\n",
    "    total = 0\n",
    "    \n",
    "    with torch.no_grad():\n",
    "        for inputs, targets in tqdm(test_loader, desc='Evaluating on test set'):\n",
    "            inputs, targets = inputs.to(device), targets.to(device)\n",
    "            \n",
    "            outputs = model(inputs)\n",
    "            _, predicted = outputs.max(1)\n",
    "            \n",
    "            total += targets.size(0)\n",
    "            correct += predicted.eq(targets).sum().item()\n",
    "    \n",
    "    test_acc = 100. * correct / total\n",
    "    print(f'Test accuracy: {test_acc:.2f}%')\n",
    "    return test_acc\n",
    "\n",
    "def plot_metrics(train_losses, val_losses, train_accs, val_accs, title_suffix=\"\", filename_prefix=\"vit\"):\n",
    "    \"\"\"Plot loss and accuracy curves separately with custom titles and filenames\"\"\"\n",
    "    # Plot losses\n",
    "    plt.figure(figsize=(10, 5))\n",
    "    plt.plot(train_losses, label='Train Loss')\n",
    "    plt.plot(val_losses, label='Validation Loss')\n",
    "    plt.xlabel('Epoch')\n",
    "    plt.ylabel('Loss')\n",
    "    plt.title(f'Training and Validation Loss {title_suffix}')\n",
    "    plt.legend()\n",
    "    plt.grid(True)\n",
    "    plt.savefig(f'{filename_prefix}_loss_curves.png')\n",
    "    plt.show()\n",
    "    \n",
    "    # Plot accuracies\n",
    "    plt.figure(figsize=(10, 5))\n",
    "    plt.plot(train_accs, label='Train Accuracy')\n",
    "    plt.plot(val_accs, label='Validation Accuracy')\n",
    "    plt.xlabel('Epoch')\n",
    "    plt.ylabel('Accuracy (%)')\n",
    "    plt.title(f'Training and Validation Accuracy {title_suffix}')\n",
    "    plt.legend()\n",
    "    plt.grid(True)\n",
    "    plt.savefig(f'{filename_prefix}_accuracy_curves.png')\n",
    "    plt.show()\n",
    "\n",
    "\n",
    "\n",
    "def compare_positional_embeddings():\n",
    "    \"\"\"Compare different positional embedding types\"\"\"\n",
    "    pos_embedding_types = ['none', '1d_learned', '2d_learned', 'sinusoidal']\n",
    "    results = {}\n",
    "    \n",
    "    # Store training stats for later comparison\n",
    "    all_training_stats = {}\n",
    "    \n",
    "    # Hyperparameters\n",
    "    batch_size = 128\n",
    "    epochs = 50\n",
    "    lr = 3e-4\n",
    "    weight_decay = 1e-4\n",
    "    \n",
    "    # Get data loaders\n",
    "    train_loader, val_loader, test_loader = get_data_loaders(batch_size)\n",
    "    \n",
    "    for pos_type in pos_embedding_types:\n",
    "        print(f\"\\n\\n{'='*50}\")\n",
    "        print(f\"Testing positional embedding type: {pos_type}\")\n",
    "        print(f\"{'='*50}\\n\")\n",
    "        \n",
    "        # Create model with the current positional embedding type\n",
    "        model = VisionTransformer(\n",
    "            image_size=32, patch_size=4, in_channels=3, num_classes=10,\n",
    "            dim_model=192, num_heads=8, num_encoder_layers=8, dim_ff=768, \n",
    "            dropout=0.1, pos_embedding_type=pos_type\n",
    "        )\n",
    "        \n",
    "        model_save_path = f'best_vit_model_{pos_type}.pth'\n",
    "        \n",
    "        # Train model\n",
    "        train_losses, train_accs, val_losses, val_accs = train_model(\n",
    "            model, train_loader, val_loader, epochs=epochs, lr=lr, \n",
    "            weight_decay=weight_decay, model_save_path=model_save_path\n",
    "        )\n",
    "        \n",
    "        # Store training stats for this model\n",
    "        all_training_stats[pos_type] = {\n",
    "            'train_losses': train_losses,\n",
    "            'val_losses': val_losses,\n",
    "            'train_accs': train_accs,\n",
    "            'val_accs': val_accs\n",
    "        }\n",
    "        \n",
    "        # Load best model and evaluate\n",
    "        best_model = VisionTransformer(\n",
    "            image_size=32, patch_size=4, in_channels=3, num_classes=10,\n",
    "            dim_model=192, num_heads=8, num_encoder_layers=8, dim_ff=768, \n",
    "            dropout=0.1, pos_embedding_type=pos_type\n",
    "        )\n",
    "        test_acc = evaluate_model(best_model, test_loader, model_path=model_save_path)\n",
    "        results[pos_type] = test_acc\n",
    "        \n",
    "        # Plot metrics\n",
    "        plot_metrics(\n",
    "            train_losses, val_losses, train_accs, val_accs,\n",
    "            title_suffix=f\" - {pos_type} Positional Embedding\", \n",
    "            filename_prefix=f\"vit_{pos_type}\"\n",
    "        )\n",
    "    \n",
    "    # Print and plot results summary\n",
    "    print(\"\\n\\nPositional Embedding Results Summary:\")\n",
    "    print(\"-\" * 50)\n",
    "    for pos_type, acc in sorted(results.items(), key=lambda x: x[1], reverse=True):\n",
    "        print(f\"{pos_type.ljust(15)}: {acc:.2f}%\")\n",
    "    \n",
    "    # Plot bar chart of results\n",
    "    plt.figure(figsize=(12, 6))\n",
    "    plt.bar(results.keys(), results.values())\n",
    "    plt.xlabel('Positional Embedding Type')\n",
    "    plt.ylabel('Test Accuracy (%)')\n",
    "    plt.title('Effect of Different Positional Embeddings on Test Accuracy')\n",
    "    plt.ylim(bottom=max(0, min(results.values()) - 5))  # Better visualization\n",
    "    plt.savefig('positional_embedding_comparison.png')\n",
    "    plt.show()\n",
    "    \n",
    "    # Plot all loss curves together\n",
    "    plt.figure(figsize=(12, 6))\n",
    "    for pos_type in pos_embedding_types:\n",
    "        # Use the stored training stats directly instead of loading from file\n",
    "        plt.plot(all_training_stats[pos_type]['val_losses'], label=pos_type)\n",
    "    \n",
    "    plt.xlabel('Epoch')\n",
    "    plt.ylabel('Validation Loss')\n",
    "    plt.title('Validation Loss Across Different Positional Embeddings')\n",
    "    plt.legend()\n",
    "    plt.grid(True)\n",
    "    plt.savefig('all_pos_embedding_loss_comparison.png')\n",
    "    plt.show()\n",
    "    \n",
    "    return results\n"
   ]
  },
  {
   "cell_type": "code",
   "execution_count": 2,
   "id": "b006c348",
   "metadata": {
    "execution": {
     "iopub.execute_input": "2025-04-19T19:25:28.914857Z",
     "iopub.status.busy": "2025-04-19T19:25:28.914531Z",
     "iopub.status.idle": "2025-04-19T21:09:42.887487Z",
     "shell.execute_reply": "2025-04-19T21:09:42.886734Z"
    },
    "papermill": {
     "duration": 6253.976399,
     "end_time": "2025-04-19T21:09:42.888699",
     "exception": false,
     "start_time": "2025-04-19T19:25:28.912300",
     "status": "completed"
    },
    "tags": []
   },
   "outputs": [
    {
     "name": "stdout",
     "output_type": "stream",
     "text": [
      "Downloading https://www.cs.toronto.edu/~kriz/cifar-10-python.tar.gz to ./data/cifar-10-python.tar.gz\n"
     ]
    },
    {
     "name": "stderr",
     "output_type": "stream",
     "text": [
      "100%|██████████| 170M/170M [00:11<00:00, 14.6MB/s]\n"
     ]
    },
    {
     "name": "stdout",
     "output_type": "stream",
     "text": [
      "Extracting ./data/cifar-10-python.tar.gz to ./data\n",
      "Files already downloaded and verified\n",
      "\n",
      "\n",
      "==================================================\n",
      "Testing positional embedding type: none\n",
      "==================================================\n",
      "\n",
      "Using device: cuda\n"
     ]
    },
    {
     "name": "stderr",
     "output_type": "stream",
     "text": [
      "Epoch 1/50 [Train]: 100%|██████████| 352/352 [00:28<00:00, 12.48it/s, loss=1.95, acc=27]\n",
      "Epoch 1/50 [Val]: 100%|██████████| 40/40 [00:02<00:00, 15.32it/s, loss=1.74, acc=36.2]\n"
     ]
    },
    {
     "name": "stdout",
     "output_type": "stream",
     "text": [
      "Epoch 1/50:\n",
      "Train Loss: 1.9514 | Train Acc: 26.96%\n",
      "Val Loss: 1.7423 | Val Acc: 36.16%\n",
      "Validation accuracy improved from 0.00% to 36.16%, saving model...\n"
     ]
    },
    {
     "name": "stderr",
     "output_type": "stream",
     "text": [
      "Epoch 2/50 [Train]: 100%|██████████| 352/352 [00:27<00:00, 12.75it/s, loss=1.68, acc=38.6]\n",
      "Epoch 2/50 [Val]: 100%|██████████| 40/40 [00:02<00:00, 18.93it/s, loss=1.62, acc=40.3]\n"
     ]
    },
    {
     "name": "stdout",
     "output_type": "stream",
     "text": [
      "Epoch 2/50:\n",
      "Train Loss: 1.6763 | Train Acc: 38.60%\n",
      "Val Loss: 1.6231 | Val Acc: 40.32%\n",
      "Validation accuracy improved from 36.16% to 40.32%, saving model...\n"
     ]
    },
    {
     "name": "stderr",
     "output_type": "stream",
     "text": [
      "Epoch 3/50 [Train]: 100%|██████████| 352/352 [00:27<00:00, 12.74it/s, loss=1.55, acc=43.4]\n",
      "Epoch 3/50 [Val]: 100%|██████████| 40/40 [00:02<00:00, 18.44it/s, loss=1.51, acc=45]\n"
     ]
    },
    {
     "name": "stdout",
     "output_type": "stream",
     "text": [
      "Epoch 3/50:\n",
      "Train Loss: 1.5521 | Train Acc: 43.40%\n",
      "Val Loss: 1.5139 | Val Acc: 44.98%\n",
      "Validation accuracy improved from 40.32% to 44.98%, saving model...\n"
     ]
    },
    {
     "name": "stderr",
     "output_type": "stream",
     "text": [
      "Epoch 4/50 [Train]: 100%|██████████| 352/352 [00:27<00:00, 12.76it/s, loss=1.47, acc=47]\n",
      "Epoch 4/50 [Val]: 100%|██████████| 40/40 [00:02<00:00, 18.77it/s, loss=1.43, acc=49.3]\n"
     ]
    },
    {
     "name": "stdout",
     "output_type": "stream",
     "text": [
      "Epoch 4/50:\n",
      "Train Loss: 1.4655 | Train Acc: 47.02%\n",
      "Val Loss: 1.4257 | Val Acc: 49.26%\n",
      "Validation accuracy improved from 44.98% to 49.26%, saving model...\n"
     ]
    },
    {
     "name": "stderr",
     "output_type": "stream",
     "text": [
      "Epoch 5/50 [Train]: 100%|██████████| 352/352 [00:27<00:00, 12.75it/s, loss=1.41, acc=48.6]\n",
      "Epoch 5/50 [Val]: 100%|██████████| 40/40 [00:02<00:00, 18.21it/s, loss=1.41, acc=49.5]\n"
     ]
    },
    {
     "name": "stdout",
     "output_type": "stream",
     "text": [
      "Epoch 5/50:\n",
      "Train Loss: 1.4131 | Train Acc: 48.62%\n",
      "Val Loss: 1.4137 | Val Acc: 49.48%\n",
      "Validation accuracy improved from 49.26% to 49.48%, saving model...\n"
     ]
    },
    {
     "name": "stderr",
     "output_type": "stream",
     "text": [
      "Epoch 6/50 [Train]: 100%|██████████| 352/352 [00:27<00:00, 12.75it/s, loss=1.37, acc=50.3]\n",
      "Epoch 6/50 [Val]: 100%|██████████| 40/40 [00:02<00:00, 17.44it/s, loss=1.35, acc=51.2]\n"
     ]
    },
    {
     "name": "stdout",
     "output_type": "stream",
     "text": [
      "Epoch 6/50:\n",
      "Train Loss: 1.3672 | Train Acc: 50.32%\n",
      "Val Loss: 1.3493 | Val Acc: 51.24%\n",
      "Validation accuracy improved from 49.48% to 51.24%, saving model...\n"
     ]
    },
    {
     "name": "stderr",
     "output_type": "stream",
     "text": [
      "Epoch 7/50 [Train]: 100%|██████████| 352/352 [00:27<00:00, 12.75it/s, loss=1.33, acc=52.2]\n",
      "Epoch 7/50 [Val]: 100%|██████████| 40/40 [00:02<00:00, 17.61it/s, loss=1.32, acc=51.1]\n"
     ]
    },
    {
     "name": "stdout",
     "output_type": "stream",
     "text": [
      "Epoch 7/50:\n",
      "Train Loss: 1.3291 | Train Acc: 52.20%\n",
      "Val Loss: 1.3225 | Val Acc: 51.10%\n"
     ]
    },
    {
     "name": "stderr",
     "output_type": "stream",
     "text": [
      "Epoch 8/50 [Train]: 100%|██████████| 352/352 [00:27<00:00, 12.74it/s, loss=1.29, acc=53.8]\n",
      "Epoch 8/50 [Val]: 100%|██████████| 40/40 [00:02<00:00, 18.03it/s, loss=1.31, acc=53.2]\n"
     ]
    },
    {
     "name": "stdout",
     "output_type": "stream",
     "text": [
      "Epoch 8/50:\n",
      "Train Loss: 1.2874 | Train Acc: 53.82%\n",
      "Val Loss: 1.3080 | Val Acc: 53.24%\n",
      "Validation accuracy improved from 51.24% to 53.24%, saving model...\n"
     ]
    },
    {
     "name": "stderr",
     "output_type": "stream",
     "text": [
      "Epoch 9/50 [Train]: 100%|██████████| 352/352 [00:27<00:00, 12.75it/s, loss=1.26, acc=55.1]\n",
      "Epoch 9/50 [Val]: 100%|██████████| 40/40 [00:02<00:00, 17.98it/s, loss=1.21, acc=56.3]\n"
     ]
    },
    {
     "name": "stdout",
     "output_type": "stream",
     "text": [
      "Epoch 9/50:\n",
      "Train Loss: 1.2610 | Train Acc: 55.07%\n",
      "Val Loss: 1.2128 | Val Acc: 56.28%\n",
      "Validation accuracy improved from 53.24% to 56.28%, saving model...\n"
     ]
    },
    {
     "name": "stderr",
     "output_type": "stream",
     "text": [
      "Epoch 10/50 [Train]: 100%|██████████| 352/352 [00:27<00:00, 12.73it/s, loss=1.24, acc=55.8]\n",
      "Epoch 10/50 [Val]: 100%|██████████| 40/40 [00:02<00:00, 18.00it/s, loss=1.18, acc=57.5]\n"
     ]
    },
    {
     "name": "stdout",
     "output_type": "stream",
     "text": [
      "Epoch 10/50:\n",
      "Train Loss: 1.2363 | Train Acc: 55.84%\n",
      "Val Loss: 1.1825 | Val Acc: 57.48%\n",
      "Validation accuracy improved from 56.28% to 57.48%, saving model...\n"
     ]
    },
    {
     "name": "stderr",
     "output_type": "stream",
     "text": [
      "Epoch 11/50 [Train]: 100%|██████████| 352/352 [00:27<00:00, 12.75it/s, loss=1.21, acc=56.7]\n",
      "Epoch 11/50 [Val]: 100%|██████████| 40/40 [00:02<00:00, 17.72it/s, loss=1.19, acc=57.5]\n"
     ]
    },
    {
     "name": "stdout",
     "output_type": "stream",
     "text": [
      "Epoch 11/50:\n",
      "Train Loss: 1.2091 | Train Acc: 56.73%\n",
      "Val Loss: 1.1938 | Val Acc: 57.48%\n"
     ]
    },
    {
     "name": "stderr",
     "output_type": "stream",
     "text": [
      "Epoch 12/50 [Train]: 100%|██████████| 352/352 [00:27<00:00, 12.76it/s, loss=1.18, acc=57.8]\n",
      "Epoch 12/50 [Val]: 100%|██████████| 40/40 [00:02<00:00, 17.47it/s, loss=1.16, acc=58.4]\n"
     ]
    },
    {
     "name": "stdout",
     "output_type": "stream",
     "text": [
      "Epoch 12/50:\n",
      "Train Loss: 1.1833 | Train Acc: 57.82%\n",
      "Val Loss: 1.1644 | Val Acc: 58.40%\n",
      "Validation accuracy improved from 57.48% to 58.40%, saving model...\n"
     ]
    },
    {
     "name": "stderr",
     "output_type": "stream",
     "text": [
      "Epoch 13/50 [Train]: 100%|██████████| 352/352 [00:27<00:00, 12.76it/s, loss=1.15, acc=58.8]\n",
      "Epoch 13/50 [Val]: 100%|██████████| 40/40 [00:02<00:00, 17.51it/s, loss=1.14, acc=59.3]\n"
     ]
    },
    {
     "name": "stdout",
     "output_type": "stream",
     "text": [
      "Epoch 13/50:\n",
      "Train Loss: 1.1534 | Train Acc: 58.83%\n",
      "Val Loss: 1.1441 | Val Acc: 59.34%\n",
      "Validation accuracy improved from 58.40% to 59.34%, saving model...\n"
     ]
    },
    {
     "name": "stderr",
     "output_type": "stream",
     "text": [
      "Epoch 14/50 [Train]: 100%|██████████| 352/352 [00:27<00:00, 12.76it/s, loss=1.13, acc=59.3]\n",
      "Epoch 14/50 [Val]: 100%|██████████| 40/40 [00:02<00:00, 16.16it/s, loss=1.11, acc=59.5]\n"
     ]
    },
    {
     "name": "stdout",
     "output_type": "stream",
     "text": [
      "Epoch 14/50:\n",
      "Train Loss: 1.1345 | Train Acc: 59.34%\n",
      "Val Loss: 1.1112 | Val Acc: 59.50%\n",
      "Validation accuracy improved from 59.34% to 59.50%, saving model...\n"
     ]
    },
    {
     "name": "stderr",
     "output_type": "stream",
     "text": [
      "Epoch 15/50 [Train]: 100%|██████████| 352/352 [00:27<00:00, 12.73it/s, loss=1.12, acc=60]\n",
      "Epoch 15/50 [Val]: 100%|██████████| 40/40 [00:02<00:00, 18.03it/s, loss=1.13, acc=60.1]\n"
     ]
    },
    {
     "name": "stdout",
     "output_type": "stream",
     "text": [
      "Epoch 15/50:\n",
      "Train Loss: 1.1173 | Train Acc: 60.00%\n",
      "Val Loss: 1.1288 | Val Acc: 60.12%\n",
      "Validation accuracy improved from 59.50% to 60.12%, saving model...\n"
     ]
    },
    {
     "name": "stderr",
     "output_type": "stream",
     "text": [
      "Epoch 16/50 [Train]: 100%|██████████| 352/352 [00:27<00:00, 12.75it/s, loss=1.1, acc=60.8]\n",
      "Epoch 16/50 [Val]: 100%|██████████| 40/40 [00:02<00:00, 18.31it/s, loss=1.1, acc=60.9]\n"
     ]
    },
    {
     "name": "stdout",
     "output_type": "stream",
     "text": [
      "Epoch 16/50:\n",
      "Train Loss: 1.1014 | Train Acc: 60.83%\n",
      "Val Loss: 1.0973 | Val Acc: 60.92%\n",
      "Validation accuracy improved from 60.12% to 60.92%, saving model...\n"
     ]
    },
    {
     "name": "stderr",
     "output_type": "stream",
     "text": [
      "Epoch 17/50 [Train]: 100%|██████████| 352/352 [00:27<00:00, 12.75it/s, loss=1.07, acc=61.7]\n",
      "Epoch 17/50 [Val]: 100%|██████████| 40/40 [00:02<00:00, 18.03it/s, loss=1.05, acc=62.5]\n"
     ]
    },
    {
     "name": "stdout",
     "output_type": "stream",
     "text": [
      "Epoch 17/50:\n",
      "Train Loss: 1.0726 | Train Acc: 61.67%\n",
      "Val Loss: 1.0469 | Val Acc: 62.52%\n",
      "Validation accuracy improved from 60.92% to 62.52%, saving model...\n"
     ]
    },
    {
     "name": "stderr",
     "output_type": "stream",
     "text": [
      "Epoch 18/50 [Train]: 100%|██████████| 352/352 [00:27<00:00, 12.74it/s, loss=1.05, acc=62.6]\n",
      "Epoch 18/50 [Val]: 100%|██████████| 40/40 [00:02<00:00, 18.28it/s, loss=1.05, acc=62.3]\n"
     ]
    },
    {
     "name": "stdout",
     "output_type": "stream",
     "text": [
      "Epoch 18/50:\n",
      "Train Loss: 1.0487 | Train Acc: 62.61%\n",
      "Val Loss: 1.0520 | Val Acc: 62.34%\n"
     ]
    },
    {
     "name": "stderr",
     "output_type": "stream",
     "text": [
      "Epoch 19/50 [Train]: 100%|██████████| 352/352 [00:27<00:00, 12.74it/s, loss=1.04, acc=62.9]\n",
      "Epoch 19/50 [Val]: 100%|██████████| 40/40 [00:02<00:00, 18.50it/s, loss=1.02, acc=63.8]\n"
     ]
    },
    {
     "name": "stdout",
     "output_type": "stream",
     "text": [
      "Epoch 19/50:\n",
      "Train Loss: 1.0414 | Train Acc: 62.95%\n",
      "Val Loss: 1.0156 | Val Acc: 63.82%\n",
      "Validation accuracy improved from 62.52% to 63.82%, saving model...\n"
     ]
    },
    {
     "name": "stderr",
     "output_type": "stream",
     "text": [
      "Epoch 20/50 [Train]: 100%|██████████| 352/352 [00:27<00:00, 12.75it/s, loss=1.02, acc=63.6]\n",
      "Epoch 20/50 [Val]: 100%|██████████| 40/40 [00:02<00:00, 18.25it/s, loss=1.02, acc=63.2]\n"
     ]
    },
    {
     "name": "stdout",
     "output_type": "stream",
     "text": [
      "Epoch 20/50:\n",
      "Train Loss: 1.0191 | Train Acc: 63.55%\n",
      "Val Loss: 1.0168 | Val Acc: 63.16%\n"
     ]
    },
    {
     "name": "stderr",
     "output_type": "stream",
     "text": [
      "Epoch 21/50 [Train]: 100%|██████████| 352/352 [00:27<00:00, 12.74it/s, loss=1.01, acc=64.4]\n",
      "Epoch 21/50 [Val]: 100%|██████████| 40/40 [00:02<00:00, 18.05it/s, loss=1.01, acc=63.7]\n"
     ]
    },
    {
     "name": "stdout",
     "output_type": "stream",
     "text": [
      "Epoch 21/50:\n",
      "Train Loss: 1.0051 | Train Acc: 64.41%\n",
      "Val Loss: 1.0088 | Val Acc: 63.66%\n"
     ]
    },
    {
     "name": "stderr",
     "output_type": "stream",
     "text": [
      "Epoch 22/50 [Train]: 100%|██████████| 352/352 [00:27<00:00, 12.75it/s, loss=0.985, acc=65]\n",
      "Epoch 22/50 [Val]: 100%|██████████| 40/40 [00:02<00:00, 18.65it/s, loss=1.01, acc=64.4]\n"
     ]
    },
    {
     "name": "stdout",
     "output_type": "stream",
     "text": [
      "Epoch 22/50:\n",
      "Train Loss: 0.9852 | Train Acc: 65.03%\n",
      "Val Loss: 1.0145 | Val Acc: 64.44%\n",
      "Validation accuracy improved from 63.82% to 64.44%, saving model...\n"
     ]
    },
    {
     "name": "stderr",
     "output_type": "stream",
     "text": [
      "Epoch 23/50 [Train]: 100%|██████████| 352/352 [00:27<00:00, 12.74it/s, loss=0.968, acc=65.5]\n",
      "Epoch 23/50 [Val]: 100%|██████████| 40/40 [00:02<00:00, 19.39it/s, loss=0.974, acc=65]\n"
     ]
    },
    {
     "name": "stdout",
     "output_type": "stream",
     "text": [
      "Epoch 23/50:\n",
      "Train Loss: 0.9681 | Train Acc: 65.53%\n",
      "Val Loss: 0.9739 | Val Acc: 65.02%\n",
      "Validation accuracy improved from 64.44% to 65.02%, saving model...\n"
     ]
    },
    {
     "name": "stderr",
     "output_type": "stream",
     "text": [
      "Epoch 24/50 [Train]: 100%|██████████| 352/352 [00:27<00:00, 12.71it/s, loss=0.953, acc=65.9]\n",
      "Epoch 24/50 [Val]: 100%|██████████| 40/40 [00:02<00:00, 16.35it/s, loss=0.957, acc=66.2]\n"
     ]
    },
    {
     "name": "stdout",
     "output_type": "stream",
     "text": [
      "Epoch 24/50:\n",
      "Train Loss: 0.9529 | Train Acc: 65.91%\n",
      "Val Loss: 0.9566 | Val Acc: 66.16%\n",
      "Validation accuracy improved from 65.02% to 66.16%, saving model...\n"
     ]
    },
    {
     "name": "stderr",
     "output_type": "stream",
     "text": [
      "Epoch 25/50 [Train]: 100%|██████████| 352/352 [00:27<00:00, 12.77it/s, loss=0.938, acc=66.7]\n",
      "Epoch 25/50 [Val]: 100%|██████████| 40/40 [00:02<00:00, 16.41it/s, loss=0.963, acc=66]\n"
     ]
    },
    {
     "name": "stdout",
     "output_type": "stream",
     "text": [
      "Epoch 25/50:\n",
      "Train Loss: 0.9377 | Train Acc: 66.75%\n",
      "Val Loss: 0.9631 | Val Acc: 66.02%\n"
     ]
    },
    {
     "name": "stderr",
     "output_type": "stream",
     "text": [
      "Epoch 26/50 [Train]: 100%|██████████| 352/352 [00:27<00:00, 12.76it/s, loss=0.926, acc=67.1]\n",
      "Epoch 26/50 [Val]: 100%|██████████| 40/40 [00:02<00:00, 17.59it/s, loss=0.967, acc=65.9]\n"
     ]
    },
    {
     "name": "stdout",
     "output_type": "stream",
     "text": [
      "Epoch 26/50:\n",
      "Train Loss: 0.9258 | Train Acc: 67.06%\n",
      "Val Loss: 0.9670 | Val Acc: 65.92%\n"
     ]
    },
    {
     "name": "stderr",
     "output_type": "stream",
     "text": [
      "Epoch 27/50 [Train]: 100%|██████████| 352/352 [00:27<00:00, 12.74it/s, loss=0.905, acc=67.6]\n",
      "Epoch 27/50 [Val]: 100%|██████████| 40/40 [00:02<00:00, 16.43it/s, loss=0.933, acc=66.4]\n"
     ]
    },
    {
     "name": "stdout",
     "output_type": "stream",
     "text": [
      "Epoch 27/50:\n",
      "Train Loss: 0.9054 | Train Acc: 67.64%\n",
      "Val Loss: 0.9333 | Val Acc: 66.38%\n",
      "Validation accuracy improved from 66.16% to 66.38%, saving model...\n"
     ]
    },
    {
     "name": "stderr",
     "output_type": "stream",
     "text": [
      "Epoch 28/50 [Train]: 100%|██████████| 352/352 [00:27<00:00, 12.73it/s, loss=0.895, acc=67.9]\n",
      "Epoch 28/50 [Val]: 100%|██████████| 40/40 [00:02<00:00, 18.29it/s, loss=0.92, acc=67.3]\n"
     ]
    },
    {
     "name": "stdout",
     "output_type": "stream",
     "text": [
      "Epoch 28/50:\n",
      "Train Loss: 0.8945 | Train Acc: 67.94%\n",
      "Val Loss: 0.9198 | Val Acc: 67.32%\n",
      "Validation accuracy improved from 66.38% to 67.32%, saving model...\n"
     ]
    },
    {
     "name": "stderr",
     "output_type": "stream",
     "text": [
      "Epoch 29/50 [Train]: 100%|██████████| 352/352 [00:27<00:00, 12.69it/s, loss=0.871, acc=69.1]\n",
      "Epoch 29/50 [Val]: 100%|██████████| 40/40 [00:02<00:00, 18.94it/s, loss=0.949, acc=66.9]\n"
     ]
    },
    {
     "name": "stdout",
     "output_type": "stream",
     "text": [
      "Epoch 29/50:\n",
      "Train Loss: 0.8707 | Train Acc: 69.11%\n",
      "Val Loss: 0.9494 | Val Acc: 66.92%\n"
     ]
    },
    {
     "name": "stderr",
     "output_type": "stream",
     "text": [
      "Epoch 30/50 [Train]: 100%|██████████| 352/352 [00:27<00:00, 12.68it/s, loss=0.864, acc=69.2]\n",
      "Epoch 30/50 [Val]: 100%|██████████| 40/40 [00:02<00:00, 18.51it/s, loss=0.928, acc=67]\n"
     ]
    },
    {
     "name": "stdout",
     "output_type": "stream",
     "text": [
      "Epoch 30/50:\n",
      "Train Loss: 0.8643 | Train Acc: 69.22%\n",
      "Val Loss: 0.9279 | Val Acc: 66.96%\n"
     ]
    },
    {
     "name": "stderr",
     "output_type": "stream",
     "text": [
      "Epoch 31/50 [Train]: 100%|██████████| 352/352 [00:27<00:00, 12.72it/s, loss=0.853, acc=69.6]\n",
      "Epoch 31/50 [Val]: 100%|██████████| 40/40 [00:02<00:00, 18.05it/s, loss=0.909, acc=67.8]\n"
     ]
    },
    {
     "name": "stdout",
     "output_type": "stream",
     "text": [
      "Epoch 31/50:\n",
      "Train Loss: 0.8526 | Train Acc: 69.64%\n",
      "Val Loss: 0.9089 | Val Acc: 67.78%\n",
      "Validation accuracy improved from 67.32% to 67.78%, saving model...\n"
     ]
    },
    {
     "name": "stderr",
     "output_type": "stream",
     "text": [
      "Epoch 32/50 [Train]: 100%|██████████| 352/352 [00:27<00:00, 12.75it/s, loss=0.836, acc=70.1]\n",
      "Epoch 32/50 [Val]: 100%|██████████| 40/40 [00:02<00:00, 18.66it/s, loss=0.888, acc=69.1]\n"
     ]
    },
    {
     "name": "stdout",
     "output_type": "stream",
     "text": [
      "Epoch 32/50:\n",
      "Train Loss: 0.8360 | Train Acc: 70.08%\n",
      "Val Loss: 0.8878 | Val Acc: 69.06%\n",
      "Validation accuracy improved from 67.78% to 69.06%, saving model...\n"
     ]
    },
    {
     "name": "stderr",
     "output_type": "stream",
     "text": [
      "Epoch 33/50 [Train]: 100%|██████████| 352/352 [00:27<00:00, 12.77it/s, loss=0.831, acc=70.3]\n",
      "Epoch 33/50 [Val]: 100%|██████████| 40/40 [00:02<00:00, 19.24it/s, loss=0.886, acc=69]\n"
     ]
    },
    {
     "name": "stdout",
     "output_type": "stream",
     "text": [
      "Epoch 33/50:\n",
      "Train Loss: 0.8310 | Train Acc: 70.34%\n",
      "Val Loss: 0.8858 | Val Acc: 68.96%\n"
     ]
    },
    {
     "name": "stderr",
     "output_type": "stream",
     "text": [
      "Epoch 34/50 [Train]: 100%|██████████| 352/352 [00:27<00:00, 12.76it/s, loss=0.812, acc=71.1]\n",
      "Epoch 34/50 [Val]: 100%|██████████| 40/40 [00:02<00:00, 18.48it/s, loss=0.897, acc=68.4]\n"
     ]
    },
    {
     "name": "stdout",
     "output_type": "stream",
     "text": [
      "Epoch 34/50:\n",
      "Train Loss: 0.8119 | Train Acc: 71.12%\n",
      "Val Loss: 0.8973 | Val Acc: 68.40%\n"
     ]
    },
    {
     "name": "stderr",
     "output_type": "stream",
     "text": [
      "Epoch 35/50 [Train]: 100%|██████████| 352/352 [00:27<00:00, 12.74it/s, loss=0.806, acc=71.5]\n",
      "Epoch 35/50 [Val]: 100%|██████████| 40/40 [00:02<00:00, 18.95it/s, loss=0.89, acc=68.7]\n"
     ]
    },
    {
     "name": "stdout",
     "output_type": "stream",
     "text": [
      "Epoch 35/50:\n",
      "Train Loss: 0.8060 | Train Acc: 71.46%\n",
      "Val Loss: 0.8896 | Val Acc: 68.68%\n"
     ]
    },
    {
     "name": "stderr",
     "output_type": "stream",
     "text": [
      "Epoch 36/50 [Train]: 100%|██████████| 352/352 [00:27<00:00, 12.76it/s, loss=0.794, acc=71.9]\n",
      "Epoch 36/50 [Val]: 100%|██████████| 40/40 [00:02<00:00, 18.26it/s, loss=0.869, acc=70.1]\n"
     ]
    },
    {
     "name": "stdout",
     "output_type": "stream",
     "text": [
      "Epoch 36/50:\n",
      "Train Loss: 0.7941 | Train Acc: 71.86%\n",
      "Val Loss: 0.8691 | Val Acc: 70.06%\n",
      "Validation accuracy improved from 69.06% to 70.06%, saving model...\n"
     ]
    },
    {
     "name": "stderr",
     "output_type": "stream",
     "text": [
      "Epoch 37/50 [Train]: 100%|██████████| 352/352 [00:27<00:00, 12.77it/s, loss=0.785, acc=72]\n",
      "Epoch 37/50 [Val]: 100%|██████████| 40/40 [00:02<00:00, 18.84it/s, loss=0.875, acc=68.8]\n"
     ]
    },
    {
     "name": "stdout",
     "output_type": "stream",
     "text": [
      "Epoch 37/50:\n",
      "Train Loss: 0.7855 | Train Acc: 71.97%\n",
      "Val Loss: 0.8750 | Val Acc: 68.78%\n"
     ]
    },
    {
     "name": "stderr",
     "output_type": "stream",
     "text": [
      "Epoch 38/50 [Train]: 100%|██████████| 352/352 [00:27<00:00, 12.75it/s, loss=0.778, acc=72.4]\n",
      "Epoch 38/50 [Val]: 100%|██████████| 40/40 [00:02<00:00, 18.26it/s, loss=0.893, acc=68.8]\n"
     ]
    },
    {
     "name": "stdout",
     "output_type": "stream",
     "text": [
      "Epoch 38/50:\n",
      "Train Loss: 0.7777 | Train Acc: 72.37%\n",
      "Val Loss: 0.8929 | Val Acc: 68.76%\n"
     ]
    },
    {
     "name": "stderr",
     "output_type": "stream",
     "text": [
      "Epoch 39/50 [Train]: 100%|██████████| 352/352 [00:27<00:00, 12.65it/s, loss=0.762, acc=73]\n",
      "Epoch 39/50 [Val]: 100%|██████████| 40/40 [00:02<00:00, 15.70it/s, loss=0.864, acc=69.9]\n"
     ]
    },
    {
     "name": "stdout",
     "output_type": "stream",
     "text": [
      "Epoch 39/50:\n",
      "Train Loss: 0.7616 | Train Acc: 73.03%\n",
      "Val Loss: 0.8644 | Val Acc: 69.90%\n"
     ]
    },
    {
     "name": "stderr",
     "output_type": "stream",
     "text": [
      "Epoch 40/50 [Train]: 100%|██████████| 352/352 [00:27<00:00, 12.70it/s, loss=0.753, acc=73.4]\n",
      "Epoch 40/50 [Val]: 100%|██████████| 40/40 [00:02<00:00, 16.32it/s, loss=0.855, acc=70.4]\n"
     ]
    },
    {
     "name": "stdout",
     "output_type": "stream",
     "text": [
      "Epoch 40/50:\n",
      "Train Loss: 0.7529 | Train Acc: 73.36%\n",
      "Val Loss: 0.8552 | Val Acc: 70.36%\n",
      "Validation accuracy improved from 70.06% to 70.36%, saving model...\n"
     ]
    },
    {
     "name": "stderr",
     "output_type": "stream",
     "text": [
      "Epoch 41/50 [Train]: 100%|██████████| 352/352 [00:27<00:00, 12.66it/s, loss=0.756, acc=73]\n",
      "Epoch 41/50 [Val]: 100%|██████████| 40/40 [00:02<00:00, 18.69it/s, loss=0.857, acc=70.3]\n"
     ]
    },
    {
     "name": "stdout",
     "output_type": "stream",
     "text": [
      "Epoch 41/50:\n",
      "Train Loss: 0.7564 | Train Acc: 73.02%\n",
      "Val Loss: 0.8569 | Val Acc: 70.26%\n"
     ]
    },
    {
     "name": "stderr",
     "output_type": "stream",
     "text": [
      "Epoch 42/50 [Train]: 100%|██████████| 352/352 [00:27<00:00, 12.63it/s, loss=0.745, acc=73.5]\n",
      "Epoch 42/50 [Val]: 100%|██████████| 40/40 [00:02<00:00, 17.73it/s, loss=0.861, acc=71.3]\n"
     ]
    },
    {
     "name": "stdout",
     "output_type": "stream",
     "text": [
      "Epoch 42/50:\n",
      "Train Loss: 0.7451 | Train Acc: 73.53%\n",
      "Val Loss: 0.8607 | Val Acc: 71.30%\n",
      "Validation accuracy improved from 70.36% to 71.30%, saving model...\n"
     ]
    },
    {
     "name": "stderr",
     "output_type": "stream",
     "text": [
      "Epoch 43/50 [Train]: 100%|██████████| 352/352 [00:27<00:00, 12.62it/s, loss=0.733, acc=73.8]\n",
      "Epoch 43/50 [Val]: 100%|██████████| 40/40 [00:02<00:00, 18.08it/s, loss=0.867, acc=69.7]\n"
     ]
    },
    {
     "name": "stdout",
     "output_type": "stream",
     "text": [
      "Epoch 43/50:\n",
      "Train Loss: 0.7328 | Train Acc: 73.84%\n",
      "Val Loss: 0.8672 | Val Acc: 69.66%\n"
     ]
    },
    {
     "name": "stderr",
     "output_type": "stream",
     "text": [
      "Epoch 44/50 [Train]: 100%|██████████| 352/352 [00:27<00:00, 12.68it/s, loss=0.738, acc=74.1]\n",
      "Epoch 44/50 [Val]: 100%|██████████| 40/40 [00:02<00:00, 17.34it/s, loss=0.863, acc=70.3]\n"
     ]
    },
    {
     "name": "stdout",
     "output_type": "stream",
     "text": [
      "Epoch 44/50:\n",
      "Train Loss: 0.7384 | Train Acc: 74.08%\n",
      "Val Loss: 0.8632 | Val Acc: 70.34%\n"
     ]
    },
    {
     "name": "stderr",
     "output_type": "stream",
     "text": [
      "Epoch 45/50 [Train]: 100%|██████████| 352/352 [00:27<00:00, 12.70it/s, loss=0.729, acc=74]\n",
      "Epoch 45/50 [Val]: 100%|██████████| 40/40 [00:02<00:00, 15.28it/s, loss=0.843, acc=69.8]\n"
     ]
    },
    {
     "name": "stdout",
     "output_type": "stream",
     "text": [
      "Epoch 45/50:\n",
      "Train Loss: 0.7294 | Train Acc: 74.02%\n",
      "Val Loss: 0.8429 | Val Acc: 69.82%\n"
     ]
    },
    {
     "name": "stderr",
     "output_type": "stream",
     "text": [
      "Epoch 46/50 [Train]: 100%|██████████| 352/352 [00:27<00:00, 12.69it/s, loss=0.727, acc=74.1]\n",
      "Epoch 46/50 [Val]: 100%|██████████| 40/40 [00:02<00:00, 17.26it/s, loss=0.857, acc=70.3]\n"
     ]
    },
    {
     "name": "stdout",
     "output_type": "stream",
     "text": [
      "Epoch 46/50:\n",
      "Train Loss: 0.7274 | Train Acc: 74.08%\n",
      "Val Loss: 0.8568 | Val Acc: 70.30%\n"
     ]
    },
    {
     "name": "stderr",
     "output_type": "stream",
     "text": [
      "Epoch 47/50 [Train]: 100%|██████████| 352/352 [00:27<00:00, 12.63it/s, loss=0.723, acc=74]\n",
      "Epoch 47/50 [Val]: 100%|██████████| 40/40 [00:02<00:00, 18.23it/s, loss=0.839, acc=70.7]\n"
     ]
    },
    {
     "name": "stdout",
     "output_type": "stream",
     "text": [
      "Epoch 47/50:\n",
      "Train Loss: 0.7226 | Train Acc: 74.04%\n",
      "Val Loss: 0.8389 | Val Acc: 70.74%\n"
     ]
    },
    {
     "name": "stderr",
     "output_type": "stream",
     "text": [
      "Epoch 48/50 [Train]: 100%|██████████| 352/352 [00:27<00:00, 12.72it/s, loss=0.724, acc=74.3]\n",
      "Epoch 48/50 [Val]: 100%|██████████| 40/40 [00:02<00:00, 17.60it/s, loss=0.85, acc=70.4]\n"
     ]
    },
    {
     "name": "stdout",
     "output_type": "stream",
     "text": [
      "Epoch 48/50:\n",
      "Train Loss: 0.7245 | Train Acc: 74.33%\n",
      "Val Loss: 0.8496 | Val Acc: 70.38%\n"
     ]
    },
    {
     "name": "stderr",
     "output_type": "stream",
     "text": [
      "Epoch 49/50 [Train]: 100%|██████████| 352/352 [00:27<00:00, 12.72it/s, loss=0.718, acc=74.5]\n",
      "Epoch 49/50 [Val]: 100%|██████████| 40/40 [00:02<00:00, 17.93it/s, loss=0.85, acc=70.3]\n"
     ]
    },
    {
     "name": "stdout",
     "output_type": "stream",
     "text": [
      "Epoch 49/50:\n",
      "Train Loss: 0.7182 | Train Acc: 74.53%\n",
      "Val Loss: 0.8501 | Val Acc: 70.28%\n"
     ]
    },
    {
     "name": "stderr",
     "output_type": "stream",
     "text": [
      "Epoch 50/50 [Train]: 100%|██████████| 352/352 [00:27<00:00, 12.73it/s, loss=0.718, acc=74.5]\n",
      "Epoch 50/50 [Val]: 100%|██████████| 40/40 [00:02<00:00, 18.47it/s, loss=0.859, acc=69.8]\n",
      "/tmp/ipykernel_19/3483036.py:461: FutureWarning: You are using `torch.load` with `weights_only=False` (the current default value), which uses the default pickle module implicitly. It is possible to construct malicious pickle data which will execute arbitrary code during unpickling (See https://github.com/pytorch/pytorch/blob/main/SECURITY.md#untrusted-models for more details). In a future release, the default value for `weights_only` will be flipped to `True`. This limits the functions that could be executed during unpickling. Arbitrary objects will no longer be allowed to be loaded via this mode unless they are explicitly allowlisted by the user via `torch.serialization.add_safe_globals`. We recommend you start setting `weights_only=True` for any use case where you don't have full control of the loaded file. Please open an issue on GitHub for any issues related to this experimental feature.\n",
      "  model.load_state_dict(torch.load(model_path))\n"
     ]
    },
    {
     "name": "stdout",
     "output_type": "stream",
     "text": [
      "Epoch 50/50:\n",
      "Train Loss: 0.7175 | Train Acc: 74.52%\n",
      "Val Loss: 0.8588 | Val Acc: 69.84%\n",
      "Best validation accuracy: 71.30%\n"
     ]
    },
    {
     "name": "stderr",
     "output_type": "stream",
     "text": [
      "Evaluating on test set: 100%|██████████| 79/79 [00:01<00:00, 40.06it/s]\n"
     ]
    },
    {
     "name": "stdout",
     "output_type": "stream",
     "text": [
      "Test accuracy: 74.78%\n"
     ]
    },
    {
     "data": {
      "image/png": "[encoded data removed]",
      "text/plain": [
       "<Figure size 1000x500 with 1 Axes>"
      ]
     },
     "metadata": {},
     "output_type": "display_data"
    },
    {
     "data": {
      "image/png": "[encoded data removed]",
      "text/plain": [
       "<Figure size 1000x500 with 1 Axes>"
      ]
     },
     "metadata": {},
     "output_type": "display_data"
    },
    {
     "name": "stdout",
     "output_type": "stream",
     "text": [
      "\n",
      "\n",
      "==================================================\n",
      "Testing positional embedding type: 1d_learned\n",
      "==================================================\n",
      "\n",
      "Using device: cuda\n"
     ]
    },
    {
     "name": "stderr",
     "output_type": "stream",
     "text": [
      "Epoch 1/50 [Train]: 100%|██████████| 352/352 [00:27<00:00, 12.76it/s, loss=1.93, acc=27.6]\n",
      "Epoch 1/50 [Val]: 100%|██████████| 40/40 [00:02<00:00, 17.36it/s, loss=1.76, acc=35.2]\n"
     ]
    },
    {
     "name": "stdout",
     "output_type": "stream",
     "text": [
      "Epoch 1/50:\n",
      "Train Loss: 1.9329 | Train Acc: 27.62%\n",
      "Val Loss: 1.7552 | Val Acc: 35.18%\n",
      "Validation accuracy improved from 0.00% to 35.18%, saving model...\n"
     ]
    },
    {
     "name": "stderr",
     "output_type": "stream",
     "text": [
      "Epoch 2/50 [Train]: 100%|██████████| 352/352 [00:27<00:00, 12.76it/s, loss=1.66, acc=39]\n",
      "Epoch 2/50 [Val]: 100%|██████████| 40/40 [00:02<00:00, 17.73it/s, loss=1.55, acc=43]\n"
     ]
    },
    {
     "name": "stdout",
     "output_type": "stream",
     "text": [
      "Epoch 2/50:\n",
      "Train Loss: 1.6619 | Train Acc: 38.97%\n",
      "Val Loss: 1.5489 | Val Acc: 42.98%\n",
      "Validation accuracy improved from 35.18% to 42.98%, saving model...\n"
     ]
    },
    {
     "name": "stderr",
     "output_type": "stream",
     "text": [
      "Epoch 3/50 [Train]: 100%|██████████| 352/352 [00:27<00:00, 12.75it/s, loss=1.52, acc=44.5]\n",
      "Epoch 3/50 [Val]: 100%|██████████| 40/40 [00:02<00:00, 17.51it/s, loss=1.5, acc=47.1]\n"
     ]
    },
    {
     "name": "stdout",
     "output_type": "stream",
     "text": [
      "Epoch 3/50:\n",
      "Train Loss: 1.5213 | Train Acc: 44.48%\n",
      "Val Loss: 1.4950 | Val Acc: 47.14%\n",
      "Validation accuracy improved from 42.98% to 47.14%, saving model...\n"
     ]
    },
    {
     "name": "stderr",
     "output_type": "stream",
     "text": [
      "Epoch 4/50 [Train]: 100%|██████████| 352/352 [00:27<00:00, 12.77it/s, loss=1.43, acc=48.3]\n",
      "Epoch 4/50 [Val]: 100%|██████████| 40/40 [00:02<00:00, 14.67it/s, loss=1.36, acc=50.5]\n"
     ]
    },
    {
     "name": "stdout",
     "output_type": "stream",
     "text": [
      "Epoch 4/50:\n",
      "Train Loss: 1.4255 | Train Acc: 48.34%\n",
      "Val Loss: 1.3618 | Val Acc: 50.54%\n",
      "Validation accuracy improved from 47.14% to 50.54%, saving model...\n"
     ]
    },
    {
     "name": "stderr",
     "output_type": "stream",
     "text": [
      "Epoch 5/50 [Train]: 100%|██████████| 352/352 [00:27<00:00, 12.76it/s, loss=1.36, acc=50.8]\n",
      "Epoch 5/50 [Val]: 100%|██████████| 40/40 [00:02<00:00, 17.63it/s, loss=1.3, acc=52.3]\n"
     ]
    },
    {
     "name": "stdout",
     "output_type": "stream",
     "text": [
      "Epoch 5/50:\n",
      "Train Loss: 1.3555 | Train Acc: 50.81%\n",
      "Val Loss: 1.2988 | Val Acc: 52.30%\n",
      "Validation accuracy improved from 50.54% to 52.30%, saving model...\n"
     ]
    },
    {
     "name": "stderr",
     "output_type": "stream",
     "text": [
      "Epoch 6/50 [Train]: 100%|██████████| 352/352 [00:27<00:00, 12.76it/s, loss=1.29, acc=53.9]\n",
      "Epoch 6/50 [Val]: 100%|██████████| 40/40 [00:02<00:00, 18.30it/s, loss=1.26, acc=54.5]\n"
     ]
    },
    {
     "name": "stdout",
     "output_type": "stream",
     "text": [
      "Epoch 6/50:\n",
      "Train Loss: 1.2870 | Train Acc: 53.91%\n",
      "Val Loss: 1.2564 | Val Acc: 54.46%\n",
      "Validation accuracy improved from 52.30% to 54.46%, saving model...\n"
     ]
    },
    {
     "name": "stderr",
     "output_type": "stream",
     "text": [
      "Epoch 7/50 [Train]: 100%|██████████| 352/352 [00:27<00:00, 12.75it/s, loss=1.24, acc=55.4]\n",
      "Epoch 7/50 [Val]: 100%|██████████| 40/40 [00:02<00:00, 17.26it/s, loss=1.23, acc=55.8]\n"
     ]
    },
    {
     "name": "stdout",
     "output_type": "stream",
     "text": [
      "Epoch 7/50:\n",
      "Train Loss: 1.2447 | Train Acc: 55.36%\n",
      "Val Loss: 1.2262 | Val Acc: 55.76%\n",
      "Validation accuracy improved from 54.46% to 55.76%, saving model...\n"
     ]
    },
    {
     "name": "stderr",
     "output_type": "stream",
     "text": [
      "Epoch 8/50 [Train]: 100%|██████████| 352/352 [00:27<00:00, 12.77it/s, loss=1.2, acc=57.1]\n",
      "Epoch 8/50 [Val]: 100%|██████████| 40/40 [00:02<00:00, 17.59it/s, loss=1.13, acc=59.7]\n"
     ]
    },
    {
     "name": "stdout",
     "output_type": "stream",
     "text": [
      "Epoch 8/50:\n",
      "Train Loss: 1.1980 | Train Acc: 57.14%\n",
      "Val Loss: 1.1269 | Val Acc: 59.74%\n",
      "Validation accuracy improved from 55.76% to 59.74%, saving model...\n"
     ]
    },
    {
     "name": "stderr",
     "output_type": "stream",
     "text": [
      "Epoch 9/50 [Train]: 100%|██████████| 352/352 [00:27<00:00, 12.74it/s, loss=1.15, acc=58.9]\n",
      "Epoch 9/50 [Val]: 100%|██████████| 40/40 [00:02<00:00, 17.55it/s, loss=1.12, acc=59.7]\n"
     ]
    },
    {
     "name": "stdout",
     "output_type": "stream",
     "text": [
      "Epoch 9/50:\n",
      "Train Loss: 1.1541 | Train Acc: 58.92%\n",
      "Val Loss: 1.1213 | Val Acc: 59.72%\n"
     ]
    },
    {
     "name": "stderr",
     "output_type": "stream",
     "text": [
      "Epoch 10/50 [Train]: 100%|██████████| 352/352 [00:27<00:00, 12.77it/s, loss=1.12, acc=59.7]\n",
      "Epoch 10/50 [Val]: 100%|██████████| 40/40 [00:02<00:00, 15.47it/s, loss=1.11, acc=59.4]\n"
     ]
    },
    {
     "name": "stdout",
     "output_type": "stream",
     "text": [
      "Epoch 10/50:\n",
      "Train Loss: 1.1216 | Train Acc: 59.74%\n",
      "Val Loss: 1.1096 | Val Acc: 59.44%\n"
     ]
    },
    {
     "name": "stderr",
     "output_type": "stream",
     "text": [
      "Epoch 11/50 [Train]: 100%|██████████| 352/352 [00:27<00:00, 12.77it/s, loss=1.08, acc=61.3]\n",
      "Epoch 11/50 [Val]: 100%|██████████| 40/40 [00:02<00:00, 18.18it/s, loss=1.08, acc=62]\n"
     ]
    },
    {
     "name": "stdout",
     "output_type": "stream",
     "text": [
      "Epoch 11/50:\n",
      "Train Loss: 1.0837 | Train Acc: 61.27%\n",
      "Val Loss: 1.0775 | Val Acc: 62.00%\n",
      "Validation accuracy improved from 59.74% to 62.00%, saving model...\n"
     ]
    },
    {
     "name": "stderr",
     "output_type": "stream",
     "text": [
      "Epoch 12/50 [Train]: 100%|██████████| 352/352 [00:27<00:00, 12.73it/s, loss=1.04, acc=62.7]\n",
      "Epoch 12/50 [Val]: 100%|██████████| 40/40 [00:02<00:00, 18.08it/s, loss=1.02, acc=63.6]\n"
     ]
    },
    {
     "name": "stdout",
     "output_type": "stream",
     "text": [
      "Epoch 12/50:\n",
      "Train Loss: 1.0446 | Train Acc: 62.70%\n",
      "Val Loss: 1.0150 | Val Acc: 63.56%\n",
      "Validation accuracy improved from 62.00% to 63.56%, saving model...\n"
     ]
    },
    {
     "name": "stderr",
     "output_type": "stream",
     "text": [
      "Epoch 13/50 [Train]: 100%|██████████| 352/352 [00:27<00:00, 12.76it/s, loss=1.02, acc=63.7]\n",
      "Epoch 13/50 [Val]: 100%|██████████| 40/40 [00:02<00:00, 18.10it/s, loss=0.987, acc=64.6]\n"
     ]
    },
    {
     "name": "stdout",
     "output_type": "stream",
     "text": [
      "Epoch 13/50:\n",
      "Train Loss: 1.0184 | Train Acc: 63.72%\n",
      "Val Loss: 0.9865 | Val Acc: 64.58%\n",
      "Validation accuracy improved from 63.56% to 64.58%, saving model...\n"
     ]
    },
    {
     "name": "stderr",
     "output_type": "stream",
     "text": [
      "Epoch 14/50 [Train]: 100%|██████████| 352/352 [00:27<00:00, 12.76it/s, loss=0.994, acc=64.7]\n",
      "Epoch 14/50 [Val]: 100%|██████████| 40/40 [00:02<00:00, 17.83it/s, loss=1, acc=63.9]\n"
     ]
    },
    {
     "name": "stdout",
     "output_type": "stream",
     "text": [
      "Epoch 14/50:\n",
      "Train Loss: 0.9943 | Train Acc: 64.72%\n",
      "Val Loss: 1.0022 | Val Acc: 63.90%\n"
     ]
    },
    {
     "name": "stderr",
     "output_type": "stream",
     "text": [
      "Epoch 15/50 [Train]: 100%|██████████| 352/352 [00:27<00:00, 12.76it/s, loss=0.969, acc=65.4]\n",
      "Epoch 15/50 [Val]: 100%|██████████| 40/40 [00:02<00:00, 17.75it/s, loss=0.938, acc=66.6]\n"
     ]
    },
    {
     "name": "stdout",
     "output_type": "stream",
     "text": [
      "Epoch 15/50:\n",
      "Train Loss: 0.9690 | Train Acc: 65.42%\n",
      "Val Loss: 0.9382 | Val Acc: 66.56%\n",
      "Validation accuracy improved from 64.58% to 66.56%, saving model...\n"
     ]
    },
    {
     "name": "stderr",
     "output_type": "stream",
     "text": [
      "Epoch 16/50 [Train]: 100%|██████████| 352/352 [00:27<00:00, 12.76it/s, loss=0.944, acc=66.5]\n",
      "Epoch 16/50 [Val]: 100%|██████████| 40/40 [00:02<00:00, 17.52it/s, loss=0.934, acc=66.7]\n"
     ]
    },
    {
     "name": "stdout",
     "output_type": "stream",
     "text": [
      "Epoch 16/50:\n",
      "Train Loss: 0.9443 | Train Acc: 66.52%\n",
      "Val Loss: 0.9337 | Val Acc: 66.66%\n",
      "Validation accuracy improved from 66.56% to 66.66%, saving model...\n"
     ]
    },
    {
     "name": "stderr",
     "output_type": "stream",
     "text": [
      "Epoch 17/50 [Train]: 100%|██████████| 352/352 [00:27<00:00, 12.76it/s, loss=0.918, acc=67.6]\n",
      "Epoch 17/50 [Val]: 100%|██████████| 40/40 [00:02<00:00, 15.78it/s, loss=0.9, acc=67.8]\n"
     ]
    },
    {
     "name": "stdout",
     "output_type": "stream",
     "text": [
      "Epoch 17/50:\n",
      "Train Loss: 0.9182 | Train Acc: 67.57%\n",
      "Val Loss: 0.9005 | Val Acc: 67.78%\n",
      "Validation accuracy improved from 66.66% to 67.78%, saving model...\n"
     ]
    },
    {
     "name": "stderr",
     "output_type": "stream",
     "text": [
      "Epoch 18/50 [Train]: 100%|██████████| 352/352 [00:27<00:00, 12.78it/s, loss=0.897, acc=68.2]\n",
      "Epoch 18/50 [Val]: 100%|██████████| 40/40 [00:02<00:00, 17.77it/s, loss=0.911, acc=68]\n"
     ]
    },
    {
     "name": "stdout",
     "output_type": "stream",
     "text": [
      "Epoch 18/50:\n",
      "Train Loss: 0.8972 | Train Acc: 68.23%\n",
      "Val Loss: 0.9113 | Val Acc: 67.98%\n",
      "Validation accuracy improved from 67.78% to 67.98%, saving model...\n"
     ]
    },
    {
     "name": "stderr",
     "output_type": "stream",
     "text": [
      "Epoch 19/50 [Train]: 100%|██████████| 352/352 [00:27<00:00, 12.78it/s, loss=0.88, acc=68.9]\n",
      "Epoch 19/50 [Val]: 100%|██████████| 40/40 [00:02<00:00, 17.89it/s, loss=0.87, acc=69.6]\n"
     ]
    },
    {
     "name": "stdout",
     "output_type": "stream",
     "text": [
      "Epoch 19/50:\n",
      "Train Loss: 0.8801 | Train Acc: 68.92%\n",
      "Val Loss: 0.8698 | Val Acc: 69.58%\n",
      "Validation accuracy improved from 67.98% to 69.58%, saving model...\n"
     ]
    },
    {
     "name": "stderr",
     "output_type": "stream",
     "text": [
      "Epoch 20/50 [Train]: 100%|██████████| 352/352 [00:27<00:00, 12.77it/s, loss=0.856, acc=69.7]\n",
      "Epoch 20/50 [Val]: 100%|██████████| 40/40 [00:02<00:00, 17.71it/s, loss=0.856, acc=69.4]\n"
     ]
    },
    {
     "name": "stdout",
     "output_type": "stream",
     "text": [
      "Epoch 20/50:\n",
      "Train Loss: 0.8558 | Train Acc: 69.68%\n",
      "Val Loss: 0.8556 | Val Acc: 69.42%\n"
     ]
    },
    {
     "name": "stderr",
     "output_type": "stream",
     "text": [
      "Epoch 21/50 [Train]: 100%|██████████| 352/352 [00:27<00:00, 12.77it/s, loss=0.837, acc=70.5]\n",
      "Epoch 21/50 [Val]: 100%|██████████| 40/40 [00:02<00:00, 15.26it/s, loss=0.833, acc=69.1]\n"
     ]
    },
    {
     "name": "stdout",
     "output_type": "stream",
     "text": [
      "Epoch 21/50:\n",
      "Train Loss: 0.8371 | Train Acc: 70.50%\n",
      "Val Loss: 0.8334 | Val Acc: 69.06%\n"
     ]
    },
    {
     "name": "stderr",
     "output_type": "stream",
     "text": [
      "Epoch 22/50 [Train]: 100%|██████████| 352/352 [00:27<00:00, 12.75it/s, loss=0.819, acc=70.8]\n",
      "Epoch 22/50 [Val]: 100%|██████████| 40/40 [00:02<00:00, 16.97it/s, loss=0.85, acc=69.5]\n"
     ]
    },
    {
     "name": "stdout",
     "output_type": "stream",
     "text": [
      "Epoch 22/50:\n",
      "Train Loss: 0.8186 | Train Acc: 70.79%\n",
      "Val Loss: 0.8498 | Val Acc: 69.48%\n"
     ]
    },
    {
     "name": "stderr",
     "output_type": "stream",
     "text": [
      "Epoch 23/50 [Train]: 100%|██████████| 352/352 [00:27<00:00, 12.69it/s, loss=0.796, acc=72]\n",
      "Epoch 23/50 [Val]: 100%|██████████| 40/40 [00:02<00:00, 18.30it/s, loss=0.825, acc=71.2]\n"
     ]
    },
    {
     "name": "stdout",
     "output_type": "stream",
     "text": [
      "Epoch 23/50:\n",
      "Train Loss: 0.7964 | Train Acc: 71.97%\n",
      "Val Loss: 0.8246 | Val Acc: 71.20%\n",
      "Validation accuracy improved from 69.58% to 71.20%, saving model...\n"
     ]
    },
    {
     "name": "stderr",
     "output_type": "stream",
     "text": [
      "Epoch 24/50 [Train]: 100%|██████████| 352/352 [00:27<00:00, 12.58it/s, loss=0.785, acc=72.2]\n",
      "Epoch 24/50 [Val]: 100%|██████████| 40/40 [00:02<00:00, 17.39it/s, loss=0.826, acc=70.8]\n"
     ]
    },
    {
     "name": "stdout",
     "output_type": "stream",
     "text": [
      "Epoch 24/50:\n",
      "Train Loss: 0.7848 | Train Acc: 72.21%\n",
      "Val Loss: 0.8257 | Val Acc: 70.84%\n"
     ]
    },
    {
     "name": "stderr",
     "output_type": "stream",
     "text": [
      "Epoch 25/50 [Train]: 100%|██████████| 352/352 [00:28<00:00, 12.55it/s, loss=0.77, acc=73]\n",
      "Epoch 25/50 [Val]: 100%|██████████| 40/40 [00:02<00:00, 17.39it/s, loss=0.844, acc=71]\n"
     ]
    },
    {
     "name": "stdout",
     "output_type": "stream",
     "text": [
      "Epoch 25/50:\n",
      "Train Loss: 0.7700 | Train Acc: 72.96%\n",
      "Val Loss: 0.8436 | Val Acc: 71.04%\n"
     ]
    },
    {
     "name": "stderr",
     "output_type": "stream",
     "text": [
      "Epoch 26/50 [Train]: 100%|██████████| 352/352 [00:27<00:00, 12.61it/s, loss=0.757, acc=73]\n",
      "Epoch 26/50 [Val]: 100%|██████████| 40/40 [00:02<00:00, 17.97it/s, loss=0.787, acc=71.7]\n"
     ]
    },
    {
     "name": "stdout",
     "output_type": "stream",
     "text": [
      "Epoch 26/50:\n",
      "Train Loss: 0.7574 | Train Acc: 73.02%\n",
      "Val Loss: 0.7872 | Val Acc: 71.68%\n",
      "Validation accuracy improved from 71.20% to 71.68%, saving model...\n"
     ]
    },
    {
     "name": "stderr",
     "output_type": "stream",
     "text": [
      "Epoch 27/50 [Train]: 100%|██████████| 352/352 [00:27<00:00, 12.69it/s, loss=0.731, acc=74.2]\n",
      "Epoch 27/50 [Val]: 100%|██████████| 40/40 [00:02<00:00, 17.01it/s, loss=0.788, acc=72.3]\n"
     ]
    },
    {
     "name": "stdout",
     "output_type": "stream",
     "text": [
      "Epoch 27/50:\n",
      "Train Loss: 0.7309 | Train Acc: 74.15%\n",
      "Val Loss: 0.7875 | Val Acc: 72.26%\n",
      "Validation accuracy improved from 71.68% to 72.26%, saving model...\n"
     ]
    },
    {
     "name": "stderr",
     "output_type": "stream",
     "text": [
      "Epoch 28/50 [Train]: 100%|██████████| 352/352 [00:27<00:00, 12.69it/s, loss=0.716, acc=74.7]\n",
      "Epoch 28/50 [Val]: 100%|██████████| 40/40 [00:02<00:00, 18.53it/s, loss=0.746, acc=74.2]\n"
     ]
    },
    {
     "name": "stdout",
     "output_type": "stream",
     "text": [
      "Epoch 28/50:\n",
      "Train Loss: 0.7160 | Train Acc: 74.72%\n",
      "Val Loss: 0.7463 | Val Acc: 74.22%\n",
      "Validation accuracy improved from 72.26% to 74.22%, saving model...\n"
     ]
    },
    {
     "name": "stderr",
     "output_type": "stream",
     "text": [
      "Epoch 29/50 [Train]: 100%|██████████| 352/352 [00:27<00:00, 12.67it/s, loss=0.702, acc=75.1]\n",
      "Epoch 29/50 [Val]: 100%|██████████| 40/40 [00:02<00:00, 17.69it/s, loss=0.777, acc=72.5]\n"
     ]
    },
    {
     "name": "stdout",
     "output_type": "stream",
     "text": [
      "Epoch 29/50:\n",
      "Train Loss: 0.7023 | Train Acc: 75.08%\n",
      "Val Loss: 0.7772 | Val Acc: 72.52%\n"
     ]
    },
    {
     "name": "stderr",
     "output_type": "stream",
     "text": [
      "Epoch 30/50 [Train]: 100%|██████████| 352/352 [00:27<00:00, 12.67it/s, loss=0.687, acc=75.7]\n",
      "Epoch 30/50 [Val]: 100%|██████████| 40/40 [00:02<00:00, 17.21it/s, loss=0.795, acc=72.3]\n"
     ]
    },
    {
     "name": "stdout",
     "output_type": "stream",
     "text": [
      "Epoch 30/50:\n",
      "Train Loss: 0.6873 | Train Acc: 75.66%\n",
      "Val Loss: 0.7946 | Val Acc: 72.34%\n"
     ]
    },
    {
     "name": "stderr",
     "output_type": "stream",
     "text": [
      "Epoch 31/50 [Train]: 100%|██████████| 352/352 [00:27<00:00, 12.78it/s, loss=0.684, acc=75.8]\n",
      "Epoch 31/50 [Val]: 100%|██████████| 40/40 [00:02<00:00, 15.56it/s, loss=0.744, acc=73.9]\n"
     ]
    },
    {
     "name": "stdout",
     "output_type": "stream",
     "text": [
      "Epoch 31/50:\n",
      "Train Loss: 0.6836 | Train Acc: 75.76%\n",
      "Val Loss: 0.7441 | Val Acc: 73.88%\n"
     ]
    },
    {
     "name": "stderr",
     "output_type": "stream",
     "text": [
      "Epoch 32/50 [Train]: 100%|██████████| 352/352 [00:27<00:00, 12.73it/s, loss=0.671, acc=76.4]\n",
      "Epoch 32/50 [Val]: 100%|██████████| 40/40 [00:02<00:00, 14.61it/s, loss=0.729, acc=74.3]\n"
     ]
    },
    {
     "name": "stdout",
     "output_type": "stream",
     "text": [
      "Epoch 32/50:\n",
      "Train Loss: 0.6709 | Train Acc: 76.37%\n",
      "Val Loss: 0.7291 | Val Acc: 74.28%\n",
      "Validation accuracy improved from 74.22% to 74.28%, saving model...\n"
     ]
    },
    {
     "name": "stderr",
     "output_type": "stream",
     "text": [
      "Epoch 33/50 [Train]: 100%|██████████| 352/352 [00:27<00:00, 12.72it/s, loss=0.659, acc=76.7]\n",
      "Epoch 33/50 [Val]: 100%|██████████| 40/40 [00:02<00:00, 18.52it/s, loss=0.721, acc=74.6]\n"
     ]
    },
    {
     "name": "stdout",
     "output_type": "stream",
     "text": [
      "Epoch 33/50:\n",
      "Train Loss: 0.6593 | Train Acc: 76.68%\n",
      "Val Loss: 0.7211 | Val Acc: 74.64%\n",
      "Validation accuracy improved from 74.28% to 74.64%, saving model...\n"
     ]
    },
    {
     "name": "stderr",
     "output_type": "stream",
     "text": [
      "Epoch 34/50 [Train]: 100%|██████████| 352/352 [00:27<00:00, 12.72it/s, loss=0.64, acc=77.3]\n",
      "Epoch 34/50 [Val]: 100%|██████████| 40/40 [00:02<00:00, 18.66it/s, loss=0.743, acc=74.9]\n"
     ]
    },
    {
     "name": "stdout",
     "output_type": "stream",
     "text": [
      "Epoch 34/50:\n",
      "Train Loss: 0.6400 | Train Acc: 77.31%\n",
      "Val Loss: 0.7429 | Val Acc: 74.90%\n",
      "Validation accuracy improved from 74.64% to 74.90%, saving model...\n"
     ]
    },
    {
     "name": "stderr",
     "output_type": "stream",
     "text": [
      "Epoch 35/50 [Train]: 100%|██████████| 352/352 [00:27<00:00, 12.64it/s, loss=0.625, acc=77.9]\n",
      "Epoch 35/50 [Val]: 100%|██████████| 40/40 [00:02<00:00, 18.17it/s, loss=0.718, acc=75.4]\n"
     ]
    },
    {
     "name": "stdout",
     "output_type": "stream",
     "text": [
      "Epoch 35/50:\n",
      "Train Loss: 0.6249 | Train Acc: 77.93%\n",
      "Val Loss: 0.7180 | Val Acc: 75.40%\n",
      "Validation accuracy improved from 74.90% to 75.40%, saving model...\n"
     ]
    },
    {
     "name": "stderr",
     "output_type": "stream",
     "text": [
      "Epoch 36/50 [Train]: 100%|██████████| 352/352 [00:27<00:00, 12.67it/s, loss=0.622, acc=78.1]\n",
      "Epoch 36/50 [Val]: 100%|██████████| 40/40 [00:02<00:00, 18.29it/s, loss=0.724, acc=75]\n"
     ]
    },
    {
     "name": "stdout",
     "output_type": "stream",
     "text": [
      "Epoch 36/50:\n",
      "Train Loss: 0.6219 | Train Acc: 78.05%\n",
      "Val Loss: 0.7243 | Val Acc: 75.00%\n"
     ]
    },
    {
     "name": "stderr",
     "output_type": "stream",
     "text": [
      "Epoch 37/50 [Train]: 100%|██████████| 352/352 [00:27<00:00, 12.74it/s, loss=0.611, acc=78.4]\n",
      "Epoch 37/50 [Val]: 100%|██████████| 40/40 [00:02<00:00, 18.33it/s, loss=0.683, acc=76.1]\n"
     ]
    },
    {
     "name": "stdout",
     "output_type": "stream",
     "text": [
      "Epoch 37/50:\n",
      "Train Loss: 0.6109 | Train Acc: 78.42%\n",
      "Val Loss: 0.6830 | Val Acc: 76.14%\n",
      "Validation accuracy improved from 75.40% to 76.14%, saving model...\n"
     ]
    },
    {
     "name": "stderr",
     "output_type": "stream",
     "text": [
      "Epoch 38/50 [Train]: 100%|██████████| 352/352 [00:27<00:00, 12.77it/s, loss=0.607, acc=78.4]\n",
      "Epoch 38/50 [Val]: 100%|██████████| 40/40 [00:02<00:00, 17.53it/s, loss=0.696, acc=75.7]\n"
     ]
    },
    {
     "name": "stdout",
     "output_type": "stream",
     "text": [
      "Epoch 38/50:\n",
      "Train Loss: 0.6072 | Train Acc: 78.44%\n",
      "Val Loss: 0.6964 | Val Acc: 75.70%\n"
     ]
    },
    {
     "name": "stderr",
     "output_type": "stream",
     "text": [
      "Epoch 39/50 [Train]: 100%|██████████| 352/352 [00:27<00:00, 12.76it/s, loss=0.599, acc=78.8]\n",
      "Epoch 39/50 [Val]: 100%|██████████| 40/40 [00:02<00:00, 18.55it/s, loss=0.684, acc=76.4]\n"
     ]
    },
    {
     "name": "stdout",
     "output_type": "stream",
     "text": [
      "Epoch 39/50:\n",
      "Train Loss: 0.5993 | Train Acc: 78.83%\n",
      "Val Loss: 0.6836 | Val Acc: 76.42%\n",
      "Validation accuracy improved from 76.14% to 76.42%, saving model...\n"
     ]
    },
    {
     "name": "stderr",
     "output_type": "stream",
     "text": [
      "Epoch 40/50 [Train]: 100%|██████████| 352/352 [00:27<00:00, 12.76it/s, loss=0.588, acc=79.2]\n",
      "Epoch 40/50 [Val]: 100%|██████████| 40/40 [00:02<00:00, 16.73it/s, loss=0.689, acc=75.8]\n"
     ]
    },
    {
     "name": "stdout",
     "output_type": "stream",
     "text": [
      "Epoch 40/50:\n",
      "Train Loss: 0.5877 | Train Acc: 79.20%\n",
      "Val Loss: 0.6891 | Val Acc: 75.84%\n"
     ]
    },
    {
     "name": "stderr",
     "output_type": "stream",
     "text": [
      "Epoch 41/50 [Train]: 100%|██████████| 352/352 [00:27<00:00, 12.77it/s, loss=0.575, acc=79.6]\n",
      "Epoch 41/50 [Val]: 100%|██████████| 40/40 [00:02<00:00, 15.96it/s, loss=0.683, acc=76.2]\n"
     ]
    },
    {
     "name": "stdout",
     "output_type": "stream",
     "text": [
      "Epoch 41/50:\n",
      "Train Loss: 0.5750 | Train Acc: 79.59%\n",
      "Val Loss: 0.6829 | Val Acc: 76.22%\n"
     ]
    },
    {
     "name": "stderr",
     "output_type": "stream",
     "text": [
      "Epoch 42/50 [Train]: 100%|██████████| 352/352 [00:27<00:00, 12.75it/s, loss=0.572, acc=79.6]\n",
      "Epoch 42/50 [Val]: 100%|██████████| 40/40 [00:02<00:00, 18.33it/s, loss=0.665, acc=76.8]\n"
     ]
    },
    {
     "name": "stdout",
     "output_type": "stream",
     "text": [
      "Epoch 42/50:\n",
      "Train Loss: 0.5717 | Train Acc: 79.65%\n",
      "Val Loss: 0.6653 | Val Acc: 76.78%\n",
      "Validation accuracy improved from 76.42% to 76.78%, saving model...\n"
     ]
    },
    {
     "name": "stderr",
     "output_type": "stream",
     "text": [
      "Epoch 43/50 [Train]: 100%|██████████| 352/352 [00:27<00:00, 12.76it/s, loss=0.568, acc=80]\n",
      "Epoch 43/50 [Val]: 100%|██████████| 40/40 [00:02<00:00, 16.16it/s, loss=0.692, acc=76.1]\n"
     ]
    },
    {
     "name": "stdout",
     "output_type": "stream",
     "text": [
      "Epoch 43/50:\n",
      "Train Loss: 0.5679 | Train Acc: 79.96%\n",
      "Val Loss: 0.6920 | Val Acc: 76.12%\n"
     ]
    },
    {
     "name": "stderr",
     "output_type": "stream",
     "text": [
      "Epoch 44/50 [Train]: 100%|██████████| 352/352 [00:27<00:00, 12.78it/s, loss=0.558, acc=80.2]\n",
      "Epoch 44/50 [Val]: 100%|██████████| 40/40 [00:02<00:00, 17.06it/s, loss=0.714, acc=76.1]\n"
     ]
    },
    {
     "name": "stdout",
     "output_type": "stream",
     "text": [
      "Epoch 44/50:\n",
      "Train Loss: 0.5582 | Train Acc: 80.17%\n",
      "Val Loss: 0.7142 | Val Acc: 76.06%\n"
     ]
    },
    {
     "name": "stderr",
     "output_type": "stream",
     "text": [
      "Epoch 45/50 [Train]: 100%|██████████| 352/352 [00:27<00:00, 12.77it/s, loss=0.556, acc=80.2]\n",
      "Epoch 45/50 [Val]: 100%|██████████| 40/40 [00:02<00:00, 18.13it/s, loss=0.697, acc=76.4]\n"
     ]
    },
    {
     "name": "stdout",
     "output_type": "stream",
     "text": [
      "Epoch 45/50:\n",
      "Train Loss: 0.5559 | Train Acc: 80.21%\n",
      "Val Loss: 0.6969 | Val Acc: 76.40%\n"
     ]
    },
    {
     "name": "stderr",
     "output_type": "stream",
     "text": [
      "Epoch 46/50 [Train]: 100%|██████████| 352/352 [00:27<00:00, 12.77it/s, loss=0.551, acc=80.7]\n",
      "Epoch 46/50 [Val]: 100%|██████████| 40/40 [00:02<00:00, 18.59it/s, loss=0.685, acc=76.4]\n"
     ]
    },
    {
     "name": "stdout",
     "output_type": "stream",
     "text": [
      "Epoch 46/50:\n",
      "Train Loss: 0.5509 | Train Acc: 80.68%\n",
      "Val Loss: 0.6851 | Val Acc: 76.44%\n"
     ]
    },
    {
     "name": "stderr",
     "output_type": "stream",
     "text": [
      "Epoch 47/50 [Train]: 100%|██████████| 352/352 [00:27<00:00, 12.77it/s, loss=0.551, acc=80.5]\n",
      "Epoch 47/50 [Val]: 100%|██████████| 40/40 [00:02<00:00, 18.41it/s, loss=0.691, acc=76.7]\n"
     ]
    },
    {
     "name": "stdout",
     "output_type": "stream",
     "text": [
      "Epoch 47/50:\n",
      "Train Loss: 0.5513 | Train Acc: 80.54%\n",
      "Val Loss: 0.6905 | Val Acc: 76.74%\n"
     ]
    },
    {
     "name": "stderr",
     "output_type": "stream",
     "text": [
      "Epoch 48/50 [Train]: 100%|██████████| 352/352 [00:27<00:00, 12.78it/s, loss=0.552, acc=80.4]\n",
      "Epoch 48/50 [Val]: 100%|██████████| 40/40 [00:02<00:00, 17.85it/s, loss=0.699, acc=76]\n"
     ]
    },
    {
     "name": "stdout",
     "output_type": "stream",
     "text": [
      "Epoch 48/50:\n",
      "Train Loss: 0.5521 | Train Acc: 80.37%\n",
      "Val Loss: 0.6987 | Val Acc: 76.02%\n"
     ]
    },
    {
     "name": "stderr",
     "output_type": "stream",
     "text": [
      "Epoch 49/50 [Train]: 100%|██████████| 352/352 [00:27<00:00, 12.79it/s, loss=0.549, acc=80.3]\n",
      "Epoch 49/50 [Val]: 100%|██████████| 40/40 [00:02<00:00, 15.50it/s, loss=0.662, acc=76.4]\n"
     ]
    },
    {
     "name": "stdout",
     "output_type": "stream",
     "text": [
      "Epoch 49/50:\n",
      "Train Loss: 0.5485 | Train Acc: 80.28%\n",
      "Val Loss: 0.6624 | Val Acc: 76.44%\n"
     ]
    },
    {
     "name": "stderr",
     "output_type": "stream",
     "text": [
      "Epoch 50/50 [Train]: 100%|██████████| 352/352 [00:27<00:00, 12.77it/s, loss=0.549, acc=80.6]\n",
      "Epoch 50/50 [Val]: 100%|██████████| 40/40 [00:02<00:00, 18.25it/s, loss=0.7, acc=75.7]\n"
     ]
    },
    {
     "name": "stdout",
     "output_type": "stream",
     "text": [
      "Epoch 50/50:\n",
      "Train Loss: 0.5493 | Train Acc: 80.62%\n",
      "Val Loss: 0.7004 | Val Acc: 75.70%\n",
      "Best validation accuracy: 76.78%\n"
     ]
    },
    {
     "name": "stderr",
     "output_type": "stream",
     "text": [
      "Evaluating on test set: 100%|██████████| 79/79 [00:01<00:00, 40.45it/s]\n"
     ]
    },
    {
     "name": "stdout",
     "output_type": "stream",
     "text": [
      "Test accuracy: 81.23%\n"
     ]
    },
    {
     "data": {
      "image/png": "[encoded data removed]",
      "text/plain": [
       "<Figure size 1000x500 with 1 Axes>"
      ]
     },
     "metadata": {},
     "output_type": "display_data"
    },
    {
     "data": {
      "image/png": "[encoded data removed]",
      "text/plain": [
       "<Figure size 1000x500 with 1 Axes>"
      ]
     },
     "metadata": {},
     "output_type": "display_data"
    },
    {
     "name": "stdout",
     "output_type": "stream",
     "text": [
      "\n",
      "\n",
      "==================================================\n",
      "Testing positional embedding type: 2d_learned\n",
      "==================================================\n",
      "\n",
      "Using device: cuda\n"
     ]
    },
    {
     "name": "stderr",
     "output_type": "stream",
     "text": [
      "Epoch 1/50 [Train]: 100%|██████████| 352/352 [00:31<00:00, 11.01it/s, loss=1.94, acc=27.4]\n",
      "Epoch 1/50 [Val]: 100%|██████████| 40/40 [00:02<00:00, 17.84it/s, loss=1.76, acc=35.3]\n"
     ]
    },
    {
     "name": "stdout",
     "output_type": "stream",
     "text": [
      "Epoch 1/50:\n",
      "Train Loss: 1.9429 | Train Acc: 27.40%\n",
      "Val Loss: 1.7569 | Val Acc: 35.30%\n",
      "Validation accuracy improved from 0.00% to 35.30%, saving model...\n"
     ]
    },
    {
     "name": "stderr",
     "output_type": "stream",
     "text": [
      "Epoch 2/50 [Train]: 100%|██████████| 352/352 [00:31<00:00, 11.02it/s, loss=1.65, acc=39.2]\n",
      "Epoch 2/50 [Val]: 100%|██████████| 40/40 [00:02<00:00, 17.82it/s, loss=1.56, acc=42.6]\n"
     ]
    },
    {
     "name": "stdout",
     "output_type": "stream",
     "text": [
      "Epoch 2/50:\n",
      "Train Loss: 1.6523 | Train Acc: 39.23%\n",
      "Val Loss: 1.5603 | Val Acc: 42.64%\n",
      "Validation accuracy improved from 35.30% to 42.64%, saving model...\n"
     ]
    },
    {
     "name": "stderr",
     "output_type": "stream",
     "text": [
      "Epoch 3/50 [Train]: 100%|██████████| 352/352 [00:32<00:00, 10.91it/s, loss=1.49, acc=45.9]\n",
      "Epoch 3/50 [Val]: 100%|██████████| 40/40 [00:02<00:00, 17.12it/s, loss=1.39, acc=49.3]\n"
     ]
    },
    {
     "name": "stdout",
     "output_type": "stream",
     "text": [
      "Epoch 3/50:\n",
      "Train Loss: 1.4894 | Train Acc: 45.90%\n",
      "Val Loss: 1.3891 | Val Acc: 49.28%\n",
      "Validation accuracy improved from 42.64% to 49.28%, saving model...\n"
     ]
    },
    {
     "name": "stderr",
     "output_type": "stream",
     "text": [
      "Epoch 4/50 [Train]: 100%|██████████| 352/352 [00:32<00:00, 10.96it/s, loss=1.39, acc=49.5]\n",
      "Epoch 4/50 [Val]: 100%|██████████| 40/40 [00:02<00:00, 16.65it/s, loss=1.33, acc=50.8]\n"
     ]
    },
    {
     "name": "stdout",
     "output_type": "stream",
     "text": [
      "Epoch 4/50:\n",
      "Train Loss: 1.3906 | Train Acc: 49.50%\n",
      "Val Loss: 1.3347 | Val Acc: 50.82%\n",
      "Validation accuracy improved from 49.28% to 50.82%, saving model...\n"
     ]
    },
    {
     "name": "stderr",
     "output_type": "stream",
     "text": [
      "Epoch 5/50 [Train]: 100%|██████████| 352/352 [00:32<00:00, 10.97it/s, loss=1.32, acc=52.2]\n",
      "Epoch 5/50 [Val]: 100%|██████████| 40/40 [00:02<00:00, 16.25it/s, loss=1.26, acc=55.3]\n"
     ]
    },
    {
     "name": "stdout",
     "output_type": "stream",
     "text": [
      "Epoch 5/50:\n",
      "Train Loss: 1.3184 | Train Acc: 52.19%\n",
      "Val Loss: 1.2575 | Val Acc: 55.34%\n",
      "Validation accuracy improved from 50.82% to 55.34%, saving model...\n"
     ]
    },
    {
     "name": "stderr",
     "output_type": "stream",
     "text": [
      "Epoch 6/50 [Train]: 100%|██████████| 352/352 [00:32<00:00, 10.94it/s, loss=1.26, acc=54.6]\n",
      "Epoch 6/50 [Val]: 100%|██████████| 40/40 [00:02<00:00, 16.99it/s, loss=1.19, acc=56.6]\n"
     ]
    },
    {
     "name": "stdout",
     "output_type": "stream",
     "text": [
      "Epoch 6/50:\n",
      "Train Loss: 1.2572 | Train Acc: 54.59%\n",
      "Val Loss: 1.1940 | Val Acc: 56.64%\n",
      "Validation accuracy improved from 55.34% to 56.64%, saving model...\n"
     ]
    },
    {
     "name": "stderr",
     "output_type": "stream",
     "text": [
      "Epoch 7/50 [Train]: 100%|██████████| 352/352 [00:32<00:00, 10.86it/s, loss=1.2, acc=57.1]\n",
      "Epoch 7/50 [Val]: 100%|██████████| 40/40 [00:02<00:00, 14.39it/s, loss=1.16, acc=58.4]\n"
     ]
    },
    {
     "name": "stdout",
     "output_type": "stream",
     "text": [
      "Epoch 7/50:\n",
      "Train Loss: 1.2042 | Train Acc: 57.06%\n",
      "Val Loss: 1.1623 | Val Acc: 58.42%\n",
      "Validation accuracy improved from 56.64% to 58.42%, saving model...\n"
     ]
    },
    {
     "name": "stderr",
     "output_type": "stream",
     "text": [
      "Epoch 8/50 [Train]: 100%|██████████| 352/352 [00:31<00:00, 11.06it/s, loss=1.17, acc=58.2]\n",
      "Epoch 8/50 [Val]: 100%|██████████| 40/40 [00:02<00:00, 15.81it/s, loss=1.13, acc=58.9]\n"
     ]
    },
    {
     "name": "stdout",
     "output_type": "stream",
     "text": [
      "Epoch 8/50:\n",
      "Train Loss: 1.1653 | Train Acc: 58.23%\n",
      "Val Loss: 1.1269 | Val Acc: 58.92%\n",
      "Validation accuracy improved from 58.42% to 58.92%, saving model...\n"
     ]
    },
    {
     "name": "stderr",
     "output_type": "stream",
     "text": [
      "Epoch 9/50 [Train]: 100%|██████████| 352/352 [00:32<00:00, 10.94it/s, loss=1.12, acc=60.2]\n",
      "Epoch 9/50 [Val]: 100%|██████████| 40/40 [00:02<00:00, 15.38it/s, loss=1.07, acc=61.3]\n"
     ]
    },
    {
     "name": "stdout",
     "output_type": "stream",
     "text": [
      "Epoch 9/50:\n",
      "Train Loss: 1.1152 | Train Acc: 60.19%\n",
      "Val Loss: 1.0730 | Val Acc: 61.32%\n",
      "Validation accuracy improved from 58.92% to 61.32%, saving model...\n"
     ]
    },
    {
     "name": "stderr",
     "output_type": "stream",
     "text": [
      "Epoch 10/50 [Train]: 100%|██████████| 352/352 [00:32<00:00, 10.96it/s, loss=1.08, acc=61.7]\n",
      "Epoch 10/50 [Val]: 100%|██████████| 40/40 [00:02<00:00, 14.42it/s, loss=1.06, acc=62.1]\n"
     ]
    },
    {
     "name": "stdout",
     "output_type": "stream",
     "text": [
      "Epoch 10/50:\n",
      "Train Loss: 1.0814 | Train Acc: 61.66%\n",
      "Val Loss: 1.0589 | Val Acc: 62.10%\n",
      "Validation accuracy improved from 61.32% to 62.10%, saving model...\n"
     ]
    },
    {
     "name": "stderr",
     "output_type": "stream",
     "text": [
      "Epoch 11/50 [Train]: 100%|██████████| 352/352 [00:32<00:00, 10.96it/s, loss=1.04, acc=62.9]\n",
      "Epoch 11/50 [Val]: 100%|██████████| 40/40 [00:02<00:00, 14.52it/s, loss=1.02, acc=63.3]\n"
     ]
    },
    {
     "name": "stdout",
     "output_type": "stream",
     "text": [
      "Epoch 11/50:\n",
      "Train Loss: 1.0429 | Train Acc: 62.92%\n",
      "Val Loss: 1.0160 | Val Acc: 63.30%\n",
      "Validation accuracy improved from 62.10% to 63.30%, saving model...\n"
     ]
    },
    {
     "name": "stderr",
     "output_type": "stream",
     "text": [
      "Epoch 12/50 [Train]: 100%|██████████| 352/352 [00:32<00:00, 10.99it/s, loss=1.01, acc=64.4]\n",
      "Epoch 12/50 [Val]: 100%|██████████| 40/40 [00:02<00:00, 14.37it/s, loss=0.969, acc=65.3]\n"
     ]
    },
    {
     "name": "stdout",
     "output_type": "stream",
     "text": [
      "Epoch 12/50:\n",
      "Train Loss: 1.0099 | Train Acc: 64.39%\n",
      "Val Loss: 0.9694 | Val Acc: 65.28%\n",
      "Validation accuracy improved from 63.30% to 65.28%, saving model...\n"
     ]
    },
    {
     "name": "stderr",
     "output_type": "stream",
     "text": [
      "Epoch 13/50 [Train]: 100%|██████████| 352/352 [00:31<00:00, 11.02it/s, loss=0.982, acc=65.5]\n",
      "Epoch 13/50 [Val]: 100%|██████████| 40/40 [00:02<00:00, 15.33it/s, loss=1, acc=64.8]\n"
     ]
    },
    {
     "name": "stdout",
     "output_type": "stream",
     "text": [
      "Epoch 13/50:\n",
      "Train Loss: 0.9824 | Train Acc: 65.47%\n",
      "Val Loss: 1.0035 | Val Acc: 64.76%\n"
     ]
    },
    {
     "name": "stderr",
     "output_type": "stream",
     "text": [
      "Epoch 14/50 [Train]: 100%|██████████| 352/352 [00:32<00:00, 10.93it/s, loss=0.956, acc=66]\n",
      "Epoch 14/50 [Val]: 100%|██████████| 40/40 [00:02<00:00, 15.05it/s, loss=0.921, acc=67]\n"
     ]
    },
    {
     "name": "stdout",
     "output_type": "stream",
     "text": [
      "Epoch 14/50:\n",
      "Train Loss: 0.9555 | Train Acc: 65.95%\n",
      "Val Loss: 0.9212 | Val Acc: 67.02%\n",
      "Validation accuracy improved from 65.28% to 67.02%, saving model...\n"
     ]
    },
    {
     "name": "stderr",
     "output_type": "stream",
     "text": [
      "Epoch 15/50 [Train]: 100%|██████████| 352/352 [00:32<00:00, 10.99it/s, loss=0.936, acc=66.7]\n",
      "Epoch 15/50 [Val]: 100%|██████████| 40/40 [00:02<00:00, 14.39it/s, loss=0.916, acc=67.4]\n"
     ]
    },
    {
     "name": "stdout",
     "output_type": "stream",
     "text": [
      "Epoch 15/50:\n",
      "Train Loss: 0.9356 | Train Acc: 66.73%\n",
      "Val Loss: 0.9157 | Val Acc: 67.44%\n",
      "Validation accuracy improved from 67.02% to 67.44%, saving model...\n"
     ]
    },
    {
     "name": "stderr",
     "output_type": "stream",
     "text": [
      "Epoch 16/50 [Train]: 100%|██████████| 352/352 [00:31<00:00, 11.01it/s, loss=0.908, acc=67.9]\n",
      "Epoch 16/50 [Val]: 100%|██████████| 40/40 [00:02<00:00, 14.47it/s, loss=0.889, acc=68.2]\n"
     ]
    },
    {
     "name": "stdout",
     "output_type": "stream",
     "text": [
      "Epoch 16/50:\n",
      "Train Loss: 0.9081 | Train Acc: 67.86%\n",
      "Val Loss: 0.8887 | Val Acc: 68.20%\n",
      "Validation accuracy improved from 67.44% to 68.20%, saving model...\n"
     ]
    },
    {
     "name": "stderr",
     "output_type": "stream",
     "text": [
      "Epoch 17/50 [Train]: 100%|██████████| 352/352 [00:32<00:00, 10.98it/s, loss=0.888, acc=68.6]\n",
      "Epoch 17/50 [Val]: 100%|██████████| 40/40 [00:02<00:00, 15.28it/s, loss=0.889, acc=68.6]\n"
     ]
    },
    {
     "name": "stdout",
     "output_type": "stream",
     "text": [
      "Epoch 17/50:\n",
      "Train Loss: 0.8884 | Train Acc: 68.57%\n",
      "Val Loss: 0.8892 | Val Acc: 68.60%\n",
      "Validation accuracy improved from 68.20% to 68.60%, saving model...\n"
     ]
    },
    {
     "name": "stderr",
     "output_type": "stream",
     "text": [
      "Epoch 18/50 [Train]: 100%|██████████| 352/352 [00:31<00:00, 11.06it/s, loss=0.863, acc=69.6]\n",
      "Epoch 18/50 [Val]: 100%|██████████| 40/40 [00:02<00:00, 14.31it/s, loss=0.851, acc=69.9]\n"
     ]
    },
    {
     "name": "stdout",
     "output_type": "stream",
     "text": [
      "Epoch 18/50:\n",
      "Train Loss: 0.8629 | Train Acc: 69.63%\n",
      "Val Loss: 0.8508 | Val Acc: 69.92%\n",
      "Validation accuracy improved from 68.60% to 69.92%, saving model...\n"
     ]
    },
    {
     "name": "stderr",
     "output_type": "stream",
     "text": [
      "Epoch 19/50 [Train]: 100%|██████████| 352/352 [00:31<00:00, 11.01it/s, loss=0.838, acc=70.4]\n",
      "Epoch 19/50 [Val]: 100%|██████████| 40/40 [00:02<00:00, 14.09it/s, loss=0.818, acc=70.6]\n"
     ]
    },
    {
     "name": "stdout",
     "output_type": "stream",
     "text": [
      "Epoch 19/50:\n",
      "Train Loss: 0.8378 | Train Acc: 70.42%\n",
      "Val Loss: 0.8179 | Val Acc: 70.60%\n",
      "Validation accuracy improved from 69.92% to 70.60%, saving model...\n"
     ]
    },
    {
     "name": "stderr",
     "output_type": "stream",
     "text": [
      "Epoch 20/50 [Train]: 100%|██████████| 352/352 [00:32<00:00, 10.96it/s, loss=0.829, acc=70.8]\n",
      "Epoch 20/50 [Val]: 100%|██████████| 40/40 [00:02<00:00, 13.43it/s, loss=0.815, acc=71]\n"
     ]
    },
    {
     "name": "stdout",
     "output_type": "stream",
     "text": [
      "Epoch 20/50:\n",
      "Train Loss: 0.8291 | Train Acc: 70.80%\n",
      "Val Loss: 0.8151 | Val Acc: 71.00%\n",
      "Validation accuracy improved from 70.60% to 71.00%, saving model...\n"
     ]
    },
    {
     "name": "stderr",
     "output_type": "stream",
     "text": [
      "Epoch 21/50 [Train]: 100%|██████████| 352/352 [00:32<00:00, 10.90it/s, loss=0.808, acc=71.5]\n",
      "Epoch 21/50 [Val]: 100%|██████████| 40/40 [00:02<00:00, 13.90it/s, loss=0.834, acc=70.2]\n"
     ]
    },
    {
     "name": "stdout",
     "output_type": "stream",
     "text": [
      "Epoch 21/50:\n",
      "Train Loss: 0.8079 | Train Acc: 71.49%\n",
      "Val Loss: 0.8340 | Val Acc: 70.24%\n"
     ]
    },
    {
     "name": "stderr",
     "output_type": "stream",
     "text": [
      "Epoch 22/50 [Train]: 100%|██████████| 352/352 [00:31<00:00, 11.01it/s, loss=0.781, acc=72.5]\n",
      "Epoch 22/50 [Val]: 100%|██████████| 40/40 [00:02<00:00, 14.12it/s, loss=0.817, acc=70.5]\n"
     ]
    },
    {
     "name": "stdout",
     "output_type": "stream",
     "text": [
      "Epoch 22/50:\n",
      "Train Loss: 0.7815 | Train Acc: 72.50%\n",
      "Val Loss: 0.8168 | Val Acc: 70.50%\n"
     ]
    },
    {
     "name": "stderr",
     "output_type": "stream",
     "text": [
      "Epoch 23/50 [Train]: 100%|██████████| 352/352 [00:31<00:00, 11.03it/s, loss=0.77, acc=72.7]\n",
      "Epoch 23/50 [Val]: 100%|██████████| 40/40 [00:02<00:00, 14.25it/s, loss=0.791, acc=72.2]\n"
     ]
    },
    {
     "name": "stdout",
     "output_type": "stream",
     "text": [
      "Epoch 23/50:\n",
      "Train Loss: 0.7700 | Train Acc: 72.73%\n",
      "Val Loss: 0.7908 | Val Acc: 72.18%\n",
      "Validation accuracy improved from 71.00% to 72.18%, saving model...\n"
     ]
    },
    {
     "name": "stderr",
     "output_type": "stream",
     "text": [
      "Epoch 24/50 [Train]: 100%|██████████| 352/352 [00:31<00:00, 11.02it/s, loss=0.759, acc=73]\n",
      "Epoch 24/50 [Val]: 100%|██████████| 40/40 [00:02<00:00, 14.17it/s, loss=0.793, acc=72.2]\n"
     ]
    },
    {
     "name": "stdout",
     "output_type": "stream",
     "text": [
      "Epoch 24/50:\n",
      "Train Loss: 0.7589 | Train Acc: 72.96%\n",
      "Val Loss: 0.7927 | Val Acc: 72.20%\n",
      "Validation accuracy improved from 72.18% to 72.20%, saving model...\n"
     ]
    },
    {
     "name": "stderr",
     "output_type": "stream",
     "text": [
      "Epoch 25/50 [Train]: 100%|██████████| 352/352 [00:32<00:00, 10.95it/s, loss=0.744, acc=73.9]\n",
      "Epoch 25/50 [Val]: 100%|██████████| 40/40 [00:02<00:00, 14.17it/s, loss=0.769, acc=73]\n"
     ]
    },
    {
     "name": "stdout",
     "output_type": "stream",
     "text": [
      "Epoch 25/50:\n",
      "Train Loss: 0.7440 | Train Acc: 73.92%\n",
      "Val Loss: 0.7691 | Val Acc: 73.02%\n",
      "Validation accuracy improved from 72.20% to 73.02%, saving model...\n"
     ]
    },
    {
     "name": "stderr",
     "output_type": "stream",
     "text": [
      "Epoch 26/50 [Train]: 100%|██████████| 352/352 [00:32<00:00, 10.83it/s, loss=0.731, acc=74.4]\n",
      "Epoch 26/50 [Val]: 100%|██████████| 40/40 [00:02<00:00, 13.36it/s, loss=0.745, acc=74.7]\n"
     ]
    },
    {
     "name": "stdout",
     "output_type": "stream",
     "text": [
      "Epoch 26/50:\n",
      "Train Loss: 0.7308 | Train Acc: 74.43%\n",
      "Val Loss: 0.7446 | Val Acc: 74.66%\n",
      "Validation accuracy improved from 73.02% to 74.66%, saving model...\n"
     ]
    },
    {
     "name": "stderr",
     "output_type": "stream",
     "text": [
      "Epoch 27/50 [Train]: 100%|██████████| 352/352 [00:32<00:00, 10.91it/s, loss=0.715, acc=74.9]\n",
      "Epoch 27/50 [Val]: 100%|██████████| 40/40 [00:02<00:00, 14.67it/s, loss=0.788, acc=72.8]\n"
     ]
    },
    {
     "name": "stdout",
     "output_type": "stream",
     "text": [
      "Epoch 27/50:\n",
      "Train Loss: 0.7152 | Train Acc: 74.90%\n",
      "Val Loss: 0.7885 | Val Acc: 72.84%\n"
     ]
    },
    {
     "name": "stderr",
     "output_type": "stream",
     "text": [
      "Epoch 28/50 [Train]: 100%|██████████| 352/352 [00:32<00:00, 10.92it/s, loss=0.698, acc=75.5]\n",
      "Epoch 28/50 [Val]: 100%|██████████| 40/40 [00:02<00:00, 14.23it/s, loss=0.753, acc=74]\n"
     ]
    },
    {
     "name": "stdout",
     "output_type": "stream",
     "text": [
      "Epoch 28/50:\n",
      "Train Loss: 0.6984 | Train Acc: 75.46%\n",
      "Val Loss: 0.7530 | Val Acc: 74.02%\n"
     ]
    },
    {
     "name": "stderr",
     "output_type": "stream",
     "text": [
      "Epoch 29/50 [Train]: 100%|██████████| 352/352 [00:32<00:00, 10.92it/s, loss=0.682, acc=76]\n",
      "Epoch 29/50 [Val]: 100%|██████████| 40/40 [00:02<00:00, 14.33it/s, loss=0.766, acc=72.9]\n"
     ]
    },
    {
     "name": "stdout",
     "output_type": "stream",
     "text": [
      "Epoch 29/50:\n",
      "Train Loss: 0.6818 | Train Acc: 76.00%\n",
      "Val Loss: 0.7663 | Val Acc: 72.92%\n"
     ]
    },
    {
     "name": "stderr",
     "output_type": "stream",
     "text": [
      "Epoch 30/50 [Train]: 100%|██████████| 352/352 [00:32<00:00, 10.95it/s, loss=0.67, acc=76.5]\n",
      "Epoch 30/50 [Val]: 100%|██████████| 40/40 [00:02<00:00, 14.33it/s, loss=0.743, acc=74.5]\n"
     ]
    },
    {
     "name": "stdout",
     "output_type": "stream",
     "text": [
      "Epoch 30/50:\n",
      "Train Loss: 0.6700 | Train Acc: 76.50%\n",
      "Val Loss: 0.7426 | Val Acc: 74.54%\n"
     ]
    },
    {
     "name": "stderr",
     "output_type": "stream",
     "text": [
      "Epoch 31/50 [Train]: 100%|██████████| 352/352 [00:31<00:00, 11.08it/s, loss=0.657, acc=76.9]\n",
      "Epoch 31/50 [Val]: 100%|██████████| 40/40 [00:02<00:00, 14.90it/s, loss=0.726, acc=74.7]\n"
     ]
    },
    {
     "name": "stdout",
     "output_type": "stream",
     "text": [
      "Epoch 31/50:\n",
      "Train Loss: 0.6568 | Train Acc: 76.92%\n",
      "Val Loss: 0.7261 | Val Acc: 74.70%\n",
      "Validation accuracy improved from 74.66% to 74.70%, saving model...\n"
     ]
    },
    {
     "name": "stderr",
     "output_type": "stream",
     "text": [
      "Epoch 32/50 [Train]: 100%|██████████| 352/352 [00:32<00:00, 10.99it/s, loss=0.647, acc=77.1]\n",
      "Epoch 32/50 [Val]: 100%|██████████| 40/40 [00:02<00:00, 14.55it/s, loss=0.735, acc=74.5]\n"
     ]
    },
    {
     "name": "stdout",
     "output_type": "stream",
     "text": [
      "Epoch 32/50:\n",
      "Train Loss: 0.6471 | Train Acc: 77.07%\n",
      "Val Loss: 0.7350 | Val Acc: 74.46%\n"
     ]
    },
    {
     "name": "stderr",
     "output_type": "stream",
     "text": [
      "Epoch 33/50 [Train]: 100%|██████████| 352/352 [00:32<00:00, 10.96it/s, loss=0.633, acc=77.7]\n",
      "Epoch 33/50 [Val]: 100%|██████████| 40/40 [00:02<00:00, 14.35it/s, loss=0.709, acc=75.1]\n"
     ]
    },
    {
     "name": "stdout",
     "output_type": "stream",
     "text": [
      "Epoch 33/50:\n",
      "Train Loss: 0.6327 | Train Acc: 77.65%\n",
      "Val Loss: 0.7095 | Val Acc: 75.12%\n",
      "Validation accuracy improved from 74.70% to 75.12%, saving model...\n"
     ]
    },
    {
     "name": "stderr",
     "output_type": "stream",
     "text": [
      "Epoch 34/50 [Train]: 100%|██████████| 352/352 [00:32<00:00, 10.98it/s, loss=0.614, acc=78.4]\n",
      "Epoch 34/50 [Val]: 100%|██████████| 40/40 [00:02<00:00, 18.32it/s, loss=0.697, acc=76.3]\n"
     ]
    },
    {
     "name": "stdout",
     "output_type": "stream",
     "text": [
      "Epoch 34/50:\n",
      "Train Loss: 0.6141 | Train Acc: 78.38%\n",
      "Val Loss: 0.6972 | Val Acc: 76.26%\n",
      "Validation accuracy improved from 75.12% to 76.26%, saving model...\n"
     ]
    },
    {
     "name": "stderr",
     "output_type": "stream",
     "text": [
      "Epoch 35/50 [Train]: 100%|██████████| 352/352 [00:32<00:00, 10.95it/s, loss=0.61, acc=78.4]\n",
      "Epoch 35/50 [Val]: 100%|██████████| 40/40 [00:02<00:00, 17.64it/s, loss=0.713, acc=75.2]\n"
     ]
    },
    {
     "name": "stdout",
     "output_type": "stream",
     "text": [
      "Epoch 35/50:\n",
      "Train Loss: 0.6098 | Train Acc: 78.40%\n",
      "Val Loss: 0.7133 | Val Acc: 75.16%\n"
     ]
    },
    {
     "name": "stderr",
     "output_type": "stream",
     "text": [
      "Epoch 36/50 [Train]: 100%|██████████| 352/352 [00:31<00:00, 11.01it/s, loss=0.602, acc=78.8]\n",
      "Epoch 36/50 [Val]: 100%|██████████| 40/40 [00:02<00:00, 18.34it/s, loss=0.664, acc=77.1]\n"
     ]
    },
    {
     "name": "stdout",
     "output_type": "stream",
     "text": [
      "Epoch 36/50:\n",
      "Train Loss: 0.6017 | Train Acc: 78.85%\n",
      "Val Loss: 0.6636 | Val Acc: 77.14%\n",
      "Validation accuracy improved from 76.26% to 77.14%, saving model...\n"
     ]
    },
    {
     "name": "stderr",
     "output_type": "stream",
     "text": [
      "Epoch 37/50 [Train]: 100%|██████████| 352/352 [00:32<00:00, 10.92it/s, loss=0.584, acc=79.4]\n",
      "Epoch 37/50 [Val]: 100%|██████████| 40/40 [00:02<00:00, 18.22it/s, loss=0.705, acc=76]\n"
     ]
    },
    {
     "name": "stdout",
     "output_type": "stream",
     "text": [
      "Epoch 37/50:\n",
      "Train Loss: 0.5841 | Train Acc: 79.45%\n",
      "Val Loss: 0.7054 | Val Acc: 76.02%\n"
     ]
    },
    {
     "name": "stderr",
     "output_type": "stream",
     "text": [
      "Epoch 38/50 [Train]: 100%|██████████| 352/352 [00:32<00:00, 10.96it/s, loss=0.584, acc=79.4]\n",
      "Epoch 38/50 [Val]: 100%|██████████| 40/40 [00:02<00:00, 18.55it/s, loss=0.703, acc=75.9]\n"
     ]
    },
    {
     "name": "stdout",
     "output_type": "stream",
     "text": [
      "Epoch 38/50:\n",
      "Train Loss: 0.5838 | Train Acc: 79.39%\n",
      "Val Loss: 0.7031 | Val Acc: 75.94%\n"
     ]
    },
    {
     "name": "stderr",
     "output_type": "stream",
     "text": [
      "Epoch 39/50 [Train]: 100%|██████████| 352/352 [00:31<00:00, 11.02it/s, loss=0.575, acc=79.5]\n",
      "Epoch 39/50 [Val]: 100%|██████████| 40/40 [00:02<00:00, 18.34it/s, loss=0.683, acc=76.8]\n"
     ]
    },
    {
     "name": "stdout",
     "output_type": "stream",
     "text": [
      "Epoch 39/50:\n",
      "Train Loss: 0.5751 | Train Acc: 79.50%\n",
      "Val Loss: 0.6830 | Val Acc: 76.80%\n"
     ]
    },
    {
     "name": "stderr",
     "output_type": "stream",
     "text": [
      "Epoch 40/50 [Train]: 100%|██████████| 352/352 [00:31<00:00, 11.01it/s, loss=0.56, acc=80.3]\n",
      "Epoch 40/50 [Val]: 100%|██████████| 40/40 [00:02<00:00, 17.91it/s, loss=0.671, acc=76.6]\n"
     ]
    },
    {
     "name": "stdout",
     "output_type": "stream",
     "text": [
      "Epoch 40/50:\n",
      "Train Loss: 0.5601 | Train Acc: 80.32%\n",
      "Val Loss: 0.6712 | Val Acc: 76.60%\n"
     ]
    },
    {
     "name": "stderr",
     "output_type": "stream",
     "text": [
      "Epoch 41/50 [Train]: 100%|██████████| 352/352 [00:32<00:00, 10.97it/s, loss=0.557, acc=80.3]\n",
      "Epoch 41/50 [Val]: 100%|██████████| 40/40 [00:02<00:00, 18.10it/s, loss=0.672, acc=76.9]\n"
     ]
    },
    {
     "name": "stdout",
     "output_type": "stream",
     "text": [
      "Epoch 41/50:\n",
      "Train Loss: 0.5569 | Train Acc: 80.32%\n",
      "Val Loss: 0.6720 | Val Acc: 76.90%\n"
     ]
    },
    {
     "name": "stderr",
     "output_type": "stream",
     "text": [
      "Epoch 42/50 [Train]: 100%|██████████| 352/352 [00:32<00:00, 10.95it/s, loss=0.553, acc=80.4]\n",
      "Epoch 42/50 [Val]: 100%|██████████| 40/40 [00:02<00:00, 17.51it/s, loss=0.681, acc=77]\n"
     ]
    },
    {
     "name": "stdout",
     "output_type": "stream",
     "text": [
      "Epoch 42/50:\n",
      "Train Loss: 0.5532 | Train Acc: 80.38%\n",
      "Val Loss: 0.6811 | Val Acc: 76.98%\n"
     ]
    },
    {
     "name": "stderr",
     "output_type": "stream",
     "text": [
      "Epoch 43/50 [Train]: 100%|██████████| 352/352 [00:32<00:00, 10.95it/s, loss=0.543, acc=80.8]\n",
      "Epoch 43/50 [Val]: 100%|██████████| 40/40 [00:02<00:00, 18.00it/s, loss=0.667, acc=77.3]\n"
     ]
    },
    {
     "name": "stdout",
     "output_type": "stream",
     "text": [
      "Epoch 43/50:\n",
      "Train Loss: 0.5434 | Train Acc: 80.82%\n",
      "Val Loss: 0.6671 | Val Acc: 77.34%\n",
      "Validation accuracy improved from 77.14% to 77.34%, saving model...\n"
     ]
    },
    {
     "name": "stderr",
     "output_type": "stream",
     "text": [
      "Epoch 44/50 [Train]: 100%|██████████| 352/352 [00:32<00:00, 10.98it/s, loss=0.545, acc=80.8]\n",
      "Epoch 44/50 [Val]: 100%|██████████| 40/40 [00:02<00:00, 18.24it/s, loss=0.679, acc=76.7]\n"
     ]
    },
    {
     "name": "stdout",
     "output_type": "stream",
     "text": [
      "Epoch 44/50:\n",
      "Train Loss: 0.5448 | Train Acc: 80.78%\n",
      "Val Loss: 0.6793 | Val Acc: 76.66%\n"
     ]
    },
    {
     "name": "stderr",
     "output_type": "stream",
     "text": [
      "Epoch 45/50 [Train]: 100%|██████████| 352/352 [00:32<00:00, 10.96it/s, loss=0.534, acc=81.1]\n",
      "Epoch 45/50 [Val]: 100%|██████████| 40/40 [00:02<00:00, 18.02it/s, loss=0.662, acc=77.7]\n"
     ]
    },
    {
     "name": "stdout",
     "output_type": "stream",
     "text": [
      "Epoch 45/50:\n",
      "Train Loss: 0.5338 | Train Acc: 81.15%\n",
      "Val Loss: 0.6621 | Val Acc: 77.66%\n",
      "Validation accuracy improved from 77.34% to 77.66%, saving model...\n"
     ]
    },
    {
     "name": "stderr",
     "output_type": "stream",
     "text": [
      "Epoch 46/50 [Train]: 100%|██████████| 352/352 [00:32<00:00, 10.95it/s, loss=0.538, acc=80.8]\n",
      "Epoch 46/50 [Val]: 100%|██████████| 40/40 [00:02<00:00, 18.36it/s, loss=0.659, acc=77.6]\n"
     ]
    },
    {
     "name": "stdout",
     "output_type": "stream",
     "text": [
      "Epoch 46/50:\n",
      "Train Loss: 0.5385 | Train Acc: 80.77%\n",
      "Val Loss: 0.6590 | Val Acc: 77.56%\n"
     ]
    },
    {
     "name": "stderr",
     "output_type": "stream",
     "text": [
      "Epoch 47/50 [Train]: 100%|██████████| 352/352 [00:32<00:00, 10.97it/s, loss=0.532, acc=81.2]\n",
      "Epoch 47/50 [Val]: 100%|██████████| 40/40 [00:02<00:00, 17.88it/s, loss=0.67, acc=77.3]\n"
     ]
    },
    {
     "name": "stdout",
     "output_type": "stream",
     "text": [
      "Epoch 47/50:\n",
      "Train Loss: 0.5320 | Train Acc: 81.16%\n",
      "Val Loss: 0.6697 | Val Acc: 77.34%\n"
     ]
    },
    {
     "name": "stderr",
     "output_type": "stream",
     "text": [
      "Epoch 48/50 [Train]: 100%|██████████| 352/352 [00:32<00:00, 10.94it/s, loss=0.528, acc=81.4]\n",
      "Epoch 48/50 [Val]: 100%|██████████| 40/40 [00:02<00:00, 18.39it/s, loss=0.669, acc=77.4]\n"
     ]
    },
    {
     "name": "stdout",
     "output_type": "stream",
     "text": [
      "Epoch 48/50:\n",
      "Train Loss: 0.5284 | Train Acc: 81.38%\n",
      "Val Loss: 0.6687 | Val Acc: 77.36%\n"
     ]
    },
    {
     "name": "stderr",
     "output_type": "stream",
     "text": [
      "Epoch 49/50 [Train]: 100%|██████████| 352/352 [00:31<00:00, 11.01it/s, loss=0.531, acc=81.2]\n",
      "Epoch 49/50 [Val]: 100%|██████████| 40/40 [00:02<00:00, 16.98it/s, loss=0.653, acc=77.9]\n"
     ]
    },
    {
     "name": "stdout",
     "output_type": "stream",
     "text": [
      "Epoch 49/50:\n",
      "Train Loss: 0.5312 | Train Acc: 81.19%\n",
      "Val Loss: 0.6529 | Val Acc: 77.92%\n",
      "Validation accuracy improved from 77.66% to 77.92%, saving model...\n"
     ]
    },
    {
     "name": "stderr",
     "output_type": "stream",
     "text": [
      "Epoch 50/50 [Train]: 100%|██████████| 352/352 [00:32<00:00, 10.94it/s, loss=0.53, acc=81.2]\n",
      "Epoch 50/50 [Val]: 100%|██████████| 40/40 [00:02<00:00, 16.23it/s, loss=0.659, acc=76.7]\n"
     ]
    },
    {
     "name": "stdout",
     "output_type": "stream",
     "text": [
      "Epoch 50/50:\n",
      "Train Loss: 0.5302 | Train Acc: 81.18%\n",
      "Val Loss: 0.6589 | Val Acc: 76.72%\n",
      "Best validation accuracy: 77.92%\n"
     ]
    },
    {
     "name": "stderr",
     "output_type": "stream",
     "text": [
      "Evaluating on test set: 100%|██████████| 79/79 [00:02<00:00, 33.93it/s]\n"
     ]
    },
    {
     "name": "stdout",
     "output_type": "stream",
     "text": [
      "Test accuracy: 82.02%\n"
     ]
    },
    {
     "data": {
      "image/png": "[encoded data removed]",
      "text/plain": [
       "<Figure size 1000x500 with 1 Axes>"
      ]
     },
     "metadata": {},
     "output_type": "display_data"
    },
    {
     "data": {
      "image/png": "[encoded data removed]",
      "text/plain": [
       "<Figure size 1000x500 with 1 Axes>"
      ]
     },
     "metadata": {},
     "output_type": "display_data"
    },
    {
     "name": "stdout",
     "output_type": "stream",
     "text": [
      "\n",
      "\n",
      "==================================================\n",
      "Testing positional embedding type: sinusoidal\n",
      "==================================================\n",
      "\n",
      "Using device: cuda\n"
     ]
    },
    {
     "name": "stderr",
     "output_type": "stream",
     "text": [
      "Epoch 1/50 [Train]: 100%|██████████| 352/352 [00:27<00:00, 12.70it/s, loss=1.96, acc=26.8]\n",
      "Epoch 1/50 [Val]: 100%|██████████| 40/40 [00:02<00:00, 15.76it/s, loss=1.77, acc=35]\n"
     ]
    },
    {
     "name": "stdout",
     "output_type": "stream",
     "text": [
      "Epoch 1/50:\n",
      "Train Loss: 1.9606 | Train Acc: 26.82%\n",
      "Val Loss: 1.7700 | Val Acc: 34.96%\n",
      "Validation accuracy improved from 0.00% to 34.96%, saving model...\n"
     ]
    },
    {
     "name": "stderr",
     "output_type": "stream",
     "text": [
      "Epoch 2/50 [Train]: 100%|██████████| 352/352 [00:27<00:00, 12.79it/s, loss=1.65, acc=39.6]\n",
      "Epoch 2/50 [Val]: 100%|██████████| 40/40 [00:02<00:00, 14.23it/s, loss=1.54, acc=44.6]\n"
     ]
    },
    {
     "name": "stdout",
     "output_type": "stream",
     "text": [
      "Epoch 2/50:\n",
      "Train Loss: 1.6500 | Train Acc: 39.57%\n",
      "Val Loss: 1.5431 | Val Acc: 44.62%\n",
      "Validation accuracy improved from 34.96% to 44.62%, saving model...\n"
     ]
    },
    {
     "name": "stderr",
     "output_type": "stream",
     "text": [
      "Epoch 3/50 [Train]: 100%|██████████| 352/352 [00:27<00:00, 12.69it/s, loss=1.5, acc=45.4]\n",
      "Epoch 3/50 [Val]: 100%|██████████| 40/40 [00:02<00:00, 17.84it/s, loss=1.38, acc=49.5]\n"
     ]
    },
    {
     "name": "stdout",
     "output_type": "stream",
     "text": [
      "Epoch 3/50:\n",
      "Train Loss: 1.5017 | Train Acc: 45.42%\n",
      "Val Loss: 1.3813 | Val Acc: 49.50%\n",
      "Validation accuracy improved from 44.62% to 49.50%, saving model...\n"
     ]
    },
    {
     "name": "stderr",
     "output_type": "stream",
     "text": [
      "Epoch 4/50 [Train]: 100%|██████████| 352/352 [00:27<00:00, 12.70it/s, loss=1.41, acc=49.1]\n",
      "Epoch 4/50 [Val]: 100%|██████████| 40/40 [00:02<00:00, 17.63it/s, loss=1.33, acc=51.3]\n"
     ]
    },
    {
     "name": "stdout",
     "output_type": "stream",
     "text": [
      "Epoch 4/50:\n",
      "Train Loss: 1.4105 | Train Acc: 49.08%\n",
      "Val Loss: 1.3337 | Val Acc: 51.32%\n",
      "Validation accuracy improved from 49.50% to 51.32%, saving model...\n"
     ]
    },
    {
     "name": "stderr",
     "output_type": "stream",
     "text": [
      "Epoch 5/50 [Train]: 100%|██████████| 352/352 [00:27<00:00, 12.74it/s, loss=1.34, acc=51.1]\n",
      "Epoch 5/50 [Val]: 100%|██████████| 40/40 [00:02<00:00, 18.80it/s, loss=1.28, acc=53.3]\n"
     ]
    },
    {
     "name": "stdout",
     "output_type": "stream",
     "text": [
      "Epoch 5/50:\n",
      "Train Loss: 1.3428 | Train Acc: 51.05%\n",
      "Val Loss: 1.2769 | Val Acc: 53.34%\n",
      "Validation accuracy improved from 51.32% to 53.34%, saving model...\n"
     ]
    },
    {
     "name": "stderr",
     "output_type": "stream",
     "text": [
      "Epoch 6/50 [Train]: 100%|██████████| 352/352 [00:27<00:00, 12.75it/s, loss=1.29, acc=53.6]\n",
      "Epoch 6/50 [Val]: 100%|██████████| 40/40 [00:02<00:00, 17.89it/s, loss=1.24, acc=54.9]\n"
     ]
    },
    {
     "name": "stdout",
     "output_type": "stream",
     "text": [
      "Epoch 6/50:\n",
      "Train Loss: 1.2898 | Train Acc: 53.62%\n",
      "Val Loss: 1.2409 | Val Acc: 54.88%\n",
      "Validation accuracy improved from 53.34% to 54.88%, saving model...\n"
     ]
    },
    {
     "name": "stderr",
     "output_type": "stream",
     "text": [
      "Epoch 7/50 [Train]: 100%|██████████| 352/352 [00:27<00:00, 12.76it/s, loss=1.25, acc=55.2]\n",
      "Epoch 7/50 [Val]: 100%|██████████| 40/40 [00:02<00:00, 14.26it/s, loss=1.18, acc=56.5]\n"
     ]
    },
    {
     "name": "stdout",
     "output_type": "stream",
     "text": [
      "Epoch 7/50:\n",
      "Train Loss: 1.2476 | Train Acc: 55.16%\n",
      "Val Loss: 1.1796 | Val Acc: 56.50%\n",
      "Validation accuracy improved from 54.88% to 56.50%, saving model...\n"
     ]
    },
    {
     "name": "stderr",
     "output_type": "stream",
     "text": [
      "Epoch 8/50 [Train]: 100%|██████████| 352/352 [00:27<00:00, 12.73it/s, loss=1.21, acc=56.6]\n",
      "Epoch 8/50 [Val]: 100%|██████████| 40/40 [00:02<00:00, 18.80it/s, loss=1.18, acc=59]\n"
     ]
    },
    {
     "name": "stdout",
     "output_type": "stream",
     "text": [
      "Epoch 8/50:\n",
      "Train Loss: 1.2057 | Train Acc: 56.56%\n",
      "Val Loss: 1.1807 | Val Acc: 58.98%\n",
      "Validation accuracy improved from 56.50% to 58.98%, saving model...\n"
     ]
    },
    {
     "name": "stderr",
     "output_type": "stream",
     "text": [
      "Epoch 9/50 [Train]: 100%|██████████| 352/352 [00:27<00:00, 12.73it/s, loss=1.16, acc=58.3]\n",
      "Epoch 9/50 [Val]: 100%|██████████| 40/40 [00:02<00:00, 18.25it/s, loss=1.14, acc=59.5]\n"
     ]
    },
    {
     "name": "stdout",
     "output_type": "stream",
     "text": [
      "Epoch 9/50:\n",
      "Train Loss: 1.1628 | Train Acc: 58.30%\n",
      "Val Loss: 1.1387 | Val Acc: 59.50%\n",
      "Validation accuracy improved from 58.98% to 59.50%, saving model...\n"
     ]
    },
    {
     "name": "stderr",
     "output_type": "stream",
     "text": [
      "Epoch 10/50 [Train]: 100%|██████████| 352/352 [00:27<00:00, 12.74it/s, loss=1.13, acc=59.7]\n",
      "Epoch 10/50 [Val]: 100%|██████████| 40/40 [00:02<00:00, 18.06it/s, loss=1.1, acc=59.8]\n"
     ]
    },
    {
     "name": "stdout",
     "output_type": "stream",
     "text": [
      "Epoch 10/50:\n",
      "Train Loss: 1.1278 | Train Acc: 59.71%\n",
      "Val Loss: 1.1048 | Val Acc: 59.80%\n",
      "Validation accuracy improved from 59.50% to 59.80%, saving model...\n"
     ]
    },
    {
     "name": "stderr",
     "output_type": "stream",
     "text": [
      "Epoch 11/50 [Train]: 100%|██████████| 352/352 [00:27<00:00, 12.66it/s, loss=1.1, acc=61.1]\n",
      "Epoch 11/50 [Val]: 100%|██████████| 40/40 [00:02<00:00, 18.48it/s, loss=1.07, acc=61.6]\n"
     ]
    },
    {
     "name": "stdout",
     "output_type": "stream",
     "text": [
      "Epoch 11/50:\n",
      "Train Loss: 1.0972 | Train Acc: 61.08%\n",
      "Val Loss: 1.0661 | Val Acc: 61.56%\n",
      "Validation accuracy improved from 59.80% to 61.56%, saving model...\n"
     ]
    },
    {
     "name": "stderr",
     "output_type": "stream",
     "text": [
      "Epoch 12/50 [Train]: 100%|██████████| 352/352 [00:27<00:00, 12.74it/s, loss=1.07, acc=62.1]\n",
      "Epoch 12/50 [Val]: 100%|██████████| 40/40 [00:02<00:00, 16.02it/s, loss=1.05, acc=62.4]\n"
     ]
    },
    {
     "name": "stdout",
     "output_type": "stream",
     "text": [
      "Epoch 12/50:\n",
      "Train Loss: 1.0678 | Train Acc: 62.07%\n",
      "Val Loss: 1.0521 | Val Acc: 62.40%\n",
      "Validation accuracy improved from 61.56% to 62.40%, saving model...\n"
     ]
    },
    {
     "name": "stderr",
     "output_type": "stream",
     "text": [
      "Epoch 13/50 [Train]: 100%|██████████| 352/352 [00:27<00:00, 12.76it/s, loss=1.04, acc=63]\n",
      "Epoch 13/50 [Val]: 100%|██████████| 40/40 [00:02<00:00, 18.19it/s, loss=1.05, acc=62.3]\n"
     ]
    },
    {
     "name": "stdout",
     "output_type": "stream",
     "text": [
      "Epoch 13/50:\n",
      "Train Loss: 1.0359 | Train Acc: 63.04%\n",
      "Val Loss: 1.0451 | Val Acc: 62.28%\n"
     ]
    },
    {
     "name": "stderr",
     "output_type": "stream",
     "text": [
      "Epoch 14/50 [Train]: 100%|██████████| 352/352 [00:27<00:00, 12.74it/s, loss=1.01, acc=63.9]\n",
      "Epoch 14/50 [Val]: 100%|██████████| 40/40 [00:02<00:00, 18.54it/s, loss=1.05, acc=63.2]\n"
     ]
    },
    {
     "name": "stdout",
     "output_type": "stream",
     "text": [
      "Epoch 14/50:\n",
      "Train Loss: 1.0116 | Train Acc: 63.92%\n",
      "Val Loss: 1.0495 | Val Acc: 63.22%\n",
      "Validation accuracy improved from 62.40% to 63.22%, saving model...\n"
     ]
    },
    {
     "name": "stderr",
     "output_type": "stream",
     "text": [
      "Epoch 15/50 [Train]: 100%|██████████| 352/352 [00:27<00:00, 12.73it/s, loss=0.98, acc=65.2]\n",
      "Epoch 15/50 [Val]: 100%|██████████| 40/40 [00:02<00:00, 15.27it/s, loss=0.99, acc=66]\n"
     ]
    },
    {
     "name": "stdout",
     "output_type": "stream",
     "text": [
      "Epoch 15/50:\n",
      "Train Loss: 0.9797 | Train Acc: 65.16%\n",
      "Val Loss: 0.9899 | Val Acc: 66.02%\n",
      "Validation accuracy improved from 63.22% to 66.02%, saving model...\n"
     ]
    },
    {
     "name": "stderr",
     "output_type": "stream",
     "text": [
      "Epoch 16/50 [Train]: 100%|██████████| 352/352 [00:27<00:00, 12.74it/s, loss=0.957, acc=66]\n",
      "Epoch 16/50 [Val]: 100%|██████████| 40/40 [00:02<00:00, 18.59it/s, loss=0.943, acc=66.7]\n"
     ]
    },
    {
     "name": "stdout",
     "output_type": "stream",
     "text": [
      "Epoch 16/50:\n",
      "Train Loss: 0.9572 | Train Acc: 66.03%\n",
      "Val Loss: 0.9434 | Val Acc: 66.72%\n",
      "Validation accuracy improved from 66.02% to 66.72%, saving model...\n"
     ]
    },
    {
     "name": "stderr",
     "output_type": "stream",
     "text": [
      "Epoch 17/50 [Train]: 100%|██████████| 352/352 [00:27<00:00, 12.74it/s, loss=0.926, acc=67.2]\n",
      "Epoch 17/50 [Val]: 100%|██████████| 40/40 [00:02<00:00, 17.22it/s, loss=0.928, acc=66.3]\n"
     ]
    },
    {
     "name": "stdout",
     "output_type": "stream",
     "text": [
      "Epoch 17/50:\n",
      "Train Loss: 0.9263 | Train Acc: 67.18%\n",
      "Val Loss: 0.9282 | Val Acc: 66.30%\n"
     ]
    },
    {
     "name": "stderr",
     "output_type": "stream",
     "text": [
      "Epoch 18/50 [Train]: 100%|██████████| 352/352 [00:27<00:00, 12.77it/s, loss=0.9, acc=68]\n",
      "Epoch 18/50 [Val]: 100%|██████████| 40/40 [00:02<00:00, 15.66it/s, loss=0.898, acc=68.5]\n"
     ]
    },
    {
     "name": "stdout",
     "output_type": "stream",
     "text": [
      "Epoch 18/50:\n",
      "Train Loss: 0.9002 | Train Acc: 68.04%\n",
      "Val Loss: 0.8979 | Val Acc: 68.46%\n",
      "Validation accuracy improved from 66.72% to 68.46%, saving model...\n"
     ]
    },
    {
     "name": "stderr",
     "output_type": "stream",
     "text": [
      "Epoch 19/50 [Train]: 100%|██████████| 352/352 [00:27<00:00, 12.72it/s, loss=0.887, acc=68.7]\n",
      "Epoch 19/50 [Val]: 100%|██████████| 40/40 [00:02<00:00, 18.29it/s, loss=0.907, acc=67.6]\n"
     ]
    },
    {
     "name": "stdout",
     "output_type": "stream",
     "text": [
      "Epoch 19/50:\n",
      "Train Loss: 0.8869 | Train Acc: 68.67%\n",
      "Val Loss: 0.9074 | Val Acc: 67.58%\n"
     ]
    },
    {
     "name": "stderr",
     "output_type": "stream",
     "text": [
      "Epoch 20/50 [Train]: 100%|██████████| 352/352 [00:27<00:00, 12.63it/s, loss=0.867, acc=69.3]\n",
      "Epoch 20/50 [Val]: 100%|██████████| 40/40 [00:02<00:00, 18.60it/s, loss=0.856, acc=69.6]\n"
     ]
    },
    {
     "name": "stdout",
     "output_type": "stream",
     "text": [
      "Epoch 20/50:\n",
      "Train Loss: 0.8670 | Train Acc: 69.32%\n",
      "Val Loss: 0.8563 | Val Acc: 69.64%\n",
      "Validation accuracy improved from 68.46% to 69.64%, saving model...\n"
     ]
    },
    {
     "name": "stderr",
     "output_type": "stream",
     "text": [
      "Epoch 21/50 [Train]: 100%|██████████| 352/352 [00:27<00:00, 12.77it/s, loss=0.843, acc=70.2]\n",
      "Epoch 21/50 [Val]: 100%|██████████| 40/40 [00:02<00:00, 17.37it/s, loss=0.85, acc=69.9]\n"
     ]
    },
    {
     "name": "stdout",
     "output_type": "stream",
     "text": [
      "Epoch 21/50:\n",
      "Train Loss: 0.8426 | Train Acc: 70.25%\n",
      "Val Loss: 0.8497 | Val Acc: 69.92%\n",
      "Validation accuracy improved from 69.64% to 69.92%, saving model...\n"
     ]
    },
    {
     "name": "stderr",
     "output_type": "stream",
     "text": [
      "Epoch 22/50 [Train]: 100%|██████████| 352/352 [00:27<00:00, 12.66it/s, loss=0.83, acc=70.7]\n",
      "Epoch 22/50 [Val]: 100%|██████████| 40/40 [00:02<00:00, 18.82it/s, loss=0.852, acc=69.9]\n"
     ]
    },
    {
     "name": "stdout",
     "output_type": "stream",
     "text": [
      "Epoch 22/50:\n",
      "Train Loss: 0.8300 | Train Acc: 70.68%\n",
      "Val Loss: 0.8524 | Val Acc: 69.92%\n"
     ]
    },
    {
     "name": "stderr",
     "output_type": "stream",
     "text": [
      "Epoch 23/50 [Train]: 100%|██████████| 352/352 [00:27<00:00, 12.77it/s, loss=0.809, acc=71.7]\n",
      "Epoch 23/50 [Val]: 100%|██████████| 40/40 [00:02<00:00, 18.55it/s, loss=0.834, acc=70.7]\n"
     ]
    },
    {
     "name": "stdout",
     "output_type": "stream",
     "text": [
      "Epoch 23/50:\n",
      "Train Loss: 0.8085 | Train Acc: 71.74%\n",
      "Val Loss: 0.8343 | Val Acc: 70.72%\n",
      "Validation accuracy improved from 69.92% to 70.72%, saving model...\n"
     ]
    },
    {
     "name": "stderr",
     "output_type": "stream",
     "text": [
      "Epoch 24/50 [Train]: 100%|██████████| 352/352 [00:27<00:00, 12.73it/s, loss=0.797, acc=71.8]\n",
      "Epoch 24/50 [Val]: 100%|██████████| 40/40 [00:02<00:00, 17.93it/s, loss=0.821, acc=71]\n"
     ]
    },
    {
     "name": "stdout",
     "output_type": "stream",
     "text": [
      "Epoch 24/50:\n",
      "Train Loss: 0.7970 | Train Acc: 71.79%\n",
      "Val Loss: 0.8215 | Val Acc: 71.02%\n",
      "Validation accuracy improved from 70.72% to 71.02%, saving model...\n"
     ]
    },
    {
     "name": "stderr",
     "output_type": "stream",
     "text": [
      "Epoch 25/50 [Train]: 100%|██████████| 352/352 [00:27<00:00, 12.76it/s, loss=0.77, acc=72.8]\n",
      "Epoch 25/50 [Val]: 100%|██████████| 40/40 [00:02<00:00, 18.40it/s, loss=0.846, acc=70.4]\n"
     ]
    },
    {
     "name": "stdout",
     "output_type": "stream",
     "text": [
      "Epoch 25/50:\n",
      "Train Loss: 0.7698 | Train Acc: 72.82%\n",
      "Val Loss: 0.8460 | Val Acc: 70.44%\n"
     ]
    },
    {
     "name": "stderr",
     "output_type": "stream",
     "text": [
      "Epoch 26/50 [Train]: 100%|██████████| 352/352 [00:27<00:00, 12.76it/s, loss=0.762, acc=73]\n",
      "Epoch 26/50 [Val]: 100%|██████████| 40/40 [00:02<00:00, 16.72it/s, loss=0.835, acc=71.1]\n"
     ]
    },
    {
     "name": "stdout",
     "output_type": "stream",
     "text": [
      "Epoch 26/50:\n",
      "Train Loss: 0.7619 | Train Acc: 73.04%\n",
      "Val Loss: 0.8355 | Val Acc: 71.12%\n",
      "Validation accuracy improved from 71.02% to 71.12%, saving model...\n"
     ]
    },
    {
     "name": "stderr",
     "output_type": "stream",
     "text": [
      "Epoch 27/50 [Train]: 100%|██████████| 352/352 [00:27<00:00, 12.71it/s, loss=0.742, acc=73.8]\n",
      "Epoch 27/50 [Val]: 100%|██████████| 40/40 [00:02<00:00, 18.39it/s, loss=0.815, acc=72.3]\n"
     ]
    },
    {
     "name": "stdout",
     "output_type": "stream",
     "text": [
      "Epoch 27/50:\n",
      "Train Loss: 0.7418 | Train Acc: 73.77%\n",
      "Val Loss: 0.8146 | Val Acc: 72.28%\n",
      "Validation accuracy improved from 71.12% to 72.28%, saving model...\n"
     ]
    },
    {
     "name": "stderr",
     "output_type": "stream",
     "text": [
      "Epoch 28/50 [Train]: 100%|██████████| 352/352 [00:27<00:00, 12.78it/s, loss=0.732, acc=74.1]\n",
      "Epoch 28/50 [Val]: 100%|██████████| 40/40 [00:02<00:00, 15.84it/s, loss=0.811, acc=72.5]\n"
     ]
    },
    {
     "name": "stdout",
     "output_type": "stream",
     "text": [
      "Epoch 28/50:\n",
      "Train Loss: 0.7322 | Train Acc: 74.09%\n",
      "Val Loss: 0.8113 | Val Acc: 72.50%\n",
      "Validation accuracy improved from 72.28% to 72.50%, saving model...\n"
     ]
    },
    {
     "name": "stderr",
     "output_type": "stream",
     "text": [
      "Epoch 29/50 [Train]: 100%|██████████| 352/352 [00:27<00:00, 12.76it/s, loss=0.712, acc=74.9]\n",
      "Epoch 29/50 [Val]: 100%|██████████| 40/40 [00:02<00:00, 18.39it/s, loss=0.791, acc=72]\n"
     ]
    },
    {
     "name": "stdout",
     "output_type": "stream",
     "text": [
      "Epoch 29/50:\n",
      "Train Loss: 0.7119 | Train Acc: 74.91%\n",
      "Val Loss: 0.7910 | Val Acc: 72.00%\n"
     ]
    },
    {
     "name": "stderr",
     "output_type": "stream",
     "text": [
      "Epoch 30/50 [Train]: 100%|██████████| 352/352 [00:27<00:00, 12.75it/s, loss=0.706, acc=75]\n",
      "Epoch 30/50 [Val]: 100%|██████████| 40/40 [00:02<00:00, 17.76it/s, loss=0.776, acc=73.8]\n"
     ]
    },
    {
     "name": "stdout",
     "output_type": "stream",
     "text": [
      "Epoch 30/50:\n",
      "Train Loss: 0.7061 | Train Acc: 75.05%\n",
      "Val Loss: 0.7763 | Val Acc: 73.82%\n",
      "Validation accuracy improved from 72.50% to 73.82%, saving model...\n"
     ]
    },
    {
     "name": "stderr",
     "output_type": "stream",
     "text": [
      "Epoch 31/50 [Train]: 100%|██████████| 352/352 [00:27<00:00, 12.74it/s, loss=0.69, acc=75.7]\n",
      "Epoch 31/50 [Val]: 100%|██████████| 40/40 [00:02<00:00, 18.68it/s, loss=0.778, acc=73.1]\n"
     ]
    },
    {
     "name": "stdout",
     "output_type": "stream",
     "text": [
      "Epoch 31/50:\n",
      "Train Loss: 0.6901 | Train Acc: 75.69%\n",
      "Val Loss: 0.7781 | Val Acc: 73.06%\n"
     ]
    },
    {
     "name": "stderr",
     "output_type": "stream",
     "text": [
      "Epoch 32/50 [Train]: 100%|██████████| 352/352 [00:27<00:00, 12.78it/s, loss=0.681, acc=75.8]\n",
      "Epoch 32/50 [Val]: 100%|██████████| 40/40 [00:02<00:00, 19.33it/s, loss=0.799, acc=72.8]\n"
     ]
    },
    {
     "name": "stdout",
     "output_type": "stream",
     "text": [
      "Epoch 32/50:\n",
      "Train Loss: 0.6809 | Train Acc: 75.83%\n",
      "Val Loss: 0.7992 | Val Acc: 72.82%\n"
     ]
    },
    {
     "name": "stderr",
     "output_type": "stream",
     "text": [
      "Epoch 33/50 [Train]: 100%|██████████| 352/352 [00:27<00:00, 12.75it/s, loss=0.663, acc=76.6]\n",
      "Epoch 33/50 [Val]: 100%|██████████| 40/40 [00:02<00:00, 15.08it/s, loss=0.756, acc=74.9]\n"
     ]
    },
    {
     "name": "stdout",
     "output_type": "stream",
     "text": [
      "Epoch 33/50:\n",
      "Train Loss: 0.6631 | Train Acc: 76.55%\n",
      "Val Loss: 0.7564 | Val Acc: 74.86%\n",
      "Validation accuracy improved from 73.82% to 74.86%, saving model...\n"
     ]
    },
    {
     "name": "stderr",
     "output_type": "stream",
     "text": [
      "Epoch 34/50 [Train]: 100%|██████████| 352/352 [00:27<00:00, 12.78it/s, loss=0.653, acc=76.9]\n",
      "Epoch 34/50 [Val]: 100%|██████████| 40/40 [00:02<00:00, 18.51it/s, loss=0.742, acc=74.6]\n"
     ]
    },
    {
     "name": "stdout",
     "output_type": "stream",
     "text": [
      "Epoch 34/50:\n",
      "Train Loss: 0.6526 | Train Acc: 76.90%\n",
      "Val Loss: 0.7422 | Val Acc: 74.58%\n"
     ]
    },
    {
     "name": "stderr",
     "output_type": "stream",
     "text": [
      "Epoch 35/50 [Train]: 100%|██████████| 352/352 [00:27<00:00, 12.78it/s, loss=0.643, acc=77.3]\n",
      "Epoch 35/50 [Val]: 100%|██████████| 40/40 [00:02<00:00, 18.93it/s, loss=0.788, acc=72.8]\n"
     ]
    },
    {
     "name": "stdout",
     "output_type": "stream",
     "text": [
      "Epoch 35/50:\n",
      "Train Loss: 0.6426 | Train Acc: 77.29%\n",
      "Val Loss: 0.7879 | Val Acc: 72.76%\n"
     ]
    },
    {
     "name": "stderr",
     "output_type": "stream",
     "text": [
      "Epoch 36/50 [Train]: 100%|██████████| 352/352 [00:27<00:00, 12.72it/s, loss=0.635, acc=77.5]\n",
      "Epoch 36/50 [Val]: 100%|██████████| 40/40 [00:02<00:00, 18.26it/s, loss=0.752, acc=74]\n"
     ]
    },
    {
     "name": "stdout",
     "output_type": "stream",
     "text": [
      "Epoch 36/50:\n",
      "Train Loss: 0.6350 | Train Acc: 77.51%\n",
      "Val Loss: 0.7522 | Val Acc: 74.04%\n"
     ]
    },
    {
     "name": "stderr",
     "output_type": "stream",
     "text": [
      "Epoch 37/50 [Train]: 100%|██████████| 352/352 [00:27<00:00, 12.78it/s, loss=0.629, acc=77.6]\n",
      "Epoch 37/50 [Val]: 100%|██████████| 40/40 [00:02<00:00, 18.56it/s, loss=0.72, acc=75]\n"
     ]
    },
    {
     "name": "stdout",
     "output_type": "stream",
     "text": [
      "Epoch 37/50:\n",
      "Train Loss: 0.6290 | Train Acc: 77.57%\n",
      "Val Loss: 0.7201 | Val Acc: 75.02%\n",
      "Validation accuracy improved from 74.86% to 75.02%, saving model...\n"
     ]
    },
    {
     "name": "stderr",
     "output_type": "stream",
     "text": [
      "Epoch 38/50 [Train]: 100%|██████████| 352/352 [00:27<00:00, 12.73it/s, loss=0.611, acc=78.4]\n",
      "Epoch 38/50 [Val]: 100%|██████████| 40/40 [00:02<00:00, 19.06it/s, loss=0.71, acc=75.8]\n"
     ]
    },
    {
     "name": "stdout",
     "output_type": "stream",
     "text": [
      "Epoch 38/50:\n",
      "Train Loss: 0.6114 | Train Acc: 78.36%\n",
      "Val Loss: 0.7096 | Val Acc: 75.84%\n",
      "Validation accuracy improved from 75.02% to 75.84%, saving model...\n"
     ]
    },
    {
     "name": "stderr",
     "output_type": "stream",
     "text": [
      "Epoch 39/50 [Train]: 100%|██████████| 352/352 [00:27<00:00, 12.77it/s, loss=0.612, acc=78.4]\n",
      "Epoch 39/50 [Val]: 100%|██████████| 40/40 [00:02<00:00, 18.14it/s, loss=0.726, acc=74.8]\n"
     ]
    },
    {
     "name": "stdout",
     "output_type": "stream",
     "text": [
      "Epoch 39/50:\n",
      "Train Loss: 0.6121 | Train Acc: 78.35%\n",
      "Val Loss: 0.7257 | Val Acc: 74.78%\n"
     ]
    },
    {
     "name": "stderr",
     "output_type": "stream",
     "text": [
      "Epoch 40/50 [Train]: 100%|██████████| 352/352 [00:27<00:00, 12.74it/s, loss=0.597, acc=78.9]\n",
      "Epoch 40/50 [Val]: 100%|██████████| 40/40 [00:02<00:00, 17.19it/s, loss=0.727, acc=74.4]\n"
     ]
    },
    {
     "name": "stdout",
     "output_type": "stream",
     "text": [
      "Epoch 40/50:\n",
      "Train Loss: 0.5968 | Train Acc: 78.90%\n",
      "Val Loss: 0.7268 | Val Acc: 74.42%\n"
     ]
    },
    {
     "name": "stderr",
     "output_type": "stream",
     "text": [
      "Epoch 41/50 [Train]: 100%|██████████| 352/352 [00:27<00:00, 12.79it/s, loss=0.594, acc=78.9]\n",
      "Epoch 41/50 [Val]: 100%|██████████| 40/40 [00:02<00:00, 17.15it/s, loss=0.709, acc=75.3]\n"
     ]
    },
    {
     "name": "stdout",
     "output_type": "stream",
     "text": [
      "Epoch 41/50:\n",
      "Train Loss: 0.5938 | Train Acc: 78.93%\n",
      "Val Loss: 0.7094 | Val Acc: 75.28%\n"
     ]
    },
    {
     "name": "stderr",
     "output_type": "stream",
     "text": [
      "Epoch 42/50 [Train]: 100%|██████████| 352/352 [00:27<00:00, 12.76it/s, loss=0.584, acc=79.3]\n",
      "Epoch 42/50 [Val]: 100%|██████████| 40/40 [00:02<00:00, 14.34it/s, loss=0.717, acc=75.5]\n"
     ]
    },
    {
     "name": "stdout",
     "output_type": "stream",
     "text": [
      "Epoch 42/50:\n",
      "Train Loss: 0.5838 | Train Acc: 79.31%\n",
      "Val Loss: 0.7172 | Val Acc: 75.50%\n"
     ]
    },
    {
     "name": "stderr",
     "output_type": "stream",
     "text": [
      "Epoch 43/50 [Train]: 100%|██████████| 352/352 [00:27<00:00, 12.67it/s, loss=0.576, acc=79.7]\n",
      "Epoch 43/50 [Val]: 100%|██████████| 40/40 [00:02<00:00, 18.80it/s, loss=0.695, acc=75.6]\n"
     ]
    },
    {
     "name": "stdout",
     "output_type": "stream",
     "text": [
      "Epoch 43/50:\n",
      "Train Loss: 0.5762 | Train Acc: 79.75%\n",
      "Val Loss: 0.6954 | Val Acc: 75.64%\n"
     ]
    },
    {
     "name": "stderr",
     "output_type": "stream",
     "text": [
      "Epoch 44/50 [Train]: 100%|██████████| 352/352 [00:27<00:00, 12.77it/s, loss=0.577, acc=79.5]\n",
      "Epoch 44/50 [Val]: 100%|██████████| 40/40 [00:02<00:00, 18.21it/s, loss=0.712, acc=75.7]\n"
     ]
    },
    {
     "name": "stdout",
     "output_type": "stream",
     "text": [
      "Epoch 44/50:\n",
      "Train Loss: 0.5768 | Train Acc: 79.48%\n",
      "Val Loss: 0.7120 | Val Acc: 75.74%\n"
     ]
    },
    {
     "name": "stderr",
     "output_type": "stream",
     "text": [
      "Epoch 45/50 [Train]: 100%|██████████| 352/352 [00:27<00:00, 12.65it/s, loss=0.573, acc=79.6]\n",
      "Epoch 45/50 [Val]: 100%|██████████| 40/40 [00:02<00:00, 18.65it/s, loss=0.706, acc=75.8]\n"
     ]
    },
    {
     "name": "stdout",
     "output_type": "stream",
     "text": [
      "Epoch 45/50:\n",
      "Train Loss: 0.5732 | Train Acc: 79.60%\n",
      "Val Loss: 0.7063 | Val Acc: 75.76%\n"
     ]
    },
    {
     "name": "stderr",
     "output_type": "stream",
     "text": [
      "Epoch 46/50 [Train]: 100%|██████████| 352/352 [00:27<00:00, 12.78it/s, loss=0.568, acc=79.8]\n",
      "Epoch 46/50 [Val]: 100%|██████████| 40/40 [00:02<00:00, 18.22it/s, loss=0.718, acc=75.6]\n"
     ]
    },
    {
     "name": "stdout",
     "output_type": "stream",
     "text": [
      "Epoch 46/50:\n",
      "Train Loss: 0.5684 | Train Acc: 79.85%\n",
      "Val Loss: 0.7179 | Val Acc: 75.56%\n"
     ]
    },
    {
     "name": "stderr",
     "output_type": "stream",
     "text": [
      "Epoch 47/50 [Train]: 100%|██████████| 352/352 [00:27<00:00, 12.67it/s, loss=0.569, acc=79.8]\n",
      "Epoch 47/50 [Val]: 100%|██████████| 40/40 [00:02<00:00, 18.63it/s, loss=0.699, acc=75.6]\n"
     ]
    },
    {
     "name": "stdout",
     "output_type": "stream",
     "text": [
      "Epoch 47/50:\n",
      "Train Loss: 0.5685 | Train Acc: 79.82%\n",
      "Val Loss: 0.6993 | Val Acc: 75.58%\n"
     ]
    },
    {
     "name": "stderr",
     "output_type": "stream",
     "text": [
      "Epoch 48/50 [Train]: 100%|██████████| 352/352 [00:27<00:00, 12.78it/s, loss=0.568, acc=79.9]\n",
      "Epoch 48/50 [Val]: 100%|██████████| 40/40 [00:02<00:00, 18.91it/s, loss=0.704, acc=76]\n"
     ]
    },
    {
     "name": "stdout",
     "output_type": "stream",
     "text": [
      "Epoch 48/50:\n",
      "Train Loss: 0.5682 | Train Acc: 79.91%\n",
      "Val Loss: 0.7044 | Val Acc: 76.02%\n",
      "Validation accuracy improved from 75.84% to 76.02%, saving model...\n"
     ]
    },
    {
     "name": "stderr",
     "output_type": "stream",
     "text": [
      "Epoch 49/50 [Train]: 100%|██████████| 352/352 [00:27<00:00, 12.74it/s, loss=0.565, acc=80.2]\n",
      "Epoch 49/50 [Val]: 100%|██████████| 40/40 [00:02<00:00, 15.48it/s, loss=0.677, acc=76.3]\n"
     ]
    },
    {
     "name": "stdout",
     "output_type": "stream",
     "text": [
      "Epoch 49/50:\n",
      "Train Loss: 0.5653 | Train Acc: 80.21%\n",
      "Val Loss: 0.6771 | Val Acc: 76.30%\n",
      "Validation accuracy improved from 76.02% to 76.30%, saving model...\n"
     ]
    },
    {
     "name": "stderr",
     "output_type": "stream",
     "text": [
      "Epoch 50/50 [Train]: 100%|██████████| 352/352 [00:27<00:00, 12.79it/s, loss=0.567, acc=79.8]\n",
      "Epoch 50/50 [Val]: 100%|██████████| 40/40 [00:02<00:00, 18.58it/s, loss=0.71, acc=76.1]\n"
     ]
    },
    {
     "name": "stdout",
     "output_type": "stream",
     "text": [
      "Epoch 50/50:\n",
      "Train Loss: 0.5670 | Train Acc: 79.84%\n",
      "Val Loss: 0.7097 | Val Acc: 76.10%\n",
      "Best validation accuracy: 76.30%\n"
     ]
    },
    {
     "name": "stderr",
     "output_type": "stream",
     "text": [
      "Evaluating on test set: 100%|██████████| 79/79 [00:01<00:00, 40.45it/s]\n"
     ]
    },
    {
     "name": "stdout",
     "output_type": "stream",
     "text": [
      "Test accuracy: 81.06%\n"
     ]
    },
    {
     "data": {
      "image/png": "[encoded data removed]",
      "text/plain": [
       "<Figure size 1000x500 with 1 Axes>"
      ]
     },
     "metadata": {},
     "output_type": "display_data"
    },
    {
     "data": {
      "image/png": "[encoded data removed]",
      "text/plain": [
       "<Figure size 1000x500 with 1 Axes>"
      ]
     },
     "metadata": {},
     "output_type": "display_data"
    },
    {
     "name": "stdout",
     "output_type": "stream",
     "text": [
      "\n",
      "\n",
      "Positional Embedding Results Summary:\n",
      "--------------------------------------------------\n",
      "2d_learned     : 82.02%\n",
      "1d_learned     : 81.23%\n",
      "sinusoidal     : 81.06%\n",
      "none           : 74.78%\n"
     ]
    },
    {
     "data": {
      "image/png": "[encoded data removed]",
      "text/plain": [
       "<Figure size 1200x600 with 1 Axes>"
      ]
     },
     "metadata": {},
     "output_type": "display_data"
    },
    {
     "data": {
      "image/png": "[encoded data removed]",
      "text/plain": [
       "<Figure size 1200x600 with 1 Axes>"
      ]
     },
     "metadata": {},
     "output_type": "display_data"
    },
    {
     "name": "stdout",
     "output_type": "stream",
     "text": [
      "All done.\n"
     ]
    }
   ],
   "source": [
    "\n",
    "\n",
    "# Compare different positional embedding types\n",
    "results = compare_positional_embeddings()\n",
    "print(\"All done.\")"
   ]
  },
  {
   "cell_type": "markdown",
   "id": "eb35f1d6",
   "metadata": {},
   "source": [
    "## Comparison of Positional Embeddings based on loss curves\n",
    "\n",
    "**2D Learned Embeddings** perform best because they directly model the image's two-dimensional structure, helping the model understand spatial relationships between patches.\n",
    "\n",
    "**1D Learned Embeddings** work well but require the model to implicitly reconstruct 2D relationships from a flattened sequence.\n",
    "\n",
    "**Sinusoidal Embeddings** underperform because they're fixed rather than learned, limiting adaptation to image-specific spatial patterns.\n",
    "\n",
    "**No Positional Embeddings** performs worst as the model loses all spatial information, treating images as unordered \"bags of patches.\"\n",
    "\n",
    "The results confirm that position information is crucial for image understanding, with 2D-aware encodings providing the most benefit."
   ]
  }
 ],
 "metadata": {
  "kaggle": {
   "accelerator": "gpu",
   "dataSources": [],
   "dockerImageVersionId": 31011,
   "isGpuEnabled": true,
   "isInternetEnabled": true,
   "language": "python",
   "sourceType": "notebook"
  },
  "kernelspec": {
   "display_name": "Python 3",
   "language": "python",
   "name": "python3"
  },
  "language_info": {
   "codemirror_mode": {
    "name": "ipython",
    "version": 3
   },
   "file_extension": ".py",
   "mimetype": "text/x-python",
   "name": "python",
   "nbconvert_exporter": "python",
   "pygments_lexer": "ipython3",
   "version": "3.11.11"
  },
  "papermill": {
   "default_parameters": {},
   "duration": 6274.236778,
   "end_time": "2025-04-19T21:09:50.930067",
   "environment_variables": {},
   "exception": null,
   "input_path": "__notebook__.ipynb",
   "output_path": "__notebook__.ipynb",
   "parameters": {},
   "start_time": "2025-04-19T19:25:16.693289",
   "version": "2.6.0"
  }
 },
 "nbformat": 4,
 "nbformat_minor": 5
}
